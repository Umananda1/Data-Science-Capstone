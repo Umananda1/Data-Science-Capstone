{
 "cells": [
  {
   "cell_type": "markdown",
   "id": "91c0552c",
   "metadata": {},
   "source": [
    "# Introduction"
   ]
  },
  {
   "cell_type": "markdown",
   "id": "e9fcce85",
   "metadata": {},
   "source": [
    "As a starting point of almost all data science projects, you need to collect data, as much and relevant as possible.\n",
    "\n",
    "You will be collecting data from various sources. After your raw data has been collected, you will need to improve the quality by performing data wrangling. \n",
    "\n",
    "Then you can start exploring the processed data.  We will be your guide as we explore some really interesting real-world datasets together. You'll get to practice your SQL skills as we query the data and gather insights.  \n",
    "\n",
    "You'll gain further insights into the data by applying some basic statistical analysis and data visualization, you'll be able to see directly how variables might be related to each other.   \n",
    "\n",
    " We'll drill down into finer levels of detail by splitting the data into groups defined by categorical variables or factors in your data.  \n",
    "\n",
    "You will be guided to build, evaluate, and refine predictive models for discovering more exciting insights. \n",
    "\n",
    "The final task of this capstone project is to create a presentation that will be developed into stories of all your analysis.\n",
    "\n",
    "Thanks and good luck! "
   ]
  },
  {
   "cell_type": "markdown",
   "id": "e0cffa88",
   "metadata": {},
   "source": [
    "SpaceX  Falcon 9 first stage Landing Prediction\n",
    "\n",
    "\n",
    "In this capstone, we will predict if the Falcon 9 first stage will land successfully. SpaceX advertises Falcon 9 rocket launches on its website with a cost of 62 million dollars; other providers cost upward of 165 million dollars each, much of the savings is because SpaceX can reuse the first stage. Therefore if we can determine if the first stage will land, we can determine the cost of a launch. This information can be used if an alternate company wants to bid against SpaceX for a rocket launch. In this lab, you will collect and make sure the data is in the correct format from an API. The following is an example of a successful and launch.\n",
    "\n",
    "Most unsuccessful landings are planned. Space X performs a controlled landing in the oceans. "
   ]
  },
  {
   "cell_type": "markdown",
   "id": "dbcc56db",
   "metadata": {},
   "source": [
    "# Objectives\n"
   ]
  },
  {
   "cell_type": "markdown",
   "id": "052a825e",
   "metadata": {},
   "source": [
    "In this lab, you will make a get request to the SpaceX API. You will also do some basic data wrangling and formating. \n",
    "\n",
    "- Request to the SpaceX API\n",
    "- Clean the requested data\n",
    "\n",
    "\n",
    "\n",
    "\n",
    "Import Libraries and Define Auxiliary Functions\n",
    "\n",
    "We will import the following libraries into the lab\n"
   ]
  },
  {
   "cell_type": "code",
   "execution_count": 2,
   "id": "298fd471",
   "metadata": {},
   "outputs": [],
   "source": [
    "# Requests allows us to make HTTP requests which we will use to get data from an API\n",
    "import requests\n",
    "# Pandas is a software library written for the Python programming language for data manipulation and analysis.\n",
    "import pandas as pd\n",
    "# NumPy is a library for the Python programming language, adding support for large, multi-dimensional arrays and matrices, along with a large collection of high-level mathematical functions to operate on these arrays\n",
    "import numpy as np\n",
    "# Datetime is a library that allows us to represent dates\n",
    "import datetime\n",
    "\n",
    "# Setting this option will print all collumns of a dataframe\n",
    "pd.set_option('display.max_columns', None)\n",
    "# Setting this option will print all of the data in a feature\n",
    "pd.set_option('display.max_colwidth', None)"
   ]
  },
  {
   "cell_type": "markdown",
   "id": "a703a57f",
   "metadata": {},
   "source": [
    "Below we will define a series of helper functions that will help us use the API to extract information using identification numbers in the launch data.\n",
    "\n",
    "From the <code>rocket</code> column we would like to learn the booster name.\n"
   ]
  },
  {
   "cell_type": "code",
   "execution_count": 3,
   "id": "3d5bd63b",
   "metadata": {},
   "outputs": [],
   "source": [
    "# Takes the dataset and uses the rocket column to call the API and append the data to the list\n",
    "def getBoosterVersion(data):\n",
    "    for x in data['rocket']:\n",
    "       if x:\n",
    "        response = requests.get(\"https://api.spacexdata.com/v4/rockets/\"+str(x)).json()\n",
    "        BoosterVersion.append(response['name'])"
   ]
  },
  {
   "cell_type": "markdown",
   "id": "1f4c344a",
   "metadata": {},
   "source": [
    "From the <code>launchpad</code> we would like to know the name of the launch site being used, the logitude, and the latitude.\n"
   ]
  },
  {
   "cell_type": "code",
   "execution_count": 5,
   "id": "ce0dff51",
   "metadata": {},
   "outputs": [],
   "source": [
    "# Takes the dataset and uses the launchpad column to call the API and append the data to the list\n",
    "def getLaunchSite(data):\n",
    "    for x in data['launchpad']:\n",
    "       if x:\n",
    "         response = requests.get(\"https://api.spacexdata.com/v4/launchpads/\"+str(x)).json()\n",
    "         Longitude.append(response['longitude'])\n",
    "         Latitude.append(response['latitude'])\n",
    "         LaunchSite.append(response['name'])"
   ]
  },
  {
   "cell_type": "markdown",
   "id": "cf80037a",
   "metadata": {},
   "source": [
    "From the <code>payload</code> we would like to learn the mass of the payload and the orbit that it is going to.\n"
   ]
  },
  {
   "cell_type": "code",
   "execution_count": 7,
   "id": "3f22e9cc",
   "metadata": {},
   "outputs": [],
   "source": [
    "# Takes the dataset and uses the payloads column to call the API and append the data to the lists\n",
    "def getPayloadData(data):\n",
    "    for load in data['payloads']:\n",
    "       if load:\n",
    "        response = requests.get(\"https://api.spacexdata.com/v4/payloads/\"+load).json()\n",
    "        PayloadMass.append(response['mass_kg'])\n",
    "        Orbit.append(response['orbit'])"
   ]
  },
  {
   "cell_type": "markdown",
   "id": "972124a1",
   "metadata": {},
   "source": [
    "From <code>cores</code> we would like to learn the outcome of the landing, the type of the landing, number of flights with that core, whether gridfins were used, wheter the core is reused, wheter legs were used, the landing pad used, the block of the core which is a number used to seperate version of cores, the number of times this specific core has been reused, and the serial of the core.\n"
   ]
  },
  {
   "cell_type": "code",
   "execution_count": 8,
   "id": "fcfecc83",
   "metadata": {},
   "outputs": [],
   "source": [
    "# Takes the dataset and uses the cores column to call the API and append the data to the lists\n",
    "def getCoreData(data):\n",
    "    for core in data['cores']:\n",
    "            if core['core'] != None:\n",
    "                response = requests.get(\"https://api.spacexdata.com/v4/cores/\"+core['core']).json()\n",
    "                Block.append(response['block'])\n",
    "                ReusedCount.append(response['reuse_count'])\n",
    "                Serial.append(response['serial'])\n",
    "            else:\n",
    "                Block.append(None)\n",
    "                ReusedCount.append(None)\n",
    "                Serial.append(None)\n",
    "            Outcome.append(str(core['landing_success'])+' '+str(core['landing_type']))\n",
    "            Flights.append(core['flight'])\n",
    "            GridFins.append(core['gridfins'])\n",
    "            Reused.append(core['reused'])\n",
    "            Legs.append(core['legs'])\n",
    "            LandingPad.append(core['landpad'])"
   ]
  },
  {
   "cell_type": "markdown",
   "id": "a6f002a4",
   "metadata": {},
   "source": [
    "Now let's start requesting rocket launch data from SpaceX API with the following URL:\n"
   ]
  },
  {
   "cell_type": "markdown",
   "id": "33f8588a",
   "metadata": {},
   "source": [
    "spacex_url=\"https://api.spacexdata.com/v4/launches/past\""
   ]
  },
  {
   "cell_type": "code",
   "execution_count": 10,
   "id": "111e18ae",
   "metadata": {},
   "outputs": [],
   "source": [
    "response = requests.get(spacex_url)"
   ]
  },
  {
   "cell_type": "markdown",
   "id": "209d3b79",
   "metadata": {},
   "source": [
    "Check the content of the response\n"
   ]
  },
  {
   "cell_type": "code",
   "execution_count": 12,
   "id": "b14eb39c",
   "metadata": {},
   "outputs": [
    {
     "name": "stdout",
     "output_type": "stream",
     "text": [
      "b'[{\"fairings\":{\"reused\":false,\"recovery_attempt\":false,\"recovered\":false,\"ships\":[]},\"links\":{\"patch\":{\"small\":\"https://images2.imgbox.com/94/f2/NN6Ph45r_o.png\",\"large\":\"https://images2.imgbox.com/5b/02/QcxHUb5V_o.png\"},\"reddit\":{\"campaign\":null,\"launch\":null,\"media\":null,\"recovery\":null},\"flickr\":{\"small\":[],\"original\":[]},\"presskit\":null,\"webcast\":\"https://www.youtube.com/watch?v=0a_00nJ_Y88\",\"youtube_id\":\"0a_00nJ_Y88\",\"article\":\"https://www.space.com/2196-spacex-inaugural-falcon-1-rocket-lost-launch.html\",\"wikipedia\":\"https://en.wikipedia.org/wiki/DemoSat\"},\"static_fire_date_utc\":\"2006-03-17T00:00:00.000Z\",\"static_fire_date_unix\":1142553600,\"net\":false,\"window\":0,\"rocket\":\"5e9d0d95eda69955f709d1eb\",\"success\":false,\"failures\":[{\"time\":33,\"altitude\":null,\"reason\":\"merlin engine failure\"}],\"details\":\"Engine failure at 33 seconds and loss of vehicle\",\"crew\":[],\"ships\":[],\"capsules\":[],\"payloads\":[\"5eb0e4b5b6c3bb0006eeb1e1\"],\"launchpad\":\"5e9e4502f5090995de566f86\",\"flight_number\":1,\"name\":\"FalconSat\",\"date_utc\":\"2006-03-24T22:30:00.000Z\",\"date_unix\":1143239400,\"date_local\":\"2006-03-25T10:30:00+12:00\",\"date_precision\":\"hour\",\"upcoming\":false,\"cores\":[{\"core\":\"5e9e289df35918033d3b2623\",\"flight\":1,\"gridfins\":false,\"legs\":false,\"reused\":false,\"landing_attempt\":false,\"landing_success\":null,\"landing_type\":null,\"landpad\":null}],\"auto_update\":true,\"tbd\":false,\"launch_library_id\":null,\"id\":\"5eb87cd9ffd86e000604b32a\"},{\"fairings\":{\"reused\":false,\"recovery_attempt\":false,\"recovered\":false,\"ships\":[]},\"links\":{\"patch\":{\"small\":\"https://images2.imgbox.com/f9/4a/ZboXReNb_o.png\",\"large\":\"https://images2.imgbox.com/80/a2/bkWotCIS_o.png\"},\"reddit\":{\"campaign\":null,\"launch\":null,\"media\":null,\"recovery\":null},\"flickr\":{\"small\":[],\"original\":[]},\"presskit\":null,\"webcast\":\"https://www.youtube.com/watch?v=Lk4zQ2wP-Nc\",\"youtube_id\":\"Lk4zQ2wP-Nc\",\"article\":\"https://www.space.com/3590-spacex-falcon-1-rocket-fails-reach-orbit.html\",\"wikipedia\":\"https://en.wikipedia.org/wiki/DemoSat\"},\"static_fire_date_utc\":null,\"static_fire_date_unix\":null,\"net\":false,\"window\":0,\"rocket\":\"5e9d0d95eda69955f709d1eb\",\"success\":false,\"failures\":[{\"time\":301,\"altitude\":289,\"reason\":\"harmonic oscillation leading to premature engine shutdown\"}],\"details\":\"Successful first stage burn and transition to second stage, maximum altitude 289 km, Premature engine shutdown at T+7 min 30 s, Failed to reach orbit, Failed to recover first stage\",\"crew\":[],\"ships\":[],\"capsules\":[],\"payloads\":[\"5eb0e4b6b6c3bb0006eeb1e2\"],\"launchpad\":\"5e9e4502f5090995de566f86\",\"flight_number\":2,\"name\":\"DemoSat\",\"date_utc\":\"2007-03-21T01:10:00.000Z\",\"date_unix\":1174439400,\"date_local\":\"2007-03-21T13:10:00+12:00\",\"date_precision\":\"hour\",\"upcoming\":false,\"cores\":[{\"core\":\"5e9e289ef35918416a3b2624\",\"flight\":1,\"gridfins\":false,\"legs\":false,\"reused\":false,\"landing_attempt\":false,\"landing_success\":null,\"landing_type\":null,\"landpad\":null}],\"auto_update\":true,\"tbd\":false,\"launch_library_id\":null,\"id\":\"5eb87cdaffd86e000604b32b\"},{\"fairings\":{\"reused\":false,\"recovery_attempt\":false,\"recovered\":false,\"ships\":[]},\"links\":{\"patch\":{\"small\":\"https://images2.imgbox.com/6c/cb/na1tzhHs_o.png\",\"large\":\"https://images2.imgbox.com/4a/80/k1oAkY0k_o.png\"},\"reddit\":{\"campaign\":null,\"launch\":null,\"media\":null,\"recovery\":null},\"flickr\":{\"small\":[],\"original\":[]},\"presskit\":null,\"webcast\":\"https://www.youtube.com/watch?v=v0w9p3U8860\",\"youtube_id\":\"v0w9p3U8860\",\"article\":\"http://www.spacex.com/news/2013/02/11/falcon-1-flight-3-mission-summary\",\"wikipedia\":\"https://en.wikipedia.org/wiki/Trailblazer_(satellite)\"},\"static_fire_date_utc\":null,\"static_fire_date_unix\":null,\"net\":false,\"window\":0,\"rocket\":\"5e9d0d95eda69955f709d1eb\",\"success\":false,\"failures\":[{\"time\":140,\"altitude\":35,\"reason\":\"residual stage-1 thrust led to collision between stage 1 and stage 2\"}],\"details\":\"Residual stage 1 thrust led to collision between stage 1 and stage 2\",\"crew\":[],\"ships\":[],\"capsules\":[],\"payloads\":[\"5eb0e4b6b6c3bb0006eeb1e3\",\"5eb0e4b6b6c3bb0006eeb1e4\"],\"launchpad\":\"5e9e4502f5090995de566f86\",\"flight_number\":3,\"name\":\"Trailblazer\",\"date_utc\":\"2008-08-03T03:34:00.000Z\",\"date_unix\":1217734440,\"date_local\":\"2008-08-03T15:34:00+12:00\",\"date_precision\":\"hour\",\"upcoming\":false,\"cores\":[{\"core\":\"5e9e289ef3591814873b2625\",\"flight\":1,\"gridfins\":false,\"legs\":false,\"reused\":false,\"landing_attempt\":false,\"landing_success\":null,\"landing_type\":null,\"landpad\":null}],\"auto_update\":true,\"tbd\":false,\"launch_library_id\":null,\"id\":\"5eb87cdbffd86e000604b32c\"},{\"fairings\":{\"reused\":false,\"recovery_attempt\":false,\"recovered\":false,\"ships\":[]},\"links\":{\"patch\":{\"small\":\"https://images2.imgbox.com/95/39/sRqN7rsv_o.png\",\"large\":\"https://images2.imgbox.com/a3/99/qswRYzE8_o.png\"},\"reddit\":{\"campaign\":null,\"launch\":null,\"media\":null,\"recovery\":null},\"flickr\":{\"small\":[],\"original\":[]},\"presskit\":null,\"webcast\":\"https://www.youtube.com/watch?v=dLQ2tZEH6G0\",\"youtube_id\":\"dLQ2tZEH6G0\",\"article\":\"https://en.wikipedia.org/wiki/Ratsat\",\"wikipedia\":\"https://en.wikipedia.org/wiki/Ratsat\"},\"static_fire_date_utc\":\"2008-09-20T00:00:00.000Z\",\"static_fire_date_unix\":1221868800,\"net\":false,\"window\":0,\"rocket\":\"5e9d0d95eda69955f709d1eb\",\"success\":true,\"failures\":[],\"details\":\"Ratsat was carried to orbit on the first successful orbital launch of any privately funded and developed, liquid-propelled carrier rocket, the\\xc2\\xa0SpaceX Falcon 1\",\"crew\":[],\"ships\":[],\"capsules\":[],\"payloads\":[\"5eb0e4b7b6c3bb0006eeb1e5\"],\"launchpad\":\"5e9e4502f5090995de566f86\",\"flight_number\":4,\"name\":\"RatSat\",\"date_utc\":\"2008-09-28T23:15:00.000Z\",\"date_unix\":1222643700,\"date_local\":\"2008-09-28T11:15:00+12:00\",\"date_precision\":\"hour\",\"upcoming\":false,\"cores\":[{\"core\":\"5e9e289ef3591855dc3b2626\",\"flight\":1,\"gridfins\":false,\"legs\":false,\"reused\":false,\"landing_attempt\":false,\"landing_success\":null,\"landing_type\":null,\"landpad\":null}],\"auto_update\":true,\"tbd\":false,\"launch_library_id\":null,\"id\":\"5eb87cdbffd86e000604b32d\"},{\"fairings\":{\"reused\":false,\"recovery_attempt\":false,\"recovered\":false,\"ships\":[]},\"links\":{\"patch\":{\"small\":\"https://images2.imgbox.com/ab/5a/Pequxd5d_o.png\",\"large\":\"https://images2.imgbox.com/92/e4/7Cf6MLY0_o.png\"},\"reddit\":{\"campaign\":null,\"launch\":null,\"media\":null,\"recovery\":null},\"flickr\":{\"small\":[],\"original\":[]},\"presskit\":\"http://www.spacex.com/press/2012/12/19/spacexs-falcon-1-successfully-delivers-razaksat-satellite-orbit\",\"webcast\":\"https://www.youtube.com/watch?v=yTaIDooc8Og\",\"youtube_id\":\"yTaIDooc8Og\",\"article\":\"http://www.spacex.com/news/2013/02/12/falcon-1-flight-5\",\"wikipedia\":\"https://en.wikipedia.org/wiki/RazakSAT\"},\"static_fire_date_utc\":null,\"static_fire_date_unix\":null,\"net\":false,\"window\":0,\"rocket\":\"5e9d0d95eda69955f709d1eb\",\"success\":true,\"failures\":[],\"details\":null,\"crew\":[],\"ships\":[],\"capsules\":[],\"payloads\":[\"5eb0e4b7b6c3bb0006eeb1e6\"],\"launchpad\":\"5e9e4502f5090995de566f86\",\"flight_number\":5,\"name\":\"RazakSat\",\"date_utc\":\"2009-07-13T03:35:00.000Z\",\"date_unix\":1247456100,\"date_local\":\"2009-07-13T15:35:00+12:00\",\"date_precision\":\"hour\",\"upcoming\":false,\"cores\":[{\"core\":\"5e9e289ef359184f103b2627\",\"flight\":1,\"gridfins\":false,\"legs\":false,\"reused\":false,\"landing_attempt\":false,\"landing_success\":null,\"landing_type\":null,\"landpad\":null}],\"auto_update\":true,\"tbd\":false,\"launch_library_id\":null,\"id\":\"5eb87cdcffd86e000604b32e\"},{\"fairings\":{\"reused\":null,\"recovery_attempt\":null,\"recovered\":null,\"ships\":[]},\"links\":{\"patch\":{\"small\":\"https://images2.imgbox.com/73/7f/u7BKqv2C_o.png\",\"large\":\"https://images2.imgbox.com/66/b4/8KZsjbt4_o.png\"},\"reddit\":{\"campaign\":null,\"launch\":null,\"media\":null,\"recovery\":null},\"flickr\":{\"small\":[],\"original\":[]},\"presskit\":\"http://forum.nasaspaceflight.com/index.php?action=dlattach;topic=21869.0;attach=230821\",\"webcast\":\"https://www.youtube.com/watch?v=nxSxgBKlYws\",\"youtube_id\":\"nxSxgBKlYws\",\"article\":\"http://www.spacex.com/news/2013/02/12/falcon-9-flight-1\",\"wikipedia\":\"https://en.wikipedia.org/wiki/Dragon_Spacecraft_Qualification_Unit\"},\"static_fire_date_utc\":\"2010-03-13T00:00:00.000Z\",\"static_fire_date_unix\":1268438400,\"net\":false,\"window\":0,\"rocket\":\"5e9d0d95eda69973a809d1ec\",\"success\":true,\"failures\":[],\"details\":null,\"crew\":[],\"ships\":[],\"capsules\":[],\"payloads\":[\"5eb0e4b7b6c3bb0006eeb1e7\"],\"launchpad\":\"5e9e4501f509094ba4566f84\",\"flight_number\":6,\"name\":\"Falcon 9 Test Flight\",\"date_utc\":\"2010-06-04T18:45:00.000Z\",\"date_unix\":1275677100,\"date_local\":\"2010-06-04T14:45:00-04:00\",\"date_precision\":\"hour\",\"upcoming\":false,\"cores\":[{\"core\":\"5e9e289ef359185f2b3b2628\",\"flight\":1,\"gridfins\":false,\"legs\":false,\"reused\":false,\"landing_attempt\":false,\"landing_success\":null,\"landing_type\":null,\"landpad\":null}],\"auto_update\":true,\"tbd\":false,\"launch_library_id\":null,\"id\":\"5eb87cddffd86e000604b32f\"},{\"fairings\":null,\"links\":{\"patch\":{\"small\":\"https://images2.imgbox.com/fa/dc/FOUDQ0Sn_o.png\",\"large\":\"https://images2.imgbox.com/04/6e/kniggvWD_o.png\"},\"reddit\":{\"campaign\":null,\"launch\":null,\"media\":null,\"recovery\":null},\"flickr\":{\"small\":[],\"original\":[]},\"presskit\":\"http://www.spacex.com/files/downloads/cots1-20101206.pdf\",\"webcast\":\"https://www.youtube.com/watch?v=cdLITgWKe_0\",\"youtube_id\":\"cdLITgWKe_0\",\"article\":\"https://en.wikipedia.org/wiki/SpaceX_COTS_Demo_Flight_1\",\"wikipedia\":\"https://en.wikipedia.org/wiki/SpaceX_COTS_Demo_Flight_1\"},\"static_fire_date_utc\":\"2010-12-04T00:00:00.000Z\",\"static_fire_date_unix\":1291420800,\"net\":false,\"window\":0,\"rocket\":\"5e9d0d95eda69973a809d1ec\",\"success\":true,\"failures\":[],\"details\":null,\"crew\":[],\"ships\":[\"5ea6ed2d080df4000697c901\"],\"capsules\":[\"5e9e2c5bf35918ed873b2664\"],\"payloads\":[\"5eb0e4b9b6c3bb0006eeb1e8\",\"5eb0e4b9b6c3bb0006eeb1e9\"],\"launchpad\":\"5e9e4501f509094ba4566f84\",\"flight_number\":7,\"name\":\"COTS 1\",\"date_utc\":\"2010-12-08T15:43:00.000Z\",\"date_unix\":1291822980,\"date_local\":\"2010-12-08T11:43:00-04:00\",\"date_precision\":\"hour\",\"upcoming\":false,\"cores\":[{\"core\":\"5e9e289ef35918187c3b2629\",\"flight\":1,\"gridfins\":false,\"legs\":false,\"reused\":false,\"landing_attempt\":false,\"landing_success\":null,\"landing_type\":null,\"landpad\":null}],\"auto_update\":true,\"tbd\":false,\"launch_library_id\":null,\"id\":\"5eb87cdeffd86e000604b330\"},{\"fairings\":null,\"links\":{\"patch\":{\"small\":\"https://images2.imgbox.com/c5/f4/XfLVgbaO_o.png\",\"large\":\"https://images2.imgbox.com/94/8d/YnZ1SLsT_o.png\"},\"reddit\":{\"campaign\":null,\"launch\":null,\"media\":null,\"recovery\":null},\"flickr\":{\"small\":[],\"original\":[]},\"presskit\":\"https://www.nasa.gov/pdf/649910main_cots2_presskit_051412.pdf\",\"webcast\":\"https://www.youtube.com/watch?v=tpQzDbAY7yI\",\"youtube_id\":\"tpQzDbAY7yI\",\"article\":\"https://en.wikipedia.org/wiki/Dragon_C2%2B\",\"wikipedia\":\"https://en.wikipedia.org/wiki/Dragon_C2%2B\"},\"static_fire_date_utc\":\"2012-04-30T00:00:00.000Z\",\"static_fire_date_unix\":1335744000,\"net\":false,\"window\":0,\"rocket\":\"5e9d0d95eda69973a809d1ec\",\"success\":true,\"failures\":[],\"details\":\"Launch was scrubbed on first attempt, second launch attempt was successful\",\"crew\":[],\"ships\":[\"5ea6ed2d080df4000697c901\"],\"capsules\":[\"5e9e2c5bf3591882af3b2665\"],\"payloads\":[\"5eb0e4bab6c3bb0006eeb1ea\"],\"launchpad\":\"5e9e4501f509094ba4566f84\",\"flight_number\":8,\"name\":\"COTS 2\",\"date_utc\":\"2012-05-22T07:44:00.000Z\",\"date_unix\":1335944640,\"date_local\":\"2012-05-22T03:44:00-04:00\",\"date_precision\":\"hour\",\"upcoming\":false,\"cores\":[{\"core\":\"5e9e289ef35918f39c3b262a\",\"flight\":1,\"gridfins\":false,\"legs\":false,\"reused\":false,\"landing_attempt\":false,\"landing_success\":null,\"landing_type\":null,\"landpad\":null}],\"auto_update\":true,\"tbd\":false,\"launch_library_id\":null,\"id\":\"5eb87cdfffd86e000604b331\"},{\"fairings\":null,\"links\":{\"patch\":{\"small\":\"https://images2.imgbox.com/3e/91/hlGiK49a_o.png\",\"large\":\"https://images2.imgbox.com/fb/42/0V9JgYQS_o.png\"},\"reddit\":{\"campaign\":null,\"launch\":null,\"media\":null,\"recovery\":null},\"flickr\":{\"small\":[],\"original\":[]},\"presskit\":\"https://www.nasa.gov/pdf/694166main_SpaceXCRS-1PressKit.pdf\",\"webcast\":\"https://www.youtube.com/watch?v=-Vk3hiV_zXU\",\"youtube_id\":\"-Vk3hiV_zXU\",\"article\":\"https://www.nasa.gov/mission_pages/station/main/spacex-crs1-target.html\",\"wikipedia\":\"https://en.wikipedia.org/wiki/SpaceX_CRS-1\"},\"static_fire_date_utc\":\"2012-09-29T00:00:00.000Z\",\"static_fire_date_unix\":1348876800,\"net\":false,\"window\":0,\"rocket\":\"5e9d0d95eda69973a809d1ec\",\"success\":true,\"failures\":[],\"details\":\"CRS-1 successful, but the secondary payload was inserted into abnormally low orbit and lost due to Falcon 9 boost stage engine failure, ISS visiting vehicle safety rules, and the primary payload owner\\'s contractual right to decline a second ignition of the second stage under some conditions.\",\"crew\":[],\"ships\":[\"5ea6ed2d080df4000697c902\"],\"capsules\":[\"5e9e2c5bf3591835983b2666\"],\"payloads\":[\"5eb0e4bab6c3bb0006eeb1eb\",\"5eb0e4bab6c3bb0006eeb1ec\"],\"launchpad\":\"5e9e4501f509094ba4566f84\",\"flight_number\":9,\"name\":\"CRS-1\",\"date_utc\":\"2012-10-08T00:35:00.000Z\",\"date_unix\":1349656500,\"date_local\":\"2012-10-08T20:35:00-04:00\",\"date_precision\":\"hour\",\"upcoming\":false,\"cores\":[{\"core\":\"5e9e289ff3591821a73b262b\",\"flight\":1,\"gridfins\":false,\"legs\":false,\"reused\":false,\"landing_attempt\":false,\"landing_success\":null,\"landing_type\":null,\"landpad\":null}],\"auto_update\":true,\"tbd\":false,\"launch_library_id\":null,\"id\":\"5eb87ce0ffd86e000604b332\"},{\"fairings\":null,\"links\":{\"patch\":{\"small\":\"https://images2.imgbox.com/bd/fe/lXUYKL28_o.png\",\"large\":\"https://images2.imgbox.com/bc/c5/fHN3m8KV_o.png\"},\"reddit\":{\"campaign\":null,\"launch\":\"https://www.reddit.com/r/space/comments/19gm5f/live_coverage_spacex_crs2_launch_to_the_iss/c8nvah4\",\"media\":null,\"recovery\":null},\"flickr\":{\"small\":[],\"original\":[]},\"presskit\":\"https://www.nasa.gov/sites/default/files/files/Orb2_PRESS_KIT.pdf\",\"webcast\":\"https://www.youtube.com/watch?v=ik0ElKl5kW4\",\"youtube_id\":\"ik0ElKl5kW4\",\"article\":\"https://en.wikipedia.org/wiki/SpaceX_CRS-2\",\"wikipedia\":\"https://en.wikipedia.org/wiki/SpaceX_CRS-2\"},\"static_fire_date_utc\":\"2013-02-25T18:30:00.000Z\",\"static_fire_date_unix\":1361817000,\"net\":false,\"window\":0,\"rocket\":\"5e9d0d95eda69973a809d1ec\",\"success\":true,\"failures\":[],\"details\":\"Last launch of the original Falcon 9 v1.0 launch vehicle\",\"crew\":[],\"ships\":[\"5ea6ed2d080df4000697c902\"],\"capsules\":[\"5e9e2c5bf359189ef23b2667\"],\"payloads\":[\"5eb0e4bbb6c3bb0006eeb1ed\"],\"launchpad\":\"5e9e4501f509094ba4566f84\",\"flight_number\":10,\"name\":\"CRS-2\",\"date_utc\":\"2013-03-01T19:10:00.000Z\",\"date_unix\":1362165000,\"date_local\":\"2013-03-01T15:10:00-04:00\",\"date_precision\":\"hour\",\"upcoming\":false,\"cores\":[{\"core\":\"5e9e289ff3591884e03b262c\",\"flight\":1,\"gridfins\":false,\"legs\":false,\"reused\":false,\"landing_attempt\":false,\"landing_success\":null,\"landing_type\":null,\"landpad\":null}],\"auto_update\":true,\"tbd\":false,\"launch_library_id\":null,\"id\":\"5eb87ce1ffd86e000604b333\"},{\"fairings\":{\"reused\":false,\"recovery_attempt\":false,\"recovered\":false,\"ships\":[]},\"links\":{\"patch\":{\"small\":\"https://images2.imgbox.com/f8/27/XwZPEhTJ_o.png\",\"large\":\"https://images2.imgbox.com/ae/62/D6SZleUG_o.png\"},\"reddit\":{\"campaign\":null,\"launch\":\"http://www.reddit.com/r/spacex/comments/1ndlay\",\"media\":null,\"recovery\":null},\"flickr\":{\"small\":[],\"original\":[]},\"presskit\":\"https://spaceflightnow.com/falcon9/006/UpgradedF9DemoMission_PressKit.pdf\",\"webcast\":\"https://www.youtube.com/watch?v=uFefasS6bhc\",\"youtube_id\":\"uFefasS6bhc\",\"article\":\"http://www.parabolicarc.com/2013/09/29/falcon-9-launch-payloads-orbit-vandenberg/\",\"wikipedia\":\"https://en.wikipedia.org/wiki/CASSIOPE\"},\"static_fire_date_utc\":\"2013-09-19T00:00:00.000Z\",\"static_fire_date_unix\":1379548800,\"net\":false,\"window\":0,\"rocket\":\"5e9d0d95eda69973a809d1ec\",\"success\":true,\"failures\":[],\"details\":\"Commercial mission and first Falcon 9 v1.1 flight, with improved 13-tonne to LEO capacity. Following second-stage separation from the first stage, an attempt was made to perform an ocean touchdown test of the discarded booster vehicle. The test provided good test data on the experiment-its primary objective-but as the booster neared the ocean, aerodynamic forces caused an uncontrollable roll. The center engine, depleted of fuel by centrifugal force, shut down resulting in the impact and destruction of the vehicle.\",\"crew\":[],\"ships\":[\"5ea6ed2d080df4000697c903\"],\"capsules\":[],\"payloads\":[\"5eb0e4bbb6c3bb0006eeb1ee\"],\"launchpad\":\"5e9e4502f509092b78566f87\",\"flight_number\":11,\"name\":\"CASSIOPE\",\"date_utc\":\"2013-09-29T16:00:00.000Z\",\"date_unix\":1380470400,\"date_local\":\"2013-09-29T09:00:00-07:00\",\"date_precision\":\"hour\",\"upcoming\":false,\"cores\":[{\"core\":\"5e9e289ff359180ae23b262d\",\"flight\":1,\"gridfins\":false,\"legs\":false,\"reused\":false,\"landing_attempt\":true,\"landing_success\":false,\"landing_type\":\"Ocean\",\"landpad\":null}],\"auto_update\":true,\"tbd\":false,\"launch_library_id\":null,\"id\":\"5eb87ce1ffd86e000604b334\"},{\"fairings\":{\"reused\":false,\"recovery_attempt\":false,\"recovered\":false,\"ships\":[]},\"links\":{\"patch\":{\"small\":\"https://images2.imgbox.com/4e/f8/rqu7XWMF_o.png\",\"large\":\"https://images2.imgbox.com/41/b7/H6vprzuB_o.png\"},\"reddit\":{\"campaign\":null,\"launch\":\"http://www.reddit.com/r/spacex/comments/1ryy1n\",\"media\":null,\"recovery\":null},\"flickr\":{\"small\":[],\"original\":[]},\"presskit\":\"http://www.spacex.com/sites/spacex/files/spacex_ses-8launch_presskit.pdf\",\"webcast\":\"https://www.youtube.com/watch?v=aAj5xapImEs\",\"youtube_id\":\"aAj5xapImEs\",\"article\":\"https://www.nasaspaceflight.com/2013/12/spacex-falcon-9-v1-1-milestone-ses-8-launch/\",\"wikipedia\":\"https://en.wikipedia.org/wiki/SES-8\"},\"static_fire_date_utc\":\"2013-11-22T06:26:00.000Z\",\"static_fire_date_unix\":1385101560,\"net\":false,\"window\":0,\"rocket\":\"5e9d0d95eda69973a809d1ec\",\"success\":true,\"failures\":[],\"details\":\"First GTO launch for Falcon 9\",\"crew\":[],\"ships\":[],\"capsules\":[],\"payloads\":[\"5eb0e4bbb6c3bb0006eeb1ef\"],\"launchpad\":\"5e9e4501f509094ba4566f84\",\"flight_number\":12,\"name\":\"SES-8\",\"date_utc\":\"2013-12-03T22:41:00.000Z\",\"date_unix\":1386110460,\"date_local\":\"2013-12-03T18:41:00-04:00\",\"date_precision\":\"hour\",\"upcoming\":false,\"cores\":[{\"core\":\"5e9e289ff35918862c3b262e\",\"flight\":1,\"gridfins\":false,\"legs\":false,\"reused\":false,\"landing_attempt\":false,\"landing_success\":null,\"landing_type\":null,\"landpad\":null}],\"auto_update\":true,\"tbd\":false,\"launch_library_id\":null,\"id\":\"5eb87ce2ffd86e000604b335\"},{\"fairings\":{\"reused\":false,\"recovery_attempt\":false,\"recovered\":false,\"ships\":[]},\"links\":{\"patch\":{\"small\":\"https://images2.imgbox.com/5c/20/AsqTXJDC_o.png\",\"large\":\"https://images2.imgbox.com/f5/fa/JvLWfNZz_o.png\"},\"reddit\":{\"campaign\":null,\"launch\":\"http://www.reddit.com/r/spacex/comments/1ujoc0\",\"media\":null,\"recovery\":null},\"flickr\":{\"small\":[],\"original\":[\"https://farm9.staticflickr.com/8617/16789019815_f99a165dc5_o.jpg\",\"https://farm8.staticflickr.com/7619/16763151866_35a0a4d8e1_o.jpg\",\"https://farm9.staticflickr.com/8569/16169086873_4d8829832e_o.png\"]},\"presskit\":\"http://www.spacex.com/sites/spacex/files/spacex_thaicom6_presskit.pdf\",\"webcast\":\"https://www.youtube.com/watch?v=AnSNRzMEmCU\",\"youtube_id\":\"AnSNRzMEmCU\",\"article\":\"http://spacenews.com/38959spacex-delivers-thaicom-6-satellite-to-orbit/\",\"wikipedia\":\"https://en.wikipedia.org/wiki/Thaicom_6\"},\"static_fire_date_utc\":\"2013-12-28T00:00:00.000Z\",\"static_fire_date_unix\":1388188800,\"net\":false,\"window\":0,\"rocket\":\"5e9d0d95eda69973a809d1ec\",\"success\":true,\"failures\":[],\"details\":\"Second GTO launch for Falcon 9. The USAF evaluated launch data from this flight as part of a separate certification program for SpaceX to qualify to fly U.S. military payloads and found that the Thaicom 6 launch had \\\\\"unacceptable fuel reserves at engine cutoff of the stage 2 second burnoff\\\\\"\",\"crew\":[],\"ships\":[],\"capsules\":[],\"payloads\":[\"5eb0e4bbb6c3bb0006eeb1f0\"],\"launchpad\":\"5e9e4501f509094ba4566f84\",\"flight_number\":13,\"name\":\"Thaicom 6\",\"date_utc\":\"2014-01-06T18:06:00.000Z\",\"date_unix\":1389031560,\"date_local\":\"2014-01-06T14:06:00-04:00\",\"date_precision\":\"hour\",\"upcoming\":false,\"cores\":[{\"core\":\"5e9e289ff3591878603b262f\",\"flight\":1,\"gridfins\":false,\"legs\":false,\"reused\":false,\"landing_attempt\":false,\"landing_success\":null,\"landing_type\":null,\"landpad\":null}],\"auto_update\":true,\"tbd\":false,\"launch_library_id\":null,\"id\":\"5eb87ce3ffd86e000604b336\"},{\"fairings\":null,\"links\":{\"patch\":{\"small\":\"https://images2.imgbox.com/ae/3c/yVvE2vVh_o.png\",\"large\":\"https://images2.imgbox.com/82/c7/bbs0gt88_o.png\"},\"reddit\":{\"campaign\":null,\"launch\":\"http://www.reddit.com/r/spacex/comments/22zo8c\",\"media\":null,\"recovery\":null},\"flickr\":{\"small\":[],\"original\":[\"https://farm8.staticflickr.com/7615/16670240949_8d43db0e36_o.jpg\",\"https://farm9.staticflickr.com/8597/16856369125_e97cd30ef7_o.jpg\",\"https://farm8.staticflickr.com/7586/16166732954_9338dc859c_o.jpg\",\"https://farm8.staticflickr.com/7603/16855223522_462da54e84_o.jpg\",\"https://farm8.staticflickr.com/7618/16234010894_e1210ec300_o.jpg\",\"https://farm8.staticflickr.com/7617/16855338881_69542a2fa9_o.jpg\"]},\"presskit\":\"http://www.spacex.com/sites/spacex/files/spacexcrs-3_presskit_042014.pdf\",\"webcast\":\"https://www.youtube.com/watch?v=Od-lON4bTyQ\",\"youtube_id\":\"Od-lON4bTyQ\",\"article\":\"https://newatlas.com/crs-3-launch-spacex/31671/\",\"wikipedia\":\"https://en.wikipedia.org/wiki/SpaceX_CRS-3\"},\"static_fire_date_utc\":\"2014-03-08T00:00:00.000Z\",\"static_fire_date_unix\":1394236800,\"net\":false,\"window\":0,\"rocket\":\"5e9d0d95eda69973a809d1ec\",\"success\":true,\"failures\":[],\"details\":\"Following second-stage separation, SpaceX conducted a second controlled-descent test of the discarded booster vehicle and achieved the first successful controlled ocean touchdown of a liquid-rocket-engine orbital booster. Following touchdown the first stage tipped over as expected and was destroyed. This was the first Falcon 9 booster to fly with extensible landing legs and the first Dragon mission with the Falcon 9 v1.1 launch vehicle.\",\"crew\":[],\"ships\":[\"5ea6ed2d080df4000697c902\"],\"capsules\":[\"5e9e2c5bf3591859a63b2668\"],\"payloads\":[\"5eb0e4bbb6c3bb0006eeb1f1\"],\"launchpad\":\"5e9e4501f509094ba4566f84\",\"flight_number\":14,\"name\":\"CRS-3\",\"date_utc\":\"2014-04-18T19:25:00.000Z\",\"date_unix\":1397849100,\"date_local\":\"2014-04-18T15:25:00-04:00\",\"date_precision\":\"hour\",\"upcoming\":false,\"cores\":[{\"core\":\"5e9e289ff3591829343b2630\",\"flight\":1,\"gridfins\":false,\"legs\":true,\"reused\":false,\"landing_attempt\":true,\"landing_success\":true,\"landing_type\":\"Ocean\",\"landpad\":null}],\"auto_update\":true,\"tbd\":false,\"launch_library_id\":null,\"id\":\"5eb87ce4ffd86e000604b337\"},{\"fairings\":{\"reused\":false,\"recovery_attempt\":false,\"recovered\":false,\"ships\":[]},\"links\":{\"patch\":{\"small\":\"https://images2.imgbox.com/a4/44/YWAUBkOe_o.png\",\"large\":\"https://images2.imgbox.com/fd/41/FUnfqHHH_o.png\"},\"reddit\":{\"campaign\":null,\"launch\":\"http://www.reddit.com/r/spacex/comments/2aany2\",\"media\":null,\"recovery\":null},\"flickr\":{\"small\":[],\"original\":[\"https://farm8.staticflickr.com/7585/16602893909_1181317089_o.jpg\",\"https://farm9.staticflickr.com/8747/16581738577_83e0690136_o.png\",\"https://farm8.staticflickr.com/7285/16581736047_6fd536ab11_o.jpg\",\"https://farm8.staticflickr.com/7597/16789021675_35f0148f78_o.jpg\",\"https://farm8.staticflickr.com/7631/16236321533_829ae07b42_o.jpg\",\"https://farm9.staticflickr.com/8726/16830422056_26c2265bbc_o.jpg\",\"https://farm9.staticflickr.com/8591/16670149079_33d6cc3631_o.jpg\"]},\"presskit\":\"http://www.spacex.com/sites/spacex/files/spacex_orbcomm_presskit_final.pdf\",\"webcast\":\"https://www.youtube.com/watch?v=lbHnSu-DLR4\",\"youtube_id\":\"lbHnSu-DLR4\",\"article\":\"https://www.orbcomm.com/en/networks/satellite/orbcomm-og2\",\"wikipedia\":\"https://en.wikipedia.org/wiki/Falcon_9_flight_10\"},\"static_fire_date_utc\":\"2015-12-19T04:57:00.000Z\",\"static_fire_date_unix\":1450501020,\"net\":false,\"window\":0,\"rocket\":\"5e9d0d95eda69973a809d1ec\",\"success\":true,\"failures\":[],\"details\":\"Total payload mass was 1,316 kg (2,901 lb) : 6 satellites weighing 172 kg each, plus two 142-kg mass simulators. This was the second Falcon 9 booster equipped with landing legs. Following second-stage separation, SpaceX conducted a controlled-descent test of the first stage, which successfully decelerated from\\xc2\\xa0hypersonic velocity in the upper atmosphere, made reentry and landing burns, deployed its legs and touched down on the ocean surface. As with the previous mission, the first stage then tipped over as expected and was not recovered.\",\"crew\":[],\"ships\":[],\"capsules\":[],\"payloads\":[\"5eb0e4bcb6c3bb0006eeb1f2\"],\"launchpad\":\"5e9e4501f509094ba4566f84\",\"flight_number\":15,\"name\":\"OG-2 Mission 1\",\"date_utc\":\"2014-07-14T15:15:00.000Z\",\"date_unix\":1405350900,\"date_local\":\"2014-07-14T11:15:00-04:00\",\"date_precision\":\"hour\",\"upcoming\":false,\"cores\":[{\"core\":\"5e9e28a0f3591870a63b2631\",\"flight\":1,\"gridfins\":false,\"legs\":true,\"reused\":false,\"landing_attempt\":true,\"landing_success\":true,\"landing_type\":\"Ocean\",\"landpad\":null}],\"auto_update\":true,\"tbd\":false,\"launch_library_id\":null,\"id\":\"5eb87ce4ffd86e000604b338\"},{\"fairings\":{\"reused\":false,\"recovery_attempt\":false,\"recovered\":false,\"ships\":[]},\"links\":{\"patch\":{\"small\":\"https://images2.imgbox.com/dd/4d/szidadu8_o.png\",\"large\":\"https://images2.imgbox.com/60/3f/hwK01Qce_o.png\"},\"reddit\":{\"campaign\":null,\"launch\":\"http://www.reddit.com/r/spacex/comments/2fenrv\",\"media\":null,\"recovery\":null},\"flickr\":{\"small\":[],\"original\":[\"https://farm9.staticflickr.com/8638/16855192031_962f7b1113_o.jpg\",\"https://farm8.staticflickr.com/7603/16648925347_769a6009c7_o.jpg\",\"https://farm9.staticflickr.com/8687/16789027675_cde1bd098a_o.jpg\",\"https://farm8.staticflickr.com/7629/16668638138_7acf13cfb5_o.jpg\",\"https://farm8.staticflickr.com/7281/16668845950_7680146525_o.jpg\",\"https://farm8.staticflickr.com/7626/16233865484_10d9925b5d_o.jpg\"]},\"presskit\":\"https://spaceflightnow.com/falcon9/011/presskit.pdf\",\"webcast\":\"https://www.youtube.com/watch?v=essrkMGlw5s\",\"youtube_id\":\"essrkMGlw5s\",\"article\":\"http://spacenews.com/41497spacex-launches-first-of-two-satellites-for-asiasat/\",\"wikipedia\":\"https://en.wikipedia.org/wiki/AsiaSat_8\"},\"static_fire_date_utc\":\"2014-07-31T23:35:15.000Z\",\"static_fire_date_unix\":1406849715,\"net\":false,\"window\":0,\"rocket\":\"5e9d0d95eda69973a809d1ec\",\"success\":true,\"failures\":[],\"details\":null,\"crew\":[],\"ships\":[],\"capsules\":[],\"payloads\":[\"5eb0e4bcb6c3bb0006eeb1f3\"],\"launchpad\":\"5e9e4501f509094ba4566f84\",\"flight_number\":16,\"name\":\"AsiaSat 8\",\"date_utc\":\"2014-08-05T08:00:00.000Z\",\"date_unix\":1407225600,\"date_local\":\"2014-08-05T04:00:00-04:00\",\"date_precision\":\"hour\",\"upcoming\":false,\"cores\":[{\"core\":\"5e9e28a0f359186e2e3b2632\",\"flight\":1,\"gridfins\":false,\"legs\":false,\"reused\":false,\"landing_attempt\":false,\"landing_success\":null,\"landing_type\":null,\"landpad\":null}],\"auto_update\":true,\"tbd\":false,\"launch_library_id\":null,\"id\":\"5eb87ce5ffd86e000604b339\"},{\"fairings\":{\"reused\":false,\"recovery_attempt\":false,\"recovered\":false,\"ships\":[]},\"links\":{\"patch\":{\"small\":\"https://images2.imgbox.com/d4/ea/jdJqr6He_o.png\",\"large\":\"https://images2.imgbox.com/5a/f0/b3TgnmVr_o.png\"},\"reddit\":{\"campaign\":null,\"launch\":\"http://www.reddit.com/r/spacex/comments/2fenrv\",\"media\":null,\"recovery\":null},\"flickr\":{\"small\":[],\"original\":[\"https://farm8.staticflickr.com/7604/16169087563_0e3559ab5b_o.jpg\",\"https://farm9.staticflickr.com/8742/16233828644_96738200b2_o.jpg\",\"https://farm8.staticflickr.com/7645/16601443698_e70315d1ed_o.jpg\",\"https://farm9.staticflickr.com/8730/16830335046_5f017c17be_o.jpg\",\"https://farm9.staticflickr.com/8637/16855040322_57671ab8eb_o.jpg\"]},\"presskit\":\"https://www.spaceflightnow.com/falcon9/012/presskit.pdf\",\"webcast\":\"https://www.youtube.com/watch?v=39ninsyTRk8\",\"youtube_id\":\"39ninsyTRk8\",\"article\":\"https://www.space.com/27052-spacex-launches-asiasat6-satellite.html\",\"wikipedia\":\"https://en.wikipedia.org/wiki/AsiaSat_6\"},\"static_fire_date_utc\":\"2014-08-22T23:51:18.000Z\",\"static_fire_date_unix\":1408751478,\"net\":false,\"window\":7200,\"rocket\":\"5e9d0d95eda69973a809d1ec\",\"success\":true,\"failures\":[],\"details\":null,\"crew\":[],\"ships\":[],\"capsules\":[],\"payloads\":[\"5eb0e4bcb6c3bb0006eeb1f4\"],\"launchpad\":\"5e9e4501f509094ba4566f84\",\"flight_number\":17,\"name\":\"AsiaSat 6\",\"date_utc\":\"2014-09-07T05:00:00.000Z\",\"date_unix\":1410066000,\"date_local\":\"2014-09-07T01:00:00-04:00\",\"date_precision\":\"hour\",\"upcoming\":false,\"cores\":[{\"core\":\"5e9e28a0f35918b1bc3b2633\",\"flight\":1,\"gridfins\":false,\"legs\":false,\"reused\":false,\"landing_attempt\":false,\"landing_success\":null,\"landing_type\":null,\"landpad\":null}],\"auto_update\":true,\"tbd\":false,\"launch_library_id\":null,\"id\":\"5eb87ce6ffd86e000604b33a\"},{\"fairings\":null,\"links\":{\"patch\":{\"small\":\"https://images2.imgbox.com/7b/fb/Mm0LdwGY_o.png\",\"large\":\"https://images2.imgbox.com/21/13/ps1yJZFD_o.png\"},\"reddit\":{\"campaign\":null,\"launch\":\"http://www.reddit.com/r/spacex/comments/2grxer\",\"media\":null,\"recovery\":null},\"flickr\":{\"small\":[],\"original\":[\"https://farm8.staticflickr.com/7608/16661753958_9f61f777e7_o.jpg\",\"https://farm9.staticflickr.com/8593/16763199166_38ba2cafc8_o.jpg\",\"https://farm9.staticflickr.com/8655/16789074175_ba03989359_o.png\",\"https://farm9.staticflickr.com/8659/16166761954_ebc2a72b2a_o.jpg\",\"https://farm9.staticflickr.com/8620/16642025217_a6852b9499_o.jpg\"]},\"presskit\":\"https://www.nasa.gov/sites/default/files/files/SpaceX_NASA_CRS-4_PressKit.pdf\",\"webcast\":\"https://www.youtube.com/watch?v=7YkCh7uOw1Y\",\"youtube_id\":\"7YkCh7uOw1Y\",\"article\":\"https://www.nasa.gov/press/2014/september/nasa-cargo-launches-to-space-station-aboard-spacex-resupply-mission-0\",\"wikipedia\":\"https://en.wikipedia.org/wiki/SpaceX_CRS-4\"},\"static_fire_date_utc\":\"2014-09-17T00:00:00.000Z\",\"static_fire_date_unix\":1410912000,\"net\":false,\"window\":0,\"rocket\":\"5e9d0d95eda69973a809d1ec\",\"success\":true,\"failures\":[],\"details\":null,\"crew\":[],\"ships\":[\"5ea6ed2d080df4000697c902\"],\"capsules\":[\"5e9e2c5bf3591880643b2669\"],\"payloads\":[\"5eb0e4bcb6c3bb0006eeb1f5\"],\"launchpad\":\"5e9e4501f509094ba4566f84\",\"flight_number\":18,\"name\":\"CRS-4\",\"date_utc\":\"2014-09-21T05:52:00.000Z\",\"date_unix\":1411278720,\"date_local\":\"2014-09-21T01:52:00-04:00\",\"date_precision\":\"hour\",\"upcoming\":false,\"cores\":[{\"core\":\"5e9e28a0f359184a683b2634\",\"flight\":1,\"gridfins\":false,\"legs\":false,\"reused\":false,\"landing_attempt\":true,\"landing_success\":false,\"landing_type\":\"Ocean\",\"landpad\":null}],\"auto_update\":true,\"tbd\":false,\"launch_library_id\":null,\"id\":\"5eb87ce7ffd86e000604b33b\"},{\"fairings\":null,\"links\":{\"patch\":{\"small\":\"https://images2.imgbox.com/df/53/3Ik1KR2O_o.png\",\"large\":\"https://images2.imgbox.com/ed/f3/MdEzr8rE_o.png\"},\"reddit\":{\"campaign\":null,\"launch\":\"http://www.reddit.com/r/spacex/comments/2rrdha\",\"media\":null,\"recovery\":null},\"flickr\":{\"small\":[],\"original\":[\"https://farm9.staticflickr.com/8666/16511391418_bb5cdbbd71_o.jpg\",\"https://farm9.staticflickr.com/8612/16848173281_035bdc6009_o.jpg\",\"https://farm9.staticflickr.com/8571/16699496805_bf39747618_o.jpg\",\"https://farm9.staticflickr.com/8650/16699496705_187e4e53fd_o.jpg\",\"https://farm9.staticflickr.com/8663/16077174554_370937efbe_o.jpg\",\"https://farm9.staticflickr.com/8638/16512101410_83763eb9ea_o.jpg\",\"https://farm9.staticflickr.com/8653/16077173984_17885d4bea_o.jpg\",\"https://farm8.staticflickr.com/7635/16848159582_40c0f9d25f_o.jpg\"]},\"presskit\":\"http://www.spacex.com/sites/spacex/files/spacex_nasa_crs-5_presskit.pdf\",\"webcast\":\"https://www.youtube.com/watch?v=p7x-SumbynI\",\"youtube_id\":\"p7x-SumbynI\",\"article\":\"https://spaceflightnow.com/2015/01/10/dragon-successfully-launched-rocket-recovery-demo-crash-lands/\",\"wikipedia\":\"https://en.wikipedia.org/wiki/SpaceX_CRS-5\"},\"static_fire_date_utc\":\"2014-12-19T00:00:00.000Z\",\"static_fire_date_unix\":1418947200,\"net\":false,\"window\":0,\"rocket\":\"5e9d0d95eda69973a809d1ec\",\"success\":true,\"failures\":[],\"details\":\"Following second stage separation, SpaceX performed a test flight which attempted to return the first stage of the Falcon 9 through the atmosphere and land it on an approximately 90-by-50-meter (300 ft x 160 ft) floating platform-called the autonomous spaceport drone ship. Many of the test objectives were achieved, including precision control of the rocket\\'s descent to land on the platform at a specific point in the Atlantic ocean, and a large amount of test data was obtained from the first use of grid fin control surfaces used for more precise reentry positioning. The grid fin control system ran out of hydraulic fluid a minute before landing and the landing itself resulted in a crash.\",\"crew\":[],\"ships\":[\"5ea6ed2e080df4000697c906\",\"5ea6ed2f080df4000697c90b\",\"5ea6ed2f080df4000697c90c\",\"5ea6ed2f080df4000697c90f\",\"5ea6ed30080df4000697c912\"],\"capsules\":[\"5e9e2c5bf35918165f3b266a\"],\"payloads\":[\"5eb0e4bdb6c3bb0006eeb1f6\"],\"launchpad\":\"5e9e4501f509094ba4566f84\",\"flight_number\":19,\"name\":\"CRS-5\",\"date_utc\":\"2015-01-10T09:47:00.000Z\",\"date_unix\":1420883220,\"date_local\":\"2015-01-10T05:47:00-04:00\",\"date_precision\":\"hour\",\"upcoming\":false,\"cores\":[{\"core\":\"5e9e28a0f359187a3c3b2635\",\"flight\":1,\"gridfins\":true,\"legs\":true,\"reused\":false,\"landing_attempt\":true,\"landing_success\":false,\"landing_type\":\"ASDS\",\"landpad\":\"5e9e3032383ecb761634e7cb\"}],\"auto_update\":true,\"tbd\":false,\"launch_library_id\":null,\"id\":\"5eb87ce8ffd86e000604b33c\"},{\"fairings\":{\"reused\":false,\"recovery_attempt\":false,\"recovered\":false,\"ships\":[]},\"links\":{\"patch\":{\"small\":\"https://images2.imgbox.com/bc/a6/uDYvXvql_o.png\",\"large\":\"https://images2.imgbox.com/30/47/WmtGcjW8_o.png\"},\"reddit\":{\"campaign\":null,\"launch\":\"http://www.reddit.com/r/spacex/comments/2vjm9e\",\"media\":null,\"recovery\":null},\"flickr\":{\"small\":[],\"original\":[\"https://farm9.staticflickr.com/8619/16511407538_9a25c5d8c6_o.jpg\",\"https://farm9.staticflickr.com/8665/16697946612_1284e952b0_o.jpg\",\"https://farm9.staticflickr.com/8570/16698990475_16524a93de_o.jpg\",\"https://farm9.staticflickr.com/8681/16512864259_e849e496b1_o.jpg\",\"https://farm9.staticflickr.com/8637/16079045013_1f0fab9b54_o.jpg\",\"https://farm9.staticflickr.com/8601/16512864369_2bb896c344_o.jpg\",\"https://farm9.staticflickr.com/8646/16697693861_a038331e0a_o.jpg\",\"https://farm9.staticflickr.com/8680/16511407248_093635a243_o.jpg\",\"https://farm9.staticflickr.com/8654/16511594820_451f194d53_o.jpg\",\"https://farm9.staticflickr.com/8603/16673054016_472fb42a20_o.jpg\"]},\"presskit\":\"http://www.spacex.com/press/2015/02/11/dscovr-launch-update\",\"webcast\":\"https://www.youtube.com/watch?v=OvHJSIKP0Hg\",\"youtube_id\":\"OvHJSIKP0Hg\",\"article\":\"https://spaceflightnow.com/2015/02/12/space-weather-observatory-blasts-off-after-17-year-wait/\",\"wikipedia\":\"https://en.wikipedia.org/wiki/Deep_Space_Climate_Observatory\"},\"static_fire_date_utc\":\"2015-01-31T00:00:00.000Z\",\"static_fire_date_unix\":1422662400,\"net\":false,\"window\":0,\"rocket\":\"5e9d0d95eda69973a809d1ec\",\"success\":true,\"failures\":[],\"details\":\"First launch under USAF\\'s OSP 3 launch contract. First SpaceX launch to put a satellite to an orbit with an orbital altitude many times the distance to the Moon: Sun-Earth libration point L1. The first stage made a test flight descent to an over-ocean landing within 10 m (33 ft) of its intended target.\",\"crew\":[],\"ships\":[\"5ea6ed2e080df4000697c906\",\"5ea6ed2f080df4000697c90b\",\"5ea6ed2f080df4000697c90c\"],\"capsules\":[],\"payloads\":[\"5eb0e4bdb6c3bb0006eeb1f7\"],\"launchpad\":\"5e9e4501f509094ba4566f84\",\"flight_number\":20,\"name\":\"DSCOVR\",\"date_utc\":\"2015-02-11T23:03:00.000Z\",\"date_unix\":1423695780,\"date_local\":\"2015-02-11T19:03:00-04:00\",\"date_precision\":\"hour\",\"upcoming\":false,\"cores\":[{\"core\":\"5e9e28a0f3591885be3b2636\",\"flight\":1,\"gridfins\":true,\"legs\":true,\"reused\":false,\"landing_attempt\":true,\"landing_success\":true,\"landing_type\":\"Ocean\",\"landpad\":null}],\"auto_update\":true,\"tbd\":false,\"launch_library_id\":null,\"id\":\"5eb87ceaffd86e000604b33d\"},{\"fairings\":{\"reused\":false,\"recovery_attempt\":false,\"recovered\":false,\"ships\":[]},\"links\":{\"patch\":{\"small\":\"https://images2.imgbox.com/2b/65/8Hd65fHz_o.png\",\"large\":\"https://images2.imgbox.com/3f/c9/ZczpJ97M_o.png\"},\"reddit\":{\"campaign\":null,\"launch\":\"http://www.reddit.com/r/spacex/comments/2x81fc\",\"media\":\"https://www.reddit.com/r/spacex/comments/2xmumx\",\"recovery\":null},\"flickr\":{\"small\":[],\"original\":[\"https://farm9.staticflickr.com/8749/16788442562_ed460c2d9e_o.jpg\",\"https://farm9.staticflickr.com/8586/16510243060_48d6a9b1f6_o.jpg\",\"https://farm9.staticflickr.com/8641/16490359747_c043b8c61a_o.jpg\",\"https://farm9.staticflickr.com/8636/16510241270_ca83157509_o.jpg\",\"https://farm8.staticflickr.com/7618/16601658850_13b826e705_o.jpg\",\"https://farm9.staticflickr.com/8617/16510041628_883af57512_o.jpg\"]},\"presskit\":\"http://www.spacex.com/sites/spacex/files/abs-eutelsatfactsheet.pdf\",\"webcast\":\"https://www.youtube.com/watch?v=mN7lyaCBzT8\",\"youtube_id\":\"mN7lyaCBzT8\",\"article\":\"https://www.space.com/28702-spacex-rocket-launches-satellites-video.html\",\"wikipedia\":\"https://en.wikipedia.org/wiki/ABS-3A\"},\"static_fire_date_utc\":\"2015-02-25T19:10:00.000Z\",\"static_fire_date_unix\":1424891400,\"net\":false,\"window\":0,\"rocket\":\"5e9d0d95eda69973a809d1ec\",\"success\":true,\"failures\":[],\"details\":\"The launch was Boeing\\'s first-ever conjoined launch of a lighter-weight dual-commsat stack that was specifically designed to take advantage of the lower-cost SpaceX Falcon 9 launch vehicle. Per satellite, launch costs were less than $30 million. The ABS satellite reached its final destination ahead of schedule and started operations on September 10.\",\"crew\":[],\"ships\":[],\"capsules\":[],\"payloads\":[\"5eb0e4bdb6c3bb0006eeb1f8\",\"5eb0e4bdb6c3bb0006eeb1f9\"],\"launchpad\":\"5e9e4501f509094ba4566f84\",\"flight_number\":21,\"name\":\"ABS-3A / Eutelsat 115W B\",\"date_utc\":\"2015-03-02T03:50:00.000Z\",\"date_unix\":1425268200,\"date_local\":\"2015-03-02T23:50:00-04:00\",\"date_precision\":\"hour\",\"upcoming\":false,\"cores\":[{\"core\":\"5e9e28a0f35918c0893b2637\",\"flight\":1,\"gridfins\":false,\"legs\":false,\"reused\":false,\"landing_attempt\":false,\"landing_success\":null,\"landing_type\":null,\"landpad\":null}],\"auto_update\":true,\"tbd\":false,\"launch_library_id\":null,\"id\":\"5eb87ceaffd86e000604b33e\"},{\"fairings\":null,\"links\":{\"patch\":{\"small\":\"https://images2.imgbox.com/75/39/TJU6xWM5_o.png\",\"large\":\"https://images2.imgbox.com/c7/02/2XvCh1yD_o.png\"},\"reddit\":{\"campaign\":null,\"launch\":\"https://www.reddit.com/r/spacex/comments/32jnyd\",\"media\":\"https://www.reddit.com/r/spacex/comments/32lw5y\",\"recovery\":null},\"flickr\":{\"small\":[],\"original\":[\"https://farm8.staticflickr.com/7624/17170624642_e5949d160e_o.jpg\",\"https://farm8.staticflickr.com/7708/17170624402_f6de506461_o.jpg\",\"https://farm8.staticflickr.com/7658/17170624462_2efc977fee_o.jpg\",\"https://farm8.staticflickr.com/7611/17171659711_42597fefed_o.jpg\",\"https://farm9.staticflickr.com/8774/17170624412_7091dbd04a_o.jpg\"]},\"presskit\":\"https://www.nasa.gov/sites/default/files/files/SpaceX_NASA_CRS-6_PressKit.pdf\",\"webcast\":\"https://www.youtube.com/watch?v=csVpa25iqH0\",\"youtube_id\":\"csVpa25iqH0\",\"article\":\"https://spaceflightnow.com/2015/04/14/falcon-9-successfully-launches-descends-to-off-balance-landing/\",\"wikipedia\":\"https://en.wikipedia.org/wiki/SpaceX_CRS-6\"},\"static_fire_date_utc\":\"2015-04-11T00:00:00.000Z\",\"static_fire_date_unix\":1428710400,\"net\":false,\"window\":0,\"rocket\":\"5e9d0d95eda69973a809d1ec\",\"success\":true,\"failures\":[],\"details\":\"Following the first-stage boost, SpaceX attempted a controlled-descent test of the first stage. The first stage contacted the ship, but soon tipped over due to excess lateral velocity caused by a stuck throttle valve resulting in a later-than-intended downthrottle.\",\"crew\":[],\"ships\":[\"5ea6ed2e080df4000697c906\",\"5ea6ed2f080df4000697c90b\",\"5ea6ed2f080df4000697c90c\",\"5ea6ed2f080df4000697c90f\",\"5ea6ed30080df4000697c912\"],\"capsules\":[\"5e9e2c5cf359188bfb3b266b\"],\"payloads\":[\"5eb0e4bdb6c3bb0006eeb1fa\"],\"launchpad\":\"5e9e4501f509094ba4566f84\",\"flight_number\":22,\"name\":\"CRS-6\",\"date_utc\":\"2015-04-14T20:10:00.000Z\",\"date_unix\":1429042200,\"date_local\":\"2015-04-14T16:10:00-04:00\",\"date_precision\":\"hour\",\"upcoming\":false,\"cores\":[{\"core\":\"5e9e28a1f359186d533b2638\",\"flight\":1,\"gridfins\":true,\"legs\":true,\"reused\":false,\"landing_attempt\":true,\"landing_success\":false,\"landing_type\":\"ASDS\",\"landpad\":\"5e9e3032383ecb761634e7cb\"}],\"auto_update\":true,\"tbd\":false,\"launch_library_id\":null,\"id\":\"5eb87cecffd86e000604b33f\"},{\"fairings\":{\"reused\":false,\"recovery_attempt\":false,\"recovered\":false,\"ships\":[]},\"links\":{\"patch\":{\"small\":\"https://images2.imgbox.com/a6/9b/IzWT1pYC_o.png\",\"large\":\"https://images2.imgbox.com/a1/dc/grsyEfA5_o.png\"},\"reddit\":{\"campaign\":null,\"launch\":\"https://www.reddit.com/r/spacex/comments/33xqcj\",\"media\":\"https://www.reddit.com/r/spacex/comments/3439s3\",\"recovery\":null},\"flickr\":{\"small\":[],\"original\":[\"https://farm8.staticflickr.com/7695/17138865668_18dcce7072_o.jpg\",\"https://farm8.staticflickr.com/7677/16706406093_61a8f9c2f8_o.jpg\",\"https://farm8.staticflickr.com/7691/17324793792_2dd13ea3f3_o.jpg\",\"https://farm8.staticflickr.com/7691/17139094400_b94ce1ff56_o.jpg\",\"https://farm9.staticflickr.com/8739/17140415959_38b5ee8bc6_o.jpg\",\"https://farm8.staticflickr.com/7735/16704192574_e3a0a6fac2_o.jpg\"]},\"presskit\":\"http://www.spacex.com/sites/spacex/files/spacexthalesfactsheet_final.pdf\",\"webcast\":\"https://www.youtube.com/watch?v=nBwAYT_ogj4\",\"youtube_id\":\"nBwAYT_ogj4\",\"article\":\"https://spaceflightnow.com/2015/04/28/falcon-9-rocket-powers-into-space-with-satellite-for-turkmenistan/\",\"wikipedia\":\"https://en.wikipedia.org/wiki/T%C3%BCrkmen%C3%84lem_52%C2%B0E_/_MonacoSAT\"},\"static_fire_date_utc\":\"2015-04-22T11:11:00.000Z\",\"static_fire_date_unix\":1429701060,\"net\":false,\"window\":0,\"rocket\":\"5e9d0d95eda69973a809d1ec\",\"success\":true,\"failures\":[],\"details\":null,\"crew\":[],\"ships\":[],\"capsules\":[],\"payloads\":[\"5eb0e4beb6c3bb0006eeb1fb\"],\"launchpad\":\"5e9e4501f509094ba4566f84\",\"flight_number\":23,\"name\":\"T\\xc3\\xbcrkmen\\xc3\\x84lem 52\\xc2\\xb0E / MonacoSAT\",\"date_utc\":\"2015-04-27T23:03:00.000Z\",\"date_unix\":1430175780,\"date_local\":\"2015-04-27T19:03:00-04:00\",\"date_precision\":\"hour\",\"upcoming\":false,\"cores\":[{\"core\":\"5e9e28a1f35918233f3b2639\",\"flight\":1,\"gridfins\":false,\"legs\":false,\"reused\":false,\"landing_attempt\":false,\"landing_success\":null,\"landing_type\":null,\"landpad\":null}],\"auto_update\":true,\"tbd\":false,\"launch_library_id\":null,\"id\":\"5eb87cedffd86e000604b340\"},{\"fairings\":null,\"links\":{\"patch\":{\"small\":\"https://images2.imgbox.com/53/12/gFtcOQuX_o.png\",\"large\":\"https://images2.imgbox.com/7a/51/NfgiMpar_o.png\"},\"reddit\":{\"campaign\":null,\"launch\":\"https://www.reddit.com/r/spacex/comments/3b27hk\",\"media\":\"https://www.reddit.com/r/spacex/comments/3berj3\",\"recovery\":null},\"flickr\":{\"small\":[],\"original\":[\"https://farm1.staticflickr.com/344/19045370790_f20f29cd8d_o.jpg\",\"https://farm1.staticflickr.com/287/18999110808_6e153fed64_o.jpg\"]},\"presskit\":\"https://www.nasa.gov/sites/default/files/atoms/files/spacex_nasa_crs-7_presskit.pdf\",\"webcast\":\"https://www.youtube.com/watch?v=PuNymhcTtSQ\",\"youtube_id\":\"PuNymhcTtSQ\",\"article\":\"https://spaceflightnow.com/2015/06/28/falcon-9-rocket-destroyed-in-launch-mishap/\",\"wikipedia\":\"https://en.wikipedia.org/wiki/SpaceX_CRS-7\"},\"static_fire_date_utc\":\"2015-06-26T05:00:00.000Z\",\"static_fire_date_unix\":1435294800,\"net\":false,\"window\":0,\"rocket\":\"5e9d0d95eda69973a809d1ec\",\"success\":false,\"failures\":[{\"time\":139,\"altitude\":40,\"reason\":\"helium tank overpressure lead to the second stage LOX tank explosion\"}],\"details\":\"Launch performance was nominal until an overpressure incident in the second-stage LOX tank, leading to vehicle breakup at T+150 seconds. The Dragon capsule survived the explosion but was lost upon splashdown because its software did not contain provisions for parachute deployment on launch vehicle failure.\",\"crew\":[],\"ships\":[\"5ea6ed2e080df4000697c906\",\"5ea6ed2f080df4000697c90b\",\"5ea6ed2f080df4000697c90c\"],\"capsules\":[\"5e9e2c5cf35918407d3b266c\"],\"payloads\":[\"5eb0e4beb6c3bb0006eeb1fc\"],\"launchpad\":\"5e9e4501f509094ba4566f84\",\"flight_number\":24,\"name\":\"CRS-7\",\"date_utc\":\"2015-06-28T14:21:00.000Z\",\"date_unix\":1435501260,\"date_local\":\"2015-06-28T10:21:00-04:00\",\"date_precision\":\"hour\",\"upcoming\":false,\"cores\":[{\"core\":\"5e9e28a1f35918683c3b263a\",\"flight\":1,\"gridfins\":true,\"legs\":true,\"reused\":false,\"landing_attempt\":true,\"landing_success\":null,\"landing_type\":\"ASDS\",\"landpad\":\"5e9e3032383ecb6bb234e7ca\"}],\"auto_update\":true,\"tbd\":false,\"launch_library_id\":null,\"id\":\"5eb87ceeffd86e000604b341\"},{\"fairings\":{\"reused\":false,\"recovery_attempt\":false,\"recovered\":false,\"ships\":[]},\"links\":{\"patch\":{\"small\":\"https://images2.imgbox.com/6a/7e/J7IQfBqg_o.png\",\"large\":\"https://images2.imgbox.com/99/d4/0aIlpFpw_o.png\"},\"reddit\":{\"campaign\":null,\"launch\":\"https://www.reddit.com/r/spacex/comments/3xgxh5\",\"media\":\"https://www.reddit.com/r/spacex/comments/3xm83h/\",\"recovery\":null},\"flickr\":{\"small\":[],\"original\":[\"https://farm2.staticflickr.com/1648/23827554109_837b21739e_o.jpg\",\"https://farm1.staticflickr.com/597/23802553412_d41e4dcc64_o.jpg\",\"https://farm6.staticflickr.com/5806/23802550622_9ff8c90098_o.jpg\",\"https://farm1.staticflickr.com/571/23604164970_2a1a2366e4_o.jpg\",\"https://farm6.staticflickr.com/5773/23271687254_5e64d726ba_o.jpg\",\"https://farm6.staticflickr.com/5766/23526044959_5bfe74bc88_o.jpg\",\"https://farm6.staticflickr.com/5723/23785609832_83038751d1_o.jpg\",\"https://farm1.staticflickr.com/715/23833499336_d3fde6a25a_o.jpg\"]},\"presskit\":\"http://www.spacex.com/sites/spacex/files/spacex_orbcomm_press_kit_final2.pdf\",\"webcast\":\"https://www.youtube.com/watch?v=O5bTbVbe4e4\",\"youtube_id\":\"O5bTbVbe4e4\",\"article\":\"https://spaceflightnow.com/2015/12/22/round-trip-rocket-flight-gives-spacex-a-trifecta-of-successes/\",\"wikipedia\":\"https://en.wikipedia.org/wiki/Falcon_9_flight_20\"},\"static_fire_date_utc\":\"2015-12-19T00:09:00.000Z\",\"static_fire_date_unix\":1450483740,\"net\":false,\"window\":0,\"rocket\":\"5e9d0d95eda69973a809d1ec\",\"success\":true,\"failures\":[],\"details\":\"Total payload mass was 2,034 kg (4,484 lb) : 11 satellites weighing 172 kg each, plus a 142-kg mass simulator. This was the first launch of the upgraded v1.1 variant (later called Falcon 9 Full Thrust), with a 30 percent power increase. Orbcomm had originally agreed to be the third flight of the enhanced-thrust rocket, but the change to the maiden flight position was announced in October 2015. SpaceX received a permit from the FAA to land the booster on solid ground at Cape Canaveral, and succeeded.\",\"crew\":[],\"ships\":[],\"capsules\":[],\"payloads\":[\"5eb0e4beb6c3bb0006eeb1fd\"],\"launchpad\":\"5e9e4501f509094ba4566f84\",\"flight_number\":25,\"name\":\"OG-2 Mission 2\",\"date_utc\":\"2015-12-22T01:29:00.000Z\",\"date_unix\":1450747740,\"date_local\":\"2015-12-22T21:29:00-04:00\",\"date_precision\":\"hour\",\"upcoming\":false,\"cores\":[{\"core\":\"5e9e28a1f3591867753b263b\",\"flight\":1,\"gridfins\":true,\"legs\":true,\"reused\":false,\"landing_attempt\":true,\"landing_success\":true,\"landing_type\":\"RTLS\",\"landpad\":\"5e9e3032383ecb267a34e7c7\"}],\"auto_update\":true,\"tbd\":false,\"launch_library_id\":null,\"id\":\"5eb87cefffd86e000604b342\"},{\"fairings\":{\"reused\":false,\"recovery_attempt\":false,\"recovered\":false,\"ships\":[]},\"links\":{\"patch\":{\"small\":\"https://images2.imgbox.com/8a/44/PSksEBjD_o.png\",\"large\":\"https://images2.imgbox.com/d9/c9/57ioWDgW_o.png\"},\"reddit\":{\"campaign\":null,\"launch\":\"https://www.reddit.com/r/spacex/comments/417weg\",\"media\":\"https://www.reddit.com/r/spacex/comments/41cvdm\",\"recovery\":null},\"flickr\":{\"small\":[],\"original\":[\"https://farm2.staticflickr.com/1460/24382360351_9b1f2fcabc_o.jpg\",\"https://farm2.staticflickr.com/1669/24423604506_27d3c4548b_o.jpg\",\"https://farm2.staticflickr.com/1618/24151425850_1cb6040569_o.jpg\",\"https://farm2.staticflickr.com/1622/24127012370_07edc62046_o.jpg\",\"https://farm2.staticflickr.com/1508/24127011190_92ef932c96_o.jpg\",\"https://farm2.staticflickr.com/1591/23778325594_08231286fc_o.jpg\",\"https://farm2.staticflickr.com/1542/24038722499_34c10216a3_o.jpg\"]},\"presskit\":\"http://www.spacex.com/sites/spacex/files/spacex_jason3_press_kit.pdf\",\"webcast\":\"https://www.youtube.com/watch?v=ivdKRJzl6y0\",\"youtube_id\":\"ivdKRJzl6y0\",\"article\":\"https://spaceflightnow.com/2016/01/18/satellite-launched-to-measure-motions-of-the-oceans/\",\"wikipedia\":\"https://en.wikipedia.org/wiki/Jason-3\"},\"static_fire_date_utc\":\"2016-01-11T18:42:00.000Z\",\"static_fire_date_unix\":1452537720,\"net\":false,\"window\":0,\"rocket\":\"5e9d0d95eda69973a809d1ec\",\"success\":true,\"failures\":[],\"details\":\"First launch of NASA and NOAA joint science mission under the NLS II launch contract (not related to NASA CRS or USAF OSP3 contracts). Last launch of the original Falcon 9 v1.1 launch vehicle. The Jason-3 satellite was successfully deployed to target orbit. SpaceX again attempted a recovery of the first stage booster by landing on an autonomous drone ship; this time located in the Pacific Ocean. The first stage did achieve a soft-landing on the ship, but a lockout on one of the landing legs failed to latch, so that the booster fell over and exploded.\",\"crew\":[],\"ships\":[\"5ea6ed2f080df4000697c910\",\"5ea6ed30080df4000697c912\",\"5ea6ed30080df4000697c914\"],\"capsules\":[],\"payloads\":[\"5eb0e4beb6c3bb0006eeb1fe\"],\"launchpad\":\"5e9e4502f509092b78566f87\",\"flight_number\":26,\"name\":\"Jason 3\",\"date_utc\":\"2016-01-17T15:42:00.000Z\",\"date_unix\":1453045320,\"date_local\":\"2016-01-17T08:42:00-07:00\",\"date_precision\":\"hour\",\"upcoming\":false,\"cores\":[{\"core\":\"5e9e28a1f3591842fa3b263c\",\"flight\":1,\"gridfins\":true,\"legs\":true,\"reused\":false,\"landing_attempt\":true,\"landing_success\":false,\"landing_type\":\"ASDS\",\"landpad\":\"5e9e3033383ecbb9e534e7cc\"}],\"auto_update\":true,\"tbd\":false,\"launch_library_id\":null,\"id\":\"5eb87cf0ffd86e000604b343\"},{\"fairings\":{\"reused\":false,\"recovery_attempt\":false,\"recovered\":false,\"ships\":[]},\"links\":{\"patch\":{\"small\":\"https://images2.imgbox.com/7f/15/rjv54Es5_o.png\",\"large\":\"https://images2.imgbox.com/c9/7f/EQ1g4Iv2_o.png\"},\"reddit\":{\"campaign\":null,\"launch\":\"https://www.reddit.com/r/spacex/comments/48u4yq\",\"media\":\"https://www.reddit.com/r/spacex/comments/472k8c\",\"recovery\":null},\"flickr\":{\"small\":[],\"original\":[\"https://farm2.staticflickr.com/1623/25395662282_942fd68ba3_o.jpg\",\"https://farm2.staticflickr.com/1458/25395661442_bfd783f18a_o.jpg\",\"https://farm2.staticflickr.com/1641/25421381351_38390bcb8e_o.jpg\",\"https://farm2.staticflickr.com/1616/25514167315_b19b0a4365_o.jpg\",\"https://farm2.staticflickr.com/1482/24883160354_b03cefd416_o.jpg\",\"https://farm2.staticflickr.com/1653/25420915781_8fc648b4a4_o.jpg\",\"https://farm2.staticflickr.com/1610/25486858116_9c06dfea59_o.jpg\",\"https://farm2.staticflickr.com/1617/25168697841_00dfff89bb_o.jpg\",\"https://farm2.staticflickr.com/1533/24631230904_83b1624807_o.jpg\",\"https://farm2.staticflickr.com/1627/25145624551_1b8743116f_o.jpg\",\"https://farm2.staticflickr.com/1622/25120540712_7fc1a5ed72_o.jpg\",\"https://farm2.staticflickr.com/1550/24585667074_aa712b13a8_o.jpg\"]},\"presskit\":\"http://www.spacex.com/sites/spacex/files/spacex_ses9_press_kit_final.pdf\",\"webcast\":\"https://www.youtube.com/watch?v=muDPSyO7-A0\",\"youtube_id\":\"muDPSyO7-A0\",\"article\":\"https://spaceflightnow.com/2016/03/05/tv-broadcasting-satellite-finally-launched-on-falcon-9/\",\"wikipedia\":\"https://en.wikipedia.org/wiki/SES-9\"},\"static_fire_date_utc\":\"2016-10-02T14:11:00.000Z\",\"static_fire_date_unix\":1475417460,\"net\":false,\"window\":5400,\"rocket\":\"5e9d0d95eda69973a809d1ec\",\"success\":true,\"failures\":[],\"details\":\"Second launch of the enhanced Falcon 9 Full Thrust launch vehicle. Following the launch, SpaceX attempted an experimental landing test to a drone ship, although a successful landing was not expected because launch mass exceeded previously indicated limit for a GTO there was little fuel left. As predicted, booster recovery failed: the spent first stage \\\\\"landed hard\\\\\", but the controlled-descent, atmospheric re-entry and navigation to the drone ship were successful and returned significant test data on bringing back high-energy Falcon 9s.\",\"crew\":[],\"ships\":[\"5ea6ed2e080df4000697c906\",\"5ea6ed2f080df4000697c90b\",\"5ea6ed2f080df4000697c90c\",\"5ea6ed30080df4000697c913\"],\"capsules\":[],\"payloads\":[\"5eb0e4beb6c3bb0006eeb1ff\"],\"launchpad\":\"5e9e4501f509094ba4566f84\",\"flight_number\":27,\"name\":\"SES-9\",\"date_utc\":\"2016-03-04T23:35:00.000Z\",\"date_unix\":1457134500,\"date_local\":\"2016-03-04T19:35:00-04:00\",\"date_precision\":\"hour\",\"upcoming\":false,\"cores\":[{\"core\":\"5e9e28a1f359188def3b263d\",\"flight\":1,\"gridfins\":true,\"legs\":true,\"reused\":false,\"landing_attempt\":true,\"landing_success\":false,\"landing_type\":\"ASDS\",\"landpad\":\"5e9e3032383ecb6bb234e7ca\"}],\"auto_update\":true,\"tbd\":false,\"launch_library_id\":null,\"id\":\"5eb87cf2ffd86e000604b344\"},{\"fairings\":null,\"links\":{\"patch\":{\"small\":\"https://images2.imgbox.com/72/1e/mA23xHqe_o.png\",\"large\":\"https://images2.imgbox.com/36/d8/RyPKsTpC_o.png\"},\"reddit\":{\"campaign\":null,\"launch\":\"https://www.reddit.com/r/spacex/comments/4dtoly\",\"media\":\"https://www.reddit.com/r/spacex/comments/4dtpxn/\",\"recovery\":\"https://www.reddit.com/r/spacex/comments/4ee2zy\"},\"flickr\":{\"small\":[],\"original\":[\"https://farm2.staticflickr.com/1633/25788014884_6a3f9ae183_o.jpg\",\"https://farm2.staticflickr.com/1650/26300505022_8b8b9035e8_o.jpg\",\"https://farm2.staticflickr.com/1486/25787998624_3ca213be1e_o.jpg\",\"https://farm2.staticflickr.com/1450/26326628031_e1b08ec0b3_o.jpg\",\"https://farm2.staticflickr.com/1670/26239020092_05e5e4c538_o.jpg\",\"https://farm2.staticflickr.com/1709/26305479266_76b4d01caf_o.jpg\",\"https://farm2.staticflickr.com/1645/26239017922_28c7ac50e0_o.jpg\",\"https://farm2.staticflickr.com/1559/26288402056_6c5997ce66_o.jpg\",\"https://farm2.staticflickr.com/1449/25709481274_60f8c77358_o.jpg\",\"https://farm2.staticflickr.com/1671/26217360302_b66c3e384e_o.jpg\",\"https://farm2.staticflickr.com/1704/26283822056_838c1103b9_o.jpg\",\"https://farm2.staticflickr.com/1508/26217345472_118767c608_o.jpg\",\"https://farm2.staticflickr.com/1495/25916886442_821a152917_o.jpg\"]},\"presskit\":\"http://www.spacex.com/sites/spacex/files/spacex_crs8_press_kit.pdf\",\"webcast\":\"https://www.youtube.com/watch?v=7pUAydjne5M\",\"youtube_id\":\"7pUAydjne5M\",\"article\":\"https://spaceflightnow.com/2016/04/08/spacex-lands-rocket-on-floating-platform-after-station-resupply-launch/\",\"wikipedia\":\"https://en.wikipedia.org/wiki/SpaceX_CRS-8\"},\"static_fire_date_utc\":\"2016-04-05T00:00:00.000Z\",\"static_fire_date_unix\":1459814400,\"net\":false,\"window\":0,\"rocket\":\"5e9d0d95eda69973a809d1ec\",\"success\":true,\"failures\":[],\"details\":\"Dragon carried over 1500 kg of supplies and delivered (stowed in its trunk) the inflatable Bigelow Expandable Activity Module (BEAM) to the ISS for two years of in-orbit tests. The rocket\\'s first stage landed smoothly on SpaceX\\'s autonomous spaceport drone ship 9 minutes after liftoff, making this the first ever successful landing of a rocket booster on a ship at sea as part of an orbital launch. The first stage B1021 was later also the first orbital booster to be used again, when launching SES-10 on March 30, 2017.\",\"crew\":[],\"ships\":[\"5ea6ed2e080df4000697c906\",\"5ea6ed2f080df4000697c90b\",\"5ea6ed2f080df4000697c90c\",\"5ea6ed30080df4000697c912\",\"5ea6ed30080df4000697c913\"],\"capsules\":[\"5e9e2c5cf3591885d43b266d\"],\"payloads\":[\"5eb0e4bfb6c3bb0006eeb200\"],\"launchpad\":\"5e9e4501f509094ba4566f84\",\"flight_number\":28,\"name\":\"CRS-8\",\"date_utc\":\"2016-04-08T20:43:00.000Z\",\"date_unix\":1460148180,\"date_local\":\"2016-04-08T16:43:00-04:00\",\"date_precision\":\"hour\",\"upcoming\":false,\"cores\":[{\"core\":\"5e9e28a2f359182d0b3b263e\",\"flight\":1,\"gridfins\":true,\"legs\":true,\"reused\":false,\"landing_attempt\":true,\"landing_success\":true,\"landing_type\":\"ASDS\",\"landpad\":\"5e9e3032383ecb6bb234e7ca\"}],\"auto_update\":true,\"tbd\":false,\"launch_library_id\":null,\"id\":\"5eb87cf3ffd86e000604b345\"},{\"fairings\":{\"reused\":false,\"recovery_attempt\":false,\"recovered\":false,\"ships\":[]},\"links\":{\"patch\":{\"small\":\"https://images2.imgbox.com/7a/90/Zdo2mijx_o.png\",\"large\":\"https://images2.imgbox.com/2a/47/az2sxGIB_o.png\"},\"reddit\":{\"campaign\":\"https://www.reddit.com/r/spacex/comments/4gyh8z\",\"launch\":\"https://www.reddit.com/r/spacex/comments/4htenu\",\"media\":\"https://www.reddit.com/r/spacex/comments/4htg2g\",\"recovery\":\"https://www.reddit.com/r/spacex/comments/4ihp1p\"},\"flickr\":{\"small\":[],\"original\":[\"https://farm8.staticflickr.com/7340/27044931232_7b755276ec_o.jpg\",\"https://farm8.staticflickr.com/7444/27028105566_1d3413daa7_o.jpg\",\"https://farm8.staticflickr.com/7597/26778141961_e3bd237942_o.jpg\",\"https://farm8.staticflickr.com/7079/26778141661_559b48ac80_o.jpg\",\"https://farm8.staticflickr.com/7682/26778141401_c437b04b74_o.jpg\",\"https://farm8.staticflickr.com/7706/26751237322_ceb6d56235_o.jpg\",\"https://farm8.staticflickr.com/7677/26809210466_fc55835f3c_o.jpg\",\"https://farm8.staticflickr.com/7085/26809208046_d77bd31fd0_o.jpg\",\"https://farm8.staticflickr.com/7103/26809207316_cdc7d582e6_o.jpg\"]},\"presskit\":\"http://www.spacex.com/sites/spacex/files/spacex_jcsat_press_kit_final.pdf\",\"webcast\":\"https://www.youtube.com/watch?v=L0bMeDj76ig\",\"youtube_id\":\"L0bMeDj76ig\",\"article\":\"https://spaceflightnow.com/2016/05/06/falcon-9-succeeds-in-middle-of-the-night-launch/\",\"wikipedia\":\"https://en.wikipedia.org/wiki/JCSAT-2B\"},\"static_fire_date_utc\":\"2016-05-01T21:32:00.000Z\",\"static_fire_date_unix\":1462138320,\"net\":false,\"window\":7200,\"rocket\":\"5e9d0d95eda69973a809d1ec\",\"success\":true,\"failures\":[],\"details\":\"Launched the JCSAT 14 communications satellite for Tokyo-based SKY Perfect JSAT Corp. JCSAT 14 will support data networks, television broadcasters and mobile communications users in Japan, East Asia, Russia, Oceania, Hawaii and other Pacific islands. This was the first time a booster successfully landed after a GTO mission.\",\"crew\":[],\"ships\":[\"5ea6ed2e080df4000697c906\",\"5ea6ed2f080df4000697c90b\",\"5ea6ed2f080df4000697c90c\"],\"capsules\":[],\"payloads\":[\"5eb0e4bfb6c3bb0006eeb201\"],\"launchpad\":\"5e9e4501f509094ba4566f84\",\"flight_number\":29,\"name\":\"JCSAT-2B\",\"date_utc\":\"2016-05-06T05:21:00.000Z\",\"date_unix\":1462512060,\"date_local\":\"2016-05-06T01:21:00-04:00\",\"date_precision\":\"hour\",\"upcoming\":false,\"cores\":[{\"core\":\"5e9e28a2f35918077b3b263f\",\"flight\":1,\"gridfins\":true,\"legs\":true,\"reused\":false,\"landing_attempt\":true,\"landing_success\":true,\"landing_type\":\"ASDS\",\"landpad\":\"5e9e3032383ecb6bb234e7ca\"}],\"auto_update\":true,\"tbd\":false,\"launch_library_id\":null,\"id\":\"5eb87cf5ffd86e000604b346\"},{\"fairings\":{\"reused\":false,\"recovery_attempt\":false,\"recovered\":false,\"ships\":[]},\"links\":{\"patch\":{\"small\":\"https://images2.imgbox.com/fa/f2/iR1eKXrX_o.png\",\"large\":\"https://images2.imgbox.com/84/dc/Qp0wk7j1_o.png\"},\"reddit\":{\"campaign\":\"https://www.reddit.com/r/spacex/comments/4hjz4k\",\"launch\":\"https://www.reddit.com/r/spacex/comments/4l9uou\",\"media\":\"https://www.reddit.com/r/spacex/comments/4l4af1\",\"recovery\":\"https://www.reddit.com/r/spacex/comments/4lz2y6\"},\"flickr\":{\"small\":[],\"original\":[\"https://farm8.staticflickr.com/7420/26814484893_13059e4b39_o.jpg\",\"https://farm8.staticflickr.com/7321/26812794884_bf91665325_o.jpg\",\"https://farm8.staticflickr.com/7337/26812792104_9323121f0b_o.jpg\",\"https://farm8.staticflickr.com/7376/27421461715_5640d2b87a_o.jpg\",\"https://farm8.staticflickr.com/7717/26812758364_74569b4327_o.jpg\",\"https://farm8.staticflickr.com/7742/27294263035_9b43bd141c_o.jpg\",\"https://farm8.staticflickr.com/7252/27294262435_c534cc4351_o.jpg\",\"https://farm8.staticflickr.com/7698/27294261525_82c4b7e604_o.jpg\",\"https://farm8.staticflickr.com/7045/27259828166_9e32061cc9_o.jpg\",\"https://farm8.staticflickr.com/7013/27259827316_c2f7507b3d_o.jpg\",\"https://farm8.staticflickr.com/7211/27182485331_ed2414a947_o.jpg\",\"https://farm8.staticflickr.com/7740/27182481921_0d7a759736_o.jpg\",\"https://farm8.staticflickr.com/7315/26645036414_39736db559_o.jpg\"]},\"presskit\":\"http://www.spacex.com/sites/spacex/files/spacex_thaicom_8_press_kit.pdf\",\"webcast\":\"https://www.youtube.com/watch?v=zBYC4f79iXc\",\"youtube_id\":\"zBYC4f79iXc\",\"article\":\"https://spaceflightnow.com/2016/05/27/spacex-logs-successful-late-afternoon-launch-for-thaicom/\",\"wikipedia\":\"https://en.wikipedia.org/wiki/Thaicom_8\"},\"static_fire_date_utc\":\"2016-05-25T00:00:00.000Z\",\"static_fire_date_unix\":1464134400,\"net\":false,\"window\":7200,\"rocket\":\"5e9d0d95eda69973a809d1ec\",\"success\":true,\"failures\":[],\"details\":\"Manufactured by Orbital ATK, the 3,100-kilogram (6,800 lb) Thaicom 8 communications satellite will serve Thailand, India and Africa from the 78.5\\xc2\\xb0 East geostationary location. It is equipped with 24 active Ku-band transponders.\",\"crew\":[],\"ships\":[\"5ea6ed2e080df4000697c906\",\"5ea6ed2f080df4000697c90b\",\"5ea6ed2f080df4000697c90c\",\"5ea6ed30080df4000697c913\"],\"capsules\":[],\"payloads\":[\"5eb0e4bfb6c3bb0006eeb202\"],\"launchpad\":\"5e9e4501f509094ba4566f84\",\"flight_number\":30,\"name\":\"Thaicom 8\",\"date_utc\":\"2016-05-27T21:39:00.000Z\",\"date_unix\":1464385140,\"date_local\":\"2016-05-27T17:39:00-04:00\",\"date_precision\":\"hour\",\"upcoming\":false,\"cores\":[{\"core\":\"5e9e28a2f3591845c73b2640\",\"flight\":1,\"gridfins\":true,\"legs\":true,\"reused\":false,\"landing_attempt\":true,\"landing_success\":true,\"landing_type\":\"ASDS\",\"landpad\":\"5e9e3032383ecb6bb234e7ca\"}],\"auto_update\":true,\"tbd\":false,\"launch_library_id\":null,\"id\":\"5eb87cf6ffd86e000604b347\"},{\"fairings\":{\"reused\":false,\"recovery_attempt\":false,\"recovered\":false,\"ships\":[]},\"links\":{\"patch\":{\"small\":\"https://images2.imgbox.com/36/a4/J5gJWxuC_o.png\",\"large\":\"https://images2.imgbox.com/c6/d2/MIC8sIE4_o.png\"},\"reddit\":{\"campaign\":\"https://www.reddit.com/r/spacex/comments/4ksdy3\",\"launch\":\"https://www.reddit.com/r/spacex/comments/4o5u6r\",\"media\":\"https://www.reddit.com/r/spacex/comments/4o5j6o\",\"recovery\":\"https://www.reddit.com/r/spacex/comments/4on75l\"},\"flickr\":{\"small\":[],\"original\":[\"https://farm8.staticflickr.com/7088/27661326426_ce3c3f320d_o.jpg\",\"https://farm8.staticflickr.com/7698/27661325446_affb08be24_o.jpg\",\"https://farm8.staticflickr.com/7733/27661322976_073466e80c_o.jpg\",\"https://farm8.staticflickr.com/7218/27661320706_4c16f3b76b_o.jpg\",\"https://farm8.staticflickr.com/7340/27661315686_6dcb2ce6f9_o.jpg\",\"https://farm8.staticflickr.com/7656/27661313956_e1ac9650b9_o.jpg\",\"https://farm8.staticflickr.com/7616/27661312516_640764f8fd_o.jpg\",\"https://farm8.staticflickr.com/7413/27078893234_0142dd80f0_o.jpg\",\"https://farm8.staticflickr.com/7334/27078889924_8819fd55ea_o.jpg\"]},\"presskit\":\"https://drive.google.com/open?id=0BwA3a65ef1OvMGpJSlpDNHhjelU\",\"webcast\":\"https://www.youtube.com/watch?v=gLNmtUEvI5A\",\"youtube_id\":\"gLNmtUEvI5A\",\"article\":\"https://spaceflightnow.com/2016/06/15/spacex-successfully-fires-satellites-into-orbit-but-loses-booster-on-landing/\",\"wikipedia\":\"https://en.wikipedia.org/wiki/ABS_(satellite_operator)\"},\"static_fire_date_utc\":\"2016-06-13T15:03:00.000Z\",\"static_fire_date_unix\":1465830180,\"net\":false,\"window\":2700,\"rocket\":\"5e9d0d95eda69973a809d1ec\",\"success\":true,\"failures\":[],\"details\":\"One year after pioneering this technique on flight 16, Falcon again launched two Boeing 702SP gridded ion thruster satellites in a dual-stack configuration, with the two customers sharing the rocket and mission costs. First stage landing attempt on drone ship failed on landing due to low thrust on one of the three landing engines.\",\"crew\":[],\"ships\":[\"5ea6ed2e080df4000697c906\",\"5ea6ed2f080df4000697c90b\",\"5ea6ed2f080df4000697c90c\",\"5ea6ed30080df4000697c913\"],\"capsules\":[],\"payloads\":[\"5eb0e4bfb6c3bb0006eeb203\",\"5eb0e4bfb6c3bb0006eeb204\"],\"launchpad\":\"5e9e4501f509094ba4566f84\",\"flight_number\":31,\"name\":\"ABS-2A / Eutelsat 117W B\",\"date_utc\":\"2016-06-15T14:29:00.000Z\",\"date_unix\":1466000940,\"date_local\":\"2016-06-15T10:29:00-04:00\",\"date_precision\":\"hour\",\"upcoming\":false,\"cores\":[{\"core\":\"5e9e28a2f359184f403b2641\",\"flight\":1,\"gridfins\":true,\"legs\":true,\"reused\":false,\"landing_attempt\":true,\"landing_success\":false,\"landing_type\":\"ASDS\",\"landpad\":\"5e9e3032383ecb6bb234e7ca\"}],\"auto_update\":true,\"tbd\":false,\"launch_library_id\":null,\"id\":\"5eb87cf8ffd86e000604b348\"},{\"fairings\":null,\"links\":{\"patch\":{\"small\":\"https://images2.imgbox.com/bb/0d/aLsm9QDC_o.png\",\"large\":\"https://images2.imgbox.com/56/af/b7fNzZGo_o.png\"},\"reddit\":{\"campaign\":\"https://www.reddit.com/r/spacex/comments/4ksedl\",\"launch\":\"https://www.reddit.com/r/spacex/comments/4t2umd/\",\"media\":\"https://www.reddit.com/r/spacex/comments/4tayth\",\"recovery\":\"https://www.reddit.com/r/spacex/comments/4znsvo\"},\"flickr\":{\"small\":[],\"original\":[\"https://farm9.staticflickr.com/8819/27776240293_fcbf8c4a0a_o.jpg\",\"https://farm8.staticflickr.com/7720/27776237513_038971797c_o.jpg\",\"https://farm8.staticflickr.com/7594/27776235133_d794ce01f4_o.jpg\",\"https://farm8.staticflickr.com/7759/27776229243_a0674e590f_o.jpg\",\"https://farm8.staticflickr.com/7512/27776228443_6652c6baea_o.jpg\",\"https://farm9.staticflickr.com/8038/27776218453_34112abbc1_o.jpg\",\"https://farm8.staticflickr.com/7636/27776215913_3f9f1b05df_o.jpg\",\"https://farm8.staticflickr.com/7740/28358960896_9785456101_o.jpg\",\"https://farm8.staticflickr.com/7488/27776206663_262526ba5f_o.jpg\",\"https://farm8.staticflickr.com/7656/28358955546_ce55d65e16_o.jpg\",\"https://farm8.staticflickr.com/7467/27776204693_68b4ed82c9_o.jpg\",\"https://farm8.staticflickr.com/7693/28348649546_0a54b1aa44_o.jpg\",\"https://farm8.staticflickr.com/7540/28291786662_5e2e874576_o.jpg\"]},\"presskit\":\"https://drive.google.com/open?id=0BwA3a65ef1OvM0JpSXdDUUJMRVk\",\"webcast\":\"https://www.youtube.com/watch?v=ThIdCuSsJh8\",\"youtube_id\":\"ThIdCuSsJh8\",\"article\":\"https://spaceflightnow.com/2016/07/18/spacex-sends-supplies-to-space-station-lands-another-falcon-rocket/\",\"wikipedia\":\"https://en.wikipedia.org/wiki/SpaceX_CRS-9\"},\"static_fire_date_utc\":\"2016-07-16T02:31:47.000Z\",\"static_fire_date_unix\":1468636307,\"net\":false,\"window\":0,\"rocket\":\"5e9d0d95eda69973a809d1ec\",\"success\":true,\"failures\":[],\"details\":\"Among other cargo, an International Docking Adapter (IDA-2) was carried to the ISS. This mission had a successful first-stage landing at Cape Canaveral.*Including the reusable Dragon Capsule, total payload to orbit was 6457 kg.\",\"crew\":[],\"ships\":[\"5ea6ed2e080df4000697c906\",\"5ea6ed2f080df4000697c90b\",\"5ea6ed2f080df4000697c90c\",\"5ea6ed30080df4000697c912\"],\"capsules\":[\"5e9e2c5cf359183bb73b266e\"],\"payloads\":[\"5eb0e4c0b6c3bb0006eeb205\"],\"launchpad\":\"5e9e4501f509094ba4566f84\",\"flight_number\":32,\"name\":\"CRS-9\",\"date_utc\":\"2016-07-18T04:45:00.000Z\",\"date_unix\":1468817100,\"date_local\":\"2016-07-18T00:45:00-04:00\",\"date_precision\":\"hour\",\"upcoming\":false,\"cores\":[{\"core\":\"5e9e28a2f359187f273b2642\",\"flight\":1,\"gridfins\":true,\"legs\":true,\"reused\":false,\"landing_attempt\":true,\"landing_success\":true,\"landing_type\":\"RTLS\",\"landpad\":\"5e9e3032383ecb267a34e7c7\"}],\"auto_update\":true,\"tbd\":false,\"launch_library_id\":null,\"id\":\"5eb87cf9ffd86e000604b349\"},{\"fairings\":{\"reused\":false,\"recovery_attempt\":false,\"recovered\":false,\"ships\":[]},\"links\":{\"patch\":{\"small\":\"https://images2.imgbox.com/22/cc/DjPcsMhb_o.png\",\"large\":\"https://images2.imgbox.com/0b/3e/aQpLZQHt_o.png\"},\"reddit\":{\"campaign\":\"https://www.reddit.com/r/spacex/comments/4pv6ws\",\"launch\":\"https://www.reddit.com/r/spacex/comments/4xi7uq\",\"media\":\"https://www.reddit.com/r/spacex/comments/4xkdfj\",\"recovery\":\"https://www.reddit.com/r/spacex/comments/4y5xd1\"},\"flickr\":{\"small\":[],\"original\":[\"https://farm9.staticflickr.com/8699/28965678292_17533229f3_o.jpg\",\"https://farm9.staticflickr.com/8173/28453337463_b9d11eeb4c_o.jpg\",\"https://farm8.staticflickr.com/7793/28453335533_3f5a0a5760_o.jpg\",\"https://farm9.staticflickr.com/8784/28938085496_74b3fd0527_o.jpg\",\"https://farm9.staticflickr.com/8337/28969742675_15f78369a1_o.jpg\",\"https://farm9.staticflickr.com/8691/28353012603_ab83b6f5aa_o.jpg\",\"https://farm9.staticflickr.com/8078/28351782813_58ca783e51_o.jpg\"]},\"presskit\":\"https://drive.google.com/open?id=0BwA3a65ef1Ovb0FkYnE5dElZRlU\",\"webcast\":\"https://www.youtube.com/watch?v=QZTCEO0gvLo\",\"youtube_id\":\"QZTCEO0gvLo\",\"article\":\"https://spaceflightnow.com/2016/08/14/falcon-9-rocket-launches-japanese-satellite-then-nails-bullseye-landing/\",\"wikipedia\":\"https://en.wikipedia.org/wiki/JCSAT-16\"},\"static_fire_date_utc\":\"2016-08-11T04:01:00.000Z\",\"static_fire_date_unix\":1470888060,\"net\":false,\"window\":7200,\"rocket\":\"5e9d0d95eda69973a809d1ec\",\"success\":true,\"failures\":[],\"details\":\"First attempt to touch down from a ballistic trajectory using a single-engine landing burn. All previous landings from a ballistic trajectory had fired three engines on the landing-burn, which provided more braking force, but subjected the vehicle to greater structural stresses. The single-engine landing burn takes more time and fuel, but puts less stress on the vehicle.\",\"crew\":[],\"ships\":[\"5ea6ed2e080df4000697c906\",\"5ea6ed2f080df4000697c90b\",\"5ea6ed2f080df4000697c90c\",\"5ea6ed30080df4000697c913\"],\"capsules\":[],\"payloads\":[\"5eb0e4c1b6c3bb0006eeb206\"],\"launchpad\":\"5e9e4501f509094ba4566f84\",\"flight_number\":33,\"name\":\"JCSAT-16\",\"date_utc\":\"2016-08-14T05:26:00.000Z\",\"date_unix\":1471152360,\"date_local\":\"2016-08-14T01:26:00-04:00\",\"date_precision\":\"hour\",\"upcoming\":false,\"cores\":[{\"core\":\"5e9e28a2f35918b8243b2643\",\"flight\":1,\"gridfins\":true,\"legs\":true,\"reused\":false,\"landing_attempt\":true,\"landing_success\":true,\"landing_type\":\"ASDS\",\"landpad\":\"5e9e3032383ecb6bb234e7ca\"}],\"auto_update\":true,\"tbd\":false,\"launch_library_id\":null,\"id\":\"5eb87cfaffd86e000604b34a\"},{\"fairings\":{\"reused\":false,\"recovery_attempt\":false,\"recovered\":false,\"ships\":[]},\"links\":{\"patch\":{\"small\":\"https://images2.imgbox.com/0d/5b/8X01C3ov_o.png\",\"large\":\"https://images2.imgbox.com/ff/19/KCI4DVla_o.png\"},\"reddit\":{\"campaign\":\"https://www.reddit.com/r/spacex/comments/4pv7jl\",\"launch\":null,\"media\":null,\"recovery\":null},\"flickr\":{\"small\":[],\"original\":[]},\"presskit\":null,\"webcast\":\"https://www.youtube.com/watch?v=_BgJEXQkjNQ\",\"youtube_id\":\"_BgJEXQkjNQ\",\"article\":\"https://spaceflightnow.com/2016/09/01/spacex-rocket-and-israeli-satellite-destroyed-in-launch-pad-explosion/\",\"wikipedia\":\"https://en.wikipedia.org/wiki/Amos-6\"},\"static_fire_date_utc\":\"2016-09-01T13:07:00.000Z\",\"static_fire_date_unix\":1472735220,\"net\":false,\"window\":null,\"rocket\":\"5e9d0d95eda69973a809d1ec\",\"success\":false,\"failures\":[{\"time\":-165180,\"altitude\":0,\"reason\":\"buckled liner in several of the COPV tanks, causing perforations that allowed liquid and/or solid oxygen to accumulate underneath the lining, which was ignited by friction.\"}],\"details\":\"The rocket and Amos-6 payload were lost in a launch pad explosion on September 1, 2016 during propellant fill prior to a static fire test. The pad was clear of personnel and there were no injuries.\",\"crew\":[],\"ships\":[],\"capsules\":[],\"payloads\":[\"5eb0e4c1b6c3bb0006eeb207\"],\"launchpad\":\"5e9e4501f509094ba4566f84\",\"flight_number\":34,\"name\":\"Amos-6\",\"date_utc\":\"2016-09-01T13:07:00.000Z\",\"date_unix\":1472735220,\"date_local\":\"2016-09-01T09:07:00-04:00\",\"date_precision\":\"hour\",\"upcoming\":false,\"cores\":[{\"core\":\"5e9e28a2f359187ee83b2644\",\"flight\":1,\"gridfins\":true,\"legs\":true,\"reused\":false,\"landing_attempt\":true,\"landing_success\":null,\"landing_type\":\"ASDS\",\"landpad\":\"5e9e3032383ecb6bb234e7ca\"}],\"auto_update\":true,\"tbd\":false,\"launch_library_id\":null,\"id\":\"5eb87cfbffd86e000604b34b\"},{\"fairings\":{\"reused\":false,\"recovery_attempt\":false,\"recovered\":false,\"ships\":[]},\"links\":{\"patch\":{\"small\":\"https://images2.imgbox.com/89/2a/bkI6LN0R_o.png\",\"large\":\"https://images2.imgbox.com/24/c3/9MKjvOdD_o.png\"},\"reddit\":{\"campaign\":\"https://www.reddit.com/r/spacex/comments/5dii6z\",\"launch\":\"https://www.reddit.com/r/spacex/comments/5nsaqm\",\"media\":\"https://www.reddit.com/r/spacex/comments/5nsico\",\"recovery\":\"https://www.reddit.com/r/spacex/comments/5oe9kk\"},\"flickr\":{\"small\":[],\"original\":[\"https://farm1.staticflickr.com/658/32394688795_55a9873ea7_o.jpg\",\"https://farm1.staticflickr.com/506/32394688095_a3339f3c6d_o.jpg\",\"https://farm1.staticflickr.com/745/32394687645_63ae2b4740_o.jpg\",\"https://farm1.staticflickr.com/318/31548291014_e3a30abca8_o.jpg\",\"https://farm1.staticflickr.com/670/32351549066_e9cffe8d2b_o.jpg\",\"https://farm6.staticflickr.com/5518/31579784413_83aeac560a_o.jpg\",\"https://farm6.staticflickr.com/5556/32312421135_22c197c156_o.jpg\",\"https://farm1.staticflickr.com/529/32312420015_5d2403a847_o.jpg\",\"https://farm1.staticflickr.com/435/32312417695_19c0e50c4b_o.jpg\",\"https://farm1.staticflickr.com/735/32312416415_b90892af0a_o.jpg\",\"https://farm1.staticflickr.com/293/32312415025_cae16d1994_o.jpg\",\"https://farm1.staticflickr.com/738/31467130724_92e02c9524_o.jpg\",\"https://farm1.staticflickr.com/464/31467130374_9f7a7d380e_o.jpg\",\"https://farm1.staticflickr.com/581/31467129424_bac77d594a_o.jpg\",\"https://farm1.staticflickr.com/380/32308163845_c1731a4b1f_o.jpg\",\"https://farm1.staticflickr.com/447/31450835954_72ed10a19e_o.jpg\",\"https://farm1.staticflickr.com/507/31450834974_b8a3f4aca5_o.jpg\"]},\"presskit\":\"https://drive.google.com/open?id=0BwA3a65ef1OvZC1aU3FuMlQzalE\",\"webcast\":\"https://www.youtube.com/watch?v=7WimRhydggo\",\"youtube_id\":\"7WimRhydggo\",\"article\":\"https://spaceflightnow.com/2017/01/14/spacex-resumes-flights-with-on-target-launch-for-iridium/\",\"wikipedia\":\"https://en.wikipedia.org/wiki/Iridium_satellite_constellation#Next-generation_constellation\"},\"static_fire_date_utc\":\"2017-01-05T19:40:00.000Z\",\"static_fire_date_unix\":1483645200,\"net\":false,\"window\":0,\"rocket\":\"5e9d0d95eda69973a809d1ec\",\"success\":true,\"failures\":[],\"details\":\"Return-to-flight mission after the loss of Amos-6 in September 2016. Iridium NEXT will replace the original Iridium constellation, launched in the late 1990s. Each Falcon mission will carry 10 satellites, with a goal to complete deployment of the 66 plus 9 spare satellite constellation by mid 2018. The first two Iridium qualification units were supposed to ride a Dnepr rocket in April 2016 but were delayed, so Iridium decided to qualify the first batch of 10 satellites instead.\",\"crew\":[],\"ships\":[\"5ea6ed2f080df4000697c910\",\"5ea6ed30080df4000697c912\",\"5ea6ed30080df4000697c915\"],\"capsules\":[],\"payloads\":[\"5eb0e4c2b6c3bb0006eeb208\"],\"launchpad\":\"5e9e4502f509092b78566f87\",\"flight_number\":35,\"name\":\"Iridium NEXT Mission 1\",\"date_utc\":\"2017-01-14T17:54:00.000Z\",\"date_unix\":1484416440,\"date_local\":\"2017-01-14T10:54:00-07:00\",\"date_precision\":\"hour\",\"upcoming\":false,\"cores\":[{\"core\":\"5e9e28a3f359189e3a3b2645\",\"flight\":1,\"gridfins\":true,\"legs\":true,\"reused\":false,\"landing_attempt\":true,\"landing_success\":true,\"landing_type\":\"ASDS\",\"landpad\":\"5e9e3033383ecbb9e534e7cc\"}],\"auto_update\":true,\"tbd\":false,\"launch_library_id\":null,\"id\":\"5eb87cfdffd86e000604b34c\"},{\"fairings\":null,\"links\":{\"patch\":{\"small\":\"https://images2.imgbox.com/11/eb/qqrhHFhv_o.png\",\"large\":\"https://images2.imgbox.com/ea/43/D4tA0WaM_o.png\"},\"reddit\":{\"campaign\":\"https://www.reddit.com/r/spacex/comments/5n2eqx\",\"launch\":\"https://www.reddit.com/r/spacex/comments/5uw4bh\",\"media\":\"https://www.reddit.com/r/spacex/comments/5uoy8o\",\"recovery\":\"https://www.reddit.com/r/spacex/comments/609aq4\"},\"flickr\":{\"small\":[],\"original\":[\"https://farm3.staticflickr.com/2815/32761844973_d2e8d76e9c_o.jpg\",\"https://farm4.staticflickr.com/3878/32761843663_8e366494f4_o.jpg\",\"https://farm3.staticflickr.com/2790/32852846842_6f1f7b26b9_o.jpg\",\"https://farm3.staticflickr.com/2295/32852845662_e7ae0daf4a_o.jpg\",\"https://farm4.staticflickr.com/3888/33000639155_2a6e2bb23d_o.jpg\",\"https://farm1.staticflickr.com/405/33000638185_b4ec7c7b93_o.jpg\",\"https://farm1.staticflickr.com/574/32874779241_9f463de901_o.jpg\",\"https://farm4.staticflickr.com/3710/32153433074_96337a54db_o.jpg\",\"https://farm1.staticflickr.com/327/32153432924_09dd1482d8_o.jpg\",\"https://farm3.staticflickr.com/2881/32183025803_36bf976b9e_o.jpg\",\"https://farm3.staticflickr.com/2362/32183025493_2a37b4e22c_o.jpg\",\"https://farm1.staticflickr.com/504/32178458813_ff47f61bb9_o.jpg\",\"https://farm1.staticflickr.com/265/32176806823_879ccc5da0_o.jpg\",\"https://farm1.staticflickr.com/401/32866357531_69c6d289ed_o.jpg\",\"https://farm3.staticflickr.com/2105/32945170805_553d45ca56_o.jpg\",\"https://farm4.staticflickr.com/3865/32945170225_58129f00dc_o.jpg\"]},\"presskit\":\"http://www.spacex.com/sites/spacex/files/crs10presskitfinal.pdf\",\"webcast\":\"https://www.youtube.com/watch?v=giNhaEzv_PI\",\"youtube_id\":\"giNhaEzv_PI\",\"article\":\"https://spaceflightnow.com/2017/02/19/historic-launch-pad-back-in-service-with-thundering-blastoff-by-spacex/\",\"wikipedia\":\"https://en.wikipedia.org/wiki/SpaceX_CRS-10\"},\"static_fire_date_utc\":\"2017-02-12T21:30:00.000Z\",\"static_fire_date_unix\":1486935000,\"net\":false,\"window\":0,\"rocket\":\"5e9d0d95eda69973a809d1ec\",\"success\":true,\"failures\":[],\"details\":\"First Falcon 9 flight from the historic LC-39A launchpad at Kennedy Space Center, carrying supplies and materials to support dozens of science and research investigations scheduled during ISS Expeditions 50 and 51. The first stage returned to launch site and landed at LZ-1.\",\"crew\":[],\"ships\":[\"5ea6ed30080df4000697c912\"],\"capsules\":[\"5e9e2c5cf359185d753b266f\"],\"payloads\":[\"5eb0e4c3b6c3bb0006eeb209\"],\"launchpad\":\"5e9e4502f509094188566f88\",\"flight_number\":36,\"name\":\"CRS-10\",\"date_utc\":\"2017-02-19T14:39:00.000Z\",\"date_unix\":1487515140,\"date_local\":\"2017-02-19T10:39:00-04:00\",\"date_precision\":\"hour\",\"upcoming\":false,\"cores\":[{\"core\":\"5e9e28a3f3591829dc3b2646\",\"flight\":1,\"gridfins\":true,\"legs\":true,\"reused\":false,\"landing_attempt\":true,\"landing_success\":true,\"landing_type\":\"RTLS\",\"landpad\":\"5e9e3032383ecb267a34e7c7\"}],\"auto_update\":true,\"tbd\":false,\"launch_library_id\":null,\"id\":\"5eb87cfeffd86e000604b34d\"},{\"fairings\":{\"reused\":false,\"recovery_attempt\":false,\"recovered\":false,\"ships\":[]},\"links\":{\"patch\":{\"small\":\"https://images2.imgbox.com/56/9d/gvzAqLFg_o.png\",\"large\":\"https://images2.imgbox.com/52/a0/z8Dwflcz_o.png\"},\"reddit\":{\"campaign\":\"https://www.reddit.com/r/spacex/comments/5n2e10/echostar_23_launch_campaign_thread/\",\"launch\":\"https://www.reddit.com/r/spacex/comments/5z8dkm/welcome_to_the_rspacex_echostar23_official_launch/\",\"media\":\"https://www.reddit.com/r/spacex/comments/5z8if6/rspacex_echostar_23_media_thread_videos_images/\",\"recovery\":null},\"flickr\":{\"small\":[],\"original\":[\"https://farm4.staticflickr.com/3819/33094074350_ae56bd5c73_o.jpg\",\"https://farm3.staticflickr.com/2935/33094073720_92234ddaee_o.jpg\",\"https://farm1.staticflickr.com/768/33094072690_31a85e82ba_o.jpg\",\"https://farm3.staticflickr.com/2876/33094072100_546090a4f3_o.jpg\",\"https://farm3.staticflickr.com/2860/32626053254_d702922d87_o.jpg\",\"https://farm3.staticflickr.com/2904/32654666113_ba833971e0_o.jpg\",\"https://farm1.staticflickr.com/677/32654665263_751d29ded1_o.jpg\",\"https://farm3.staticflickr.com/2936/33299697331_09313ac49d_o.jpg\"]},\"presskit\":\"http://www.spacex.com/sites/spacex/files/echostarxxiiifinal.pdf\",\"webcast\":\"https://www.youtube.com/watch?v=lZmqbL-hz7U\",\"youtube_id\":\"lZmqbL-hz7U\",\"article\":\"http://spacenews.com/spacex-launches-echostar-23/\",\"wikipedia\":\"https://en.wikipedia.org/wiki/EchoStar#Satellite_fleet\"},\"static_fire_date_utc\":\"2017-03-09T23:00:00.000Z\",\"static_fire_date_unix\":1489100400,\"net\":false,\"window\":9000,\"rocket\":\"5e9d0d95eda69973a809d1ec\",\"success\":true,\"failures\":[],\"details\":\"Communications satellite for EchoStar Corp. EchoStar XXIII, based on a spare platform from the cancelled CMBStar 1 satellite program, will provide direct-to-home television broadcast services over Brazil. There was no attempt at a first-stage recovery so this rocket did not have landing legs or grid fins.\",\"crew\":[],\"ships\":[],\"capsules\":[],\"payloads\":[\"5eb0e4c3b6c3bb0006eeb20a\"],\"launchpad\":\"5e9e4502f509094188566f88\",\"flight_number\":37,\"name\":\"EchoStar 23\",\"date_utc\":\"2017-03-16T06:00:00.000Z\",\"date_unix\":1489644000,\"date_local\":\"2017-03-16T02:00:00-04:00\",\"date_precision\":\"hour\",\"upcoming\":false,\"cores\":[{\"core\":\"5e9e28a3f3591878473b2647\",\"flight\":1,\"gridfins\":false,\"legs\":false,\"reused\":false,\"landing_attempt\":false,\"landing_success\":null,\"landing_type\":null,\"landpad\":null}],\"auto_update\":true,\"tbd\":false,\"launch_library_id\":null,\"id\":\"5eb87cfeffd86e000604b34e\"},{\"fairings\":{\"reused\":false,\"recovery_attempt\":false,\"recovered\":false,\"ships\":[]},\"links\":{\"patch\":{\"small\":\"https://images2.imgbox.com/d0/c4/DFQ5TdPz_o.png\",\"large\":\"https://images2.imgbox.com/9c/cf/tRe9z6t8_o.png\"},\"reddit\":{\"campaign\":\"https://www.reddit.com/r/spacex/comments/5sjrzj/ses10_launch_campaign_thread/\",\"launch\":\"https://www.reddit.com/r/spacex/comments/62aqi7/rspacex_ses10_official_launch_discussion_updates/\",\"media\":\"https://www.reddit.com/r/spacex/comments/62aqad/rspacex_ses10_media_thread_videos_images_gifs/\",\"recovery\":\"https://www.reddit.com/r/spacex/comments/634gmr/b1021ses10_recovery_thread/\"},\"flickr\":{\"small\":[],\"original\":[\"https://farm1.staticflickr.com/601/33026465643_462ef7a2cb_o.jpg\",\"https://farm3.staticflickr.com/2850/32996438264_b79ca3664b_o.jpg\",\"https://farm4.staticflickr.com/3956/32996437434_4dab1ae8e3_o.jpg\",\"https://farm4.staticflickr.com/3831/32996435084_6c5662caca_o.jpg\",\"https://farm4.staticflickr.com/3775/32915200224_b6ecfabd7e_o.jpg\",\"https://farm4.staticflickr.com/3886/32915199874_b826eac153_o.jpg\",\"https://farm3.staticflickr.com/2842/32915199514_6c44178e87_o.jpg\",\"https://farm4.staticflickr.com/3771/32915198904_2df85aed05_o.jpg\",\"https://farm4.staticflickr.com/3668/32915198334_d2fa2f16ab_o.jpg\",\"https://farm4.staticflickr.com/3955/32915197674_24d6e27cf5_o.jpg\",\"https://farm4.staticflickr.com/3830/33616913981_f04b6e2351_o.jpg\",\"https://farm4.staticflickr.com/3819/33616913111_e699b48d66_o.jpg\",\"https://farm4.staticflickr.com/3835/33361035860_c57ed61239_o.jpg\",\"https://farm4.staticflickr.com/3783/33361035200_bfb797d38f_o.jpg\",\"https://farm4.staticflickr.com/3698/33611796351_54d5a6d65a_o.jpg\",\"https://farm3.staticflickr.com/2857/33611795531_82cc2d8789_o.jpg\"]},\"presskit\":\"http://www.spacex.com/sites/spacex/files/finalses10presskit.pdf\",\"webcast\":\"https://www.youtube.com/watch?v=xsZSXav4wI8\",\"youtube_id\":\"xsZSXav4wI8\",\"article\":\"https://spaceflightnow.com/2017/03/31/spacex-flies-rocket-for-second-time-in-historic-test-of-cost-cutting-technology/\",\"wikipedia\":\"https://en.wikipedia.org/wiki/SES-10\"},\"static_fire_date_utc\":\"2017-03-27T18:00:00.000Z\",\"static_fire_date_unix\":1490637600,\"net\":false,\"window\":9000,\"rocket\":\"5e9d0d95eda69973a809d1ec\",\"success\":true,\"failures\":[],\"details\":\"First payload to fly on a reused first stage, B1021, previously launched with CRS-8, which also landed a second time. In what is also a first, the payload fairing remained intact after a successful splashdown achieved with thrusters and a steerable parachute.\",\"crew\":[],\"ships\":[\"5ea6ed2e080df4000697c906\",\"5ea6ed2f080df4000697c90b\",\"5ea6ed2f080df4000697c90c\",\"5ea6ed30080df4000697c913\"],\"capsules\":[],\"payloads\":[\"5eb0e4c3b6c3bb0006eeb20b\"],\"launchpad\":\"5e9e4502f509094188566f88\",\"flight_number\":38,\"name\":\"SES-10\",\"date_utc\":\"2017-03-30T22:27:00.000Z\",\"date_unix\":1490912820,\"date_local\":\"2017-03-30T18:27:00-04:00\",\"date_precision\":\"hour\",\"upcoming\":false,\"cores\":[{\"core\":\"5e9e28a2f359182d0b3b263e\",\"flight\":2,\"gridfins\":true,\"legs\":true,\"reused\":true,\"landing_attempt\":true,\"landing_success\":true,\"landing_type\":\"ASDS\",\"landpad\":\"5e9e3032383ecb6bb234e7ca\"}],\"auto_update\":true,\"tbd\":false,\"launch_library_id\":null,\"id\":\"5eb87d00ffd86e000604b34f\"},{\"fairings\":{\"reused\":false,\"recovery_attempt\":false,\"recovered\":false,\"ships\":[]},\"links\":{\"patch\":{\"small\":\"https://images2.imgbox.com/e5/2d/IZB4g6Ra_o.png\",\"large\":\"https://images2.imgbox.com/9d/76/kMetaHqz_o.png\"},\"reddit\":{\"campaign\":\"https://www.reddit.com/r/spacex/comments/601ykx\",\"launch\":\"https://www.reddit.com/r/spacex/comments/68bn8y/\",\"media\":\"https://www.reddit.com/r/spacex/comments/68bpii\",\"recovery\":null},\"flickr\":{\"small\":[],\"original\":[\"https://farm3.staticflickr.com/2922/33578359423_4169ac8f98_o.jpg\",\"https://farm3.staticflickr.com/2900/33578357343_85c247ebce_o.jpg\",\"https://farm5.staticflickr.com/4166/34006001860_8c45f28e69_o.jpg\",\"https://farm5.staticflickr.com/4166/34005999880_77684dba4b_o.jpg\",\"https://farm3.staticflickr.com/2934/34005998140_c77076b6fb_o.jpg\",\"https://farm5.staticflickr.com/4191/34005996220_fe9e4342d3_o.jpg\",\"https://farm3.staticflickr.com/2883/33575654563_699c544776_o.jpg\",\"https://farm3.staticflickr.com/2902/33575652913_0dece34db4_o.jpg\",\"https://farm5.staticflickr.com/4163/33575651063_24e05826c5_o.jpg\",\"https://farm3.staticflickr.com/2876/33994851620_fabd14770f_o.jpg\",\"https://farm3.staticflickr.com/2832/33973172140_b370b79c51_o.jpg\",\"https://farm3.staticflickr.com/2874/34357262105_11b417bea2_o.jpg\",\"https://farm5.staticflickr.com/4158/34357260545_16870a94ba_o.jpg\"]},\"presskit\":\"http://www.spacex.com/sites/spacex/files/nrol76presskit.pdf\",\"webcast\":\"https://www.youtube.com/watch?v=EzQpkQ1etdA\",\"youtube_id\":\"EzQpkQ1etdA\",\"article\":\"https://techcrunch.com/2017/05/01/spacex-successfully-launches-nrol-76-u-s-military-satellite/\",\"wikipedia\":\"https://en.wikipedia.org/wiki/List_of_NRO_launches\"},\"static_fire_date_utc\":\"2017-04-25T19:02:00.000Z\",\"static_fire_date_unix\":1493146920,\"net\":false,\"window\":7200,\"rocket\":\"5e9d0d95eda69973a809d1ec\",\"success\":true,\"failures\":[],\"details\":\"First launch under SpaceX\\'s certification for national security space missions, which allows SpaceX to contract launch services for classified payloads. Second-stage speed and altitude telemetry were omitted from the launch webcast, which displayed first-stage telemetry instead, with continuous tracking of the booster from liftoff to landing for the first time.\",\"crew\":[],\"ships\":[\"5ea6ed2f080df4000697c90c\"],\"capsules\":[],\"payloads\":[\"5eb0e4c3b6c3bb0006eeb20c\"],\"launchpad\":\"5e9e4502f509094188566f88\",\"flight_number\":39,\"name\":\"NROL-76\",\"date_utc\":\"2017-05-01T11:15:00.000Z\",\"date_unix\":1493637300,\"date_local\":\"2017-05-01T07:15:00-04:00\",\"date_precision\":\"hour\",\"upcoming\":false,\"cores\":[{\"core\":\"5e9e28a3f3591811f83b2648\",\"flight\":1,\"gridfins\":true,\"legs\":true,\"reused\":false,\"landing_attempt\":true,\"landing_success\":true,\"landing_type\":\"RTLS\",\"landpad\":\"5e9e3032383ecb267a34e7c7\"}],\"auto_update\":true,\"tbd\":false,\"launch_library_id\":null,\"id\":\"5eb87d01ffd86e000604b350\"},{\"fairings\":{\"reused\":false,\"recovery_attempt\":false,\"recovered\":false,\"ships\":[]},\"links\":{\"patch\":{\"small\":\"https://images2.imgbox.com/ab/8d/fUpriAbI_o.png\",\"large\":\"https://images2.imgbox.com/5b/f7/30l0xVXG_o.png\"},\"reddit\":{\"campaign\":\"https://www.reddit.com/r/spacex/comments/64kguj/\",\"launch\":\"https://www.reddit.com/r/spacex/comments/6b88hz/\",\"media\":\"https://www.reddit.com/r/spacex/comments/6bcf8j/\",\"recovery\":null},\"flickr\":{\"small\":[],\"original\":[\"https://farm5.staticflickr.com/4174/33859521334_d75fa367d5_o.jpg\",\"https://farm5.staticflickr.com/4158/33859520764_5bb7a7daf6_o.jpg\",\"https://farm5.staticflickr.com/4182/33859520404_a9c78c971d_o.jpg\",\"https://farm5.staticflickr.com/4157/34556140711_f404943340_o.jpg\",\"https://farm5.staticflickr.com/4179/34556139821_b2d6255e07_o.jpg\",\"https://farm5.staticflickr.com/4187/34684981395_2f93965492_o.jpg\",\"https://farm5.staticflickr.com/4155/34684980875_77b745158a_o.jpg\",\"https://farm5.staticflickr.com/4183/34296430820_8d3a42c0d7_o.jpg\"]},\"presskit\":\"https://www.spacex.com/sites/spacex/files/inmarsat5f4presskit_final.pdf\",\"webcast\":\"https://www.youtube.com/watch?v=ynMYE64IEKs\",\"youtube_id\":\"ynMYE64IEKs\",\"article\":\"https://www.space.com/36852-spacex-launches-inmarsat-5-f4-satellite.html\",\"wikipedia\":\"https://en.wikipedia.org/wiki/Inmarsat#Satellites\"},\"static_fire_date_utc\":\"2017-05-11T16:45:00.000Z\",\"static_fire_date_unix\":1494521100,\"net\":false,\"window\":2940,\"rocket\":\"5e9d0d95eda69973a809d1ec\",\"success\":true,\"failures\":[],\"details\":\"At 6,070 kg this was the heaviest payload launched to GTO by a Falcon 9 rocket. The launch was originally scheduled for the Falcon Heavy, but performance improvements allowed the mission to be carried out by an expendable Falcon 9 instead.\",\"crew\":[],\"ships\":[],\"capsules\":[],\"payloads\":[\"5eb0e4c3b6c3bb0006eeb20d\"],\"launchpad\":\"5e9e4502f509094188566f88\",\"flight_number\":40,\"name\":\"Inmarsat-5 F4\",\"date_utc\":\"2017-05-15T23:21:00.000Z\",\"date_unix\":1494890460,\"date_local\":\"2017-05-15T19:21:00-04:00\",\"date_precision\":\"hour\",\"upcoming\":false,\"cores\":[{\"core\":\"5e9e28a3f359186f3f3b2649\",\"flight\":1,\"gridfins\":false,\"legs\":false,\"reused\":false,\"landing_attempt\":false,\"landing_success\":null,\"landing_type\":null,\"landpad\":null}],\"auto_update\":true,\"tbd\":false,\"launch_library_id\":null,\"id\":\"5eb87d01ffd86e000604b351\"},{\"fairings\":null,\"links\":{\"patch\":{\"small\":\"https://images2.imgbox.com/54/45/VoihQAY3_o.png\",\"large\":\"https://images2.imgbox.com/2d/39/EAkUxxPk_o.png\"},\"reddit\":{\"campaign\":\"https://www.reddit.com/r/spacex/comments/68ul58/\",\"launch\":\"https://www.reddit.com/r/spacex/comments/6ektkt/\",\"media\":\"https://www.reddit.com/r/spacex/comments/6emlzr/\",\"recovery\":null},\"flickr\":{\"small\":[],\"original\":[\"https://farm5.staticflickr.com/4210/34696326760_cee662ef1f_o.jpg\",\"https://farm5.staticflickr.com/4279/34239858024_64795724c9_o.jpg\",\"https://farm5.staticflickr.com/4250/35043398436_3ceaa0098a_o.jpg\",\"https://farm5.staticflickr.com/4223/34272083563_f52e5bfffe_o.jpg\",\"https://farm5.staticflickr.com/4219/34918571502_7cf66854f7_o.jpg\",\"https://farm5.staticflickr.com/4252/34918568732_4efe0885de_o.jpg\",\"https://farm5.staticflickr.com/4264/34272065153_cfd8899f3e_o.jpg\",\"https://farm5.staticflickr.com/4284/34948230531_e76b7560c9_o.jpg\",\"https://farm5.staticflickr.com/4280/35078830875_afbd41c675_o.jpg\",\"https://farm5.staticflickr.com/4280/34268361083_71fc70ff1a_o.jpg\",\"https://farm5.staticflickr.com/4199/35038651646_93d0339269_o.jpg\",\"https://farm5.staticflickr.com/4227/34223076793_4abe7e74d6_o.jpg\"]},\"presskit\":\"http://www.spacex.com/sites/spacex/files/crs11presskit.pdf\",\"webcast\":\"https://www.youtube.com/watch?v=JuZBOUMsYws\",\"youtube_id\":\"JuZBOUMsYws\",\"article\":\"https://spaceflightnow.com/2017/06/03/reused-dragon-cargo-capsule-launched-on-journey-to-space-station/\",\"wikipedia\":\"https://en.wikipedia.org/wiki/SpaceX_CRS-11\"},\"static_fire_date_utc\":\"2017-05-28T16:00:00.000Z\",\"static_fire_date_unix\":1495987200,\"net\":false,\"window\":0,\"rocket\":\"5e9d0d95eda69973a809d1ec\",\"success\":true,\"failures\":[],\"details\":\"This mission delivered the Neutron Star Interior Composition Explorer (NICER) to the ISS, along with the MUSES Earth imaging platform and ROSA solar array. For the first time, this mission launched a refurbished Dragon capsule, serial number C106 which first flew in September 2014 on the CRS-4 mission. Originally scheduled to launch on June 1, but was scrubbed due to inclement weather.\",\"crew\":[],\"ships\":[\"5ea6ed30080df4000697c912\"],\"capsules\":[\"5e9e2c5bf3591880643b2669\"],\"payloads\":[\"5eb0e4c4b6c3bb0006eeb20e\"],\"launchpad\":\"5e9e4502f509094188566f88\",\"flight_number\":41,\"name\":\"CRS-11\",\"date_utc\":\"2017-06-03T21:07:00.000Z\",\"date_unix\":1496524020,\"date_local\":\"2017-06-03T17:07:00-04:00\",\"date_precision\":\"hour\",\"upcoming\":false,\"cores\":[{\"core\":\"5e9e28a3f3591856803b264a\",\"flight\":1,\"gridfins\":true,\"legs\":true,\"reused\":false,\"landing_attempt\":true,\"landing_success\":true,\"landing_type\":\"RTLS\",\"landpad\":\"5e9e3032383ecb267a34e7c7\"}],\"auto_update\":true,\"tbd\":false,\"launch_library_id\":null,\"id\":\"5eb87d03ffd86e000604b352\"},{\"fairings\":{\"reused\":false,\"recovery_attempt\":false,\"recovered\":false,\"ships\":[]},\"links\":{\"patch\":{\"small\":\"https://images2.imgbox.com/fa/1b/3vvXwAf9_o.png\",\"large\":\"https://images2.imgbox.com/e2/f3/RZJ7ET73_o.png\"},\"reddit\":{\"campaign\":\"https://www.reddit.com/r/spacex/comments/69hhkm/bulgariasat1_launch_campaign_thread/\",\"launch\":\"https://www.reddit.com/r/spacex/comments/6isph2/welcome_to_the_rspacex_bulgariasat1_official/\",\"media\":\"https://www.reddit.com/r/spacex/comments/6iuj1z/rspacex_bulgariasat1_media_thread_videos_images/\",\"recovery\":\"https://www.reddit.com/r/spacex/comments/6k3kop/b10292_bulgariasat_1_recovery_thread/\"},\"flickr\":{\"small\":[],\"original\":[\"https://farm5.staticflickr.com/4216/35496028185_ac5456195f_o.jpg\",\"https://farm5.staticflickr.com/4278/35496027525_9ab9d90417_o.jpg\",\"https://farm5.staticflickr.com/4277/35496026875_fd25c46934_o.jpg\",\"https://farm5.staticflickr.com/4257/35496026065_02fe65754b_o.jpg\",\"https://farm5.staticflickr.com/4289/35491530485_5a4d0f39ae_o.jpg\",\"https://farm5.staticflickr.com/4279/35491529875_1e35ee0a1e_o.jpg\",\"https://farm5.staticflickr.com/4230/34681559323_53f05581ca_o.jpg\"]},\"presskit\":\"http://www.spacex.com/sites/spacex/files/bulgariasat1presskit.pdf\",\"webcast\":\"https://www.youtube.com/watch?v=Y8mLi-rRTh8\",\"youtube_id\":\"Y8mLi-rRTh8\",\"article\":\"https://en.wikipedia.org/wiki/BulgariaSat-1\",\"wikipedia\":\"https://en.wikipedia.org/wiki/BulgariaSat-1\"},\"static_fire_date_utc\":\"2017-06-15T22:25:00.000Z\",\"static_fire_date_unix\":1497565500,\"net\":false,\"window\":7200,\"rocket\":\"5e9d0d95eda69973a809d1ec\",\"success\":true,\"failures\":[],\"details\":\"Second time a booster will be reused: Second flight of B1029 after the Iridium mission of January 2017. The satellite will be the first commercial Bulgarian-owned communications satellite and it will provide television broadcasts and other communications services over southeast Europe.\",\"crew\":[],\"ships\":[\"5ea6ed2e080df4000697c906\",\"5ea6ed2f080df4000697c90b\",\"5ea6ed2f080df4000697c90c\",\"5ea6ed30080df4000697c913\"],\"capsules\":[],\"payloads\":[\"5eb0e4c4b6c3bb0006eeb20f\"],\"launchpad\":\"5e9e4502f509094188566f88\",\"flight_number\":42,\"name\":\"BulgariaSat-1\",\"date_utc\":\"2017-06-23T19:10:00.000Z\",\"date_unix\":1498245000,\"date_local\":\"2017-06-23T15:10:00-04:00\",\"date_precision\":\"hour\",\"upcoming\":false,\"cores\":[{\"core\":\"5e9e28a3f359189e3a3b2645\",\"flight\":2,\"gridfins\":true,\"legs\":true,\"reused\":true,\"landing_attempt\":true,\"landing_success\":true,\"landing_type\":\"ASDS\",\"landpad\":\"5e9e3032383ecb6bb234e7ca\"}],\"auto_update\":true,\"tbd\":false,\"launch_library_id\":null,\"id\":\"5eb87d04ffd86e000604b353\"},{\"fairings\":{\"reused\":false,\"recovery_attempt\":false,\"recovered\":false,\"ships\":[]},\"links\":{\"patch\":{\"small\":\"https://images2.imgbox.com/dc/51/LrdAbm5y_o.png\",\"large\":\"https://images2.imgbox.com/84/18/ahmKQNIj_o.png\"},\"reddit\":{\"campaign\":\"https://www.reddit.com/r/spacex/comments/6bp4fj/\",\"launch\":\"https://www.reddit.com/r/spacex/comments/6j67ti/\",\"media\":\"https://www.reddit.com/r/spacex/comments/6j7va6/\",\"recovery\":\"https://www.reddit.com/r/spacex/comments/6k16ho/\"},\"flickr\":{\"small\":[],\"original\":[\"https://farm5.staticflickr.com/4162/34868729603_c75aa126b5_o.jpg\",\"https://farm5.staticflickr.com/4256/35618496935_5049a27240_o.jpg\",\"https://farm5.staticflickr.com/4138/35231792310_377477e626_o.jpg\",\"https://farm5.staticflickr.com/4005/35231791780_dd15335d5e_o.jpg\",\"https://farm5.staticflickr.com/4289/35371450262_bb9c682ace_o.jpg\",\"https://farm5.staticflickr.com/4263/35499710806_f9179bea0e_o.jpg\",\"https://farm5.staticflickr.com/4256/35533873795_eb04895a60_o.jpg\",\"https://farm5.staticflickr.com/4217/35533872755_900b3e8977_o.jpg\"]},\"presskit\":\"http://www.spacex.com/sites/spacex/files/iridium2presskit.pdf\",\"webcast\":\"https://www.youtube.com/watch?v=7tIwZg8F9b8\",\"youtube_id\":\"7tIwZg8F9b8\",\"article\":\"https://www.space.com/37304-liftoff-spacex-second-launch-three-days.html\",\"wikipedia\":\"https://en.wikipedia.org/wiki/Iridium_satellite_constellation\"},\"static_fire_date_utc\":\"2017-06-20T22:10:00.000Z\",\"static_fire_date_unix\":1497996600,\"net\":false,\"window\":0,\"rocket\":\"5e9d0d95eda69973a809d1ec\",\"success\":true,\"failures\":[],\"details\":\"First flight with titanium grid fins to improve control authority and better cope with heat during re-entry.\",\"crew\":[],\"ships\":[\"5ea6ed2f080df4000697c910\",\"5ea6ed2f080df4000697c911\",\"5ea6ed30080df4000697c912\"],\"capsules\":[],\"payloads\":[\"5eb0e4c4b6c3bb0006eeb210\"],\"launchpad\":\"5e9e4502f509092b78566f87\",\"flight_number\":43,\"name\":\"Iridium NEXT Mission 2\",\"date_utc\":\"2017-06-25T20:25:00.000Z\",\"date_unix\":1498422300,\"date_local\":\"2017-06-25T13:25:00-07:00\",\"date_precision\":\"hour\",\"upcoming\":false,\"cores\":[{\"core\":\"5e9e28a3f3591801cf3b264b\",\"flight\":1,\"gridfins\":true,\"legs\":true,\"reused\":false,\"landing_attempt\":true,\"landing_success\":true,\"landing_type\":\"ASDS\",\"landpad\":\"5e9e3033383ecbb9e534e7cc\"}],\"auto_update\":true,\"tbd\":false,\"launch_library_id\":null,\"id\":\"5eb87d05ffd86e000604b354\"},{\"fairings\":{\"reused\":false,\"recovery_attempt\":false,\"recovered\":false,\"ships\":[]},\"links\":{\"patch\":{\"small\":\"https://images2.imgbox.com/8f/a2/46UURVaD_o.png\",\"large\":\"https://images2.imgbox.com/14/bd/jSZymxYh_o.png\"},\"reddit\":{\"campaign\":\"https://www.reddit.com/r/spacex/comments/6fw4yy/\",\"launch\":\"https://www.reddit.com/r/spacex/comments/6kt2re/\",\"media\":\"https://www.reddit.com/r/spacex/comments/6kt3fe/\",\"recovery\":null},\"flickr\":{\"small\":[],\"original\":[\"https://farm5.staticflickr.com/4063/35758875505_a8559a6226_o.jpg\",\"https://farm5.staticflickr.com/4025/35758874355_5075298440_o.jpg\",\"https://farm5.staticflickr.com/4235/35359372730_df7c79797b_o.jpg\",\"https://farm5.staticflickr.com/4014/35359371840_239a658872_o.jpg\",\"https://farm5.staticflickr.com/4002/35577536822_679c68862d_o.jpg\",\"https://farm5.staticflickr.com/4259/34868730393_b778d81a71_o.jpg\",\"https://farm5.staticflickr.com/4162/34868729603_c75aa126b5_o.jpg\"]},\"presskit\":\"http://www.spacex.com/sites/spacex/files/intelsat35epresskit.pdf\",\"webcast\":\"https://www.youtube.com/watch?v=MIHVPCj25Z0\",\"youtube_id\":\"MIHVPCj25Z0\",\"article\":\"https://spaceflightnow.com/2017/07/06/spacex-delivers-for-intelsat-on-heavyweight-falcon-9-mission/\",\"wikipedia\":\"https://en.wikipedia.org/wiki/Intelsat_35e\"},\"static_fire_date_utc\":\"2017-06-29T00:30:00.000Z\",\"static_fire_date_unix\":1498696200,\"net\":false,\"window\":3480,\"rocket\":\"5e9d0d95eda69973a809d1ec\",\"success\":true,\"failures\":[],\"details\":\"Due to the constraints of sending a heavy satellite (~6,000 kg) to GTO, the rocket will fly in its expendable configuration and the first-stage booster will not be recovered.\",\"crew\":[],\"ships\":[],\"capsules\":[],\"payloads\":[\"5eb0e4c4b6c3bb0006eeb211\"],\"launchpad\":\"5e9e4502f509094188566f88\",\"flight_number\":44,\"name\":\"Intelsat 35e\",\"date_utc\":\"2017-07-05T23:35:00.000Z\",\"date_unix\":1499297700,\"date_local\":\"2017-07-05T19:35:00-04:00\",\"date_precision\":\"hour\",\"upcoming\":false,\"cores\":[{\"core\":\"5e9e28a4f3591850cc3b264c\",\"flight\":1,\"gridfins\":false,\"legs\":false,\"reused\":false,\"landing_attempt\":false,\"landing_success\":null,\"landing_type\":null,\"landpad\":null}],\"auto_update\":true,\"tbd\":false,\"launch_library_id\":null,\"id\":\"5eb87d06ffd86e000604b355\"},{\"fairings\":null,\"links\":{\"patch\":{\"small\":\"https://images2.imgbox.com/ee/85/dtsbOs0E_o.png\",\"large\":\"https://images2.imgbox.com/9c/f7/BNIV5kBE_o.png\"},\"reddit\":{\"campaign\":\"https://www.reddit.com/r/spacex/comments/6mrga2/crs12_launch_campaign_thread/\",\"launch\":\"https://www.reddit.com/r/spacex/comments/6tfcio/welcome_to_the_rspacex_crs12_official_launch/\",\"media\":\"https://www.reddit.com/r/spacex/comments/6th2nf/rspacex_crs12_media_thread_videos_images_gifs/\",\"recovery\":null},\"flickr\":{\"small\":[],\"original\":[\"https://farm5.staticflickr.com/4352/36438808381_733603843d_o.jpg\",\"https://farm5.staticflickr.com/4434/35760634184_f75457493b_o.jpg\",\"https://farm5.staticflickr.com/4418/35741466074_327e9d0a80_o.jpg\",\"https://farm5.staticflickr.com/4414/35741465934_db82541cf3_o.jpg\",\"https://farm5.staticflickr.com/4384/35741465854_e264864537_o.jpg\",\"https://farm5.staticflickr.com/4333/35741465714_d0a8800533_o.jpg\",\"https://farm5.staticflickr.com/4397/35741465464_1d49cc1cae_o.jpg\",\"https://farm5.staticflickr.com/4354/35762350653_d94b2b5b07_o.jpg\",\"https://farm5.staticflickr.com/4353/36571921725_2a0be4ec58_o.jpg\"]},\"presskit\":\"http://www.spacex.com/sites/spacex/files/crs12presskit.pdf\",\"webcast\":\"https://www.youtube.com/watch?v=vLxWsYx8dbo\",\"youtube_id\":\"vLxWsYx8dbo\",\"article\":\"https://spaceflightnow.com/2017/08/17/photos-falcon-9-rocket-soars-into-space-lands-back-at-cape-canaveral/\",\"wikipedia\":\"https://en.wikipedia.org/wiki/SpaceX_CRS-12\"},\"static_fire_date_utc\":\"2017-08-10T13:10:00.000Z\",\"static_fire_date_unix\":1502370600,\"net\":false,\"window\":0,\"rocket\":\"5e9d0d95eda69973a809d1ec\",\"success\":true,\"failures\":[],\"details\":\"Dragon is expected to carry 2,349 kg (5,179 lb) of pressurized mass and 961 kg (2,119 lb) unpressurized. The external payload manifested for this flight is the CREAM cosmic-ray detector. First flight of the Falcon 9 Block 4 upgrade. Last flight of a newly-built Dragon capsule; further missions will use refurbished spacecraft.\",\"crew\":[],\"ships\":[\"5ea6ed30080df4000697c912\"],\"capsules\":[\"5e9e2c5cf3591869b63b2670\"],\"payloads\":[\"5eb0e4c4b6c3bb0006eeb212\"],\"launchpad\":\"5e9e4502f509094188566f88\",\"flight_number\":45,\"name\":\"CRS-12\",\"date_utc\":\"2017-08-14T16:31:00.000Z\",\"date_unix\":1502728260,\"date_local\":\"2017-08-14T12:31:00-04:00\",\"date_precision\":\"hour\",\"upcoming\":false,\"cores\":[{\"core\":\"5e9e28a4f3591884ee3b264d\",\"flight\":1,\"gridfins\":true,\"legs\":true,\"reused\":false,\"landing_attempt\":true,\"landing_success\":true,\"landing_type\":\"RTLS\",\"landpad\":\"5e9e3032383ecb267a34e7c7\"}],\"auto_update\":true,\"tbd\":false,\"launch_library_id\":null,\"id\":\"5eb87d07ffd86e000604b356\"},{\"fairings\":{\"reused\":false,\"recovery_attempt\":false,\"recovered\":false,\"ships\":[]},\"links\":{\"patch\":{\"small\":\"https://images2.imgbox.com/fd/09/Z1wlUv4U_o.png\",\"large\":\"https://images2.imgbox.com/5e/95/HLIEaJlQ_o.png\"},\"reddit\":{\"campaign\":\"https://www.reddit.com/r/spacex/comments/6o98st\",\"launch\":\"https://www.reddit.com/r/spacex/comments/6vihsl/welcome_to_the_rspacex_formosat5_official_launch/\",\"media\":\"https://www.reddit.com/r/spacex/comments/6vhwi1/rspacex_formosat5_media_thread_videos_images_gifs/\",\"recovery\":\"https://www.reddit.com/r/spacex/comments/6wk653/b1038_recovery_thread/\"},\"flickr\":{\"small\":[],\"original\":[\"https://farm5.staticflickr.com/4434/36075361533_54b3b937dd_o.jpg\",\"https://farm5.staticflickr.com/4428/36884090115_ced8a80f14_o.jpg\",\"https://farm5.staticflickr.com/4393/36073897213_6746d2a8b2_o.jpg\",\"https://farm5.staticflickr.com/4341/36073878143_45c3ef0b93_o.jpg\",\"https://farm5.staticflickr.com/4369/35978284213_e12e5743ab_o.jpg\",\"https://farm5.staticflickr.com/4394/35978283413_145ba2ca2f_o.jpg\",\"https://farm5.staticflickr.com/4340/35978282703_5dff70fb19_o.jpg\"]},\"presskit\":\"http://www.spacex.com/sites/spacex/files/formosat5presskit.pdf\",\"webcast\":\"https://www.youtube.com/watch?v=J4u3ZN2g_MI\",\"youtube_id\":\"J4u3ZN2g_MI\",\"article\":\"https://spaceflightnow.com/2017/08/25/taiwanese-satellite-rides-spacex-rocket-into-orbit/\",\"wikipedia\":\"https://en.wikipedia.org/wiki/Formosat-5\"},\"static_fire_date_utc\":\"2017-08-24T18:50:00.000Z\",\"static_fire_date_unix\":1503600600,\"net\":false,\"window\":2520,\"rocket\":\"5e9d0d95eda69973a809d1ec\",\"success\":true,\"failures\":[],\"details\":\"Formosat-5 is an Earth observation satellite of the Taiwanese space agency. The SHERPA space tug by Spaceflight Industries was removed from the cargo manifest of this mission. The satellite has a mass of only 475 kg.\",\"crew\":[],\"ships\":[\"5ea6ed2e080df4000697c905\",\"5ea6ed2f080df4000697c910\"],\"capsules\":[],\"payloads\":[\"5eb0e4c4b6c3bb0006eeb213\"],\"launchpad\":\"5e9e4502f509092b78566f87\",\"flight_number\":46,\"name\":\"FormoSat-5\",\"date_utc\":\"2017-08-24T18:50:00.000Z\",\"date_unix\":1503600600,\"date_local\":\"2017-08-24T11:50:00-07:00\",\"date_precision\":\"hour\",\"upcoming\":false,\"cores\":[{\"core\":\"5e9e28a4f359182d843b264e\",\"flight\":1,\"gridfins\":true,\"legs\":true,\"reused\":false,\"landing_attempt\":true,\"landing_success\":true,\"landing_type\":\"ASDS\",\"landpad\":\"5e9e3033383ecbb9e534e7cc\"}],\"auto_update\":true,\"tbd\":false,\"launch_library_id\":null,\"id\":\"5eb87d08ffd86e000604b357\"},{\"fairings\":{\"reused\":false,\"recovery_attempt\":false,\"recovered\":false,\"ships\":[]},\"links\":{\"patch\":{\"small\":\"https://images2.imgbox.com/12/7c/p8btH0CD_o.png\",\"large\":\"https://images2.imgbox.com/32/61/cX8ZlEJQ_o.png\"},\"reddit\":{\"campaign\":\"https://www.reddit.com/r/spacex/comments/6u6q1t/x37b_otv5_launch_campaign_thread/\",\"launch\":\"https://www.reddit.com/r/spacex/comments/6ygmf1/rspacex_x37b_otv5_official_launch_discussion/\",\"media\":\"https://www.reddit.com/r/spacex/comments/6yih4g/rspacex_x37b_otv5_media_thread_videos_images_gifs/\",\"recovery\":null},\"flickr\":{\"small\":[],\"original\":[\"https://farm5.staticflickr.com/4411/37087809715_08a6d9904d_o.jpg\",\"https://farm5.staticflickr.com/4384/37087808315_4dc9575d1b_o.jpg\",\"https://farm5.staticflickr.com/4363/36251815974_8b996dbbfb_o.jpg\",\"https://farm5.staticflickr.com/4374/36251814644_1a469f63ee_o.jpg\",\"https://farm5.staticflickr.com/4388/36251812554_006501315f_o.jpg\",\"https://farm5.staticflickr.com/4355/36250895284_8c24cb4232_o.jpg\",\"https://farm5.staticflickr.com/4342/36689886890_99709e6934_o.jpg\",\"https://farm5.staticflickr.com/4364/36689885100_c3c427c6bf_o.jpg\"]},\"presskit\":\"https://www.spacex.com/sites/spacex/files/otv5_presskit.pdf\",\"webcast\":\"https://www.youtube.com/watch?v=9M6Zvi-fFv4\",\"youtube_id\":\"9M6Zvi-fFv4\",\"article\":\"https://spaceflightnow.com/2017/09/07/spacex-beats-hurricane-with-smooth-launch-of-militarys-x-37b-spaceplane/\",\"wikipedia\":\"https://en.wikipedia.org/wiki/Boeing_X-37\"},\"static_fire_date_utc\":\"2017-08-31T20:30:00.000Z\",\"static_fire_date_unix\":1504211400,\"net\":false,\"window\":18300,\"rocket\":\"5e9d0d95eda69973a809d1ec\",\"success\":true,\"failures\":[],\"details\":\"Notable because Boeing is the primary contractor of the X-37B, which has until now been launched by ULA, a SpaceX competitor and Boeing partnership. Second flight of the Falcon 9 Block 4 upgrade.\",\"crew\":[],\"ships\":[\"5ea6ed2e080df4000697c906\",\"5ea6ed2f080df4000697c90b\"],\"capsules\":[],\"payloads\":[\"5eb0e4c5b6c3bb0006eeb214\"],\"launchpad\":\"5e9e4502f509094188566f88\",\"flight_number\":47,\"name\":\"Boeing X-37B OTV-5\",\"date_utc\":\"2017-09-07T13:50:00.000Z\",\"date_unix\":1504792200,\"date_local\":\"2017-09-07T09:50:00-04:00\",\"date_precision\":\"hour\",\"upcoming\":false,\"cores\":[{\"core\":\"5e9e28a4f3591845123b264f\",\"flight\":1,\"gridfins\":true,\"legs\":true,\"reused\":false,\"landing_attempt\":true,\"landing_success\":true,\"landing_type\":\"RTLS\",\"landpad\":\"5e9e3032383ecb267a34e7c7\"}],\"auto_update\":true,\"tbd\":false,\"launch_library_id\":null,\"id\":\"5eb87d09ffd86e000604b358\"},{\"fairings\":{\"reused\":false,\"recovery_attempt\":false,\"recovered\":false,\"ships\":[]},\"links\":{\"patch\":{\"small\":\"https://images2.imgbox.com/fb/5b/LNVLRITr_o.png\",\"large\":\"https://images2.imgbox.com/48/d4/MKsibD8N_o.png\"},\"reddit\":{\"campaign\":\"https://www.reddit.com/r/spacex/comments/6ygwxw/iridium_next_constellation_mission_3_launch/\",\"launch\":\"https://www.reddit.com/r/spacex/comments/753e0m/iridium_next_mission_3_official_launch_discussion/\",\"media\":\"https://www.reddit.com/r/spacex/comments/755m2z/rspacex_iridium3_media_thread_videos_images_gifs/\",\"recovery\":\"https://www.reddit.com/r/spacex/comments/75z823/b10411_recovery_thread/\"},\"flickr\":{\"small\":[],\"original\":[\"https://farm5.staticflickr.com/4509/37610550066_b56bc5d743_o.jpg\",\"https://farm5.staticflickr.com/4487/37610548356_1b7d30001e_o.jpg\",\"https://farm5.staticflickr.com/4514/37610547696_9114038d60_o.jpg\",\"https://farm5.staticflickr.com/4483/37610547226_01d19395a3_o.jpg\",\"https://farm5.staticflickr.com/4504/36984625383_d7707548ec_o.jpg\",\"https://farm5.staticflickr.com/4505/36984623903_7bb6643649_o.jpg\",\"https://farm5.staticflickr.com/4445/36984622463_6f9b21929c_o.jpg\",\"https://farm5.staticflickr.com/4471/36944884234_92ddc7fb39_o.jpg\"]},\"presskit\":\"http://www.spacex.com/sites/spacex/files/iridium3presskit.pdf\",\"webcast\":\"https://www.youtube.com/watch?v=SB4N4xF2B2w&feature=youtu.be\",\"youtube_id\":\"SB4N4xF2B2w\",\"article\":\"https://spaceflightnow.com/2017/10/09/spacex-launch-adds-another-10-satellites-to-iridium-next-fleet/\",\"wikipedia\":\"https://en.wikipedia.org/wiki/Iridium_satellite_constellation#Next-generation_constellation\"},\"static_fire_date_utc\":\"2017-10-05T13:31:00.000Z\",\"static_fire_date_unix\":1507210260,\"net\":false,\"window\":0,\"rocket\":\"5e9d0d95eda69973a809d1ec\",\"success\":true,\"failures\":[],\"details\":\"Third of eight missions to launch Iridium\\'s second generation constellation from VAFB\",\"crew\":[],\"ships\":[\"5ea6ed2e080df4000697c905\",\"5ea6ed2f080df4000697c910\"],\"capsules\":[],\"payloads\":[\"5eb0e4c5b6c3bb0006eeb215\"],\"launchpad\":\"5e9e4502f509092b78566f87\",\"flight_number\":48,\"name\":\"Iridium NEXT Mission 3\",\"date_utc\":\"2017-10-09T12:37:00.000Z\",\"date_unix\":1507552620,\"date_local\":\"2017-10-09T05:37:00-07:00\",\"date_precision\":\"hour\",\"upcoming\":false,\"cores\":[{\"core\":\"5e9e28a4f3591843103b2650\",\"flight\":1,\"gridfins\":true,\"legs\":true,\"reused\":false,\"landing_attempt\":true,\"landing_success\":true,\"landing_type\":\"ASDS\",\"landpad\":\"5e9e3033383ecbb9e534e7cc\"}],\"auto_update\":true,\"tbd\":false,\"launch_library_id\":null,\"id\":\"5eb87d0affd86e000604b359\"},{\"fairings\":{\"reused\":false,\"recovery_attempt\":false,\"recovered\":false,\"ships\":[]},\"links\":{\"patch\":{\"small\":\"https://images2.imgbox.com/bc/d3/Yd5qpPd9_o.png\",\"large\":\"https://images2.imgbox.com/dd/c6/Qns2WYDQ_o.png\"},\"reddit\":{\"campaign\":\"https://www.reddit.com/r/spacex/comments/6yvn64/ses11echostar_105_launch_campaign_thread/\",\"launch\":\"https://www.reddit.com/r/spacex/comments/75bw7p/ses11echostar105_official_launch_discussions/\",\"media\":\"https://www.reddit.com/r/spacex/comments/75pgu5/rspacex_ses11_media_thread_videos_images_gifs/\",\"recovery\":\"https://www.reddit.com/r/spacex/comments/76fqz1/b10312_recovery_thread/\"},\"flickr\":{\"small\":[],\"original\":[\"https://farm5.staticflickr.com/4471/37388002420_b86680c3af_o.jpg\",\"https://farm5.staticflickr.com/4497/37388002170_a267280534_o.jpg\",\"https://farm5.staticflickr.com/4455/37388001730_0869279a8d_o.jpg\",\"https://farm5.staticflickr.com/4465/36975195443_b98ed0fb24_o.jpg\",\"https://farm5.staticflickr.com/4499/36975194993_8548a53c60_o.jpg\",\"https://farm5.staticflickr.com/4482/36975194613_15bb109059_o.jpg\",\"https://farm5.staticflickr.com/4453/36975194233_5f8f45c686_o.jpg\"]},\"presskit\":\"http://www.spacex.com/sites/spacex/files/echostar105ses11presskit.pdf\",\"webcast\":\"https://www.youtube.com/watch?v=iv1zeGSvhIw\",\"youtube_id\":\"iv1zeGSvhIw\",\"article\":\"https://spaceflightnow.com/2017/10/12/video-falcon-9-rocket-lifts-off-with-joint-satellite-for-ses-echostar/\",\"wikipedia\":\"https://en.wikipedia.org/wiki/List_of_SES_satellites\"},\"static_fire_date_utc\":\"2017-10-02T20:30:00.000Z\",\"static_fire_date_unix\":1506976200,\"net\":false,\"window\":7200,\"rocket\":\"5e9d0d95eda69973a809d1ec\",\"success\":true,\"failures\":[],\"details\":\"Nineteenth comsat to GTO, also the fourth satellite launched for SES and second for Echostar. Third time a first stage booster will be reused.\",\"crew\":[],\"ships\":[\"5ea6ed2f080df4000697c90b\",\"5ea6ed2f080df4000697c90d\",\"5ea6ed30080df4000697c913\"],\"capsules\":[],\"payloads\":[\"5eb0e4c5b6c3bb0006eeb216\"],\"launchpad\":\"5e9e4502f509094188566f88\",\"flight_number\":49,\"name\":\"SES-11 / Echostar 105\",\"date_utc\":\"2017-10-11T22:53:00.000Z\",\"date_unix\":1507762380,\"date_local\":\"2017-10-11T18:53:00-04:00\",\"date_precision\":\"hour\",\"upcoming\":false,\"cores\":[{\"core\":\"5e9e28a3f3591829dc3b2646\",\"flight\":2,\"gridfins\":true,\"legs\":true,\"reused\":true,\"landing_attempt\":true,\"landing_success\":true,\"landing_type\":\"ASDS\",\"landpad\":\"5e9e3032383ecb6bb234e7ca\"}],\"auto_update\":true,\"tbd\":false,\"launch_library_id\":null,\"id\":\"5eb87d0cffd86e000604b35a\"},{\"fairings\":{\"reused\":false,\"recovery_attempt\":true,\"recovered\":false,\"ships\":[\"5ea6ed2e080df4000697c908\"]},\"links\":{\"patch\":{\"small\":\"https://images2.imgbox.com/bb/fa/vNIBtlSn_o.png\",\"large\":\"https://images2.imgbox.com/d6/8d/iv3VDTkX_o.png\"},\"reddit\":{\"campaign\":\"https://www.reddit.com/r/spacex/comments/73ttkd/koreasat_5a_launch_campaign_thread/\",\"launch\":\"https://www.reddit.com/r/spacex/comments/79iuvb/rspacex_koreasat_5a_official_launch_discussion/\",\"media\":\"https://www.reddit.com/r/spacex/comments/79lmdu/rspacex_koreasat5a_media_thread_videos_images/\",\"recovery\":null},\"flickr\":{\"small\":[],\"original\":[\"https://farm5.staticflickr.com/4477/38056454431_a5f40f9fd7_o.jpg\",\"https://farm5.staticflickr.com/4455/26280153979_b8016a829f_o.jpg\",\"https://farm5.staticflickr.com/4459/38056455051_79ef2b949a_o.jpg\",\"https://farm5.staticflickr.com/4466/26280153539_ecbc2b3fa9_o.jpg\",\"https://farm5.staticflickr.com/4482/26280154209_bf08d76361_o.jpg\",\"https://farm5.staticflickr.com/4493/38056455211_a4565a9cee_o.jpg\"]},\"presskit\":\"http://www.spacex.com/sites/spacex/files/koreasat5apresskit.pdf\",\"webcast\":\"https://www.youtube.com/watch?v=RUjH14vhLxA\",\"youtube_id\":\"RUjH14vhLxA\",\"article\":\"https://spaceflightnow.com/2017/10/30/spacex-launches-and-lands-third-rocket-in-three-weeks/\",\"wikipedia\":\"https://en.wikipedia.org/wiki/Koreasat_5A\"},\"static_fire_date_utc\":\"2017-10-26T16:00:00.000Z\",\"static_fire_date_unix\":1509033600,\"net\":false,\"window\":8640,\"rocket\":\"5e9d0d95eda69973a809d1ec\",\"success\":true,\"failures\":[],\"details\":\"KoreaSat 5A is a Ku-band satellite capable of providing communication services from East Africa and Central Asia to southern India, Southeast Asia, the Philippines, Guam, Korea, and Japan. The satellite will be placed in GEO at 113\\xc3\\x82\\xc2\\xb0 East Longitude, and will provide services ranging from broadband internet to broadcasting services and maritime communications.\",\"crew\":[],\"ships\":[\"5ea6ed2f080df4000697c90d\",\"5ea6ed2e080df4000697c908\",\"5ea6ed30080df4000697c913\"],\"capsules\":[],\"payloads\":[\"5eb0e4c5b6c3bb0006eeb217\"],\"launchpad\":\"5e9e4502f509094188566f88\",\"flight_number\":50,\"name\":\"KoreaSat 5A\",\"date_utc\":\"2017-10-30T19:34:00.000Z\",\"date_unix\":1509392040,\"date_local\":\"2017-10-30T15:34:00-04:00\",\"date_precision\":\"hour\",\"upcoming\":false,\"cores\":[{\"core\":\"5e9e28a4f359185cc03b2651\",\"flight\":1,\"gridfins\":true,\"legs\":true,\"reused\":false,\"landing_attempt\":true,\"landing_success\":true,\"landing_type\":\"ASDS\",\"landpad\":\"5e9e3032383ecb6bb234e7ca\"}],\"auto_update\":true,\"tbd\":false,\"launch_library_id\":null,\"id\":\"5eb87d0dffd86e000604b35b\"},{\"fairings\":null,\"links\":{\"patch\":{\"small\":\"https://images2.imgbox.com/84/42/Ejb9KhGR_o.png\",\"large\":\"https://images2.imgbox.com/54/4f/CeMcU6RG_o.png\"},\"reddit\":{\"campaign\":\"https://www.reddit.com/r/spacex/comments/7bxg5a/crs13_launch_campaign_thread/\",\"launch\":\"https://www.reddit.com/r/spacex/comments/7j725w/rspacex_crs13_official_launch_discussion_updates/\",\"media\":\"https://www.reddit.com/r/spacex/comments/7j6oxz/rspacex_crs13_media_thread_videos_images_gifs/\",\"recovery\":null},\"flickr\":{\"small\":[],\"original\":[\"https://farm5.staticflickr.com/4591/38372264594_8140bd943d_o.png\",\"https://farm5.staticflickr.com/4546/39051469552_13703e6b2e_o.jpg\",\"https://farm5.staticflickr.com/4682/39051469662_55c55150c0_o.jpg\",\"https://farm5.staticflickr.com/4565/25215551218_2597838c1a_o.jpg\",\"https://farm5.staticflickr.com/4680/39051469812_b6f802fc9d_o.jpg\",\"https://farm5.staticflickr.com/4517/27304331429_59b9d6c1d4_o.jpg\"]},\"presskit\":\"http://www.spacex.com/sites/spacex/files/crs13presskit12_11.pdf\",\"webcast\":\"https://www.youtube.com/watch?v=OPHbqY9LHCs\",\"youtube_id\":\"OPHbqY9LHCs\",\"article\":\"https://spaceflightnow.com/2017/12/15/spacexs-50th-falcon-rocket-launch-kicks-off-station-resupply-mission/\",\"wikipedia\":\"https://en.wikipedia.org/wiki/SpaceX_CRS-13\"},\"static_fire_date_utc\":\"2017-12-06T20:00:00.000Z\",\"static_fire_date_unix\":1512590400,\"net\":false,\"window\":0,\"rocket\":\"5e9d0d95eda69973a809d1ec\",\"success\":true,\"failures\":[],\"details\":\"Will reuse the Dragon capsule previously flown on CRS-6 and will reuse the booster from CRS-11.\",\"crew\":[],\"ships\":[\"5ea6ed30080df4000697c912\"],\"capsules\":[\"5e9e2c5cf359188bfb3b266b\"],\"payloads\":[\"5eb0e4c5b6c3bb0006eeb218\"],\"launchpad\":\"5e9e4501f509094ba4566f84\",\"flight_number\":51,\"name\":\"CRS-13\",\"date_utc\":\"2017-12-15T15:36:00.000Z\",\"date_unix\":1513352160,\"date_local\":\"2017-12-15T10:36:00-05:00\",\"date_precision\":\"hour\",\"upcoming\":false,\"cores\":[{\"core\":\"5e9e28a3f3591856803b264a\",\"flight\":2,\"gridfins\":true,\"legs\":true,\"reused\":true,\"landing_attempt\":true,\"landing_success\":true,\"landing_type\":\"RTLS\",\"landpad\":\"5e9e3032383ecb267a34e7c7\"}],\"auto_update\":true,\"tbd\":false,\"launch_library_id\":null,\"id\":\"5eb87d0effd86e000604b35c\"},{\"fairings\":{\"reused\":false,\"recovery_attempt\":false,\"recovered\":false,\"ships\":[]},\"links\":{\"patch\":{\"small\":\"https://images2.imgbox.com/85/43/6VSgldkO_o.png\",\"large\":\"https://images2.imgbox.com/5f/d4/wAoAmyxK_o.png\"},\"reddit\":{\"campaign\":\"https://www.reddit.com/r/spacex/comments/7cgts7/iridium_next_constellation_mission_4_launch/\",\"launch\":\"https://www.reddit.com/r/spacex/comments/7li8y2/rspacex_iridium_next_4_official_launch_discussion/\",\"media\":\"https://www.reddit.com/r/spacex/comments/7litv2/rspacex_iridium4_media_thread_videos_images_gifs/\",\"recovery\":null},\"flickr\":{\"small\":[],\"original\":[\"https://farm5.staticflickr.com/4695/25557986177_2d315f4c11_o.jpg\",\"https://farm5.staticflickr.com/4735/25377631178_d28e0a9141_o.jpg\",\"https://farm5.staticflickr.com/4733/25377628928_a79bb43a31_o.jpg\",\"https://farm5.staticflickr.com/4732/25377628288_361f551d34_o.jpg\",\"https://farm5.staticflickr.com/4598/39244105581_eeb76c8ed2_o.jpg\",\"https://farm5.staticflickr.com/4728/24381830217_a49ae2100f_o.jpg\"]},\"presskit\":\"http://www.spacex.com/sites/spacex/files/iridium4presskit.pdf\",\"webcast\":\"https://www.youtube.com/watch?v=wtdjCwo6d3Q\",\"youtube_id\":\"wtdjCwo6d3Q\",\"article\":\"https://spaceflightnow.com/2017/12/23/spacex-launch-dazzles-delivering-10-more-satellites-for-iridium/\",\"wikipedia\":\"https://en.wikipedia.org/wiki/Iridium_satellite_constellation#Next-generation_constellation\"},\"static_fire_date_utc\":\"2017-12-17T21:00:00.000Z\",\"static_fire_date_unix\":1513544400,\"net\":false,\"window\":0,\"rocket\":\"5e9d0d95eda69973a809d1ec\",\"success\":true,\"failures\":[],\"details\":\"Reusing the booster first used on Iridium-2, but will be flying expendable.\",\"crew\":[],\"ships\":[\"5ea6ed2e080df4000697c908\"],\"capsules\":[],\"payloads\":[\"5eb0e4c6b6c3bb0006eeb219\"],\"launchpad\":\"5e9e4502f509092b78566f87\",\"flight_number\":52,\"name\":\"Iridium NEXT Mission 4\",\"date_utc\":\"2017-12-23T01:27:23.000Z\",\"date_unix\":1513992443,\"date_local\":\"2017-12-22T17:27:23-08:00\",\"date_precision\":\"hour\",\"upcoming\":false,\"cores\":[{\"core\":\"5e9e28a3f3591801cf3b264b\",\"flight\":2,\"gridfins\":true,\"legs\":false,\"reused\":true,\"landing_attempt\":true,\"landing_success\":true,\"landing_type\":\"Ocean\",\"landpad\":null}],\"auto_update\":true,\"tbd\":false,\"launch_library_id\":null,\"id\":\"5eb87d0fffd86e000604b35d\"},{\"fairings\":{\"reused\":false,\"recovery_attempt\":false,\"recovered\":false,\"ships\":[]},\"links\":{\"patch\":{\"small\":\"https://images2.imgbox.com/dc/7b/8HuZoJQU_o.png\",\"large\":\"https://images2.imgbox.com/4f/0d/UudW8zZK_o.png\"},\"reddit\":{\"campaign\":\"https://www.reddit.com/r/spacex/comments/7895bo/zuma_launch_campaign_thread/\",\"launch\":\"https://www.reddit.com/r/spacex/comments/7oqjf0/rspacex_zuma_official_launch_discussion_updates/\",\"media\":\"https://www.reddit.com/r/spacex/comments/7orksl/rspacex_zuma_media_thread_videos_images_gifs/\",\"recovery\":null},\"flickr\":{\"small\":[],\"original\":[\"https://farm5.staticflickr.com/4751/39557026242_384d287045_o.jpg\",\"https://farm5.staticflickr.com/4674/39556549372_810396618d_o.jpg\",\"https://farm5.staticflickr.com/4661/39556548902_f66c7be90d_o.jpg\",\"https://farm5.staticflickr.com/4607/39585580001_8b21846eab_o.jpg\",\"https://farm5.staticflickr.com/4754/39585578201_a67ab9b9a8_o.jpg\",\"https://farm5.staticflickr.com/4603/39585575631_216cc035f4_o.jpg\"]},\"presskit\":\"http://www.spacex.com/sites/spacex/files/zumapresskit.pdf\",\"webcast\":\"https://www.youtube.com/watch?v=0PWu3BRxn60\",\"youtube_id\":\"0PWu3BRxn60\",\"article\":\"https://spaceflightnow.com/2018/01/08/spacex-kicks-off-ambitious-2018-schedule-with-launch-for-u-s-government/\",\"wikipedia\":\"https://en.wikipedia.org/wiki/Zuma_(satellite)\"},\"static_fire_date_utc\":\"2017-11-11T23:00:00.000Z\",\"static_fire_date_unix\":1510441200,\"net\":false,\"window\":7200,\"rocket\":\"5e9d0d95eda69973a809d1ec\",\"success\":true,\"failures\":[],\"details\":\"Originally planned for mid-November 2017, the mission was delayed due to test results from the fairing of another customer. First-stage booster will attempt landing at LZ-1\",\"crew\":[],\"ships\":[],\"capsules\":[],\"payloads\":[\"5eb0e4c6b6c3bb0006eeb21a\"],\"launchpad\":\"5e9e4501f509094ba4566f84\",\"flight_number\":53,\"name\":\"ZUMA\",\"date_utc\":\"2018-01-08T01:00:00.000Z\",\"date_unix\":1515373200,\"date_local\":\"2018-01-07T20:00:00-05:00\",\"date_precision\":\"hour\",\"upcoming\":false,\"cores\":[{\"core\":\"5e9e28a4f35918345e3b2652\",\"flight\":1,\"gridfins\":true,\"legs\":true,\"reused\":false,\"landing_attempt\":true,\"landing_success\":true,\"landing_type\":\"RTLS\",\"landpad\":\"5e9e3032383ecb267a34e7c7\"}],\"auto_update\":true,\"tbd\":false,\"launch_library_id\":null,\"id\":\"5eb87d10ffd86e000604b35e\"},{\"fairings\":{\"reused\":false,\"recovery_attempt\":false,\"recovered\":false,\"ships\":[]},\"links\":{\"patch\":{\"small\":\"https://images2.imgbox.com/e0/b5/G8QLLURl_o.png\",\"large\":\"https://images2.imgbox.com/3b/6b/ovK7nExS_o.png\"},\"reddit\":{\"campaign\":\"https://www.reddit.com/r/spacex/comments/7olw86/govsat1_ses16_launch_campaign_thread/\",\"launch\":\"https://www.reddit.com/r/spacex/comments/7tvtbh/rspacex_govsat1_official_launch_discussion/\",\"media\":\"https://www.reddit.com/r/spacex/comments/7tzzwy/rspacex_govsat1_media_thread_videos_images_gifs/\",\"recovery\":null},\"flickr\":{\"small\":[],\"original\":[\"https://farm5.staticflickr.com/4721/40026315981_f16a7cd32a_o.jpg\",\"https://farm5.staticflickr.com/4708/40026316291_0b3aef9d8d_o.jpg\",\"https://farm5.staticflickr.com/4652/39128355655_3eefa0d583_o.jpg\",\"https://farm5.staticflickr.com/4741/39128355825_7c4166dbbe_o.jpg\",\"https://farm5.staticflickr.com/4609/39128355355_17381fc00e_o.jpg\"]},\"presskit\":\"http://www.spacex.com/sites/spacex/files/govsat1presskit.pdf\",\"webcast\":\"https://www.youtube.com/watch?v=ScYUA51-POQ\",\"youtube_id\":\"ScYUA51-POQ\",\"article\":\"https://spaceflightnow.com/2018/01/31/spacex-rocket-flies-on-60th-anniversary-of-first-u-s-satellite-launch/\",\"wikipedia\":\"https://en.wikipedia.org/wiki/List_of_SES_satellites#SES_Fleet\"},\"static_fire_date_utc\":\"2018-01-26T15:27:00.000Z\",\"static_fire_date_unix\":1516980420,\"net\":false,\"window\":8460,\"rocket\":\"5e9d0d95eda69973a809d1ec\",\"success\":true,\"failures\":[],\"details\":\"Reused booster from the classified NROL-76 mission in May 2017. Following a successful experimental ocean landing that used three engines, the booster unexpectedly remained intact; Elon Musk stated in a tweet that SpaceX will attempt to tow the booster to shore.\",\"crew\":[],\"ships\":[\"5ea6ed2f080df4000697c90b\"],\"capsules\":[],\"payloads\":[\"5eb0e4c6b6c3bb0006eeb21b\"],\"launchpad\":\"5e9e4501f509094ba4566f84\",\"flight_number\":54,\"name\":\"SES-16 / GovSat-1\",\"date_utc\":\"2018-01-31T21:25:00.000Z\",\"date_unix\":1517433900,\"date_local\":\"2018-01-31T16:25:00-05:00\",\"date_precision\":\"hour\",\"upcoming\":false,\"cores\":[{\"core\":\"5e9e28a3f3591811f83b2648\",\"flight\":2,\"gridfins\":true,\"legs\":true,\"reused\":true,\"landing_attempt\":true,\"landing_success\":true,\"landing_type\":\"Ocean\",\"landpad\":null}],\"auto_update\":true,\"tbd\":false,\"launch_library_id\":null,\"id\":\"5eb87d11ffd86e000604b35f\"},{\"fairings\":{\"reused\":false,\"recovery_attempt\":false,\"recovered\":false,\"ships\":[]},\"links\":{\"patch\":{\"small\":\"https://images2.imgbox.com/cd/48/NVrODg2G_o.png\",\"large\":\"https://images2.imgbox.com/97/11/mjn87zBs_o.png\"},\"reddit\":{\"campaign\":\"https://www.reddit.com/r/spacex/comments/7hjp03/falcon_heavy_demo_launch_campaign_thread/\",\"launch\":\"https://www.reddit.com/r/spacex/comments/7vg63x/rspacex_falcon_heavy_test_flight_official_launch/\",\"media\":\"https://www.reddit.com/r/spacex/comments/7vimtm/rspacex_falcon_heavy_test_flight_media_thread/\",\"recovery\":null},\"flickr\":{\"small\":[],\"original\":[\"https://farm5.staticflickr.com/4745/40110304192_b0165b7785_o.jpg\",\"https://farm5.staticflickr.com/4676/40110297852_6173e5cae6_o.jpg\",\"https://farm5.staticflickr.com/4615/40143096241_0324643b5e_o.jpg\",\"https://farm5.staticflickr.com/4702/40110298232_4e9c412936_o.jpg\",\"https://farm5.staticflickr.com/4610/39337245575_41d760caef_o.jpg\",\"https://farm5.staticflickr.com/4654/25254688767_59603ff06c_o.jpg\",\"https://farm5.staticflickr.com/4627/40126462801_d54b4f00be_o.jpg\",\"https://farm5.staticflickr.com/4760/40126462231_cdf00ef431_o.jpg\",\"https://farm5.staticflickr.com/4655/40202121122_5d29cfe2ac_o.jpg\",\"https://farm5.staticflickr.com/4631/39337245145_5f5630a66a_o.jpg\",\"https://farm5.staticflickr.com/4650/40126461851_14b93ec9d7_o.jpg\",\"https://farm5.staticflickr.com/4711/40126461411_b1ed283d45_o.jpg\",\"https://farm5.staticflickr.com/4696/40126460511_7b5cc64871_o.jpg\",\"https://farm5.staticflickr.com/4589/38583831555_9ae89f5c10_o.jpg\",\"https://farm5.staticflickr.com/4682/38583829815_e01509d1a7_o.jpg\",\"https://farm5.staticflickr.com/4731/39225582801_80594d5d91_o.jpg\",\"https://farm5.staticflickr.com/4641/39225582421_7aa0c65851_o.jpg\",\"https://farm5.staticflickr.com/4643/27449864329_d2424bc280_o.jpg\",\"https://farm5.staticflickr.com/4681/39225582171_137a4c75e7_o.jpg\",\"https://farm5.staticflickr.com/4644/39225582351_ac6aba2533_o.jpg\",\"https://farm5.staticflickr.com/4587/27449863849_709e135a98_o.jpg\"]},\"presskit\":\"http://www.spacex.com/sites/spacex/files/falconheavypresskit_v1.pdf\",\"webcast\":\"https://www.youtube.com/watch?v=wbSwFU6tY1c\",\"youtube_id\":\"wbSwFU6tY1c\",\"article\":\"https://spaceflightnow.com/2018/02/07/spacex-debuts-worlds-most-powerful-rocket-sends-tesla-toward-the-asteroid-belt/\",\"wikipedia\":\"https://en.wikipedia.org/wiki/Elon_Musk%27s_Tesla_Roadster\"},\"static_fire_date_utc\":\"2018-01-24T17:30:00.000Z\",\"static_fire_date_unix\":1516815000,\"net\":false,\"window\":9000,\"rocket\":\"5e9d0d95eda69974db09d1ed\",\"success\":true,\"failures\":[],\"details\":\"The launch was a success, and the side boosters landed simultaneously at adjacent ground pads. Drone ship landing of the central core failed. Final burn to heliocentric mars-earth orbit was successful after the second stage and payload passed through the Van Allen belts.\",\"crew\":[],\"ships\":[\"5ea6ed2f080df4000697c90c\",\"5ea6ed2f080df4000697c90d\",\"5ea6ed30080df4000697c913\"],\"capsules\":[],\"payloads\":[\"5eb0e4c6b6c3bb0006eeb21c\"],\"launchpad\":\"5e9e4502f509094188566f88\",\"flight_number\":55,\"name\":\"Falcon Heavy Test Flight\",\"date_utc\":\"2018-02-06T20:45:00.000Z\",\"date_unix\":1517949900,\"date_local\":\"2018-02-06T15:45:00-05:00\",\"date_precision\":\"hour\",\"upcoming\":false,\"cores\":[{\"core\":\"5e9e28a5f359187f703b2653\",\"flight\":1,\"gridfins\":true,\"legs\":true,\"reused\":false,\"landing_attempt\":true,\"landing_success\":false,\"landing_type\":\"ASDS\",\"landpad\":\"5e9e3032383ecb6bb234e7ca\"},{\"core\":\"5e9e28a2f359187f273b2642\",\"flight\":2,\"gridfins\":true,\"legs\":true,\"reused\":true,\"landing_attempt\":true,\"landing_success\":true,\"landing_type\":\"RTLS\",\"landpad\":\"5e9e3032383ecb90a834e7c8\"},{\"core\":\"5e9e28a2f3591845c73b2640\",\"flight\":2,\"gridfins\":true,\"legs\":true,\"reused\":true,\"landing_attempt\":true,\"landing_success\":true,\"landing_type\":\"RTLS\",\"landpad\":\"5e9e3032383ecb267a34e7c7\"}],\"auto_update\":true,\"tbd\":false,\"launch_library_id\":null,\"id\":\"5eb87d13ffd86e000604b360\"},{\"fairings\":{\"reused\":false,\"recovery_attempt\":true,\"recovered\":false,\"ships\":[\"5ea6ed2e080df4000697c908\"]},\"links\":{\"patch\":{\"small\":\"https://images2.imgbox.com/a4/ac/cC7w8EJz_o.png\",\"large\":\"https://images2.imgbox.com/c9/fa/61ZcEua3_o.png\"},\"reddit\":{\"campaign\":\"https://www.reddit.com/r/spacex/comments/7qnflk/paz_microsat2a_2b_launch_campaign_thread/\",\"launch\":\"https://www.reddit.com/r/spacex/comments/7y0grt/rspacex_paz_official_launch_discussion_updates/\",\"media\":\"https://www.reddit.com/r/spacex/comments/7zdvop/rspacex_paz_media_thread_videos_images_gifs/\",\"recovery\":null},\"flickr\":{\"small\":[],\"original\":[\"https://farm5.staticflickr.com/4768/25557986627_f3cc243afb_o.jpg\",\"https://farm5.staticflickr.com/4631/25557986367_6339dd8f1d_o.jpg\",\"https://farm5.staticflickr.com/4650/25557987937_585c15c34d_o.jpg\",\"https://farm5.staticflickr.com/4695/39718494114_6523797470_o.jpg\",\"https://farm5.staticflickr.com/4655/39533211685_5e0ceb78ef_o.jpg\"]},\"presskit\":\"http://www.spacex.com/sites/spacex/files/paz_press_kit_2.21.pdf\",\"webcast\":\"https://www.youtube.com/watch?v=-p-PToD2URA\",\"youtube_id\":\"-p-PToD2URA\",\"article\":\"https://spaceflightnow.com/2018/02/22/recycled-spacex-rocket-boosts-paz-radar-satellite-first-starlink-testbeds-into-orbit/\",\"wikipedia\":\"https://en.wikipedia.org/wiki/Paz_(satellite)\"},\"static_fire_date_utc\":\"2018-02-11T18:23:00.000Z\",\"static_fire_date_unix\":1518373380,\"net\":false,\"window\":0,\"rocket\":\"5e9d0d95eda69973a809d1ec\",\"success\":true,\"failures\":[],\"details\":\"First flight with fairing 2.0. Will also carry two SpaceX test satellites for the upcoming Starlink constellation.\",\"crew\":[],\"ships\":[\"5ea6ed2e080df4000697c908\"],\"capsules\":[],\"payloads\":[\"5eb0e4c6b6c3bb0006eeb21d\",\"5eb0e4c6b6c3bb0006eeb21e\"],\"launchpad\":\"5e9e4502f509092b78566f87\",\"flight_number\":56,\"name\":\"Paz / Starlink Demo\",\"date_utc\":\"2018-02-22T14:17:00.000Z\",\"date_unix\":1519309020,\"date_local\":\"2018-02-22T06:17:00-08:00\",\"date_precision\":\"hour\",\"upcoming\":false,\"cores\":[{\"core\":\"5e9e28a4f359182d843b264e\",\"flight\":2,\"gridfins\":true,\"legs\":false,\"reused\":true,\"landing_attempt\":false,\"landing_success\":null,\"landing_type\":null,\"landpad\":null}],\"auto_update\":true,\"tbd\":false,\"launch_library_id\":null,\"id\":\"5eb87d14ffd86e000604b361\"},{\"fairings\":{\"reused\":false,\"recovery_attempt\":false,\"recovered\":false,\"ships\":[]},\"links\":{\"patch\":{\"small\":\"https://images2.imgbox.com/53/b7/HHAy8Wkp_o.png\",\"large\":\"https://images2.imgbox.com/66/4e/eQQSQrXp_o.png\"},\"reddit\":{\"campaign\":\"https://www.reddit.com/r/spacex/comments/7r5pyn/hispasat_30w6_launch_campaign_thread/\",\"launch\":\"https://www.reddit.com/r/spacex/comments/7r5pyn/hispasat_30w6_launch_campaign_thread/\",\"media\":\"https://www.reddit.com/r/spacex/comments/825asx/rspacex_hispasat_30w6_media_thread_videos_images/\",\"recovery\":null},\"flickr\":{\"small\":[],\"original\":[\"https://farm5.staticflickr.com/4753/25790223907_36e7b59efa_o.jpg\",\"https://farm5.staticflickr.com/4666/38850799080_e17426795c_o.jpg\",\"https://farm5.staticflickr.com/4758/40660917561_daa8efea04_o.jpg\",\"https://farm5.staticflickr.com/4622/39951085264_b5deeed6c9_o.jpg\",\"https://farm5.staticflickr.com/4772/39951085474_77be77c227_o.jpg\"]},\"presskit\":\"http://www.spacex.com/sites/spacex/files/hispasat30w6_presskit.pdf\",\"webcast\":\"https://www.youtube.com/watch?v=Kpfrp-GMKKM\",\"youtube_id\":\"Kpfrp-GMKKM\",\"article\":\"https://spaceflightnow.com/2018/03/06/hefty-hispasat-satellite-rides-spacex-rocket-into-orbit/\",\"wikipedia\":\"https://en.wikipedia.org/wiki/Hispasat_30W-6\"},\"static_fire_date_utc\":\"2018-02-21T03:46:00.000Z\",\"static_fire_date_unix\":1519184760,\"net\":false,\"window\":7200,\"rocket\":\"5e9d0d95eda69973a809d1ec\",\"success\":true,\"failures\":[],\"details\":\"Launched with landing legs and titanium grid fins. Did not attempt a landing due to \\'unfavorable weather conditions in the recovery area\\'.\",\"crew\":[],\"ships\":[],\"capsules\":[],\"payloads\":[\"5eb0e4c7b6c3bb0006eeb21f\"],\"launchpad\":\"5e9e4501f509094ba4566f84\",\"flight_number\":57,\"name\":\"Hispasat 30W-6\",\"date_utc\":\"2018-03-06T05:33:00.000Z\",\"date_unix\":1520314380,\"date_local\":\"2018-03-06T00:33:00-05:00\",\"date_precision\":\"hour\",\"upcoming\":false,\"cores\":[{\"core\":\"5e9e28a5f359186cb73b2654\",\"flight\":1,\"gridfins\":true,\"legs\":true,\"reused\":false,\"landing_attempt\":false,\"landing_success\":null,\"landing_type\":null,\"landpad\":null}],\"auto_update\":true,\"tbd\":false,\"launch_library_id\":null,\"id\":\"5eb87d15ffd86e000604b362\"},{\"fairings\":{\"reused\":false,\"recovery_attempt\":true,\"recovered\":false,\"ships\":[\"5ea6ed2e080df4000697c908\"]},\"links\":{\"patch\":{\"small\":\"https://images2.imgbox.com/55/c6/8sNQh2b6_o.png\",\"large\":\"https://images2.imgbox.com/23/bc/mq595O2o_o.png\"},\"reddit\":{\"campaign\":\"https://www.reddit.com/r/spacex/comments/82njj5/iridium_next_constellation_mission_5_launch/\",\"launch\":\"https://www.reddit.com/r/spacex/comments/88184i/rspacex_iridium_next_5_official_launch_discussion/\",\"media\":\"https://www.reddit.com/r/spacex/comments/88114l/rspacex_iridium5_media_thread_videos_images_gifs/\",\"recovery\":null},\"flickr\":{\"small\":[],\"original\":[\"https://farm1.staticflickr.com/791/40227113515_da97986607_o.jpg\",\"https://farm1.staticflickr.com/788/27248936158_2eaf1a98b3_o.jpg\",\"https://farm1.staticflickr.com/864/40227112595_c34a1cf8d1_o.jpg\",\"https://farm1.staticflickr.com/806/41121608121_8f0b886f9d_o.jpg\",\"https://farm1.staticflickr.com/809/41121608541_cdfec6a849_o.jpg\",\"https://farm1.staticflickr.com/822/40227112875_ec3c5df585_o.jpg\"]},\"presskit\":\"https://www.spacex.com/sites/spacex/files/iridium-5_press_kit_2018.pdf\",\"webcast\":\"https://www.youtube.com/watch?v=mp0TW8vkCLg\",\"youtube_id\":\"mp0TW8vkCLg\",\"article\":\"https://spaceflightnow.com/2018/03/30/iridium-messaging-network-gets-another-boost-from-spacex/\",\"wikipedia\":\"https://en.wikipedia.org/wiki/Iridium_satellite_constellation#Next-generation_constellation\"},\"static_fire_date_utc\":\"2018-03-25T12:23:00.000Z\",\"static_fire_date_unix\":1521980580,\"net\":false,\"window\":0,\"rocket\":\"5e9d0d95eda69973a809d1ec\",\"success\":true,\"failures\":[],\"details\":\"Fifth Iridium NEXT mission to deploy ten Iridium NEXT satellites. Reused booster from third Iridium flight, and although controlled descent was performed, the booster was expended into the ocean. SpaceX planned a second recovery attempt of one half of the fairing using the specially modified boat Mr. Steven. However, the fairing\\'s parafoil twisted during the recovery, which led to water impact at high speed\",\"crew\":[],\"ships\":[\"5ea6ed2e080df4000697c908\"],\"capsules\":[],\"payloads\":[\"5eb0e4c7b6c3bb0006eeb220\"],\"launchpad\":\"5e9e4502f509092b78566f87\",\"flight_number\":58,\"name\":\"Iridium NEXT Mission 5\",\"date_utc\":\"2018-03-30T14:13:51.000Z\",\"date_unix\":1522419231,\"date_local\":\"2018-03-30T07:13:51-08:00\",\"date_precision\":\"hour\",\"upcoming\":false,\"cores\":[{\"core\":\"5e9e28a4f3591843103b2650\",\"flight\":2,\"gridfins\":true,\"legs\":true,\"reused\":true,\"landing_attempt\":false,\"landing_success\":null,\"landing_type\":null,\"landpad\":null}],\"auto_update\":true,\"tbd\":false,\"launch_library_id\":null,\"id\":\"5eb87d16ffd86e000604b363\"},{\"fairings\":null,\"links\":{\"patch\":{\"small\":\"https://images2.imgbox.com/49/e8/6Tmdhwlq_o.png\",\"large\":\"https://images2.imgbox.com/28/c4/dc3rQbGy_o.png\"},\"reddit\":{\"campaign\":\"https://www.reddit.com/r/spacex/comments/82op7a/crs14_launch_campaign_thread/\",\"launch\":\"https://www.reddit.com/r/spacex/comments/88s8a7/rspacex_crs14_official_launch_discussion_updates/\",\"media\":\"https://www.reddit.com/r/spacex/comments/88l52i/rspacex_crs14_media_thread_videos_images_gifs/\",\"recovery\":null},\"flickr\":{\"small\":[],\"original\":[\"https://farm1.staticflickr.com/819/26326005987_c3aec29db5_o.jpg\",\"https://farm1.staticflickr.com/791/40303273215_4926c917c4_o.jpg\",\"https://farm1.staticflickr.com/867/26326007227_39e71e6775_o.jpg\"]},\"presskit\":\"http://www.spacex.com/sites/spacex/files/crs-14presskit2018.pdf\",\"webcast\":\"https://www.youtube.com/watch?v=BPQHG-LevZM\",\"youtube_id\":\"BPQHG-LevZM\",\"article\":\"https://spaceflightnow.com/2018/04/02/spacex-supply-ship-departs-cape-canaveral-for-space-station/\",\"wikipedia\":\"https://en.wikipedia.org/wiki/SpaceX_CRS-14\"},\"static_fire_date_utc\":\"2018-03-28T15:52:00.000Z\",\"static_fire_date_unix\":1522252320,\"net\":false,\"window\":0,\"rocket\":\"5e9d0d95eda69973a809d1ec\",\"success\":true,\"failures\":[],\"details\":\"The launch used a refurbished booster (from CRS-12) for the 11th time, and a refurbished capsule (C110 from CRS-8) for the third time. External payloads include a materials research platform MISSE-FF phase 3 of the Robotic Refueling Mission TSIS, heliophysics sensor several crystallization experiments, and the RemoveDebris spacecraft aimed at space junk removal. The booster was expended in order to test a new landing profile.\",\"crew\":[],\"ships\":[\"5ea6ed30080df4000697c912\"],\"capsules\":[\"5e9e2c5cf3591885d43b266d\"],\"payloads\":[\"5eb0e4c7b6c3bb0006eeb221\"],\"launchpad\":\"5e9e4501f509094ba4566f84\",\"flight_number\":59,\"name\":\"CRS-14\",\"date_utc\":\"2018-04-02T20:30:41.000Z\",\"date_unix\":1522701041,\"date_local\":\"2018-04-02T16:30:41-04:00\",\"date_precision\":\"hour\",\"upcoming\":false,\"cores\":[{\"core\":\"5e9e28a4f3591884ee3b264d\",\"flight\":2,\"gridfins\":true,\"legs\":true,\"reused\":true,\"landing_attempt\":false,\"landing_success\":null,\"landing_type\":null,\"landpad\":null}],\"auto_update\":true,\"tbd\":false,\"launch_library_id\":null,\"id\":\"5eb87d16ffd86e000604b364\"},{\"fairings\":{\"reused\":false,\"recovery_attempt\":false,\"recovered\":false,\"ships\":[]},\"links\":{\"patch\":{\"small\":\"https://images2.imgbox.com/4d/55/TQjhUrc7_o.png\",\"large\":\"https://images2.imgbox.com/22/84/wfppRwXb_o.png\"},\"reddit\":{\"campaign\":\"https://www.reddit.com/r/spacex/comments/88l46q/tess_launch_campaign_thread/\",\"launch\":\"https://www.reddit.com/r/spacex/comments/8cm61o/rspacex_tess_official_launch_discussion_updates/\",\"media\":\"https://www.reddit.com/r/spacex/comments/8cmzop/rspacex_tess_media_thread_videos_images_gifs/\",\"recovery\":null},\"flickr\":{\"small\":[],\"original\":[\"https://farm1.staticflickr.com/799/27684194488_0d9a703c1c_o.jpg\",\"https://farm1.staticflickr.com/854/41512967372_0c37360126_o.jpg\",\"https://farm1.staticflickr.com/832/41512968122_20c2e31de3_o.jpg\",\"https://farm1.staticflickr.com/803/27684194678_c1ccd0680b_o.jpg\",\"https://farm1.staticflickr.com/902/41512967962_74913ef5b0_o.jpg\"]},\"presskit\":\"http://www.spacex.com/sites/spacex/files/tesspresskitfinal417.pdf\",\"webcast\":\"https://www.youtube.com/watch?v=aY-0uBIYYKk\",\"youtube_id\":\"aY-0uBIYYKk\",\"article\":\"https://spaceflightnow.com/2018/04/19/all-sky-surveyor-launched-from-cape-canaveral-on-the-hunt-for-exoplanets/\",\"wikipedia\":\"https://en.wikipedia.org/wiki/Transiting_Exoplanet_Survey_Satellite\"},\"static_fire_date_utc\":\"2018-04-11T18:30:00.000Z\",\"static_fire_date_unix\":1523471400,\"net\":false,\"window\":30,\"rocket\":\"5e9d0d95eda69973a809d1ec\",\"success\":true,\"failures\":[],\"details\":\"Part of the Explorers program, this space telescope is intended for wide-field search of exoplanets transiting nearby stars. It is the first NASA high priority science mission launched by SpaceX. It was the first time SpaceX launched a scientific satellite not primarily intended for Earth observations. The second stage placed it into a high-Earth elliptical orbit, after which the satellite\\'s own booster will perform complex maneuvers including a lunar flyby, and over the course of two months, reach a stable, 2:1 resonant orbit with the Moon. In January 2018, SpaceX received NASA\\'s Launch Services Program Category 2 certification of its Falcon 9 \\'Full Thrust\\', certification which is required for launching medium risk missions like TESS. It was the last launch of a new Block 4 booster, and marked the 24th successful recovery of the booster. An experimental water landing was performed in order to attempt fairing recovery.\",\"crew\":[],\"ships\":[\"5ea6ed2e080df4000697c90a\",\"5ea6ed2f080df4000697c90b\",\"5ea6ed2f080df4000697c90d\",\"5ea6ed30080df4000697c913\"],\"capsules\":[],\"payloads\":[\"5eb0e4c7b6c3bb0006eeb222\"],\"launchpad\":\"5e9e4501f509094ba4566f84\",\"flight_number\":60,\"name\":\"TESS\",\"date_utc\":\"2018-04-18T22:51:00.000Z\",\"date_unix\":1524091860,\"date_local\":\"2018-04-18T18:51:00-04:00\",\"date_precision\":\"hour\",\"upcoming\":false,\"cores\":[{\"core\":\"5e9e28a5f35918863d3b2655\",\"flight\":1,\"gridfins\":true,\"legs\":true,\"reused\":false,\"landing_attempt\":true,\"landing_success\":true,\"landing_type\":\"ASDS\",\"landpad\":\"5e9e3032383ecb6bb234e7ca\"}],\"auto_update\":true,\"tbd\":false,\"launch_library_id\":null,\"id\":\"5eb87d18ffd86e000604b365\"},{\"fairings\":{\"reused\":false,\"recovery_attempt\":false,\"recovered\":false,\"ships\":[]},\"links\":{\"patch\":{\"small\":\"https://images2.imgbox.com/97/bf/G9sPBnrg_o.png\",\"large\":\"https://images2.imgbox.com/8e/80/QIE1XB30_o.png\"},\"reddit\":{\"campaign\":\"https://www.reddit.com/r/spacex/comments/8624iq/bangabandhu1_launch_campaign_thread/\",\"launch\":\"https://www.reddit.com/r/spacex/comments/8ia091/rspacex_bangabandhu1_official_launch_discussion\",\"media\":\"https://www.reddit.com/r/spacex/comments/8ia5bu/rspacex_bangabandhu1_media_thread_videos_images/\",\"recovery\":\"https://www.reddit.com/r/spacex/comments/8j6moa/bangabandhu1_block_5_recovery_thread/\"},\"flickr\":{\"small\":[],\"original\":[\"https://farm1.staticflickr.com/903/28197547888_dd697d8147_o.jpg\",\"https://farm1.staticflickr.com/823/42025498712_8ec531950f_o.jpg\",\"https://farm1.staticflickr.com/975/28197546158_880e466fb6_o.jpg\",\"https://farm1.staticflickr.com/823/27200014957_940f3720bb_o.jpg\",\"https://farm1.staticflickr.com/945/42025498442_0b7b91d561_o.jpg\",\"https://farm1.staticflickr.com/967/42025498972_8720104d8a_o.jpg\",\"https://farm1.staticflickr.com/954/42025499162_8a0ef7feaa_o.jpg\",\"https://farm1.staticflickr.com/911/42025499722_47d3433d65_o.jpg\"]},\"presskit\":\"http://www.spacex.com/sites/spacex/files/bangabandhupresskit51118.pdf\",\"webcast\":\"https://www.youtube.com/watch?v=rQEqKZ7CJlk\",\"youtube_id\":\"rQEqKZ7CJlk\",\"article\":\"https://spaceflightnow.com/2018/05/11/spacex-debuts-an-improved-human-rated-model-of-the-falcon-9-rocket/\",\"wikipedia\":\"https://en.wikipedia.org/wiki/Bangabandhu-1\"},\"static_fire_date_utc\":\"2018-05-04T23:25:00.000Z\",\"static_fire_date_unix\":1525476300,\"net\":false,\"window\":7620,\"rocket\":\"5e9d0d95eda69973a809d1ec\",\"success\":true,\"failures\":[],\"details\":\"First launch of a Block V first stage.\",\"crew\":[],\"ships\":[\"5ea6ed2e080df4000697c90a\",\"5ea6ed2f080df4000697c90b\",\"5ea6ed30080df4000697c913\",\"5ea6ed30080df4000697c916\"],\"capsules\":[],\"payloads\":[\"5eb0e4c7b6c3bb0006eeb223\"],\"launchpad\":\"5e9e4502f509094188566f88\",\"flight_number\":61,\"name\":\"Bangabandhu-1\",\"date_utc\":\"2018-05-11T20:14:00.000Z\",\"date_unix\":1526069640,\"date_local\":\"2018-05-11T16:14:00-04:00\",\"date_precision\":\"hour\",\"upcoming\":false,\"cores\":[{\"core\":\"5e9e28a5f359182b023b2656\",\"flight\":1,\"gridfins\":true,\"legs\":true,\"reused\":false,\"landing_attempt\":true,\"landing_success\":true,\"landing_type\":\"ASDS\",\"landpad\":\"5e9e3032383ecb6bb234e7ca\"}],\"auto_update\":true,\"tbd\":false,\"launch_library_id\":null,\"id\":\"5eb87d19ffd86e000604b366\"},{\"fairings\":{\"reused\":false,\"recovery_attempt\":true,\"recovered\":false,\"ships\":[\"5ea6ed2e080df4000697c908\"]},\"links\":{\"patch\":{\"small\":\"https://images2.imgbox.com/c8/01/ijWT6oSs_o.png\",\"large\":\"https://images2.imgbox.com/e9/61/9dF2ELMJ_o.png\"},\"reddit\":{\"campaign\":\"https://www.reddit.com/r/spacex/comments/8ffsgl/iridium6_gracefo_launch_campaign_thread/\",\"launch\":\"https://www.reddit.com/r/spacex/comments/8kyk5a/rspacex_iridium_next_6_official_launch_discussion/\",\"media\":\"https://www.reddit.com/r/spacex/comments/8l9tfz/rspacex_iridium6gracefo_media_thread_videos/\",\"recovery\":null},\"flickr\":{\"small\":[],\"original\":[\"https://farm1.staticflickr.com/897/42290934301_4c6ac431c8_o.jpg\",\"https://farm1.staticflickr.com/831/42290933051_510176c9da_o.jpg\",\"https://farm1.staticflickr.com/882/42290932011_a522b43015_o.jpg\",\"https://farm1.staticflickr.com/947/42290930761_4bf7b607b1_o.jpg\",\"https://farm1.staticflickr.com/982/42290930181_0117ab0dfb_o.jpg\",\"https://farm1.staticflickr.com/955/42244412292_e787538fc5_o.jpg\"]},\"presskit\":\"http://www.spacex.com/sites/spacex/files/iridium6presskit2018521.pdf\",\"webcast\":\"https://www.youtube.com/watch?v=I_0GgKfwCSk\",\"youtube_id\":\"I_0GgKfwCSk\",\"article\":\"https://spaceflightnow.com/2018/05/22/rideshare-launch-by-spacex-serves-commercial-and-scientific-customers/\",\"wikipedia\":\"https://en.wikipedia.org/wiki/Gravity_Recovery_and_Climate_Experiment\"},\"static_fire_date_utc\":\"2018-05-18T20:16:00.000Z\",\"static_fire_date_unix\":1526674560,\"net\":false,\"window\":0,\"rocket\":\"5e9d0d95eda69973a809d1ec\",\"success\":true,\"failures\":[],\"details\":\"GFZ arranged a rideshare of GRACE-FO on a Falcon 9 with Iridium following the cancellation of their Dnepr launch contract in 2015. Iridium CEO Matt Desch disclosed in September 2017 that GRACE-FO would be launched on the sixth Iridium NEXT mission. The booster reuse turnaround was a record 4.5 months between flights.\",\"crew\":[],\"ships\":[\"5ea6ed2e080df4000697c908\"],\"capsules\":[],\"payloads\":[\"5eb0e4c7b6c3bb0006eeb224\",\"5eb0e4c8b6c3bb0006eeb225\"],\"launchpad\":\"5e9e4502f509092b78566f87\",\"flight_number\":62,\"name\":\"Iridium NEXT Mission 6\",\"date_utc\":\"2018-05-22T19:47:58.000Z\",\"date_unix\":1527018478,\"date_local\":\"2018-05-22T12:47:58-08:00\",\"date_precision\":\"hour\",\"upcoming\":false,\"cores\":[{\"core\":\"5e9e28a4f35918345e3b2652\",\"flight\":2,\"gridfins\":true,\"legs\":false,\"reused\":true,\"landing_attempt\":false,\"landing_success\":null,\"landing_type\":null,\"landpad\":null}],\"auto_update\":true,\"tbd\":false,\"launch_library_id\":null,\"id\":\"5eb87d1affd86e000604b367\"},{\"fairings\":{\"reused\":false,\"recovery_attempt\":false,\"recovered\":false,\"ships\":[]},\"links\":{\"patch\":{\"small\":\"https://images2.imgbox.com/fa/c4/37mkd4wY_o.png\",\"large\":\"https://images2.imgbox.com/9f/0c/0KIBjMfe_o.png\"},\"reddit\":{\"campaign\":\"https://www.reddit.com/r/spacex/comments/8jv0ed/ses12_launch_campaign_thread/\",\"launch\":\"https://www.reddit.com/r/spacex/comments/8o9woj/rspacex_ses12_official_launch_discussion_updates/\",\"media\":\"https://www.reddit.com/r/spacex/comments/8oa3k4/rspacex_ses12_media_thread_videos_images_gifs/\",\"recovery\":null},\"flickr\":{\"small\":[],\"original\":[\"https://farm2.staticflickr.com/1752/41664024035_14c81a25e3_o.jpg\",\"https://farm2.staticflickr.com/1731/27695627527_d9d5bca0ae_o.jpg\",\"https://farm2.staticflickr.com/1735/27695627327_ed66c7282c_o.jpg\",\"https://farm2.staticflickr.com/1752/27695627417_38ea7d7acf_o.jpg\",\"https://farm2.staticflickr.com/1733/41664023935_e9e8120690_o.jpg\"]},\"presskit\":\"http://www.spacex.com/sites/spacex/files/ses-12missionpress_kit_6.2.18.pdf\",\"webcast\":\"https://www.youtube.com/watch?v=2hcM5hqQ45s\",\"youtube_id\":\"2hcM5hqQ45s\",\"article\":\"https://spaceflightnow.com/2018/06/04/multi-mission-telecom-craft-launched-by-spacex-for-ses/\",\"wikipedia\":\"https://en.wikipedia.org/wiki/SES-12\"},\"static_fire_date_utc\":\"2018-05-25T01:48:00.000Z\",\"static_fire_date_unix\":1527212880,\"net\":false,\"window\":7200,\"rocket\":\"5e9d0d95eda69973a809d1ec\",\"success\":true,\"failures\":[],\"details\":\"SES-12, the replacement satellite for NSS-6, was successfully launched and deployed on June 4th, completing SpaceX\\'s eleventh flight of 2018. According to SES Luxembourg, The SES-12 satellite will expand SES\\xe2\\x80\\x99s capabilities to provide direct-to-home (DTH) broadcasting, VSAT, Mobility and High Throughput Satellite (HTS) data connectivity services in the Middle East and the Asia-Pacific region, including rapidly growing markets such as India and Indonesia. [SES-12] will be co-located with SES-8\",\"crew\":[],\"ships\":[\"5ea6ed2e080df4000697c90a\"],\"capsules\":[],\"payloads\":[\"5eb0e4c8b6c3bb0006eeb226\"],\"launchpad\":\"5e9e4501f509094ba4566f84\",\"flight_number\":63,\"name\":\"SES-12\",\"date_utc\":\"2018-06-04T04:45:00.000Z\",\"date_unix\":1528087500,\"date_local\":\"2018-06-04T00:45:00-04:00\",\"date_precision\":\"hour\",\"upcoming\":false,\"cores\":[{\"core\":\"5e9e28a4f3591845123b264f\",\"flight\":2,\"gridfins\":false,\"legs\":false,\"reused\":true,\"landing_attempt\":false,\"landing_success\":null,\"landing_type\":null,\"landpad\":null}],\"auto_update\":true,\"tbd\":false,\"launch_library_id\":null,\"id\":\"5eb87d1bffd86e000604b368\"},{\"fairings\":null,\"links\":{\"patch\":{\"small\":\"https://images2.imgbox.com/b3/12/t63UKas5_o.png\",\"large\":\"https://images2.imgbox.com/15/3c/W0LEnrZx_o.png\"},\"reddit\":{\"campaign\":\"https://www.reddit.com/r/spacex/comments/8pua1m/crs15_launch_campaign_thread/\",\"launch\":\"https://www.reddit.com/r/spacex/comments/8ugo3l/rspacex_crs15_official_launch_discussion_updates\",\"media\":\"https://www.reddit.com/r/spacex/comments/8ujcwo/rspacex_crs15_media_thread_videos_images_gifs/\",\"recovery\":null},\"flickr\":{\"small\":[],\"original\":[\"https://farm1.staticflickr.com/836/42374725204_dae09db889_o.jpg\",\"https://farm2.staticflickr.com/1781/41281636860_71dca92ab4_o.jpg\",\"https://farm2.staticflickr.com/1829/42374725534_325e676d19_o.jpg\",\"https://farm2.staticflickr.com/1810/42374724974_e50b050403_o.jpg\",\"https://farm1.staticflickr.com/843/41281636620_437528bd1f_o.jpg\",\"https://farm2.staticflickr.com/1790/41281637670_f6a6a2cf6c_o.jpg\"]},\"presskit\":\"http://www.spacex.com/sites/spacex/files/crs15presskit.pdf\",\"webcast\":\"https://www.youtube.com/watch?v=ycMagB1s8XM\",\"youtube_id\":\"ycMagB1s8XM\",\"article\":\"https://spaceflightnow.com/2018/06/29/spacex-launches-ai-enabled-robot-companion-vegetation-monitor-to-space-station/\",\"wikipedia\":\"https://en.wikipedia.org/wiki/SpaceX_CRS-15\"},\"static_fire_date_utc\":\"2018-06-23T21:30:00.000Z\",\"static_fire_date_unix\":1529789400,\"net\":false,\"window\":0,\"rocket\":\"5e9d0d95eda69973a809d1ec\",\"success\":true,\"failures\":[],\"details\":\"Payload included MISSE-FF 2, ECOSTRESS, and a Latching End Effector. The refurbished booster featured a record 2.5 months period turnaround from its original launch of the TESS satellite \\xe2\\x80\\x94 the fastest previous was 4.5 months. This was the last commercial flight of a Block 4 booster, which was expended into the Atlantic without landing legs and grid fins.\",\"crew\":[],\"ships\":[\"5ea6ed30080df4000697c912\"],\"capsules\":[\"5e9e2c5cf359183bb73b266e\"],\"payloads\":[\"5eb0e4c8b6c3bb0006eeb227\"],\"launchpad\":\"5e9e4501f509094ba4566f84\",\"flight_number\":64,\"name\":\"CRS-15\",\"date_utc\":\"2018-06-29T09:42:00.000Z\",\"date_unix\":1530265320,\"date_local\":\"2018-06-29T05:42:00-04:00\",\"date_precision\":\"hour\",\"upcoming\":false,\"cores\":[{\"core\":\"5e9e28a5f35918863d3b2655\",\"flight\":2,\"gridfins\":false,\"legs\":false,\"reused\":true,\"landing_attempt\":false,\"landing_success\":null,\"landing_type\":null,\"landpad\":null}],\"auto_update\":true,\"tbd\":false,\"launch_library_id\":null,\"id\":\"5eb87d1cffd86e000604b369\"},{\"fairings\":{\"reused\":false,\"recovery_attempt\":false,\"recovered\":false,\"ships\":[]},\"links\":{\"patch\":{\"small\":\"https://images2.imgbox.com/2b/de/2CF8Q4Bq_o.png\",\"large\":\"https://images2.imgbox.com/c0/d8/Jt7Es9az_o.png\"},\"reddit\":{\"campaign\":\"https://www.reddit.com/r/spacex/comments/8w19yg/telstar_19v_launch_campaign_thread/\",\"launch\":\"https://www.reddit.com/r/spacex/comments/90p1a6/rspacex_telstar_19v_official_launch_discussion/\",\"media\":\"https://www.reddit.com/r/spacex/comments/90oxrr/rspacex_telstar_19v_media_thread_videos_images/\",\"recovery\":null},\"flickr\":{\"small\":[],\"original\":[\"https://farm1.staticflickr.com/856/28684550147_49802752b3_o.jpg\",\"https://farm1.staticflickr.com/927/28684552447_956a9744f1_o.jpg\",\"https://farm2.staticflickr.com/1828/29700007298_8ac5891d2c_o.jpg\",\"https://farm1.staticflickr.com/914/29700004918_31ed7b73ef_o.jpg\",\"https://farm1.staticflickr.com/844/29700002748_3047e50a0a_o.jpg\",\"https://farm2.staticflickr.com/1786/29700000688_2514cd3cbb_o.jpg\"]},\"presskit\":\"http://www.spacex.com/sites/spacex/files/telstar19vantagepresskit.pdf\",\"webcast\":\"https://www.youtube.com/watch?v=xybp6zLaGx4\",\"youtube_id\":\"xybp6zLaGx4\",\"article\":\"https://spaceflightnow.com/2018/07/22/spacex-delivers-for-telesat-with-successful-early-morning-launch/\",\"wikipedia\":\"https://en.wikipedia.org/wiki/Telstar_19V\"},\"static_fire_date_utc\":\"2018-07-18T21:00:00.000Z\",\"static_fire_date_unix\":1531947600,\"net\":false,\"window\":7200,\"rocket\":\"5e9d0d95eda69973a809d1ec\",\"success\":true,\"failures\":[],\"details\":\"SSL-manufactured communications satellite intended to be placed at 63\\xc2\\xb0 West over the Americas. At 7,075 kg, it became the heaviest commercial communications satellite ever launched.\",\"crew\":[],\"ships\":[\"5ea6ed2e080df4000697c90a\",\"5ea6ed2f080df4000697c90b\",\"5ea6ed2f080df4000697c90d\",\"5ea6ed30080df4000697c913\"],\"capsules\":[],\"payloads\":[\"5eb0e4c8b6c3bb0006eeb228\"],\"launchpad\":\"5e9e4501f509094ba4566f84\",\"flight_number\":65,\"name\":\"Telstar 19V\",\"date_utc\":\"2018-07-22T05:50:00.000Z\",\"date_unix\":1532238600,\"date_local\":\"2018-07-22T01:50:00-04:00\",\"date_precision\":\"hour\",\"upcoming\":false,\"cores\":[{\"core\":\"5e9e28a5f359181eed3b2657\",\"flight\":1,\"gridfins\":true,\"legs\":true,\"reused\":false,\"landing_attempt\":true,\"landing_success\":true,\"landing_type\":\"ASDS\",\"landpad\":\"5e9e3032383ecb6bb234e7ca\"}],\"auto_update\":true,\"tbd\":false,\"launch_library_id\":null,\"id\":\"5eb87d1effd86e000604b36a\"},{\"fairings\":{\"reused\":false,\"recovery_attempt\":true,\"recovered\":false,\"ships\":[\"5ea6ed2e080df4000697c908\"]},\"links\":{\"patch\":{\"small\":\"https://images2.imgbox.com/b4/96/LRfRepkO_o.png\",\"large\":\"https://images2.imgbox.com/e6/10/oZPCNx0m_o.png\"},\"reddit\":{\"campaign\":\"https://www.reddit.com/r/spacex/comments/8v4wcm/iridium_next_constellation_mission_7_launch/\",\"launch\":\"https://www.reddit.com/r/spacex/comments/91i1ru/rspacex_iridium_next_7_official_launch_discussion/\",\"media\":\"https://www.reddit.com/r/spacex/comments/91gx44/rspacex_iridium_next_constellation_mission_7/\",\"recovery\":null},\"flickr\":{\"small\":[],\"original\":[\"https://farm1.staticflickr.com/934/41868222930_0a850d30dc_o.jpg\",\"https://farm1.staticflickr.com/852/41868222500_2ff5f6e5f9_o.jpg\",\"https://farm1.staticflickr.com/929/28787338307_7c0cfce99a_o.jpg\",\"https://farm1.staticflickr.com/928/28787338507_3be74590d2_o.jpg\"]},\"presskit\":\"http://www.spacex.com/sites/spacex/files/iridium7_press_kit_7_24.pdf\",\"webcast\":\"https://www.youtube.com/watch?v=vsDknmK30C0\",\"youtube_id\":\"vsDknmK30C0\",\"article\":\"https://spaceflightnow.com/2018/07/25/spacexs-second-launch-in-three-days-lofts-10-more-iridium-satellites/\",\"wikipedia\":\"https://en.wikipedia.org/wiki/Iridium_satellite_constellation#Next-generation_constellation\"},\"static_fire_date_utc\":\"2018-07-20T21:08:00.000Z\",\"static_fire_date_unix\":1532120880,\"net\":false,\"window\":0,\"rocket\":\"5e9d0d95eda69973a809d1ec\",\"success\":true,\"failures\":[],\"details\":\"SpaceX\\'s fourteenth flight of 2018 and seventh of eight launches in a half-a-billion-dollar contract with Iridium. Will use a Block 5 first stage, to be recovered in the Pacific Ocean. Only one mission will be left for Iridium, with 10 more satellites. First attempt to recover a Fairing with the upgraded net. Fairing recovery was not successful.\",\"crew\":[],\"ships\":[\"5ea6ed2f080df4000697c910\",\"5ea6ed2e080df4000697c908\",\"5ea6ed30080df4000697c912\",\"5ea6ed30080df4000697c914\"],\"capsules\":[],\"payloads\":[\"5eb0e4c9b6c3bb0006eeb229\"],\"launchpad\":\"5e9e4502f509092b78566f87\",\"flight_number\":66,\"name\":\"Iridium NEXT Mission 7\",\"date_utc\":\"2018-07-25T11:39:26.000Z\",\"date_unix\":1532518766,\"date_local\":\"2018-07-25T04:39:26-07:00\",\"date_precision\":\"hour\",\"upcoming\":false,\"cores\":[{\"core\":\"5e9e28a5f3591809c03b2658\",\"flight\":1,\"gridfins\":true,\"legs\":true,\"reused\":false,\"landing_attempt\":true,\"landing_success\":true,\"landing_type\":\"ASDS\",\"landpad\":\"5e9e3033383ecbb9e534e7cc\"}],\"auto_update\":true,\"tbd\":false,\"launch_library_id\":null,\"id\":\"5eb87d1fffd86e000604b36b\"},{\"fairings\":{\"reused\":false,\"recovery_attempt\":false,\"recovered\":false,\"ships\":[]},\"links\":{\"patch\":{\"small\":\"https://images2.imgbox.com/46/b2/NUQmyHR4_o.png\",\"large\":\"https://images2.imgbox.com/9e/eb/uGUYOYfZ_o.png\"},\"reddit\":{\"campaign\":\"https://www.reddit.com/r/spacex/comments/91gwfg/merah_putih_telkom4_launch_campaign_thread/\",\"launch\":\"https://www.reddit.com/r/spacex/comments/9539nr/rspacex_merah_putih_telkom4_official_launch/\",\"media\":\"https://www.reddit.com/r/spacex/comments/94zr0b/rspacex_merah_putih_media_thread_videos_images/\",\"recovery\":null},\"flickr\":{\"small\":[],\"original\":[\"https://farm2.staticflickr.com/1798/43862495212_8fe1688c4b_o.jpg\",\"https://farm1.staticflickr.com/935/43006330655_f1623a3fa1_o.jpg\",\"https://farm1.staticflickr.com/938/28974313177_d16381ff5f_o.jpg\",\"https://farm2.staticflickr.com/1780/43006334045_fb7b4a8714_o.jpg\",\"https://farm1.staticflickr.com/929/28974335747_ffd87ff274_o.jpg\",\"https://farm1.staticflickr.com/930/30041972208_f735b9690b_o.jpg\"]},\"presskit\":\"https://www.spacex.com/sites/spacex/files/merahputihpresskit.pdf\",\"webcast\":\"https://www.youtube.com/watch?v=FjfQNBYv2IY\",\"youtube_id\":\"FjfQNBYv2IY\",\"article\":\"https://spaceflightnow.com/2018/08/07/indonesian-communications-satellite-deployed-in-orbit-by-spacex/\",\"wikipedia\":\"https://en.wikipedia.org/wiki/Telkom_Indonesia\"},\"static_fire_date_utc\":\"2018-08-02T15:53:00.000Z\",\"static_fire_date_unix\":1533225180,\"net\":false,\"window\":7200,\"rocket\":\"5e9d0d95eda69973a809d1ec\",\"success\":true,\"failures\":[],\"details\":\"SpaceX\\'s fifteenth flight of 2018 launched the Merah Putih (also known as Telkom-4) geostationary communications satellite for Telkom Indonesia. It marked the first reuse of any Block 5 first stage; the booster B1046 had previously launched Bangabandhu-1. The stage was recovered and is expected to become the first Falcon 9 booster to fly three missions.\",\"crew\":[],\"ships\":[\"5ea6ed2f080df4000697c90d\",\"5ea6ed30080df4000697c913\"],\"capsules\":[],\"payloads\":[\"5eb0e4c9b6c3bb0006eeb22a\"],\"launchpad\":\"5e9e4501f509094ba4566f84\",\"flight_number\":67,\"name\":\"Merah Putih\",\"date_utc\":\"2018-08-07T05:18:00.000Z\",\"date_unix\":1533619080,\"date_local\":\"2018-08-07T01:18:00-04:00\",\"date_precision\":\"hour\",\"upcoming\":false,\"cores\":[{\"core\":\"5e9e28a5f359182b023b2656\",\"flight\":2,\"gridfins\":true,\"legs\":true,\"reused\":true,\"landing_attempt\":true,\"landing_success\":true,\"landing_type\":\"ASDS\",\"landpad\":\"5e9e3032383ecb6bb234e7ca\"}],\"auto_update\":true,\"tbd\":false,\"launch_library_id\":null,\"id\":\"5eb87d20ffd86e000604b36c\"},{\"fairings\":{\"reused\":false,\"recovery_attempt\":false,\"recovered\":false,\"ships\":[]},\"links\":{\"patch\":{\"small\":\"https://images2.imgbox.com/55/54/73EXeMfo_o.png\",\"large\":\"https://images2.imgbox.com/fd/59/nv3Ih3Am_o.png\"},\"reddit\":{\"campaign\":\"https://www.reddit.com/r/spacex/comments/95cte4/telstar_18v_apstar_5c_launch_campaign_thread/\",\"launch\":\"https://www.reddit.com/r/spacex/comments/9e7bmq/rspacex_telstar_18v_official_launch_discussion/\",\"media\":\"https://www.reddit.com/r/spacex/comments/9ebkqw/rspacex_telstar_18v_media_thread_videos_images/\",\"recovery\":\"https://www.reddit.com/r/spacex/comments/9erxlh/telstar_18_vantage_recovery_thread/\"},\"flickr\":{\"small\":[],\"original\":[\"https://farm2.staticflickr.com/1878/43690848045_492ef182dd_o.jpg\",\"https://farm2.staticflickr.com/1856/43881229604_6d42e838b6_o.jpg\",\"https://farm2.staticflickr.com/1852/43881223704_93777e34af_o.jpg\",\"https://farm2.staticflickr.com/1841/43881217094_558b7b214e_o.jpg\",\"https://farm2.staticflickr.com/1869/43881193934_423eff8c86_o.jpg\"]},\"presskit\":\"https://www.spacex.com/sites/spacex/files/telstar18vantagepresskit.pdf\",\"webcast\":\"https://www.youtube.com/watch?v=Apw3xqwsG1U\",\"youtube_id\":\"Apw3xqwsG1U\",\"article\":\"https://spaceflightnow.com/2018/09/10/spacex-telesat-achieve-repeat-success-with-midnight-hour-launch/\",\"wikipedia\":\"https://en.wikipedia.org/wiki/Telstar_18V\"},\"static_fire_date_utc\":\"2018-09-05T07:21:00.000Z\",\"static_fire_date_unix\":1536132060,\"net\":false,\"window\":14400,\"rocket\":\"5e9d0d95eda69973a809d1ec\",\"success\":true,\"failures\":[],\"details\":\"SpaceX\\'s sixteenth flight of 2018 launched the Telstar 18v GEO communication satellite for Telesat, the second launch for the canadian company in a few months. The first stage was a new Falcon 9 V1.2 Block 5 which was successfully recovered on OCISLY.\",\"crew\":[],\"ships\":[\"5ea6ed30080df4000697c913\",\"5ea6ed2f080df4000697c90d\",\"5ea6ed2f080df4000697c90b\"],\"capsules\":[],\"payloads\":[\"5eb0e4c9b6c3bb0006eeb22b\"],\"launchpad\":\"5e9e4501f509094ba4566f84\",\"flight_number\":68,\"name\":\"Telstar 18V\",\"date_utc\":\"2018-09-10T04:45:00.000Z\",\"date_unix\":1536554700,\"date_local\":\"2018-09-10T00:45:00-04:00\",\"date_precision\":\"hour\",\"upcoming\":false,\"cores\":[{\"core\":\"5e9e28a5f3591833b13b2659\",\"flight\":1,\"gridfins\":true,\"legs\":true,\"reused\":false,\"landing_attempt\":true,\"landing_success\":true,\"landing_type\":\"ASDS\",\"landpad\":\"5e9e3032383ecb6bb234e7ca\"}],\"auto_update\":true,\"tbd\":false,\"launch_library_id\":null,\"id\":\"5eb87d22ffd86e000604b36d\"},{\"fairings\":{\"reused\":false,\"recovery_attempt\":false,\"recovered\":false,\"ships\":[]},\"links\":{\"patch\":{\"small\":\"https://images2.imgbox.com/cb/41/RQIY0BjQ_o.png\",\"large\":\"https://images2.imgbox.com/df/2c/DsfygPln_o.png\"},\"reddit\":{\"campaign\":\"https://www.reddit.com/r/spacex/comments/9fwj9o/saocom_1a_launch_campaign_thread/\",\"launch\":\"https://www.reddit.com/r/spacex/comments/9lazvr/rspacex_saocom_1a_official_launch_discussion/\",\"media\":\"https://www.reddit.com/r/spacex/comments/9m3ly5/rspacex_saocom_1a_media_thread_videos_images_gifs/\",\"recovery\":null},\"flickr\":{\"small\":[],\"original\":[\"https://farm2.staticflickr.com/1940/44262177535_9582184d3f_o.jpg\",\"https://farm2.staticflickr.com/1917/30234800687_fd94fde151_o.jpg\",\"https://farm2.staticflickr.com/1951/30234801997_b5a65426ca_o.jpg\",\"https://farm2.staticflickr.com/1910/44262169525_e4c6b27299_o.jpg\",\"https://farm2.staticflickr.com/1923/44451125454_8d26929d0b_o.jpg\",\"https://farm2.staticflickr.com/1914/44262170545_22fe55d4bb_o.jpg\",\"https://farm2.staticflickr.com/1934/44262166295_3f84597f09_o.jpg\"]},\"presskit\":\"https://www.spacex.com/sites/spacex/files/saocom1apresskit.pdf\",\"webcast\":\"https://www.youtube.com/watch?v=vr_C6LQ7mHc\",\"youtube_id\":\"vr_C6LQ7mHc\",\"article\":\"https://spaceflightnow.com/2018/10/08/spacex-aces-first-rocket-landing-in-california-after-launching-argentine-satellite/\",\"wikipedia\":\"https://en.wikipedia.org/wiki/SAOCOM\"},\"static_fire_date_utc\":\"2018-10-02T21:00:00.000Z\",\"static_fire_date_unix\":1538514000,\"net\":false,\"window\":0,\"rocket\":\"5e9d0d95eda69973a809d1ec\",\"success\":true,\"failures\":[],\"details\":\"SpaceX\\'s seventeenth flight of 2018 was the first launch of the Saocom Earth observation satellite constellation of the Argentine Space Agency CONAE. The second launch of Saocom 1B will happen in 2019. This flight marked the first RTLS launch out of Vandenberg, with a landing on the concrete pad at SLC-4W, very close to the launch pad.\",\"crew\":[],\"ships\":[],\"capsules\":[],\"payloads\":[\"5eb0e4c9b6c3bb0006eeb22c\"],\"launchpad\":\"5e9e4502f509092b78566f87\",\"flight_number\":69,\"name\":\"SAOCOM 1A\",\"date_utc\":\"2018-10-08T02:22:00.000Z\",\"date_unix\":1538965320,\"date_local\":\"2018-10-07T19:22:00-07:00\",\"date_precision\":\"hour\",\"upcoming\":false,\"cores\":[{\"core\":\"5e9e28a5f3591809c03b2658\",\"flight\":2,\"gridfins\":true,\"legs\":true,\"reused\":true,\"landing_attempt\":true,\"landing_success\":true,\"landing_type\":\"RTLS\",\"landpad\":\"5e9e3032383ecb554034e7c9\"}],\"auto_update\":true,\"tbd\":false,\"launch_library_id\":null,\"id\":\"5eb87d23ffd86e000604b36e\"},{\"fairings\":{\"reused\":false,\"recovery_attempt\":false,\"recovered\":false,\"ships\":[]},\"links\":{\"patch\":{\"small\":\"https://images2.imgbox.com/ad/40/oCtCFYfl_o.png\",\"large\":\"https://images2.imgbox.com/7c/8a/j6Hu3TqR_o.png\"},\"reddit\":{\"campaign\":\"https://www.reddit.com/r/spacex/comments/9p82jt/eshail_2_launch_campaign_thread/\",\"launch\":\"https://www.reddit.com/r/spacex/comments/9x9w9v/rspacex_eshail_2_official_launch_discussion/\",\"media\":\"https://www.reddit.com/r/spacex/comments/9xaa76/rspacex_eshail_2_media_thread_videos_images_gifs/\",\"recovery\":\"https://www.reddit.com/r/spacex/comments/9xmpa7/eshail_2_recovery_thread/\"},\"flickr\":{\"small\":[],\"original\":[\"https://farm5.staticflickr.com/4834/32040174268_b71d703417_o.jpg\",\"https://farm5.staticflickr.com/4810/32040174058_a65fa64e85_o.jpg\",\"https://farm5.staticflickr.com/4814/32040173268_0ab571e7bc_o.jpg\",\"https://farm5.staticflickr.com/4899/32040173568_bb5c991565_o.jpg\",\"https://farm5.staticflickr.com/4875/32040173278_b5578ba6be_o.jpg\",\"https://farm5.staticflickr.com/4862/32040173928_afdfb09939_o.jpg\",\"https://farm5.staticflickr.com/4888/32040173048_b2b29c020f_o.jpg\",\"https://farm5.staticflickr.com/4808/32248947038_dd1cf9e8c3_o.jpg\",\"https://farm5.staticflickr.com/4887/31180979107_da6a935c20_o.jpg\"]},\"presskit\":\"https://www.spacex.com/sites/spacex/files/eshail-2_mission_press_kit_11_14_2018.pdf\",\"webcast\":\"https://www.youtube.com/watch?v=PhTbzc-BqKs&feature=youtu.be\",\"youtube_id\":\"PhTbzc-BqKs\",\"article\":\"https://spaceflightnow.com/2018/11/15/spacex-launches-qatars-eshail-2-communications-satellite/\",\"wikipedia\":\"https://en.wikipedia.org/wiki/Es%27hailSat\"},\"static_fire_date_utc\":\"2018-11-12T18:13:00.000Z\",\"static_fire_date_unix\":1542046380,\"net\":false,\"window\":6180,\"rocket\":\"5e9d0d95eda69973a809d1ec\",\"success\":true,\"failures\":[],\"details\":\"SpaceX\\'s eighteenth flight of 2018 was its first for Es\\'hailSat. Es\\'hail-2 is a communications satellite delivering television and internet to Qatar and the surrounding region. It was launched into a geostationary transfer orbit from LC-39A at Kennedy Space Center. The booster landed on OCISLY.\",\"crew\":[],\"ships\":[\"5ea6ed2f080df4000697c90d\",\"5ea6ed30080df4000697c913\"],\"capsules\":[],\"payloads\":[\"5eb0e4c9b6c3bb0006eeb22d\"],\"launchpad\":\"5e9e4502f509094188566f88\",\"flight_number\":70,\"name\":\"Es\\xe2\\x80\\x99hail 2\",\"date_utc\":\"2018-11-15T20:46:00.000Z\",\"date_unix\":1542314760,\"date_local\":\"2018-11-15T15:46:00-05:00\",\"date_precision\":\"hour\",\"upcoming\":false,\"cores\":[{\"core\":\"5e9e28a5f359181eed3b2657\",\"flight\":2,\"gridfins\":true,\"legs\":true,\"reused\":true,\"landing_attempt\":true,\"landing_success\":true,\"landing_type\":\"ASDS\",\"landpad\":\"5e9e3032383ecb6bb234e7ca\"}],\"auto_update\":true,\"tbd\":false,\"launch_library_id\":null,\"id\":\"5eb87d24ffd86e000604b36f\"},{\"fairings\":{\"reused\":false,\"recovery_attempt\":true,\"recovered\":false,\"ships\":[\"5ea6ed2e080df4000697c908\"]},\"links\":{\"patch\":{\"small\":\"https://images2.imgbox.com/48/3b/Lg1Qc4uX_o.png\",\"large\":\"https://images2.imgbox.com/3e/87/xYszAJQc_o.png\"},\"reddit\":{\"campaign\":\"https://www.reddit.com/r/spacex/comments/9raysi/ssoa_launch_campaign_thread\",\"launch\":\"https://www.reddit.com/r/spacex/comments/a0vjff/rspacex_ssoa_official_launch_discussion_updates/\",\"media\":\"https://old.reddit.com/r/spacex/comments/a0wylf/rspacex_ssoa_media_thread_videos_images_gifs/\",\"recovery\":\"https://www.reddit.com/r/spacex/comments/a2tjoe/ssoa_recovery_thread/\"},\"flickr\":{\"small\":[],\"original\":[\"https://farm5.staticflickr.com/4875/45257565145_d53757e0b2_o.jpg\",\"https://farm5.staticflickr.com/4839/45257565835_4fd6f3e895_o.jpg\",\"https://farm5.staticflickr.com/4822/45257566865_9c9d34a7ca_o.jpg\",\"https://farm5.staticflickr.com/4821/45257568225_186c8431cf_o.jpg\",\"https://farm5.staticflickr.com/4885/45257569445_1d74a601df_o.jpg\",\"https://farm5.staticflickr.com/4869/45257570925_8eae9a0888_o.jpg\",\"https://farm5.staticflickr.com/4842/31338804427_2e4dcda6e7_o.jpg\",\"https://farm5.staticflickr.com/4894/46227271292_2eee9af3eb_o.jpg\",\"https://farm5.staticflickr.com/4870/44460659210_de634098ac_o.jpg\"]},\"presskit\":\"https://www.spacex.com/sites/spacex/files/ssoa_press_kit.pdf\",\"webcast\":\"https://www.youtube.com/watch?v=Wq8kS6UoOrQ\",\"youtube_id\":\"Wq8kS6UoOrQ\",\"article\":\"https://spaceflightnow.com/2018/12/03/spacex-launches-swarm-of-satellites-re-flies-rocket-for-third-time/\",\"wikipedia\":\"https://en.wikipedia.org/wiki/Spaceflight_Industries\"},\"static_fire_date_utc\":\"2018-11-15T21:55:00.000Z\",\"static_fire_date_unix\":1542318900,\"net\":false,\"window\":1680,\"rocket\":\"5e9d0d95eda69973a809d1ec\",\"success\":true,\"failures\":[],\"details\":\"SpaceX\\'s nineteenth flight of 2018 will fly SSO-A: SmallSat Express out of Vandenberg SLC-4E for Spaceflight. SSO-A is a rideshare to sun synchronus low earth orbit consisting of 64 individual microsatellites and cubesats. It is also likely to be the third flight of core B1046 which previously flew Bangabandhu-1 and Merah Putih. If this happens it will be the first time a Falcon 9 has flown more than two missions. \",\"crew\":[],\"ships\":[\"5ea6ed2f080df4000697c910\",\"5ea6ed30080df4000697c912\",\"5ea6ed30080df4000697c914\",\"5ea6ed2e080df4000697c908\"],\"capsules\":[],\"payloads\":[\"5eb0e4c9b6c3bb0006eeb22e\"],\"launchpad\":\"5e9e4502f509092b78566f87\",\"flight_number\":71,\"name\":\"SSO-A\",\"date_utc\":\"2018-12-03T18:34:00.000Z\",\"date_unix\":1543861920,\"date_local\":\"2018-12-03T10:34:00-08:00\",\"date_precision\":\"hour\",\"upcoming\":false,\"cores\":[{\"core\":\"5e9e28a5f359182b023b2656\",\"flight\":3,\"gridfins\":true,\"legs\":true,\"reused\":true,\"landing_attempt\":true,\"landing_success\":true,\"landing_type\":\"ASDS\",\"landpad\":\"5e9e3033383ecbb9e534e7cc\"}],\"auto_update\":true,\"tbd\":false,\"launch_library_id\":null,\"id\":\"5eb87d25ffd86e000604b370\"},{\"fairings\":null,\"links\":{\"patch\":{\"small\":\"https://images2.imgbox.com/f0/a6/oNKZP5Hu_o.png\",\"large\":\"https://images2.imgbox.com/ee/c6/MkvXHhu1_o.png\"},\"reddit\":{\"campaign\":\"https://www.reddit.com/r/spacex/comments/9z7i4j/crs16_launch_campaign_thread/\",\"launch\":\"https://www.reddit.com/r/spacex/comments/a2oubw/rspacex_crs16_official_launch_discussion_updates/\",\"media\":\"https://www.reddit.com/r/spacex/comments/a2uojp/rspacex_crs16_media_thread_videos_images_gifs/\",\"recovery\":\"https://www.reddit.com/r/spacex/comments/a3n3vm/crs16_emergency_recovery_thread/\"},\"flickr\":{\"small\":[],\"original\":[\"https://farm5.staticflickr.com/4835/45473442624_69ee8bee45_o.jpg\",\"https://farm5.staticflickr.com/4903/45473443604_0d668c31da_o.jpg\",\"https://farm5.staticflickr.com/4858/45473444314_413a344dcb_o.jpg\",\"https://farm5.staticflickr.com/4856/45473445134_d9384878f8_o.jpg\",\"https://farm5.staticflickr.com/4840/45473446114_7d5e5d6fe2_o.jpg\"]},\"presskit\":\"https://www.spacex.com/sites/spacex/files/crs16_press_kit_12_4.pdf\",\"webcast\":\"https://www.youtube.com/watch?v=Esh1jHT9oTA\",\"youtube_id\":\"Esh1jHT9oTA\",\"article\":\"https://spaceflightnow.com/2018/12/05/spacex-falcon-9-boosts-dragon-cargo-ship-to-orbit-first-stage-misses-landing-target/\",\"wikipedia\":\"https://en.wikipedia.org/wiki/SpaceX_CRS-16\"},\"static_fire_date_utc\":\"2018-11-30T19:57:00.000Z\",\"static_fire_date_unix\":1543607820,\"net\":false,\"window\":0,\"rocket\":\"5e9d0d95eda69973a809d1ec\",\"success\":true,\"failures\":[],\"details\":\"SpaceX\\'s 16th Crew Resupply Mission on behalf of NASA, with a total of 20 contracted flights. This will bring essential supplies to the International Space Station using SpaceX\\'s reusable Dragon spacecraft. The Falcon 9 will launch from SLC-40 at Cape Canaveral Air Force Station. During the landing of the first stage, a grid fin hydraulic pump stalled, causing the core to enter an uncontrolled roll, and resulting in a (succesful) water landing.\",\"crew\":[],\"ships\":[\"5ea6ed2f080df4000697c90b\"],\"capsules\":[\"5e9e2c5cf359185d753b266f\"],\"payloads\":[\"5eb0e4cab6c3bb0006eeb22f\"],\"launchpad\":\"5e9e4501f509094ba4566f84\",\"flight_number\":72,\"name\":\"CRS-16\",\"date_utc\":\"2018-12-05T18:16:00.000Z\",\"date_unix\":1544033760,\"date_local\":\"2018-12-05T13:16:00-05:00\",\"date_precision\":\"hour\",\"upcoming\":false,\"cores\":[{\"core\":\"5e9e28a6f359185c603b265a\",\"flight\":1,\"gridfins\":true,\"legs\":true,\"reused\":false,\"landing_attempt\":true,\"landing_success\":false,\"landing_type\":\"RTLS\",\"landpad\":\"5e9e3032383ecb267a34e7c7\"}],\"auto_update\":true,\"tbd\":false,\"launch_library_id\":null,\"id\":\"5eb87d26ffd86e000604b371\"},{\"fairings\":{\"reused\":false,\"recovery_attempt\":false,\"recovered\":false,\"ships\":[]},\"links\":{\"patch\":{\"small\":\"https://images2.imgbox.com/3c/2f/tL7xDUD6_o.png\",\"large\":\"https://images2.imgbox.com/f9/31/MGTnAfuR_o.png\"},\"reddit\":{\"campaign\":\"https://www.reddit.com/r/spacex/comments/a4516o/gps_iii2_launch_campaign_thread/\",\"launch\":\"https://www.reddit.com/r/spacex/comments/a71wyn/rspacex_gps_iii2_official_launch_discussion/\",\"media\":\"https://www.reddit.com/r/spacex/comments/a73kz5/rspacex_gps_iii2_media_thread_videos_images_gifs/\",\"recovery\":null},\"flickr\":{\"small\":[],\"original\":[\"https://farm5.staticflickr.com/4864/45715171884_f1dd88c058_o.jpg\",\"https://farm8.staticflickr.com/7926/45525648155_32fdab17a5_o.jpg\",\"https://farm8.staticflickr.com/7876/45525649035_ba60162fe0_o.jpg\",\"https://farm8.staticflickr.com/7853/45525649825_e6d35415e1_o.jpg\",\"https://farm5.staticflickr.com/4893/45525650685_02b408c385_o.jpg\"]},\"presskit\":\"https://www.spacex.com/sites/spacex/files/gps_iii_press_kit.pdf\",\"webcast\":\"https://youtu.be/yRiLPoy_Mzc\",\"youtube_id\":\"yRiLPoy_Mzc\",\"article\":\"https://spaceflightnow.com/2018/12/23/spacex-closes-out-year-with-successful-gps-satellite-launch/\",\"wikipedia\":\"https://en.wikipedia.org/wiki/GPS_Block_IIIA\"},\"static_fire_date_utc\":\"2018-12-13T21:24:00.000Z\",\"static_fire_date_unix\":1544736240,\"net\":false,\"window\":1560,\"rocket\":\"5e9d0d95eda69973a809d1ec\",\"success\":true,\"failures\":[],\"details\":\"SpaceX\\'s twenty-first flight of 2018 launched the first of the new GPS III satellites (Block IIIA) for the United States Air Force and was SpaceX\\'s first EELV mission. The spacecraft was delivered to a MEO transfer orbit from SLC-40 at Cape Canaveral Air Force Station. This mission was the first to fly with the redesigned COPV on the first stage (B1054) as well as the second. The booster was expended.\",\"crew\":[],\"ships\":[],\"capsules\":[],\"payloads\":[\"5eb0e4cab6c3bb0006eeb230\"],\"launchpad\":\"5e9e4501f509094ba4566f84\",\"flight_number\":73,\"name\":\"GPS III SV01\",\"date_utc\":\"2018-12-23T13:51:00.000Z\",\"date_unix\":1545573060,\"date_local\":\"2018-12-23T08:51:00-05:00\",\"date_precision\":\"hour\",\"upcoming\":false,\"cores\":[{\"core\":\"5e9e28a6f35918513b3b265b\",\"flight\":1,\"gridfins\":false,\"legs\":false,\"reused\":false,\"landing_attempt\":false,\"landing_success\":null,\"landing_type\":null,\"landpad\":null}],\"auto_update\":true,\"tbd\":false,\"launch_library_id\":null,\"id\":\"5eb87d27ffd86e000604b372\"},{\"fairings\":{\"reused\":false,\"recovery_attempt\":false,\"recovered\":null,\"ships\":[]},\"links\":{\"patch\":{\"small\":\"https://images2.imgbox.com/75/cb/DMVc5j8b_o.png\",\"large\":\"https://images2.imgbox.com/d7/f9/861bfh4Q_o.png\"},\"reddit\":{\"campaign\":\"https://www.reddit.com/r/spacex/comments/a699fh/iridium_next_constellation_mission_8_launch/\",\"launch\":\"https://www.reddit.com/r/spacex/comments/aemq2i/rspacex_iridium_next_8_official_launch_discussion/\",\"media\":\"https://www.reddit.com/r/spacex/comments/aeoxve/rspacex_iridium_next_8_media_thread_videos_images/\",\"recovery\":\"https://www.reddit.com/r/spacex/comments/aewp4r/iridium_8_recovery_thread/\"},\"flickr\":{\"small\":[],\"original\":[\"https://farm5.staticflickr.com/4866/39745612523_14270b4b9d_o.jpg\",\"https://farm8.staticflickr.com/7833/39745612923_21aa442350_o.jpg\",\"https://farm5.staticflickr.com/4881/39745613173_e99b09c000_o.jpg\",\"https://farm8.staticflickr.com/7882/39745613513_6cdd4581af_o.jpg\",\"https://farm8.staticflickr.com/7807/39745613733_1a7b70e54a_o.jpg\",\"https://farm5.staticflickr.com/4891/39745614053_43855205bc_o.jpg\"]},\"presskit\":\"https://www.spacex.com/sites/spacex/files/iridium8presskit.pdf\",\"webcast\":\"https://youtu.be/VshdafZvwrg\",\"youtube_id\":\"VshdafZvwrg\",\"article\":\"https://spaceflightnow.com/2019/01/11/spacex-begins-2019-with-eighth-and-final-for-upgraded-iridium-network/\",\"wikipedia\":\"https://en.wikipedia.org/wiki/Iridium_satellite_constellation#Next-generation_constellation\"},\"static_fire_date_utc\":\"2019-01-06T13:51:00.000Z\",\"static_fire_date_unix\":1546782660,\"net\":false,\"window\":0,\"rocket\":\"5e9d0d95eda69973a809d1ec\",\"success\":true,\"failures\":[],\"details\":\"SpaceX\\'s first flight of 2019 will be the eighth and final launch of its planned Iridium flights. Delivering 10 satellites to low earth orbit, this brings the total up to 75 and completes the Iridium NEXT constellation. This mission launches from SLC-4E at Vandenberg AFB. The booster is expected to land on JRTI.\",\"crew\":[],\"ships\":[\"5ea6ed2f080df4000697c910\",\"5ea6ed30080df4000697c912\",\"5ea6ed30080df4000697c914\"],\"capsules\":[],\"payloads\":[\"5eb0e4cab6c3bb0006eeb231\"],\"launchpad\":\"5e9e4502f509092b78566f87\",\"flight_number\":74,\"name\":\"Iridium NEXT Mission 8\",\"date_utc\":\"2019-01-11T15:31:00.000Z\",\"date_unix\":1547220660,\"date_local\":\"2019-01-11T07:31:00-08:00\",\"date_precision\":\"hour\",\"upcoming\":false,\"cores\":[{\"core\":\"5e9e28a5f3591833b13b2659\",\"flight\":2,\"gridfins\":true,\"legs\":true,\"reused\":true,\"landing_attempt\":true,\"landing_success\":true,\"landing_type\":\"ASDS\",\"landpad\":\"5e9e3033383ecbb9e534e7cc\"}],\"auto_update\":true,\"tbd\":false,\"launch_library_id\":null,\"id\":\"5eb87d28ffd86e000604b373\"},{\"fairings\":{\"reused\":false,\"recovery_attempt\":false,\"recovered\":false,\"ships\":[]},\"links\":{\"patch\":{\"small\":\"https://images2.imgbox.com/06/bc/5KvLN0mH_o.png\",\"large\":\"https://images2.imgbox.com/4d/63/oBLNSPkL_o.png\"},\"reddit\":{\"campaign\":\"https://www.reddit.com/r/spacex/comments/afxyrd/nusantara_satu_launch_campaign_thread/\",\"launch\":\"https://www.reddit.com/r/spacex/comments/assxjz/rspacex_psnvi_official_launch_discussion_updates/\",\"media\":\"https://www.reddit.com/r/spacex/comments/at5mu8/rspacex_psn6_media_thread_videos_images_gifs/\",\"recovery\":\"https://www.reddit.com/r/spacex/comments/atbmp3/psnvi_recovery_discussion_updates_thread/\"},\"flickr\":{\"small\":[],\"original\":[\"https://farm8.staticflickr.com/7800/47173936271_b8ddb5bc5b_o.jpg\",\"https://farm8.staticflickr.com/7821/47121969172_37428a280e_o.jpg\",\"https://farm8.staticflickr.com/7923/47173936181_c0bf7a22a6_o.jpg\",\"https://farm8.staticflickr.com/7829/46259779115_8982c2c8c2_o.jpg\",\"https://farm8.staticflickr.com/7889/46259778995_68130be69d_o.jpg\",\"https://farm8.staticflickr.com/7895/47130341432_3772641a68_o.jpg\"]},\"presskit\":\"https://www.spacex.com/sites/spacex/files/nusantara_satu_press_kit.pdf\",\"webcast\":\"https://www.youtube.com/watch?v=XS0E35aYJcU\",\"youtube_id\":\"XS0E35aYJcU\",\"article\":\"https://spaceflightnow.com/2019/02/22/israeli-moon-lander-hitches-ride-on-spacex-launch-with-indonesian-comsat/\",\"wikipedia\":\"https://en.wikipedia.org/wiki/PT_Pasifik_Satelit_Nusantara\"},\"static_fire_date_utc\":\"2019-02-18T17:03:00.000Z\",\"static_fire_date_unix\":1550509380,\"net\":false,\"window\":1920,\"rocket\":\"5e9d0d95eda69973a809d1ec\",\"success\":true,\"failures\":[],\"details\":\"SpaceX will launch this rideshare to GTO for Space Systems Loral (SSL). The primary payload for this mission is Nusantara Satu, a communications satellite built by SSL for the private Indonesian company PT Pasifik Satelit Nusantara (PSN). Spaceflight Industries\\' GTO-1 mission consists of two secondary payloads. One of those is Beresheet, the lunar lander built by the Israeli non-profit organization, SpaceIL. Beresheet will make its own way to the moon from GTO. The other secondary is Air Force Research Lab\\'s (Space Situational Awareness) S5 mission, which hitches a ride to GEO aboard Nusantara Satu. This mission launches from SLC-40 at Cape Canaveral AFS. The booster is expected to land on OCISLY.\",\"crew\":[],\"ships\":[\"5ea6ed30080df4000697c913\"],\"capsules\":[],\"payloads\":[\"5eb0e4cab6c3bb0006eeb232\",\"5eb0e4cab6c3bb0006eeb233\",\"5eb0e4cab6c3bb0006eeb234\"],\"launchpad\":\"5e9e4501f509094ba4566f84\",\"flight_number\":75,\"name\":\"Nusantara Satu (PSN-6) / S5 / Beresheet\",\"date_utc\":\"2019-02-22T01:45:00.000Z\",\"date_unix\":1550799900,\"date_local\":\"2019-02-21T20:45:00-05:00\",\"date_precision\":\"hour\",\"upcoming\":false,\"cores\":[{\"core\":\"5e9e28a5f3591809c03b2658\",\"flight\":3,\"gridfins\":true,\"legs\":true,\"reused\":true,\"landing_attempt\":true,\"landing_success\":true,\"landing_type\":\"ASDS\",\"landpad\":\"5e9e3032383ecb6bb234e7ca\"}],\"auto_update\":true,\"tbd\":false,\"launch_library_id\":null,\"id\":\"5eb87d2affd86e000604b374\"},{\"fairings\":{\"reused\":null,\"recovery_attempt\":null,\"recovered\":null,\"ships\":[]},\"links\":{\"patch\":{\"small\":\"https://images2.imgbox.com/59/a8/q5IEqsOJ_o.png\",\"large\":\"https://images2.imgbox.com/ee/a6/x4AyUIc3_o.png\"},\"reddit\":{\"campaign\":\"https://www.reddit.com/r/spacex/comments/a65clm/dm1_launch_campaign_thread/\",\"launch\":\"https://www.reddit.com/r/spacex/comments/av1asz/rspacex_cctcap_demo_mission_1_official_launch/\",\"media\":\"https://www.reddit.com/r/spacex/comments/aw6g7j/rspacex_cctcap_demo_mission_1_media_thread_videos/\",\"recovery\":\"https://www.reddit.com/r/spacex/comments/awo5lf/cctcap_demo_mission_1_official_booster_recovery/\"},\"flickr\":{\"small\":[],\"original\":[\"https://farm8.staticflickr.com/7899/39684491043_f0289164bd_o.jpg\",\"https://farm8.staticflickr.com/7804/39684490433_70337aa4e5_o.jpg\",\"https://farm8.staticflickr.com/7826/32774791628_e2234480db_o.jpg\",\"https://farm5.staticflickr.com/4882/39684490143_7df3838d2c_o.jpg\",\"https://farm8.staticflickr.com/7851/46535572784_7eb295968e_o.jpg\",\"https://farm8.staticflickr.com/7826/46535572564_a022f9c43a_o.jpg\",\"https://farm8.staticflickr.com/7889/40294395933_f429c12e83_o.jpg\",\"https://farm8.staticflickr.com/7914/40294395873_0a328f2d87_o.jpg\",\"https://farm8.staticflickr.com/7866/46535572294_22499c1223_o.jpg\",\"https://farm8.staticflickr.com/7850/46535573034_03da10f899_o.jpg\",\"https://farm8.staticflickr.com/7848/46535572664_316c466742_o.jpg\"]},\"presskit\":\"https://www.spacex.com/sites/spacex/files/crew_demo-1_press_kit.pdf\",\"webcast\":\"https://youtu.be/2ZL0tbOZYhE\",\"youtube_id\":\"2ZL0tbOZYhE\",\"article\":\"https://spaceflightnow.com/2019/03/02/spacex-launches-first-crew-dragon-ferry-ship/\",\"wikipedia\":\"https://en.wikipedia.org/wiki/SpX-DM1\"},\"static_fire_date_utc\":\"2019-01-24T19:03:00.000Z\",\"static_fire_date_unix\":1548356580,\"net\":false,\"window\":0,\"rocket\":\"5e9d0d95eda69973a809d1ec\",\"success\":true,\"failures\":[],\"details\":\"Demonstration Mission 1 (DM-1) will launch Dragon 2 as part of NASA\\'s Commercial Crew Transportation Capability program. This mission will demonstrate Dragon 2, and Falcon 9 in its configuration for crewed missions. DM-1 will launch from LC-39A at Kennedy Space Center, likely carrying some cargo to the International Space Station. The booster is expected to land on OCISLY.\",\"crew\":[],\"ships\":[\"5ea6ed30080df4000697c913\"],\"capsules\":[\"5e9e2c5df35918b1063b2671\"],\"payloads\":[\"5eb0e4cbb6c3bb0006eeb235\"],\"launchpad\":\"5e9e4502f509094188566f88\",\"flight_number\":76,\"name\":\"CCtCap Demo Mission 1\",\"date_utc\":\"2019-03-02T07:45:00.000Z\",\"date_unix\":1551512700,\"date_local\":\"2019-03-02T02:45:00-05:00\",\"date_precision\":\"hour\",\"upcoming\":false,\"cores\":[{\"core\":\"5e9e28a6f35918c0803b265c\",\"flight\":1,\"gridfins\":true,\"legs\":true,\"reused\":false,\"landing_attempt\":true,\"landing_success\":true,\"landing_type\":\"ASDS\",\"landpad\":\"5e9e3032383ecb6bb234e7ca\"}],\"auto_update\":true,\"tbd\":false,\"launch_library_id\":null,\"id\":\"5eb87d2bffd86e000604b375\"},{\"fairings\":{\"reused\":false,\"recovery_attempt\":true,\"recovered\":true,\"ships\":[\"5ea6ed2f080df4000697c90c\"]},\"links\":{\"patch\":{\"small\":\"https://images2.imgbox.com/14/18/JxCyAHXk_o.png\",\"large\":\"https://images2.imgbox.com/9f/c3/GvLfwIfg_o.png\"},\"reddit\":{\"campaign\":\"https://www.reddit.com/r/spacex/comments/b0kscl/arabsat6a_launch_campaign_thread/\",\"launch\":\"https://www.reddit.com/r/spacex/comments/basm9y/rspacex_arabsat6a_official_launch_discussion/\",\"media\":\"https://www.reddit.com/r/spacex/comments/bbhz9a/rspacex_arabsat6a_media_thread_videos_images_gifs/\",\"recovery\":\"https://www.reddit.com/r/spacex/comments/bcecao/fh_arabsat_6a_center_core_recovery_thread/\"},\"flickr\":{\"small\":[],\"original\":[\"https://live.staticflickr.com/7911/32652060737_4be1171d4a_o.jpg\",\"https://live.staticflickr.com/7807/40628442293_9643eaf670_o.jpg\",\"https://live.staticflickr.com/7804/40628440983_4da5d76cc7_o.jpg\",\"https://live.staticflickr.com/7856/40628439793_27927d11de_o.jpg\",\"https://live.staticflickr.com/7919/40628438523_c597eabff1_o.jpg\",\"https://live.staticflickr.com/7834/40628437283_84088aca75_o.jpg\",\"https://live.staticflickr.com/7856/40628435833_a1bcde59db_o.jpg\",\"https://live.staticflickr.com/7809/40628435153_17c05d3b5e_o.jpg\",\"https://live.staticflickr.com/7885/40628434483_3545598b82_o.jpg\"]},\"presskit\":\"https://www.spacex.com/sites/spacex/files/arabsat-6a_press_kit.pdf\",\"webcast\":\"https://youtu.be/TXMGu2d8c8g\",\"youtube_id\":\"TXMGu2d8c8g\",\"article\":\"https://spaceflightnow.com/2019/04/11/spacexs-falcon-heavy-successful-in-commercial-debut/\",\"wikipedia\":\"https://en.wikipedia.org/wiki/Arabsat-6A\"},\"static_fire_date_utc\":\"2019-04-05T09:57:00.000Z\",\"static_fire_date_unix\":1554458220,\"net\":false,\"window\":7020,\"rocket\":\"5e9d0d95eda69974db09d1ed\",\"success\":true,\"failures\":[],\"details\":\"SpaceX will launch Arabsat 6A to a geostationary transfer orbit from SLC-39A, KSC. The satellite is a geostationary telecommunications satellite built by Lockheed Martin for the Saudi Arabian company Arabsat. This will be the first operational flight of Falcon Heavy, and also the first Block 5 Falcon Heavy. All three cores will be new Block 5 cores. The side cores are expected to land at LZ-1 and LZ-2, and the center core is expected to land on OCISLY.\",\"crew\":[],\"ships\":[\"5ea6ed2f080df4000697c90e\",\"5ea6ed30080df4000697c913\",\"5ea6ed2f080df4000697c90b\",\"5ea6ed2e080df4000697c909\",\"5ea6ed2f080df4000697c90c\"],\"capsules\":[],\"payloads\":[\"5eb0e4cbb6c3bb0006eeb236\"],\"launchpad\":\"5e9e4502f509094188566f88\",\"flight_number\":77,\"name\":\"ArabSat 6A\",\"date_utc\":\"2019-04-11T22:35:00.000Z\",\"date_unix\":1555022100,\"date_local\":\"2019-04-11T18:35:00-04:00\",\"date_precision\":\"hour\",\"upcoming\":false,\"cores\":[{\"core\":\"5e9e28a6f3591897453b265f\",\"flight\":1,\"gridfins\":true,\"legs\":true,\"reused\":false,\"landing_attempt\":true,\"landing_success\":true,\"landing_type\":\"ASDS\",\"landpad\":\"5e9e3032383ecb6bb234e7ca\"},{\"core\":\"5e9e28a6f359183c413b265d\",\"flight\":1,\"gridfins\":true,\"legs\":true,\"reused\":false,\"landing_attempt\":true,\"landing_success\":true,\"landing_type\":\"RTLS\",\"landpad\":\"5e9e3032383ecb267a34e7c7\"},{\"core\":\"5e9e28a6f359188fd53b265e\",\"flight\":1,\"gridfins\":true,\"legs\":true,\"reused\":false,\"landing_attempt\":true,\"landing_success\":true,\"landing_type\":\"RTLS\",\"landpad\":\"5e9e3032383ecb90a834e7c8\"}],\"auto_update\":true,\"tbd\":false,\"launch_library_id\":null,\"id\":\"5eb87d2dffd86e000604b376\"},{\"fairings\":null,\"links\":{\"patch\":{\"small\":\"https://images2.imgbox.com/97/8e/YbVKIUZB_o.png\",\"large\":\"https://images2.imgbox.com/0d/05/zH7YqLRe_o.png\"},\"reddit\":{\"campaign\":\"https://new.reddit.com/r/spacex/comments/bd2l28/crs17_launch_campaign_thread/\",\"launch\":\"https://www.reddit.com/r/spacex/comments/bjsn0v/rspacex_crs17_official_launch_discussion_updates\",\"media\":\"https://www.reddit.com/r/spacex/comments/bkc4d5/rspacex_crs17_media_thread_videos_images_gifs\",\"recovery\":\"https://www.reddit.com/r/spacex/comments/bjy7p5/rspacex_crs17_recovery_discussion_updates_thread\"},\"flickr\":{\"small\":[],\"original\":[\"https://live.staticflickr.com/65535/46856594435_206c773b5a_o.jpg\",\"https://live.staticflickr.com/65535/47720639872_284e49381d_o.jpg\",\"https://live.staticflickr.com/65535/46856594755_88f1b22e50_o.jpg\",\"https://live.staticflickr.com/65535/47720639542_1b7c1a71b0_o.jpg\",\"https://live.staticflickr.com/65535/47720639732_e04b2a9ed7_o.jpg\",\"https://live.staticflickr.com/65535/32829382467_087d024428_o.jpg\"]},\"presskit\":\"https://www.spacex.com/sites/spacex/files/crs-17_press_kit.pdf\",\"webcast\":\"https://youtu.be/AQFhX5TvP0M\",\"youtube_id\":\"AQFhX5TvP0M\",\"article\":\"https://spaceflightnow.com/2019/05/04/spacex-launches-space-station-resupply-mission-lands-rocket-on-drone-ship/\",\"wikipedia\":\"https://en.wikipedia.org/wiki/SpaceX_CRS-17\"},\"static_fire_date_utc\":\"2019-04-27T07:23:00.000Z\",\"static_fire_date_unix\":1556349780,\"net\":false,\"window\":0,\"rocket\":\"5e9d0d95eda69973a809d1ec\",\"success\":true,\"failures\":[],\"details\":\"SpaceX\\'s 17th Commercial Resupply Services mission for NASA out of a total of 20 contracted flights, this mission brings essential supplies to the International Space Station using SpaceX\\'s reusable Dragon 1 spacecraft. The external payloads for this mission include Orbital Carbon Observatory 3 and Space Test Program-Houston 6. The Falcon 9 launches from SLC-40 at Cape Canaveral AFS. The booster was expected to land at LZ-1, however, due to the ongoing investigation and clean-up following the Crew Dragon testing incident, it is likely to land on OCISLY instead.\\\\n    \",\"crew\":[],\"ships\":[\"5ea6ed30080df4000697c913\",\"5ea6ed2f080df4000697c90e\",\"5ea6ed2f080df4000697c90b\"],\"capsules\":[\"5e9e2c5cf3591869b63b2670\"],\"payloads\":[\"5eb0e4cbb6c3bb0006eeb237\"],\"launchpad\":\"5e9e4501f509094ba4566f84\",\"flight_number\":78,\"name\":\"CRS-17\",\"date_utc\":\"2019-05-04T06:48:00.000Z\",\"date_unix\":1556952480,\"date_local\":\"2019-05-04T02:48:00-04:00\",\"date_precision\":\"hour\",\"upcoming\":false,\"cores\":[{\"core\":\"5e9e28a7f3591809313b2660\",\"flight\":1,\"gridfins\":true,\"legs\":true,\"reused\":false,\"landing_attempt\":true,\"landing_success\":true,\"landing_type\":\"ASDS\",\"landpad\":\"5e9e3032383ecb6bb234e7ca\"}],\"auto_update\":true,\"tbd\":false,\"launch_library_id\":null,\"id\":\"5eb87d2effd86e000604b377\"},{\"fairings\":{\"reused\":false,\"recovery_attempt\":true,\"recovered\":true,\"ships\":[\"5ea6ed2f080df4000697c90c\"]},\"links\":{\"patch\":{\"small\":\"https://images2.imgbox.com/79/ec/TOE2PBJq_o.png\",\"large\":\"https://images2.imgbox.com/39/aa/5of7buxK_o.png\"},\"reddit\":{\"campaign\":\"https://www.reddit.com/comments/bjybrl\",\"launch\":\"https://www.reddit.com/r/spacex/comments/brfbic/rspacex_starlink_official_launch_discussion\",\"media\":\"https://www.reddit.com/r/spacex/comments/bp0479/rspacex_starlink_media_thread_videos_images_gifs\",\"recovery\":\"https://www.reddit.com/r/spacex/comments/bsaljm/rspacex_starlink_b10493_recovery_discussion_and\"},\"flickr\":{\"small\":[],\"original\":[\"https://live.staticflickr.com/65535/47926143711_4a0b2680bf_o.jpg\",\"https://live.staticflickr.com/65535/47926136902_d8ce35223d_o.jpg\",\"https://live.staticflickr.com/65535/47926144123_2a828b66d5_o.jpg\",\"https://live.staticflickr.com/65535/47926137127_ef58152b6b_o.jpg\",\"https://live.staticflickr.com/65535/47926137017_e6d86fa820_o.jpg\"]},\"presskit\":\"https://www.spacex.com/sites/spacex/files/starlink_press_kit.pdf\",\"webcast\":\"https://www.youtube.com/watch?v=riBaVeDTEWI\",\"youtube_id\":\"riBaVeDTEWI\",\"article\":\"https://spaceflightnow.com/2019/05/24/spacexs-first-60-starlink-broadband-satellites-deployed-in-orbit\",\"wikipedia\":\"https://en.wikipedia.org/wiki/Starlink_(satellite_constellation)\"},\"static_fire_date_utc\":\"2019-05-13T20:06:00.000Z\",\"static_fire_date_unix\":1557777960,\"net\":false,\"window\":9000,\"rocket\":\"5e9d0d95eda69973a809d1ec\",\"success\":true,\"failures\":[],\"details\":\"SpaceX will launch dozens of Starlink demonstration satellites from SLC-40, Cape Canaveral AFS. Starlink is a low Earth orbit broadband internet constellation developed and owned by SpaceX which will eventually consist of nearly 12 000 satellites and will provide low latency internet service to ground terminals around the world. Two prototype satellites, Microsats 2a and 2b, were launched from Vandenberg AFB in February 2018. The booster for this mission will land on OCISLY.\",\"crew\":[],\"ships\":[\"5ea6ed30080df4000697c913\",\"5ea6ed2f080df4000697c90c\",\"5ea6ed2f080df4000697c90e\",\"5ea6ed2f080df4000697c90b\",\"5ea6ed2e080df4000697c909\"],\"capsules\":[],\"payloads\":[\"5eb0e4cbb6c3bb0006eeb238\"],\"launchpad\":\"5e9e4501f509094ba4566f84\",\"flight_number\":79,\"name\":\"Starlink v0.9\",\"date_utc\":\"2019-05-24T02:30:00.000Z\",\"date_unix\":1558665000,\"date_local\":\"2019-05-23T22:30:00-04:00\",\"date_precision\":\"hour\",\"upcoming\":false,\"cores\":[{\"core\":\"5e9e28a5f3591833b13b2659\",\"flight\":3,\"gridfins\":true,\"legs\":true,\"reused\":true,\"landing_attempt\":true,\"landing_success\":true,\"landing_type\":\"ASDS\",\"landpad\":\"5e9e3032383ecb6bb234e7ca\"}],\"auto_update\":true,\"tbd\":false,\"launch_library_id\":null,\"id\":\"5eb87d30ffd86e000604b378\"},{\"fairings\":{\"reused\":false,\"recovery_attempt\":false,\"recovered\":null,\"ships\":[]},\"links\":{\"patch\":{\"small\":\"https://images2.imgbox.com/39/af/ygmjLYhv_o.png\",\"large\":\"https://images2.imgbox.com/03/18/xlkSHLy1_o.png\"},\"reddit\":{\"campaign\":\"https://www.reddit.com/r/spacex/comments/buq487/radarsat_constellation_launch_campaign_thread\",\"launch\":\"https://www.reddit.com/r/spacex/comments/byp69f/rspacex_radarsat_constellation_official_launch\",\"media\":null,\"recovery\":null},\"flickr\":{\"small\":[],\"original\":[\"https://live.staticflickr.com/65535/48052269657_71764b0fb3_o.jpg\",\"https://live.staticflickr.com/65535/48052269617_34447619f0_o.jpg\",\"https://live.staticflickr.com/65535/48052224858_20ea2a411e_o.jpg\",\"https://live.staticflickr.com/65535/48052269562_325c117b81_o.jpg\",\"https://live.staticflickr.com/65535/48052182461_a419db6b84_o.jpg\",\"https://live.staticflickr.com/65535/48052224733_f89f1dd046_o.jpg\"]},\"presskit\":\"https://www.spacex.com/sites/spacex/files/radarsat_constellation_mission_press_kit.pdf\",\"webcast\":\"https://youtu.be/8A2nJd9Urk8\",\"youtube_id\":\"8A2nJd9Urk8\",\"article\":\"https://spaceflightnow.com/2019/06/12/three-canadian-radar-surveillance-satellites-ride-spacex-rocket-into-orbit/\",\"wikipedia\":\"https://en.wikipedia.org/wiki/RADARSAT_Constellation\"},\"static_fire_date_utc\":\"2019-06-08T08:39:00.000Z\",\"static_fire_date_unix\":1559983140,\"net\":false,\"window\":780,\"rocket\":\"5e9d0d95eda69973a809d1ec\",\"success\":true,\"failures\":[],\"details\":\"SpaceX is launching the three satellite RADARSAT Constellation Mission into Sun Synchronous orbit from SLC-4E, VAFB. The RCM spacecraft are synthetic aperture radar (SAR) Earth observation satellites built by the Canadian space company, MDA, for the Canadian Space Agency. This mission was delayed when the originally slated booster failed to land after CRS-16. The booster is expected to return to LZ-4.\",\"crew\":[],\"ships\":[],\"capsules\":[],\"payloads\":[\"5eb0e4ccb6c3bb0006eeb239\"],\"launchpad\":\"5e9e4502f509092b78566f87\",\"flight_number\":80,\"name\":\"RADARSAT Constellation\",\"date_utc\":\"2019-06-12T14:17:00.000Z\",\"date_unix\":1560349020,\"date_local\":\"2019-06-12T07:17:00-07:00\",\"date_precision\":\"hour\",\"upcoming\":false,\"cores\":[{\"core\":\"5e9e28a6f35918c0803b265c\",\"flight\":2,\"gridfins\":true,\"legs\":true,\"reused\":true,\"landing_attempt\":true,\"landing_success\":true,\"landing_type\":\"RTLS\",\"landpad\":\"5e9e3032383ecb554034e7c9\"}],\"auto_update\":true,\"tbd\":false,\"launch_library_id\":null,\"id\":\"5eb87d31ffd86e000604b379\"},{\"fairings\":{\"reused\":false,\"recovery_attempt\":true,\"recovered\":true,\"ships\":[\"5ea6ed2e080df4000697c908\"]},\"links\":{\"patch\":{\"small\":\"https://images2.imgbox.com/b0/90/fA4QaCAi_o.png\",\"large\":\"https://images2.imgbox.com/81/9e/p6AaiJwj_o.png\"},\"reddit\":{\"campaign\":\"https://www.reddit.com/r/spacex/comments/bw6aa8/stp2_launch_campaign_thread/\",\"launch\":\"https://www.reddit.com/r/spacex/comments/c40a29/rspacex_stp2_official_launch_discussion_updates\",\"media\":\"https://www.reddit.com/r/spacex/comments/c4ng3a/rspacex_stp2_media_thread_videos_images_gifs\",\"recovery\":null},\"flickr\":{\"small\":[],\"original\":[\"https://live.staticflickr.com/65535/48129211778_83c1769305_o.jpg\",\"https://live.staticflickr.com/65535/48129211908_8390c775b0_o.jpg\",\"https://live.staticflickr.com/65535/48129182836_fd53e5646b_o.jpg\",\"https://live.staticflickr.com/65535/48129269897_22d854be5c_o.jpg\",\"https://live.staticflickr.com/65535/48129182631_572051790c_o.jpg\",\"https://live.staticflickr.com/65535/48129211693_d23b0287f1_o.jpg\",\"https://live.staticflickr.com/65535/48129269942_eb9b5c25bc_o.jpg\"]},\"presskit\":\"https://www.spacex.com/sites/spacex/files/stp-2_press_kit.pdf\",\"webcast\":\"https://youtu.be/WxH4CAlhtiQ\",\"youtube_id\":\"WxH4CAlhtiQ\",\"article\":\"https://spaceflightnow.com/2019/06/25/falcon-heavy-launches-on-military-led-rideshare-mission-boat-catches-fairing\",\"wikipedia\":\"https://en.wikipedia.org/wiki/Space_Test_Program\"},\"static_fire_date_utc\":\"2019-06-19T21:52:00.000Z\",\"static_fire_date_unix\":1560981120,\"net\":false,\"window\":14400,\"rocket\":\"5e9d0d95eda69974db09d1ed\",\"success\":true,\"failures\":[],\"details\":\"Space Test Program 2 is a rideshare managed by the U.S. Air Force Space and Missile Systems Center (SMC), launching from LC-39A, KSC. Most of the spacecraft will be delivered into low Earth orbit (LEO) in two deployment sequences separated by a second stage burn. These LEO payloads include the six Taiwan and United States owned COSMIC-2 microsatellites, the Planetary Society\\'s LightSail-B demonstrator cubesat, and others. The third and final deployment will be the Air Force Research Lab\\'s DSX spacecraft, which will be delivered to a medium Earth orbit (MEO). This mission will reuse the side cores from Arabsat 6A, which will return to LZ-1, and LZ-2. The new center core will boost back to land on OCISLY less than 40 km from the launch site.\",\"crew\":[],\"ships\":[\"5ea6ed30080df4000697c913\",\"5ea6ed2f080df4000697c90b\",\"5ea6ed2e080df4000697c909\",\"5ea6ed2e080df4000697c908\",\"5ea6ed2f080df4000697c90e\"],\"capsules\":[],\"payloads\":[\"5eb0e4ccb6c3bb0006eeb23a\",\"5eb0e4ccb6c3bb0006eeb23b\",\"5eb0e4ccb6c3bb0006eeb23c\",\"5eb0e4ccb6c3bb0006eeb23d\",\"5eb0e4ccb6c3bb0006eeb23e\",\"5eb0e4cdb6c3bb0006eeb23f\",\"5eb0e4cdb6c3bb0006eeb240\",\"5eb0e4cdb6c3bb0006eeb241\",\"5eb0e4cdb6c3bb0006eeb242\",\"5eb0e4cdb6c3bb0006eeb243\",\"5eb0e4cdb6c3bb0006eeb244\",\"5eb0e4cdb6c3bb0006eeb245\",\"5eb0e4ceb6c3bb0006eeb246\",\"5eb0e4ceb6c3bb0006eeb247\",\"5eb0e4ceb6c3bb0006eeb248\",\"5eb0e4ceb6c3bb0006eeb249\"],\"launchpad\":\"5e9e4502f509094188566f88\",\"flight_number\":81,\"name\":\"STP-2\",\"date_utc\":\"2019-06-25T03:30:00.000Z\",\"date_unix\":1561433400,\"date_local\":\"2019-06-24T23:30:00-04:00\",\"date_precision\":\"hour\",\"upcoming\":false,\"cores\":[{\"core\":\"5e9e28a7f3591878063b2661\",\"flight\":1,\"gridfins\":true,\"legs\":true,\"reused\":false,\"landing_attempt\":true,\"landing_success\":false,\"landing_type\":\"ASDS\",\"landpad\":\"5e9e3032383ecb6bb234e7ca\"},{\"core\":\"5e9e28a6f359183c413b265d\",\"flight\":2,\"gridfins\":true,\"legs\":true,\"reused\":true,\"landing_attempt\":true,\"landing_success\":true,\"landing_type\":\"RTLS\",\"landpad\":\"5e9e3032383ecb267a34e7c7\"},{\"core\":\"5e9e28a6f359188fd53b265e\",\"flight\":2,\"gridfins\":true,\"legs\":true,\"reused\":true,\"landing_attempt\":true,\"landing_success\":true,\"landing_type\":\"RTLS\",\"landpad\":\"5e9e3032383ecb90a834e7c8\"}],\"auto_update\":true,\"tbd\":false,\"launch_library_id\":null,\"id\":\"5eb87d35ffd86e000604b37a\"},{\"fairings\":null,\"links\":{\"patch\":{\"small\":\"https://images2.imgbox.com/f1/70/USGBp3Dy_o.png\",\"large\":\"https://images2.imgbox.com/79/a5/ZdV48VwO_o.png\"},\"reddit\":{\"campaign\":\"https://www.reddit.com/r/spacex/comments/c8k6g5/crs18_launch_campaign_thread\",\"launch\":\"https://www.reddit.com/r/spacex/comments/ch2ml7/rspacex_crs18_official_launch_discussion_updates/\",\"media\":\"https://www.reddit.com/r/spacex/comments/chbr8i/rspacex_crs18_media_thread_videos_images_gifs/\",\"recovery\":null},\"flickr\":{\"small\":[],\"original\":[\"https://live.staticflickr.com/65535/48380511527_190682b573_o.jpg\",\"https://live.staticflickr.com/65535/48380370691_7b0757a4d3_o.jpg\",\"https://live.staticflickr.com/65535/48380511492_51db1bf984_o.jpg\",\"https://live.staticflickr.com/65535/48380370626_a5d264c637_o.jpg\",\"https://live.staticflickr.com/65535/48380511427_97db52a9e3_o.jpg\"]},\"presskit\":\"https://www.spacex.com/sites/spacex/files/crs-18_press_kit.pdf\",\"webcast\":\"https://youtu.be/SlgrxVuP5jk\",\"youtube_id\":\"SlgrxVuP5jk\",\"article\":\"https://spaceflightnow.com/2019/07/25/new-docking-port-spacesuit-and-supplies-en-route-to-space-station/\",\"wikipedia\":\"https://en.wikipedia.org/wiki/SpaceX_CRS-18\"},\"static_fire_date_utc\":\"2019-07-19T15:31:00.000Z\",\"static_fire_date_unix\":1563550260,\"net\":false,\"window\":0,\"rocket\":\"5e9d0d95eda69973a809d1ec\",\"success\":true,\"failures\":[],\"details\":\"SpaceX\\'s 18th Commercial Resupply Services mission out of a total of 20 such contracted flights for NASA, this launch will deliver essential supplies to the International Space Station using the reusable Dragon 1 cargo spacecraft. The external payload for this mission is International Docking Adapter 3, replacing IDA-1 lost in SpaceX\\'s CRS-7 launch failure. This mission will launch from SLC-40 at Cape Canaveral AFS on a Falcon 9, and the first-stage booster is expected to land back at CCAFS LZ-1.\",\"crew\":[],\"ships\":[],\"capsules\":[\"5e9e2c5cf359188bfb3b266b\"],\"payloads\":[\"5eb0e4ceb6c3bb0006eeb24a\"],\"launchpad\":\"5e9e4501f509094ba4566f84\",\"flight_number\":82,\"name\":\"CRS-18\",\"date_utc\":\"2019-07-25T22:01:00.000Z\",\"date_unix\":1564092060,\"date_local\":\"2019-07-25T18:01:00-04:00\",\"date_precision\":\"hour\",\"upcoming\":false,\"cores\":[{\"core\":\"5e9e28a7f3591809313b2660\",\"flight\":2,\"gridfins\":true,\"legs\":true,\"reused\":true,\"landing_attempt\":true,\"landing_success\":true,\"landing_type\":\"RTLS\",\"landpad\":\"5e9e3032383ecb267a34e7c7\"}],\"auto_update\":true,\"tbd\":false,\"launch_library_id\":null,\"id\":\"5eb87d36ffd86e000604b37b\"},{\"fairings\":{\"reused\":false,\"recovery_attempt\":true,\"recovered\":true,\"ships\":[\"5ea6ed2e080df4000697c908\"]},\"links\":{\"patch\":{\"small\":\"https://images2.imgbox.com/65/c2/MMGkhdcA_o.png\",\"large\":\"https://images2.imgbox.com/9e/6f/oaYZfAoF_o.png\"},\"reddit\":{\"campaign\":\"https://www.reddit.com/r/spacex/comments/cjaawx/amos17_launch_campaign_thread\",\"launch\":\"https://www.reddit.com/r/spacex/comments/cmedgn/rspacex_amos17_official_launch_discussion_updates\",\"media\":\"https://www.reddit.com/r/spacex/comments/cmppne/rspacex_amos17_media_thread_videos_images_gifs\",\"recovery\":null},\"flickr\":{\"small\":[],\"original\":[\"https://live.staticflickr.com/65535/48478269312_58dd3dc446_o.jpg\",\"https://live.staticflickr.com/65535/48478269747_353dcb2e62_o.jpg\",\"https://live.staticflickr.com/65535/48478119901_2de0441026_o.jpg\",\"https://live.staticflickr.com/65535/48478120646_ab72c2c6c3_o.jpg\",\"https://live.staticflickr.com/65535/48478120031_5aae1f6131_o.jpg\",\"https://live.staticflickr.com/65535/48478269442_08479bed36_o.jpg\"]},\"presskit\":\"https://www.spacex.com/sites/spacex/files/amos-17_mission_press_kit_8_6_2019.pdf\",\"webcast\":\"https://youtu.be/fZh82-WcCuo\",\"youtube_id\":\"fZh82-WcCuo\",\"article\":\"https://spaceflightnow.com/2019/08/07/spacex-launches-israeli-owned-telecom-satellite/\",\"wikipedia\":\"https://en.wikipedia.org/wiki/Spacecom\"},\"static_fire_date_utc\":\"2019-08-01T00:00:00.000Z\",\"static_fire_date_unix\":1564617600,\"net\":false,\"window\":5280,\"rocket\":\"5e9d0d95eda69973a809d1ec\",\"success\":true,\"failures\":[],\"details\":\"SpaceX will launch Boeing built Amos-17, a geostationary communications satellite for Israeli company Spacecom. The satellite will be delivered to GTO from KSC LC-39A or possibly CCAFS SLC-40, and will replace the defunct Amos-5 at 17\\xc2\\xb0 E. Amos-17 carries multi-band high throughput and regional beams servicing Africa, Europe and the Middle East. The cost of this launch is covered for Spacecom by SpaceX credit following the Amos-6 incident. A recovery of the booster for this mission is not expected.\",\"crew\":[],\"ships\":[\"5ea6ed2e080df4000697c908\",\"5ea6ed2e080df4000697c909\"],\"capsules\":[],\"payloads\":[\"5eb0e4cfb6c3bb0006eeb24b\"],\"launchpad\":\"5e9e4501f509094ba4566f84\",\"flight_number\":83,\"name\":\"Amos-17\",\"date_utc\":\"2019-08-06T22:52:00.000Z\",\"date_unix\":1565131920,\"date_local\":\"2019-08-06T18:52:00-04:00\",\"date_precision\":\"hour\",\"upcoming\":false,\"cores\":[{\"core\":\"5e9e28a5f359181eed3b2657\",\"flight\":3,\"gridfins\":false,\"legs\":false,\"reused\":true,\"landing_attempt\":false,\"landing_success\":null,\"landing_type\":null,\"landpad\":null}],\"auto_update\":true,\"tbd\":false,\"launch_library_id\":null,\"id\":\"5eb87d37ffd86e000604b37c\"},{\"fairings\":{\"reused\":true,\"recovery_attempt\":false,\"recovered\":false,\"ships\":[]},\"links\":{\"patch\":{\"small\":\"https://images2.imgbox.com/61/a6/1MnnbXIF_o.png\",\"large\":\"https://images2.imgbox.com/3a/d1/R1MaGiiV_o.png\"},\"reddit\":{\"campaign\":\"https://www.reddit.com/r/spacex/comments/dgqcb6/2nd_starlink_mission_launch_campaign_thread\",\"launch\":\"https://www.reddit.com/r/spacex/comments/du07rt/rspacex_starlink1_official_launch_discussion\",\"media\":\"https://www.reddit.com/r/spacex/comments/durx53/rspacex_starlink_1_media_thread_videos_images\",\"recovery\":\"https://www.reddit.com/r/spacex/comments/du1duu/starlink1_booster_and_fairing_recovery_discussion\"},\"flickr\":{\"small\":[],\"original\":[\"https://live.staticflickr.com/65535/49051988851_0b422e1603_o.jpg\",\"https://live.staticflickr.com/65535/49051988746_1a97e38ca8_o.jpg\",\"https://live.staticflickr.com/65535/49052201452_c3b01e37f0_o.jpg\",\"https://live.staticflickr.com/65535/49051988636_3714a78787_o.jpg\",\"https://live.staticflickr.com/65535/49051477088_d86104481d_o.jpg\"]},\"presskit\":\"https://www.spacex.com/sites/spacex/files/starlink_press_kit_nov2019.pdf\",\"webcast\":\"https://youtu.be/pIDuv0Ta0XQ\",\"youtube_id\":\"pIDuv0Ta0XQ\",\"article\":\"https://spaceflightnow.com/2019/11/11/successful-launch-continues-deployment-of-spacexs-starlink-network\",\"wikipedia\":\"https://en.wikipedia.org/wiki/Starlink_(satellite_constellation)\"},\"static_fire_date_utc\":\"2019-11-11T12:08:00.000Z\",\"static_fire_date_unix\":1573474080,\"net\":false,\"window\":0,\"rocket\":\"5e9d0d95eda69973a809d1ec\",\"success\":true,\"failures\":[],\"details\":\"This mission will launch the first batch of Starlink version 1.0 satellites, from SLC-40, Cape Canaveral AFS. They are expected to contribute to the 550 km x 53\\xc2\\xb0 shell. It is the second Starlink launch overall. Starlink is a low Earth orbit broadband internet constellation developed and owned by SpaceX which will eventually consist of nearly 12 000 satellites and will provide low latency internet service to ground terminals around the world. The booster for this mission is expected to land on OCISLY.\",\"crew\":[],\"ships\":[\"5ea6ed2e080df4000697c908\",\"5ea6ed30080df4000697c913\",\"5ea6ed2e080df4000697c909\",\"5ea6ed2f080df4000697c90d\"],\"capsules\":[],\"payloads\":[\"5eb0e4cfb6c3bb0006eeb24c\"],\"launchpad\":\"5e9e4501f509094ba4566f84\",\"flight_number\":84,\"name\":\"Starlink-1\",\"date_utc\":\"2019-11-11T14:56:00.000Z\",\"date_unix\":1573484160,\"date_local\":\"2019-11-11T09:56:00-05:00\",\"date_precision\":\"hour\",\"upcoming\":false,\"cores\":[{\"core\":\"5e9e28a5f3591809c03b2658\",\"flight\":4,\"gridfins\":true,\"legs\":true,\"reused\":true,\"landing_attempt\":true,\"landing_success\":true,\"landing_type\":\"ASDS\",\"landpad\":\"5e9e3032383ecb6bb234e7ca\"}],\"auto_update\":true,\"tbd\":false,\"launch_library_id\":null,\"id\":\"5eb87d39ffd86e000604b37d\"},{\"fairings\":null,\"links\":{\"patch\":{\"small\":\"https://images2.imgbox.com/5d/26/ZP75Il1j_o.png\",\"large\":\"https://images2.imgbox.com/6e/76/jVcSQg0K_o.png\"},\"reddit\":{\"campaign\":\"https://www.reddit.com/r/spacex/comments/e0upb3/crs19_launch_campaign_thread/\",\"launch\":\"https://www.reddit.com/r/spacex/comments/e5r8hj/rspacex_crs19_official_launch_discussion_updates\",\"media\":\"https://www.reddit.com/r/spacex/comments/e6ln0m/rspacex_crs19_media_thread_videos_images_gifs\",\"recovery\":\"https://www.reddit.com/r/spacex/comments/e6lbzy/rspacex_crs19_booster_recovery_discussion_updates\"},\"flickr\":{\"small\":[],\"original\":[\"https://live.staticflickr.com/65535/49178460143_e3ae2bd506_o.jpg\",\"https://live.staticflickr.com/65535/49178954221_8544835325_o.jpg\",\"https://live.staticflickr.com/65535/49179161792_9f1801a963_o.jpg\",\"https://live.staticflickr.com/65535/49178460368_62eb945db8_o.jpg\",\"https://live.staticflickr.com/65535/49184948561_ce20b38bc6_o.jpg\",\"https://live.staticflickr.com/65535/49185149122_00a7fa573d_o.jpg\"]},\"presskit\":\"https://www.spacex.com/sites/spacex/files/crs-19_mission_press_kit.pdf\",\"webcast\":\"https://youtu.be/-aoAGdYXp_4\",\"youtube_id\":\"-aoAGdYXp_4\",\"article\":\"https://spaceflightnow.com/2019/12/05/dragon-soars-on-research-and-resupply-flight-to-international-space-station\",\"wikipedia\":\"https://en.wikipedia.org/wiki/SpaceX_CRS-19\"},\"static_fire_date_utc\":\"2019-11-26T17:04:00.000Z\",\"static_fire_date_unix\":1574787840,\"net\":false,\"window\":0,\"rocket\":\"5e9d0d95eda69973a809d1ec\",\"success\":true,\"failures\":[],\"details\":\"SpaceX\\'s 19th Crew Resupply Mission on behalf of NASA with a total of 20 contracted flights, this mission brings essential supplies to the International Space Station using SpaceX\\'s reusable Dragon spacecraft. The external payloads for this mission include the Hyperspectral Imager Suite and a lithium-ion battery. Falcon 9 and Dragon will launch from SLC-40, Cape Canaveral AFS. The mission will be complete with return and recovery of the Dragon capsule and down cargo.\",\"crew\":[],\"ships\":[\"5ea6ed2f080df4000697c90d\"],\"capsules\":[\"5e9e2c5bf3591880643b2669\"],\"payloads\":[\"5eb0e4cfb6c3bb0006eeb24d\"],\"launchpad\":\"5e9e4501f509094ba4566f84\",\"flight_number\":85,\"name\":\"CRS-19\",\"date_utc\":\"2019-12-05T17:29:23.000Z\",\"date_unix\":1575566963,\"date_local\":\"2019-12-05T12:29:23-05:00\",\"date_precision\":\"hour\",\"upcoming\":false,\"cores\":[{\"core\":\"5e9e28a7f359187afd3b2662\",\"flight\":1,\"gridfins\":true,\"legs\":true,\"reused\":false,\"landing_attempt\":true,\"landing_success\":true,\"landing_type\":\"ASDS\",\"landpad\":\"5e9e3032383ecb6bb234e7ca\"}],\"auto_update\":true,\"tbd\":false,\"launch_library_id\":null,\"id\":\"5eb87d39ffd86e000604b37e\"},{\"fairings\":{\"reused\":false,\"recovery_attempt\":true,\"recovered\":false,\"ships\":[\"5ea6ed2e080df4000697c908\"]},\"links\":{\"patch\":{\"small\":\"https://images2.imgbox.com/2c/03/fMLdgNQ4_o.png\",\"large\":\"https://images2.imgbox.com/73/e2/4I3Os6n7_o.png\"},\"reddit\":{\"campaign\":\"https://www.reddit.com/r/spacex/comments/e5w6i8/jcsat18kacific1_launch_campaign_thread\",\"launch\":\"https://www.reddit.com/r/spacex/comments/ebfr9t/rspacex_jcsat18kacific1_official_launch\",\"media\":\"https://www.reddit.com/r/spacex/comments/ebn4g5/rspacex_jcsat18kacific1_media_thread_videos\",\"recovery\":\"https://www.reddit.com/r/spacex/comments/ec48p3/jscat_18kacific1_recovery_discussion_and_updates\"},\"flickr\":{\"small\":[],\"original\":[\"https://live.staticflickr.com/65535/49235364922_e55ceb61be_o.jpg\",\"https://live.staticflickr.com/65535/49235136806_e5a3774904_o.jpg\",\"https://live.staticflickr.com/65535/49235137056_585dc050e7_o.jpg\"]},\"presskit\":\"https://www.spacex.com/sites/spacex/files/jcsat18kacific1_mission_press_kit.pdf\",\"webcast\":\"https://youtu.be/sbXgZg9JmkI\",\"youtube_id\":\"sbXgZg9JmkI\",\"article\":\"https://spaceflightnow.com/2019/12/17/startup-launches-broadband-satellite-on-spacex-rocket-to-connect-pacific-islands\",\"wikipedia\":\"https://en.wikipedia.org/wiki/JSAT_(satellite_constellation)\"},\"static_fire_date_utc\":\"2019-12-13T12:34:00.000Z\",\"static_fire_date_unix\":1576240440,\"net\":false,\"window\":5280,\"rocket\":\"5e9d0d95eda69973a809d1ec\",\"success\":true,\"failures\":[],\"details\":\"SpaceX will launch the Boeing built dual payload satellite to geostationary transfer orbit from XXXX. JCSat 18 is a mobile broadband communications payload built for Sky Perfect JSAT Corporation of Japan and will service Asia Pacific. Kacific 1 is a high throughput broadband internet payload built for Kacific Broadband Satellites and will service certain high demand areas of Southeast Asia and the Pacific. Both payloads share a single chassis. The booster for this mission is expected to land on OCISLY.\",\"crew\":[],\"ships\":[\"5ea6ed2e080df4000697c908\",\"5ea6ed2e080df4000697c907\",\"5ea6ed30080df4000697c913\",\"5ea6ed2f080df4000697c90d\"],\"capsules\":[],\"payloads\":[\"5eb0e4cfb6c3bb0006eeb24e\"],\"launchpad\":\"5e9e4501f509094ba4566f84\",\"flight_number\":86,\"name\":\"JCSat 18 / Kacific 1\",\"date_utc\":\"2019-12-17T00:10:00.000Z\",\"date_unix\":1576541400,\"date_local\":\"2019-12-16T19:10:00-05:00\",\"date_precision\":\"hour\",\"upcoming\":false,\"cores\":[{\"core\":\"5e9e28a7f3591809313b2660\",\"flight\":3,\"gridfins\":true,\"legs\":true,\"reused\":true,\"landing_attempt\":true,\"landing_success\":true,\"landing_type\":\"ASDS\",\"landpad\":\"5e9e3032383ecb6bb234e7ca\"}],\"auto_update\":true,\"tbd\":false,\"launch_library_id\":null,\"id\":\"5eb87d3bffd86e000604b37f\"},{\"fairings\":{\"reused\":false,\"recovery_attempt\":true,\"recovered\":false,\"ships\":[\"5ea6ed2e080df4000697c908\"]},\"links\":{\"patch\":{\"small\":\"https://images2.imgbox.com/36/f5/B08U2KHW_o.png\",\"large\":\"https://images2.imgbox.com/69/c7/G444jTFk_o.png\"},\"reddit\":{\"campaign\":\"https://www.reddit.com/r/spacex/comments/efqnvg/starlink2_launch_campaign_thread\",\"launch\":\"https://www.reddit.com/r/spacex/comments/eko0hr/rspacex_starlink_2_official_launch_discussion\",\"media\":\"https://www.reddit.com/r/spacex/comments/ekybzb/rspacex_starlink2_media_thread_videos_images_gifs\",\"recovery\":\"https://www.reddit.com/r/spacex/comments/elgp5k/rspacex_starlink_l2_recovery_discussion_updates\"},\"flickr\":{\"small\":[],\"original\":[\"https://live.staticflickr.com/65535/49346907238_b27507e4d9_o.jpg\",\"https://live.staticflickr.com/65535/49347368761_f4e45bd38a_o.jpg\",\"https://live.staticflickr.com/65535/49347368406_8f9acf1e2a_o.jpg\"]},\"presskit\":\"https://www.spacex.com/sites/spacex/files/starlink_press_kit_jan2020.pdf\",\"webcast\":\"https://youtu.be/HwyXo6T7jC4\",\"youtube_id\":\"HwyXo6T7jC4\",\"article\":\"https://spaceflightnow.com/2020/01/07/spacex-launches-more-starlink-satellites-tests-design-change-for-astronomers\",\"wikipedia\":\"https://en.wikipedia.org/wiki/Starlink_(satellite_constellation)\"},\"static_fire_date_utc\":\"2020-01-04T11:45:00.000Z\",\"static_fire_date_unix\":1578138300,\"net\":false,\"window\":0,\"rocket\":\"5e9d0d95eda69973a809d1ec\",\"success\":true,\"failures\":[],\"details\":\"This mission will launch the second batch of Starlink version 1.0 satellites, from SLC-40, Cape Canaveral AFS. They are expected to contribute to the 550 km x 53\\xc2\\xb0 shell. It is the third Starlink launch overall. Starlink is a low Earth orbit broadband internet constellation developed and owned by SpaceX which will eventually consist of nearly 12 000 satellites and will provide low latency internet service to ground terminals around the world. The booster for this mission is expected to land on OCISLY.\",\"crew\":[],\"ships\":[\"5ea6ed2e080df4000697c908\",\"5ea6ed30080df4000697c913\",\"5ea6ed2e080df4000697c909\",\"5ea6ed2f080df4000697c90b\",\"5ea6ed2f080df4000697c90d\"],\"capsules\":[],\"payloads\":[\"5eb0e4cfb6c3bb0006eeb24f\"],\"launchpad\":\"5e9e4501f509094ba4566f84\",\"flight_number\":87,\"name\":\"Starlink-2\",\"date_utc\":\"2020-01-07T02:19:00.000Z\",\"date_unix\":1578363540,\"date_local\":\"2020-01-06T21:19:00-05:00\",\"date_precision\":\"hour\",\"upcoming\":false,\"cores\":[{\"core\":\"5e9e28a5f3591833b13b2659\",\"flight\":4,\"gridfins\":true,\"legs\":true,\"reused\":true,\"landing_attempt\":true,\"landing_success\":true,\"landing_type\":\"ASDS\",\"landpad\":\"5e9e3032383ecb6bb234e7ca\"}],\"auto_update\":true,\"tbd\":false,\"launch_library_id\":null,\"id\":\"5eb87d3cffd86e000604b380\"},{\"fairings\":{\"reused\":null,\"recovery_attempt\":null,\"recovered\":null,\"ships\":[]},\"links\":{\"patch\":{\"small\":\"https://images2.imgbox.com/c0/9d/SJYvC4hT_o.png\",\"large\":\"https://images2.imgbox.com/19/df/IH0nVnSr_o.png\"},\"reddit\":{\"campaign\":\"https://www.reddit.com/r/spacex/comments/ek7eny/in_flight_abort_test_launch_campaign_thread\",\"launch\":\"https://www.reddit.com/r/spacex/comments/eq24ap/rspacex_inflight_abort_test_official_launch\",\"media\":\"https://www.reddit.com/r/spacex/comments/eq7pg4/rspacex_inflight_abort_test_media_thread_videos/\",\"recovery\":null},\"flickr\":{\"small\":[],\"original\":[\"https://live.staticflickr.com/65535/49421605028_b7ba890f0e_o.jpg\",\"https://live.staticflickr.com/65535/49422067976_cda2b8f021_o.jpg\",\"https://live.staticflickr.com/65535/49422067876_13ed519fe6_o.jpg\",\"https://live.staticflickr.com/65535/49421604803_0093a5d2cb_o.jpg\",\"https://live.staticflickr.com/65535/49422294602_0d5e7d8e82_o.jpg\",\"https://live.staticflickr.com/65535/49422068111_2ed613b19b_o.jpg\"]},\"presskit\":\"https://www.spacex.com/sites/spacex/files/in-flight_abort_test_press_kit.pdf\",\"webcast\":\"https://youtu.be/mhrkdHshb3E\",\"youtube_id\":\"mhrkdHshb3E\",\"article\":\"https://spaceflightnow.com/2020/01/19/spacex-aces-final-major-test-before-first-crew-mission\",\"wikipedia\":\"https://en.wikipedia.org/wiki/Commercial_Crew_Development\"},\"static_fire_date_utc\":\"2020-01-11T09:42:00.000Z\",\"static_fire_date_unix\":1578735720,\"net\":false,\"window\":14400,\"rocket\":\"5e9d0d95eda69973a809d1ec\",\"success\":true,\"failures\":[],\"details\":\"SpaceX will launch a Crew Dragon capsule from LC-39A, KSC on a fully fueled Falcon 9 rocket and then trigger the launch escape system during the period of maximum dynamic pressure. As part of NASA\\'a Commercial Crew Integrated Capability program (CCiCap) this test will contribute valuable data to help validate Crew Dragon and its launch abort system. The Crew Dragon will be recovered by GO Searcher after splashdown in the Atlantic Ocean. This flight does not go to orbit. The booster and upper stage are expected to break up following capsule separation and there will be no landing attempt.\",\"crew\":[],\"ships\":[\"5ea6ed2f080df4000697c90c\"],\"capsules\":[\"5e9e2c5df359184c9a3b2672\"],\"payloads\":[\"5eb0e4d0b6c3bb0006eeb250\"],\"launchpad\":\"5e9e4502f509094188566f88\",\"flight_number\":88,\"name\":\"Crew Dragon In Flight Abort Test\",\"date_utc\":\"2020-01-19T14:00:00.000Z\",\"date_unix\":1579442400,\"date_local\":\"2020-01-19T09:00:00-05:00\",\"date_precision\":\"hour\",\"upcoming\":false,\"cores\":[{\"core\":\"5e9e28a5f359182b023b2656\",\"flight\":4,\"gridfins\":false,\"legs\":false,\"reused\":true,\"landing_attempt\":false,\"landing_success\":null,\"landing_type\":null,\"landpad\":null}],\"auto_update\":true,\"tbd\":false,\"launch_library_id\":null,\"id\":\"5eb87d3dffd86e000604b381\"},{\"fairings\":{\"reused\":false,\"recovery_attempt\":true,\"recovered\":true,\"ships\":[\"5ea6ed2e080df4000697c908\"]},\"links\":{\"patch\":{\"small\":\"https://images2.imgbox.com/3a/c6/ueu9Acdh_o.png\",\"large\":\"https://images2.imgbox.com/1c/55/xNcIOR8Z_o.png\"},\"reddit\":{\"campaign\":\"https://www.reddit.com/r/spacex/comments/eof5pr/starlink3_launch_campaign_thread/\",\"launch\":\"https://www.reddit.com/r/spacex/comments/eudve3/rspacex_starlink_3_official_launch_discussion/\",\"media\":\"https://www.reddit.com/r/spacex/comments/evjdws/rspacex_starlink3_media_thread_videos_images_gifs/\",\"recovery\":\"https://www.reddit.com/r/spacex/comments/evnyij/rspacex_starlink3_recovery_discussion_updates/\"},\"flickr\":{\"small\":[],\"original\":[\"https://live.staticflickr.com/65535/49461673512_f4e01c8b27_o.jpg\",\"https://live.staticflickr.com/65535/49461673792_b1804c2a2b_o.jpg\",\"https://live.staticflickr.com/65535/49461673707_cb7fc4a3a8_o.jpg\",\"https://live.staticflickr.com/65535/49461673552_65cc294f82_o.jpg\"]},\"presskit\":\"https://www.spacex.com/sites/spacex/files/starlink_press_kit_jan272020.pdf\",\"webcast\":\"https://youtu.be/1KmBDCiL7MU\",\"youtube_id\":\"1KmBDCiL7MU\",\"article\":\"https://spaceflightnow.com/2020/01/29/spacex-boosts-60-more-starlink-satellites-into-orbit-after-weather-delays/\",\"wikipedia\":\"https://en.wikipedia.org/wiki/SpaceX_Starlink\"},\"static_fire_date_utc\":\"2020-01-20T13:17:00.000Z\",\"static_fire_date_unix\":1579526220,\"net\":false,\"window\":0,\"rocket\":\"5e9d0d95eda69973a809d1ec\",\"success\":true,\"failures\":[],\"details\":\"This mission will launch the third batch of Starlink version 1.0 satellites, from SLC-40, Cape Canaveral AFS. It is the fourth Starlink launch overall. The satellites will be delivered to low Earth orbit and will spend a few weeks maneuvering to their operational altitude of 550 km. The booster for this mission is expected to land on OCISLY.\",\"crew\":[],\"ships\":[\"5ea6ed2e080df4000697c908\",\"5ea6ed2e080df4000697c907\",\"5ea6ed30080df4000697c913\",\"5ea6ed2f080df4000697c90b\",\"5ea6ed2f080df4000697c90d\"],\"capsules\":[],\"payloads\":[\"5eb0e4d0b6c3bb0006eeb251\"],\"launchpad\":\"5e9e4501f509094ba4566f84\",\"flight_number\":89,\"name\":\"Starlink-3\",\"date_utc\":\"2020-01-29T14:06:00.000Z\",\"date_unix\":1580306760,\"date_local\":\"2020-01-29T09:06:00-05:00\",\"date_precision\":\"hour\",\"upcoming\":false,\"cores\":[{\"core\":\"5e9e28a6f35918c0803b265c\",\"flight\":3,\"gridfins\":true,\"legs\":true,\"reused\":true,\"landing_attempt\":true,\"landing_success\":true,\"landing_type\":\"ASDS\",\"landpad\":\"5e9e3032383ecb6bb234e7ca\"}],\"auto_update\":true,\"tbd\":false,\"launch_library_id\":null,\"id\":\"5eb87d3fffd86e000604b382\"},{\"fairings\":{\"reused\":false,\"recovery_attempt\":true,\"recovered\":false,\"ships\":[\"5ea6ed2e080df4000697c908\"]},\"links\":{\"patch\":{\"small\":\"https://images2.imgbox.com/4f/07/GJWgTmKM_o.png\",\"large\":\"https://images2.imgbox.com/90/7c/MlD6s04z_o.png\"},\"reddit\":{\"campaign\":\"https://www.reddit.com/r/spacex/comments/ex0ilm/starlink4_launch_campaign_thread/\",\"launch\":\"https://www.reddit.com/r/spacex/comments/f4d8sg/rspacex_starlink4_official_launch_discussion/\",\"media\":\"https://www.reddit.com/r/spacex/comments/f56mb4/rspacex_starlink4_media_thread_videos_images_gifs/\",\"recovery\":\"https://www.reddit.com/r/spacex/comments/f5es7j/rspacex_starlink4_recovery_discussion_updates/\"},\"flickr\":{\"small\":[],\"original\":[\"https://live.staticflickr.com/65535/49549022017_18738a2552_o.jpg\",\"https://live.staticflickr.com/65535/49548795221_edd6dc7ef6_o.jpg\",\"https://live.staticflickr.com/65535/49548795401_93ef80caf5_o.jpg\",\"https://live.staticflickr.com/65535/49549022057_d4dbd6a492_o.jpg\"]},\"presskit\":\"https://www.spacex.com/sites/spacex/files/fifth_starlink_press_kit.pdf\",\"webcast\":\"https://youtu.be/8xeX62mLcf8\",\"youtube_id\":\"8xeX62mLcf8\",\"article\":\"https://spaceflightnow.com/2020/02/17/spacex-delivers-more-starlink-satellites-to-orbit-booster-misses-drone-ship-landing/\",\"wikipedia\":\"https://en.wikipedia.org/wiki/SpaceX_Starlink\"},\"static_fire_date_utc\":\"2020-02-14T08:31:00.000Z\",\"static_fire_date_unix\":1581669060,\"net\":false,\"window\":0,\"rocket\":\"5e9d0d95eda69973a809d1ec\",\"success\":true,\"failures\":[],\"details\":\"This mission will launch the fourth batch of Starlink version 1.0 satellites, from SLC-40, Cape Canaveral AFS. It is the fifth Starlink launch overall. The satellites will be delivered to low Earth orbit and will spend a few weeks maneuvering to their operational altitude of 550 km. The booster for this mission is expected to land on OCISLY.\",\"crew\":[],\"ships\":[\"5ea6ed2e080df4000697c908\",\"5ea6ed2e080df4000697c907\",\"5ea6ed2f080df4000697c90b\",\"5ea6ed30080df4000697c913\",\"5ea6ed2f080df4000697c90d\"],\"capsules\":[],\"payloads\":[\"5eb0e4d0b6c3bb0006eeb252\"],\"launchpad\":\"5e9e4501f509094ba4566f84\",\"flight_number\":90,\"name\":\"Starlink-4\",\"date_utc\":\"2020-02-17T15:05:55.000Z\",\"date_unix\":1581951955,\"date_local\":\"2020-02-17T10:05:55-05:00\",\"date_precision\":\"hour\",\"upcoming\":false,\"cores\":[{\"core\":\"5e9e28a7f3591809313b2660\",\"flight\":4,\"gridfins\":true,\"legs\":true,\"reused\":true,\"landing_attempt\":true,\"landing_success\":false,\"landing_type\":\"ASDS\",\"landpad\":\"5e9e3032383ecb6bb234e7ca\"}],\"auto_update\":true,\"tbd\":false,\"launch_library_id\":null,\"id\":\"5eb87d41ffd86e000604b383\"},{\"fairings\":null,\"links\":{\"patch\":{\"small\":\"https://images2.imgbox.com/9b/93/k1hCBIG8_o.png\",\"large\":\"https://images2.imgbox.com/dd/50/KsiuGQL4_o.png\"},\"reddit\":{\"campaign\":\"https://www.reddit.com/r/spacex/comments/ezn6n0/crs20_launch_campaign_thread\",\"launch\":\"https://www.reddit.com/r/spacex/comments/fe8pcj/rspacex_crs20_official_launch_discussion_updates/\",\"media\":\"https://www.reddit.com/r/spacex/comments/fes64p/rspacex_crs20_media_thread_videos_images_gifs/\",\"recovery\":null},\"flickr\":{\"small\":[],\"original\":[\"https://live.staticflickr.com/65535/49635401403_96f9c322dc_o.jpg\",\"https://live.staticflickr.com/65535/49636202657_e81210a3ca_o.jpg\",\"https://live.staticflickr.com/65535/49636202572_8831c5a917_o.jpg\",\"https://live.staticflickr.com/65535/49635401423_e0bef3e82f_o.jpg\",\"https://live.staticflickr.com/65535/49635985086_660be7062f_o.jpg\"]},\"presskit\":\"https://www.spacex.com/sites/spacex/files/crs-20_mission_press_kit.pdf\",\"webcast\":\"https://youtu.be/1MkcWK2PnsU\",\"youtube_id\":\"1MkcWK2PnsU\",\"article\":\"https://spaceflightnow.com/2020/03/07/late-night-launch-of-spacex-cargo-ship-marks-end-of-an-era/\",\"wikipedia\":\"https://en.wikipedia.org/wiki/SpaceX_CRS-20\"},\"static_fire_date_utc\":\"2020-03-01T10:20:00.000Z\",\"static_fire_date_unix\":1583058000,\"net\":false,\"window\":0,\"rocket\":\"5e9d0d95eda69973a809d1ec\",\"success\":true,\"failures\":[],\"details\":\"SpaceX\\'s 20th and final Crew Resupply Mission under the original NASA CRS contract, this mission brings essential supplies to the International Space Station using SpaceX\\'s reusable Dragon spacecraft. It is the last scheduled flight of a Dragon 1 capsule. (CRS-21 and up under the new Commercial Resupply Services 2 contract will use Dragon 2.) The external payload for this mission is the Bartolomeo ISS external payload hosting platform. Falcon 9 and Dragon will launch from SLC-40, Cape Canaveral Air Force Station and the booster will land at LZ-1. The mission will be complete with return and recovery of the Dragon capsule and down cargo.\",\"crew\":[],\"ships\":[],\"capsules\":[\"5e9e2c5cf359185d753b266f\"],\"payloads\":[\"5eb0e4d0b6c3bb0006eeb253\"],\"launchpad\":\"5e9e4501f509094ba4566f84\",\"flight_number\":91,\"name\":\"CRS-20\",\"date_utc\":\"2020-03-07T04:50:31.000Z\",\"date_unix\":1583556631,\"date_local\":\"2020-03-06T23:50:31-05:00\",\"date_precision\":\"hour\",\"upcoming\":false,\"cores\":[{\"core\":\"5e9e28a7f359187afd3b2662\",\"flight\":2,\"gridfins\":true,\"legs\":true,\"reused\":true,\"landing_attempt\":true,\"landing_success\":true,\"landing_type\":\"RTLS\",\"landpad\":\"5e9e3032383ecb267a34e7c7\"}],\"auto_update\":true,\"tbd\":false,\"launch_library_id\":null,\"id\":\"5eb87d42ffd86e000604b384\"},{\"fairings\":{\"reused\":true,\"recovery_attempt\":true,\"recovered\":false,\"ships\":[\"5ea6ed2e080df4000697c908\"]},\"links\":{\"patch\":{\"small\":\"https://images2.imgbox.com/dc/14/DLlaYbmf_o.png\",\"large\":\"https://images2.imgbox.com/e4/fd/2NPlCwzs_o.png\"},\"reddit\":{\"campaign\":\"https://www.reddit.com/r/spacex/comments/f8awv0/starlink5_launch_campaign_thread/\",\"launch\":\"https://www.reddit.com/r/spacex/comments/fhymy3/rspacex_starlink_5_official_launch_discussion/\",\"media\":\"https://www.reddit.com/r/spacex/comments/fizrn1/rspacex_starlink5_media_thread_videos_images_gifs/\",\"recovery\":null},\"flickr\":{\"small\":[],\"original\":[\"https://live.staticflickr.com/65535/49673373182_93a517e140_o.jpg\",\"https://live.staticflickr.com/65535/49672551378_fabc17ef6f_o.jpg\",\"https://live.staticflickr.com/65535/49672551303_564ce21658_o.jpg\"]},\"presskit\":\"https://www.spacex.com/sites/spacex/files/sixth_starlink_press_kit.pdf\",\"webcast\":\"https://youtu.be/I4sMhHbHYXM\",\"youtube_id\":\"I4sMhHbHYXM\",\"article\":\"https://spaceflightnow.com/2020/03/18/falcon-9-rocket-overcomes-engine-failure-to-deploy-starlink-satellites/\",\"wikipedia\":\"https://en.wikipedia.org/wiki/Starlink\"},\"static_fire_date_utc\":\"2020-03-13T18:37:00.000Z\",\"static_fire_date_unix\":1584124620,\"net\":false,\"window\":0,\"rocket\":\"5e9d0d95eda69973a809d1ec\",\"success\":true,\"failures\":[],\"details\":\"The sixth Starlink launch overall and the fifth operational batch of Starlink satellites will launch into orbit aboard a Falcon 9 rocket. This mission is expected to deploy all sixty satellites into an elliptical orbit about fifteen minutes into flight. In the weeks following launch the satellites are expected to utilize their onboard ion thrusters to raise their orbits to 550 km in three groups of 20, making use of precession rates to separate themselves into three planes. The booster will land on a drone ship approximately 628 km downrange.\",\"crew\":[],\"ships\":[\"5ea6ed30080df4000697c913\",\"5ea6ed2f080df4000697c90d\"],\"capsules\":[],\"payloads\":[\"5eb0e4d0b6c3bb0006eeb254\"],\"launchpad\":\"5e9e4502f509094188566f88\",\"flight_number\":92,\"name\":\"Starlink-5\",\"date_utc\":\"2020-03-18T12:16:00.000Z\",\"date_unix\":1584533760,\"date_local\":\"2020-03-18T08:16:00-04:00\",\"date_precision\":\"hour\",\"upcoming\":false,\"cores\":[{\"core\":\"5e9e28a5f3591809c03b2658\",\"flight\":5,\"gridfins\":true,\"legs\":true,\"reused\":true,\"landing_attempt\":true,\"landing_success\":false,\"landing_type\":\"ASDS\",\"landpad\":\"5e9e3032383ecb6bb234e7ca\"}],\"auto_update\":true,\"tbd\":false,\"launch_library_id\":null,\"id\":\"5eb87d43ffd86e000604b385\"},{\"fairings\":{\"reused\":true,\"recovery_attempt\":false,\"recovered\":null,\"ships\":[\"5ea6ed2e080df4000697c908\",\"5ea6ed2f080df4000697c90d\"]},\"links\":{\"patch\":{\"small\":\"https://images2.imgbox.com/ef/36/h10Ds3kT_o.png\",\"large\":\"https://images2.imgbox.com/ab/12/2cQPNTCZ_o.png\"},\"reddit\":{\"campaign\":\"https://www.reddit.com/r/spacex/comments/fxkc7k/starlink6_launch_campaign_thread/\",\"launch\":\"https://www.reddit.com/r/spacex/comments/g5jmx0/rspacex_starlink_6_official_launch_discussion/\",\"media\":\"https://www.reddit.com/r/spacex/comments/g5fqka/rspacex_starlink6_media_thread_photographer/\",\"recovery\":\"https://www.reddit.com/r/spacex/comments/g6kztd/rspacex_starlink_v1_l6_recovery_discussion/\"},\"flickr\":{\"small\":[],\"original\":[\"https://live.staticflickr.com/65535/49673373182_93a517e140_o.jpg\",\"https://live.staticflickr.com/65535/49672551378_fabc17ef6f_o.jpg\",\"https://live.staticflickr.com/65535/49672551303_564ce21658_o.jpg\",\"https://live.staticflickr.com/65535/49806771628_fef13c852d_o.jpg\",\"https://live.staticflickr.com/65535/49807633862_e5abcb41a6_o.jpg\"]},\"presskit\":\"https://www.spacex.com/sites/spacex/files/seventh_starlink_mission_overview.pdf\",\"webcast\":\"https://youtu.be/wSge0I7pwFI\",\"youtube_id\":\"wSge0I7pwFI\",\"article\":\"https://spaceflightnow.com/2020/04/22/spacexs-starlink-network-surpasses-400-satellite-mark-after-successful-launch/\",\"wikipedia\":\"https://en.wikipedia.org/wiki/Starlink\"},\"static_fire_date_utc\":\"2020-04-17T11:48:00.000Z\",\"static_fire_date_unix\":1587687810,\"net\":false,\"window\":0,\"rocket\":\"5e9d0d95eda69973a809d1ec\",\"success\":true,\"failures\":[],\"details\":\"This mission will launch the sixth batch of operational Starlink satellites, which are expected to be version 1.0, from SLC-40, Cape Canaveral AFS. It is the seventh Starlink launch overall. The satellites will be delivered to low Earth orbit and will spend a few weeks maneuvering to their operational altitude of 550 km. The booster for this mission is expected to land on OCISLY.\",\"crew\":[],\"ships\":[\"5ea6ed30080df4000697c913\",\"5ea6ed2e080df4000697c908\",\"5ea6ed2e080df4000697c907\",\"5ee68c683c228f36bd5809b5\"],\"capsules\":[],\"payloads\":[\"5eb0e4d1b6c3bb0006eeb255\"],\"launchpad\":\"5e9e4502f509094188566f88\",\"flight_number\":93,\"name\":\"Starlink-6\",\"date_utc\":\"2020-04-22T19:30:00.000Z\",\"date_unix\":1587583800,\"date_local\":\"2020-04-22T15:30:00-04:00\",\"date_precision\":\"hour\",\"upcoming\":false,\"cores\":[{\"core\":\"5e9e28a6f35918c0803b265c\",\"flight\":4,\"gridfins\":true,\"legs\":true,\"reused\":true,\"landing_attempt\":true,\"landing_success\":true,\"landing_type\":\"ASDS\",\"landpad\":\"5e9e3032383ecb6bb234e7ca\"}],\"auto_update\":true,\"tbd\":false,\"launch_library_id\":null,\"id\":\"5eb87d44ffd86e000604b386\"},{\"fairings\":null,\"links\":{\"patch\":{\"small\":\"https://images2.imgbox.com/48/a8/LTqq8OrE_o.png\",\"large\":\"https://images2.imgbox.com/e3/b7/DeT7QTkx_o.png\"},\"reddit\":{\"campaign\":\"https://www.reddit.com/r/spacex/comments/fjf6rr/dm2_launch_campaign_thread/\",\"launch\":\"https://www.reddit.com/r/spacex/comments/glwz6n/rspacex_cctcap_demonstration_mission_2_general\",\"media\":\"https://www.reddit.com/r/spacex/comments/gp1gf5/rspacex_dm2_media_thread_photographer_contest/\",\"recovery\":\"https://www.reddit.com/r/spacex/comments/gu5gkd/cctcap_demonstration_mission_2_stage_1_recovery/\"},\"flickr\":{\"small\":[],\"original\":[\"https://live.staticflickr.com/65535/49927519643_b43c6d4c44_o.jpg\",\"https://live.staticflickr.com/65535/49927519588_8a39a3994f_o.jpg\",\"https://live.staticflickr.com/65535/49928343022_6fb33cbd9c_o.jpg\",\"https://live.staticflickr.com/65535/49934168858_cacb00d790_o.jpg\",\"https://live.staticflickr.com/65535/49934682271_fd6a31becc_o.jpg\",\"https://live.staticflickr.com/65535/49956109906_f88d815772_o.jpg\",\"https://live.staticflickr.com/65535/49956109706_cffa847208_o.jpg\",\"https://live.staticflickr.com/65535/49956109671_859b323ede_o.jpg\",\"https://live.staticflickr.com/65535/49955609618_4cca01d581_o.jpg\",\"https://live.staticflickr.com/65535/49956396622_975c116b71_o.jpg\",\"https://live.staticflickr.com/65535/49955609378_9b77e5c771_o.jpg\",\"https://live.staticflickr.com/65535/49956396262_ef41c1d9b0_o.jpg\"]},\"presskit\":\"https://www.nasa.gov/sites/default/files/atoms/files/commercialcrew_press_kit.pdf\",\"webcast\":\"https://youtu.be/xY96v0OIcK4\",\"youtube_id\":\"xY96v0OIcK4\",\"article\":\"https://spaceflightnow.com/2020/05/30/nasa-astronauts-launch-from-us-soil-for-first-time-in-nine-years/\",\"wikipedia\":\"https://en.wikipedia.org/wiki/Crew_Dragon_Demo-2\"},\"static_fire_date_utc\":\"2020-05-22T17:39:00.000Z\",\"static_fire_date_unix\":1590169140,\"net\":false,\"window\":0,\"rocket\":\"5e9d0d95eda69973a809d1ec\",\"success\":true,\"failures\":[],\"details\":\"SpaceX will launch the second demonstration mission of its Crew Dragon vehicle as part of NASA\\'s Commercial Crew Transportation Capability Program (CCtCap), carrying two NASA astronauts to the International Space Station. Barring unexpected developments, this mission will be the first crewed flight to launch from the United States since the end of the Space Shuttle program in 2011. DM-2 demonstrates the Falcon 9 and Crew Dragon\\'s ability to safely transport crew to the space station and back to Earth and it is the last major milestone for certification of Crew Dragon. Initially the mission duration was planned to be no longer than two weeks, however NASA has been considering an extension to as much as six weeks or three months. The astronauts have been undergoing additional training for the possible longer mission.\",\"crew\":[\"5ebf1a6e23a9a60006e03a7a\",\"5ebf1b7323a9a60006e03a7b\"],\"ships\":[\"5ea6ed30080df4000697c913\",\"5ea6ed2f080df4000697c90b\",\"5ea6ed2f080df4000697c90c\",\"5ea6ed2e080df4000697c909\",\"5ea6ed2f080df4000697c90d\"],\"capsules\":[\"5e9e2c5df359188aba3b2676\"],\"payloads\":[\"5eb0e4d1b6c3bb0006eeb257\"],\"launchpad\":\"5e9e4502f509094188566f88\",\"flight_number\":94,\"name\":\"CCtCap Demo Mission 2\",\"date_utc\":\"2020-05-30T19:22:00.000Z\",\"date_unix\":1590866520,\"date_local\":\"2020-05-30T15:22:00-04:00\",\"date_precision\":\"hour\",\"upcoming\":false,\"cores\":[{\"core\":\"5e9e28a7f3591817f23b2663\",\"flight\":1,\"gridfins\":true,\"legs\":true,\"reused\":false,\"landing_attempt\":true,\"landing_success\":true,\"landing_type\":\"ASDS\",\"landpad\":\"5e9e3032383ecb6bb234e7ca\"}],\"auto_update\":true,\"tbd\":false,\"launch_library_id\":null,\"id\":\"5eb87d46ffd86e000604b388\"},{\"fairings\":{\"reused\":false,\"recovery_attempt\":true,\"recovered\":null,\"ships\":[\"5ea6ed2e080df4000697c908\",\"5ea6ed2e080df4000697c907\"]},\"links\":{\"patch\":{\"small\":\"https://images2.imgbox.com/14/8a/x2EqeeM4_o.png\",\"large\":\"https://images2.imgbox.com/f4/9a/sUj3vEI3_o.png\"},\"reddit\":{\"campaign\":\"https://www.reddit.com/r/spacex/comments/gamcbr/starlink7_launch_campaign_thread/\",\"launch\":\"https://www.reddit.com/r/spacex/comments/gkfe30/rspacex_starlink_7_official_launch_discussion/\",\"media\":null,\"recovery\":null},\"flickr\":{\"small\":[],\"original\":[\"https://live.staticflickr.com/65535/49971196871_a0462d0084_o.jpg\",\"https://live.staticflickr.com/65535/49970682603_e6333945ee_o.jpg\"]},\"presskit\":\"https://spacextimemachine.com/assets/press_kits/185.pdf\",\"webcast\":\"https://youtu.be/y4xBFHjkUvw\",\"youtube_id\":\"y4xBFHjkUvw\",\"article\":\"https://spaceflightnow.com/2020/06/04/spacex-sets-new-mark-in-rocket-reuse-10-years-after-first-falcon-9-launch/\",\"wikipedia\":\"https://en.wikipedia.org/wiki/Starlink\"},\"static_fire_date_utc\":\"2020-05-13T11:11:00.000Z\",\"static_fire_date_unix\":1589368260,\"net\":false,\"window\":0,\"rocket\":\"5e9d0d95eda69973a809d1ec\",\"success\":true,\"failures\":[],\"details\":\"This mission will launch the seventh batch of operational Starlink satellites, which are expected to be version 1.0, from SLC-40, Cape Canaveral AFS. It is the eighth Starlink launch overall. The satellites will be delivered to low Earth orbit and will spend a few weeks maneuvering to their operational altitude of 550 km. The booster for this mission is expected to land on JRTI on its first mission since arriving at Port Canaveral.\",\"crew\":[],\"ships\":[\"5ea6ed2e080df4000697c908\",\"5ea6ed2e080df4000697c907\",\"5ee68c683c228f36bd5809b5\"],\"capsules\":[],\"payloads\":[\"5eb0e4d1b6c3bb0006eeb256\"],\"launchpad\":\"5e9e4501f509094ba4566f84\",\"flight_number\":95,\"name\":\"Starlink-7\",\"date_utc\":\"2020-06-04T01:25:00.000Z\",\"date_unix\":1591233900,\"date_local\":\"2020-06-03T21:25:00-04:00\",\"date_precision\":\"hour\",\"upcoming\":false,\"cores\":[{\"core\":\"5e9e28a5f3591833b13b2659\",\"flight\":5,\"gridfins\":true,\"legs\":true,\"reused\":true,\"landing_attempt\":true,\"landing_success\":true,\"landing_type\":\"ASDS\",\"landpad\":\"5e9e3033383ecbb9e534e7cc\"}],\"auto_update\":true,\"tbd\":false,\"launch_library_id\":null,\"id\":\"5eb87d45ffd86e000604b387\"},{\"fairings\":{\"reused\":true,\"recovery_attempt\":true,\"recovered\":null,\"ships\":[\"5ea6ed2e080df4000697c908\",\"5ea6ed2e080df4000697c907\"]},\"links\":{\"patch\":{\"small\":\"https://images2.imgbox.com/f2/ab/jxHngBd5_o.png\",\"large\":\"https://images2.imgbox.com/ba/aa/6rusTkQw_o.png\"},\"reddit\":{\"campaign\":\"https://www.reddit.com/r/spacex/comments/gwbr4t/starlink8_launch_campaign_thread/\",\"launch\":\"https://www.reddit.com/r/spacex/comments/h7gqlc/rspacex_starlink_8_official_launch_discussion/\",\"media\":\"https://www.reddit.com/r/spacex/comments/h842qk/rspacex_starlink8_media_thread_photographer/\",\"recovery\":\"https://www.reddit.com/r/spacex/comments/h8sx6q/starlink8_recovery_thread/\"},\"flickr\":{\"small\":[],\"original\":[\"https://live.staticflickr.com/65535/50009748327_93e52a451f_o.jpg\"]},\"presskit\":null,\"webcast\":\"https://youtu.be/8riKQXChPGg\",\"youtube_id\":\"8riKQXChPGg\",\"article\":\"https://spaceflightnow.com/2020/06/13/starlink-satellite-deployments-continue-with-successful-falcon-9-launch/\",\"wikipedia\":\"https://en.wikipedia.org/wiki/Starlink\"},\"static_fire_date_utc\":null,\"static_fire_date_unix\":null,\"net\":false,\"window\":0,\"rocket\":\"5e9d0d95eda69973a809d1ec\",\"success\":true,\"failures\":[],\"details\":\"This mission will launch the eighth batch of operational Starlink satellites, which are expected to be version 1.0, from SLC-40, Cape Canaveral AFS. It is the ninth Starlink launch overall. The satellites will be delivered to low Earth orbit and will spend a few weeks maneuvering to their operational altitude of 550 km. This mission is includes rideshare payloads, SkySats 16-18, on top of the Starlink stack. The booster for this mission is expected to land an ASDS.\",\"crew\":[],\"ships\":[\"5ea6ed2e080df4000697c908\",\"5ea6ed2e080df4000697c907\",\"5ea6ed2f080df4000697c90b\"],\"capsules\":[],\"payloads\":[\"5eb0e4d1b6c3bb0006eeb258\"],\"launchpad\":\"5e9e4501f509094ba4566f84\",\"flight_number\":96,\"name\":\"Starlink-8 & SkySat 16-18\",\"date_utc\":\"2020-06-13T09:21:00.000Z\",\"date_unix\":1592040060,\"date_local\":\"2020-06-13T05:21:00-04:00\",\"date_precision\":\"hour\",\"upcoming\":false,\"cores\":[{\"core\":\"5e9e28a7f359187afd3b2662\",\"flight\":3,\"gridfins\":true,\"legs\":true,\"reused\":true,\"landing_attempt\":true,\"landing_success\":true,\"landing_type\":\"ASDS\",\"landpad\":\"5e9e3032383ecb6bb234e7ca\"}],\"auto_update\":true,\"tbd\":false,\"launch_library_id\":null,\"id\":\"5eb87d46ffd86e000604b389\"},{\"fairings\":{\"reused\":null,\"recovery_attempt\":true,\"recovered\":true,\"ships\":[]},\"links\":{\"patch\":{\"small\":\"https://images2.imgbox.com/1f/83/TEXnegNL_o.png\",\"large\":\"https://images2.imgbox.com/14/95/yd34FANN_o.png\"},\"reddit\":{\"campaign\":\"https://www.reddit.com/r/spacex/comments/gzeshn/gps_iii_sv03_launch_campaign_thread/\",\"launch\":\"https://www.reddit.com/r/spacex/comments/hi5hit/rspacex_gps_iii_sv03_columbus_official_launch/\",\"media\":\"https://www.reddit.com/r/spacex/comments/hiq0vd/rspacex_gps_iii_sv03_media_thread_photographer/\",\"recovery\":\"https://www.reddit.com/r/spacex/comments/hjendd/gps_iii_svo3_recovery_thread/\"},\"flickr\":{\"small\":[],\"original\":[\"https://live.staticflickr.com/65535/50065947228_804efe6117_o.jpg\",\"https://live.staticflickr.com/65535/50065947263_e1a6ea1e22_o.jpg\",\"https://live.staticflickr.com/65535/50065947218_88ef29951a_o.jpg\",\"https://live.staticflickr.com/65535/50066762457_8c92090037_o.jpg\",\"https://live.staticflickr.com/65535/50085443052_9f6b843a02_o.jpg\",\"https://live.staticflickr.com/65535/50085211776_588bed76f0_o.jpg\",\"https://live.staticflickr.com/65535/50084627433_89d8915596_o.jpg\"]},\"presskit\":null,\"webcast\":\"https://youtu.be/6zr0nfG3Xy4\",\"youtube_id\":\"6zr0nfG3Xy4\",\"article\":\"https://spaceflightnow.com/2020/06/30/spacex-launches-its-first-mission-for-u-s-space-force/\",\"wikipedia\":\"https://en.wikipedia.org/wiki/GPS_Block_III\"},\"static_fire_date_utc\":\"2020-06-25T09:48:00.000Z\",\"static_fire_date_unix\":1593078480,\"net\":false,\"window\":0,\"rocket\":\"5e9d0d95eda69973a809d1ec\",\"success\":true,\"failures\":[],\"details\":\"SpaceX will launch GPS Block III Space Vehicle 03 from SLC-40, Cape Canaveral AFS aboard a Falcon 9. GPS III is owned and operated by the US Air Force and produced by Lockheed Martin. This is the third GPS III satellite and the second launched by SpaceX. The satellite will be delivered into a MEO transfer orbit. The booster for this mission is expected to land on an ASDS.\",\"crew\":[],\"ships\":[],\"capsules\":[],\"payloads\":[\"5eb0e4d2b6c3bb0006eeb25c\"],\"launchpad\":\"5e9e4501f509094ba4566f84\",\"flight_number\":97,\"name\":\"GPS III SV03 (Columbus)\",\"date_utc\":\"2020-06-30T19:55:00.000Z\",\"date_unix\":1593546900,\"date_local\":\"2020-06-30T15:55:00-04:00\",\"date_precision\":\"hour\",\"upcoming\":false,\"cores\":[{\"core\":\"5ef670f10059c33cee4a826c\",\"flight\":1,\"gridfins\":true,\"legs\":true,\"reused\":false,\"landing_attempt\":true,\"landing_success\":true,\"landing_type\":\"ASDS\",\"landpad\":\"5e9e3033383ecbb9e534e7cc\"}],\"auto_update\":true,\"tbd\":false,\"launch_library_id\":null,\"id\":\"5eb87d4affd86e000604b38b\"},{\"fairings\":{\"reused\":null,\"recovery_attempt\":true,\"recovered\":true,\"ships\":[\"5ea6ed2e080df4000697c908\",\"5ea6ed2e080df4000697c907\"]},\"links\":{\"patch\":{\"small\":\"https://images2.imgbox.com/c3/19/YmxxZMLw_o.png\",\"large\":\"https://images2.imgbox.com/d4/0b/QdfjLsV3_o.png\"},\"reddit\":{\"campaign\":\"https://www.reddit.com/r/spacex/comments/hkbhqo/anasisii_launch_campaign_thread\",\"launch\":\"https://www.reddit.com/r/spacex/comments/hu6sci/rspacex_anasisii_official_launch_discussion/\",\"media\":\"https://www.reddit.com/r/spacex/comments/hun4pv/rspacex_anasisii_media_thread_photographer_contest/\",\"recovery\":\"https://www.reddit.com/r/spacex/comments/hvgjk9/anasisii_recovery_thread/\"},\"flickr\":{\"small\":[],\"original\":[\"https://live.staticflickr.com/65535/50136967628_eda99b6353_o.jpg\",\"https://live.staticflickr.com/65535/50137510881_4618ba6c84_o.jpg\",\"https://live.staticflickr.com/65535/50136967553_e1ac93fab0_o.jpg\",\"https://live.staticflickr.com/65535/50136967658_9347d7c575_o.jpg\"]},\"presskit\":null,\"webcast\":\"https://youtu.be/TshvZlQ7le8\",\"youtube_id\":\"TshvZlQ7le8\",\"article\":\"https://spaceflightnow.com/2020/07/20/spacex-delivers-south-koreas-first-military-satellite-into-on-target-orbit/\",\"wikipedia\":null},\"static_fire_date_utc\":\"2020-07-11T17:58:00.000Z\",\"static_fire_date_unix\":1594490280,\"net\":false,\"window\":0,\"rocket\":\"5e9d0d95eda69973a809d1ec\",\"success\":true,\"failures\":[],\"details\":\"SpaceX will launch ANASIS-II, a South Korean geostationary military communication satellite from LC-39A, Kennedy Space Center. It will be South Korea\\'s first dedicated military communications satellite. Falcon 9 will deliver the satellite to a geostationary transfer orbit. The booster is expected to land downrange on an ASDS.\",\"crew\":[],\"ships\":[\"5ea6ed2e080df4000697c908\",\"5ea6ed2e080df4000697c907\",\"5ea6ed2f080df4000697c90b\"],\"capsules\":[],\"payloads\":[\"5eb0e4d2b6c3bb0006eeb25b\"],\"launchpad\":\"5e9e4501f509094ba4566f84\",\"flight_number\":98,\"name\":\"ANASIS-II\",\"date_utc\":\"2020-07-20T21:30:00.000Z\",\"date_unix\":1595280600,\"date_local\":\"2020-07-20T17:30:00-04:00\",\"date_precision\":\"hour\",\"upcoming\":false,\"cores\":[{\"core\":\"5e9e28a7f3591817f23b2663\",\"flight\":2,\"gridfins\":true,\"legs\":true,\"reused\":true,\"landing_attempt\":true,\"landing_success\":true,\"landing_type\":\"ASDS\",\"landpad\":\"5e9e3033383ecbb9e534e7cc\"}],\"auto_update\":true,\"tbd\":false,\"launch_library_id\":null,\"id\":\"5eb87d50ffd86e000604b394\"},{\"fairings\":{\"reused\":null,\"recovery_attempt\":true,\"recovered\":true,\"ships\":[\"5ea6ed2e080df4000697c908\",\"5ea6ed2e080df4000697c907\"]},\"links\":{\"patch\":{\"small\":\"https://images2.imgbox.com/ac/ad/FhIfqkTq_o.png\",\"large\":\"https://images2.imgbox.com/2f/4f/Mk46ah9f_o.png\"},\"reddit\":{\"campaign\":\"https://www.reddit.com/r/spacex/comments/h8mold/starlink9_launch_campaign_thread/\",\"launch\":\"https://www.reddit.com/r/spacex/comments/i4ozw3/rspacex_starlink9_launch_discussion_updates/\",\"media\":\"https://www.reddit.com/r/spacex/comments/hg499n/rspacex_starlink9_media_thread_photographer/\",\"recovery\":\"https://www.reddit.com/r/spacex/comments/i5smhk/starlink_9blacksky_recovery_thread/\"},\"flickr\":{\"small\":[],\"original\":[\"https://live.staticflickr.com/65535/50198901143_0bb53a499e_o.jpg\",\"https://live.staticflickr.com/65535/50199448011_35d0e9c8bf_o.jpg\",\"https://live.staticflickr.com/65535/50199715777_eca6f41d25_o.jpg\"]},\"presskit\":null,\"webcast\":\"https://youtu.be/KU6KogxG5BE\",\"youtube_id\":\"KU6KogxG5BE\",\"article\":\"https://spaceflightnow.com/2020/08/07/spacex-closes-out-busy-week-with-launch-of-more-starlink-satellites/\",\"wikipedia\":\"https://en.wikipedia.org/wiki/Starlink\"},\"static_fire_date_utc\":\"2020-06-24T18:18:00.000Z\",\"static_fire_date_unix\":1593022680,\"net\":false,\"window\":0,\"rocket\":\"5e9d0d95eda69973a809d1ec\",\"success\":true,\"failures\":[],\"details\":\"This mission will launch the ninth batch of operational Starlink satellites, which are expected to be version 1.0, from LC-39A, Kennedy Space Center. It is the tenth Starlink launch overall. The satellites will be delivered to low Earth orbit and will spend a few weeks maneuvering to their operational altitude of 550 km. This mission is includes a rideshare of two BlackSky satellites on top of the Starlink stack. The booster for this mission is expected to land an ASDS.\",\"crew\":[],\"ships\":[\"5ea6ed2e080df4000697c908\",\"5ea6ed2e080df4000697c907\",\"5ea6ed30080df4000697c913\",\"5ee68c683c228f36bd5809b5\"],\"capsules\":[],\"payloads\":[\"5ed9858b1f30554030d45c3e\",\"5ee522e32f1f3d474c758123\"],\"launchpad\":\"5e9e4502f509094188566f88\",\"flight_number\":99,\"name\":\"Starlink-9 (v1.0) & BlackSky Global 5-6\",\"date_utc\":\"2020-08-07T05:12:00.000Z\",\"date_unix\":1596777120,\"date_local\":\"2020-08-07T01:12:00-04:00\",\"date_precision\":\"hour\",\"upcoming\":false,\"cores\":[{\"core\":\"5e9e28a6f35918c0803b265c\",\"flight\":5,\"gridfins\":true,\"legs\":true,\"reused\":true,\"landing_attempt\":true,\"landing_success\":true,\"landing_type\":\"ASDS\",\"landpad\":\"5e9e3032383ecb6bb234e7ca\"}],\"auto_update\":true,\"tbd\":false,\"launch_library_id\":null,\"id\":\"5ed9819a1f30554030d45c29\"},{\"fairings\":{\"reused\":true,\"recovery_attempt\":true,\"recovered\":true,\"ships\":[\"5ea6ed2e080df4000697c908\",\"5ea6ed2e080df4000697c907\"]},\"links\":{\"patch\":{\"small\":\"https://images2.imgbox.com/64/b3/CIqV9XMZ_o.png\",\"large\":\"https://images2.imgbox.com/17/e3/ZxklwOkr_o.png\"},\"reddit\":{\"campaign\":\"https://www.reddit.com/r/spacex/comments/i63bst/starlink_general_discussion_and_deployment_thread/\",\"launch\":\"https://www.reddit.com/r/spacex/comments/ibacxz/rspacex_starlink10_launch_discussion_updates/\",\"media\":\"https://www.reddit.com/r/spacex/comments/ic46fw/starlink10_recovery_updates_discussion_thread/\",\"recovery\":\"https://www.reddit.com/r/spacex/comments/ic46fw/starlink10_recovery_updates_discussion_thread/\"},\"flickr\":{\"small\":[],\"original\":[\"https://live.staticflickr.com/65535/50241845831_9a7412e81d_o.jpg\",\"https://live.staticflickr.com/65535/50242057637_ea4f98d517_o.jpg\",\"https://live.staticflickr.com/65535/50242057682_6084977bf7_o.jpg\",\"https://live.staticflickr.com/65535/50242057677_e96fbd46e6_o.jpg\"]},\"presskit\":null,\"webcast\":\"https://youtu.be/jTMJK7wb0rM\",\"youtube_id\":\"jTMJK7wb0rM\",\"article\":\"https://spaceflightnow.com/2020/08/18/spacex-adds-more-satellites-to-ever-growing-starlink-network/\",\"wikipedia\":\"https://en.wikipedia.org/wiki/Starlink\"},\"static_fire_date_utc\":\"2020-08-17T10:00:00.000Z\",\"static_fire_date_unix\":1597658400,\"net\":false,\"window\":0,\"rocket\":\"5e9d0d95eda69973a809d1ec\",\"success\":true,\"failures\":[],\"details\":\"This mission will launch the tenth batch of operational Starlink satellites, which are expected to be version 1.0, from LC-39A, Kennedy Space Center. It is the eleventh Starlink launch overall. The satellites will be delivered to low Earth orbit and will spend a few weeks maneuvering to their operational altitude of 550 km. This mission is includes rideshare payloads, SkySats 19-21, on top of the Starlink stack. The booster for this mission is expected to land on an ASDS.\",\"crew\":[],\"ships\":[\"5ea6ed2e080df4000697c908\",\"5ea6ed2e080df4000697c907\",\"5ee68c683c228f36bd5809b5\",\"5ea6ed2f080df4000697c90b\",\"5ea6ed30080df4000697c913\"],\"capsules\":[],\"payloads\":[\"5ed9859f1f30554030d45c3f\"],\"launchpad\":\"5e9e4501f509094ba4566f84\",\"flight_number\":100,\"name\":\"Starlink-10 (v1.0) & SkySat 19-21\",\"date_utc\":\"2020-08-18T14:31:00.000Z\",\"date_unix\":1597761060,\"date_local\":\"2020-08-18T10:31:00-04:00\",\"date_precision\":\"hour\",\"upcoming\":false,\"cores\":[{\"core\":\"5e9e28a5f3591833b13b2659\",\"flight\":6,\"gridfins\":true,\"legs\":true,\"reused\":true,\"landing_attempt\":true,\"landing_success\":true,\"landing_type\":\"ASDS\",\"landpad\":\"5e9e3032383ecb6bb234e7ca\"}],\"auto_update\":true,\"tbd\":false,\"launch_library_id\":null,\"id\":\"5ed981d91f30554030d45c2a\"},{\"fairings\":{\"reused\":null,\"recovery_attempt\":true,\"recovered\":true,\"ships\":[\"5ea6ed2e080df4000697c907\"]},\"links\":{\"patch\":{\"small\":\"https://images2.imgbox.com/ff/20/EcENG8MX_o.png\",\"large\":\"https://images2.imgbox.com/97/0a/h6UEgv3Y_o.png\"},\"reddit\":{\"campaign\":\"https://www.reddit.com/r/spacex/comments/ffoz5r/saocom_1b_launch_campaign_thread/\",\"launch\":\"https://www.reddit.com/r/spacex/comments/iiwlch/rspacex_saocom_1b_launch_discussion_updates_thread/\",\"media\":\"https://www.reddit.com/r/spacex/comments/ij8mxf/rspacex_starlink11_saocom_1b_media_thread/\",\"recovery\":null},\"flickr\":{\"small\":[],\"original\":[\"https://live.staticflickr.com/65535/50291453997_aa715950e7_o.jpg\",\"https://live.staticflickr.com/65535/50291306296_85b6ff12a2_o.jpg\",\"https://live.staticflickr.com/65535/50291306061_2f9e350a85_o.jpg\",\"https://live.staticflickr.com/65535/50291306216_4fd44c261e_o.jpg\",\"https://live.staticflickr.com/65535/50291306346_136d3dce7b_o.jpg\"]},\"presskit\":null,\"webcast\":\"https://youtu.be/P-gLOsDjE3E\",\"youtube_id\":\"P-gLOsDjE3E\",\"article\":\"https://spaceflightnow.com/2020/08/31/spacex-launches-first-polar-orbit-mission-from-florida-in-decades/\",\"wikipedia\":\"https://en.wikipedia.org/wiki/SAOCOM\"},\"static_fire_date_utc\":null,\"static_fire_date_unix\":null,\"net\":false,\"window\":null,\"rocket\":\"5e9d0d95eda69973a809d1ec\",\"success\":true,\"failures\":[],\"details\":\"SpaceX\\'s Falcon 9 will launch the second of the two satellite SAOCOM 1 satellites into a sun-synchronous polar orbit from SLC-40, Cape Canaveral AFS. SAOCOM 1B is a synthetic aperture radar Earth observation satellite to support disaster management. The SAOCOM spacecraft are operated by CONAE, the Argentinian National Space Activities Commission, and are built by INVAP. This mission is also expected to include rideshare payloads Sequoia, and GNOMES-1. This will be the first polar launch from the Space Coast in 60 years. The launch azimuth will be southward and the booster will land at LZ-1.\",\"crew\":[],\"ships\":[\"5ea6ed2e080df4000697c907\"],\"capsules\":[],\"payloads\":[\"5eb0e4d1b6c3bb0006eeb259\"],\"launchpad\":\"5e9e4501f509094ba4566f84\",\"flight_number\":101,\"name\":\"SAOCOM 1B, GNOMES-1, Tyvak-0172\",\"date_utc\":\"2020-08-30T23:18:00.000Z\",\"date_unix\":1598829480,\"date_local\":\"2020-08-30T19:18:00-04:00\",\"date_precision\":\"hour\",\"upcoming\":false,\"cores\":[{\"core\":\"5e9e28a7f359187afd3b2662\",\"flight\":4,\"gridfins\":true,\"legs\":true,\"reused\":true,\"landing_attempt\":true,\"landing_success\":true,\"landing_type\":\"RTLS\",\"landpad\":\"5e9e3032383ecb267a34e7c7\"}],\"auto_update\":true,\"tbd\":false,\"launch_library_id\":null,\"id\":\"5eb87d47ffd86e000604b38a\"},{\"fairings\":{\"reused\":null,\"recovery_attempt\":true,\"recovered\":null,\"ships\":[\"5ea6ed2e080df4000697c908\"]},\"links\":{\"patch\":{\"small\":\"https://images2.imgbox.com/38/09/yStzn5Er_o.png\",\"large\":\"https://images2.imgbox.com/83/11/smudwRMI_o.png\"},\"reddit\":{\"campaign\":\"https://www.reddit.com/r/spacex/comments/i63bst/starlink_general_discussion_and_deployment_thread/\",\"launch\":\"https://www.reddit.com/r/spacex/comments/iip8h3/rspacex_starlink11_launch_discussion_updates/\",\"media\":\"https://www.reddit.com/r/spacex/comments/ij8mxf/rspacex_starlink11_saocom_1b_media_thread/\",\"recovery\":null},\"flickr\":{\"small\":[],\"original\":[]},\"presskit\":null,\"webcast\":\"https://youtu.be/_j4xR7LMCGY\",\"youtube_id\":\"_j4xR7LMCGY\",\"article\":null,\"wikipedia\":\"https://en.wikipedia.org/wiki/Starlink\"},\"static_fire_date_utc\":null,\"static_fire_date_unix\":null,\"net\":false,\"window\":null,\"rocket\":\"5e9d0d95eda69973a809d1ec\",\"success\":true,\"failures\":[],\"details\":\"This mission will launch the eleventh batch of operational Starlink satellites, which are expected to be version 1.0, from SLC-40, Cape Canaveral Air Force Station. It is the twelfth Starlink launch overall. The satellites will be delivered to low Earth orbit and will spend a few weeks maneuvering to their operational altitude of 550 km. The booster for this mission is expected to land on an ASDS.\",\"crew\":[],\"ships\":[\"5ea6ed2e080df4000697c908\",\"5ea6ed2f080df4000697c90b\",\"5ee68c683c228f36bd5809b5\"],\"capsules\":[],\"payloads\":[\"5ef6a4600059c33cee4a829e\"],\"launchpad\":\"5e9e4502f509094188566f88\",\"flight_number\":102,\"name\":\"Starlink-11 (v1.0)\",\"date_utc\":\"2020-09-03T12:46:00.000Z\",\"date_unix\":1599137160,\"date_local\":\"2020-09-03T08:46:00-04:00\",\"date_precision\":\"hour\",\"upcoming\":false,\"cores\":[{\"core\":\"5ef670f10059c33cee4a826c\",\"flight\":2,\"gridfins\":true,\"legs\":true,\"reused\":true,\"landing_attempt\":true,\"landing_success\":true,\"landing_type\":\"ASDS\",\"landpad\":\"5e9e3032383ecb6bb234e7ca\"}],\"auto_update\":true,\"tbd\":false,\"launch_library_id\":null,\"id\":\"5ef6a1e90059c33cee4a828a\"},{\"fairings\":{\"reused\":true,\"recovery_attempt\":true,\"recovered\":true,\"ships\":[\"5ea6ed2e080df4000697c907\",\"5ea6ed2e080df4000697c908\"]},\"links\":{\"patch\":{\"small\":\"https://images2.imgbox.com/3b/c3/kd7H9FTQ_o.png\",\"large\":\"https://images2.imgbox.com/79/1f/hBdiixIW_o.png\"},\"reddit\":{\"campaign\":\"https://www.reddit.com/r/spacex/comments/i63bst/starlink_general_discussion_and_deployment_thread/\",\"launch\":\"https://www.reddit.com/r/spacex/comments/iu0vtg/rspacex_starlink12_official_launch_discussion/\",\"media\":\"https://www.reddit.com/r/spacex/comments/iudifm/rspacex_starlink12_media_thread_photographer/\",\"recovery\":null},\"flickr\":{\"small\":[],\"original\":[\"https://live.staticflickr.com/65535/50428228397_6151927733_o.jpg\",\"https://live.staticflickr.com/65535/50427359318_67b3397892_o.jpg\",\"https://live.staticflickr.com/65535/50428050591_36defbe958_o.jpg\"]},\"presskit\":null,\"webcast\":\"https://youtu.be/UZkaE_9zwQQ\",\"youtube_id\":\"UZkaE_9zwQQ\",\"article\":null,\"wikipedia\":\"https://en.wikipedia.org/wiki/Starlink\"},\"static_fire_date_utc\":null,\"static_fire_date_unix\":null,\"net\":false,\"window\":0,\"rocket\":\"5e9d0d95eda69973a809d1ec\",\"success\":true,\"failures\":[],\"details\":\"This mission will launch the twelfth batch of operational Starlink satellites, which are expected to be version 1.0, from SLC-40, Cape Canaveral Air Force Station. It is the thirteenth Starlink launch overall. The satellites will be delivered to low Earth orbit and will spend a few weeks maneuvering to their operational altitude of 550 km. The booster for this mission is expected to land on an ASDS.\",\"crew\":[],\"ships\":[\"5ea6ed2f080df4000697c90b\",\"5ea6ed2f080df4000697c910\",\"5ea6ed2e080df4000697c907\",\"5ea6ed2e080df4000697c908\",\"5ea6ed30080df4000697c913\"],\"capsules\":[],\"payloads\":[\"5ef6a48e0059c33cee4a829f\"],\"launchpad\":\"5e9e4502f509094188566f88\",\"flight_number\":103,\"name\":\"Starlink-12 (v1.0)\",\"date_utc\":\"2020-10-06T11:29:00.000Z\",\"date_unix\":1601983740,\"date_local\":\"2020-10-06T07:29:00-04:00\",\"date_precision\":\"hour\",\"upcoming\":false,\"cores\":[{\"core\":\"5e9e28a7f3591817f23b2663\",\"flight\":3,\"gridfins\":true,\"legs\":true,\"reused\":true,\"landing_attempt\":true,\"landing_success\":true,\"landing_type\":\"ASDS\",\"landpad\":\"5e9e3032383ecb6bb234e7ca\"}],\"auto_update\":true,\"tbd\":false,\"launch_library_id\":null,\"id\":\"5ef6a2090059c33cee4a828b\"},{\"fairings\":{\"reused\":true,\"recovery_attempt\":true,\"recovered\":null,\"ships\":[\"5ea6ed2e080df4000697c907\",\"5ea6ed2e080df4000697c908\"]},\"links\":{\"patch\":{\"small\":\"https://images2.imgbox.com/1d/5c/Eg5XilXY_o.png\",\"large\":\"https://images2.imgbox.com/42/26/UbDMepRy_o.png\"},\"reddit\":{\"campaign\":\"https://www.reddit.com/r/spacex/comments/i63bst/starlink_general_discussion_and_deployment_thread/\",\"launch\":\"https://www.reddit.com/r/spacex/comments/jctqq9/rspacex_starlink13_official_launch_discussion/\",\"media\":\"https://www.reddit.com/r/spacex/comments/jdgsm2/rspacex_starlink13_media_thread_photographer/\",\"recovery\":\"https://www.reddit.com/r/spacex/comments/jdgpgl/starlink13_recovery_updates_discussion_thread/\"},\"flickr\":{\"small\":[],\"original\":[\"https://live.staticflickr.com/65535/50500804918_eb1187e1b2_o.jpg\",\"https://live.staticflickr.com/65535/50501674637_f16f528728_o.jpg\",\"https://live.staticflickr.com/65535/50501515611_2a3753bed1_o.jpg\",\"https://live.staticflickr.com/65535/50501674632_0d5276b1b5_o.jpg\"]},\"presskit\":null,\"webcast\":\"https://youtu.be/UM8CDDAmp98\",\"youtube_id\":\"UM8CDDAmp98\",\"article\":\"https://spaceflightnow.com/2020/10/18/spacex-launches-another-batch-of-starlink-satellites/\",\"wikipedia\":\"https://en.wikipedia.org/wiki/Starlink\"},\"static_fire_date_utc\":\"2020-10-17T05:23:00.000Z\",\"static_fire_date_unix\":1602912180,\"net\":false,\"window\":null,\"rocket\":\"5e9d0d95eda69973a809d1ec\",\"success\":true,\"failures\":[],\"details\":\"This mission will launch the thirteenth batch of operational Starlink satellites, which are expected to be version 1.0, from LC-39A, Kennedy Space Center. It is the fourteenth Starlink launch overall. The satellites will be delivered to low Earth orbit and will spend a few weeks maneuvering to their operational altitude of 550 km. The booster for this mission is expected to land on an ASDS.\",\"crew\":[],\"ships\":[\"5ea6ed30080df4000697c913\",\"5ea6ed2f080df4000697c90b\",\"5ee68c683c228f36bd5809b5\",\"5ea6ed2e080df4000697c907\",\"5ea6ed2e080df4000697c908\"],\"capsules\":[],\"payloads\":[\"5ef6a4d50059c33cee4a82a1\"],\"launchpad\":\"5e9e4502f509094188566f88\",\"flight_number\":104,\"name\":\"Starlink-13 (v1.0)\",\"date_utc\":\"2020-10-18T12:25:00.000Z\",\"date_unix\":1603023900,\"date_local\":\"2020-10-18T08:25:00-04:00\",\"date_precision\":\"hour\",\"upcoming\":false,\"cores\":[{\"core\":\"5e9e28a6f35918c0803b265c\",\"flight\":6,\"gridfins\":true,\"legs\":true,\"reused\":true,\"landing_attempt\":true,\"landing_success\":true,\"landing_type\":\"ASDS\",\"landpad\":\"5e9e3032383ecb6bb234e7ca\"}],\"auto_update\":true,\"tbd\":false,\"launch_library_id\":null,\"id\":\"5ef6a2bf0059c33cee4a828c\"},{\"fairings\":{\"reused\":false,\"recovery_attempt\":true,\"recovered\":null,\"ships\":[\"5ea6ed2e080df4000697c907\",\"5ea6ed2e080df4000697c908\"]},\"links\":{\"patch\":{\"small\":\"https://images2.imgbox.com/65/e5/GS6w5gPI_o.png\",\"large\":\"https://images2.imgbox.com/21/50/iOx9Tpuy_o.png\"},\"reddit\":{\"campaign\":\"https://www.reddit.com/r/spacex/comments/i63bst/starlink_general_discussion_and_deployment_thread/\",\"launch\":\"https://www.reddit.com/r/spacex/comments/jetth8/rspacex_starlink14_official_launch_discussion/\",\"media\":\"https://www.reddit.com/r/spacex/comments/jhcwun/rspacex_starlink14_media_thread_photographer/\",\"recovery\":null},\"flickr\":{\"small\":[],\"original\":[]},\"presskit\":null,\"webcast\":\"https://youtu.be/2gbVgTxLgN0\",\"youtube_id\":\"2gbVgTxLgN0\",\"article\":\"https://spaceflightnow.com/2020/10/24/spacex-adds-another-60-satellites-to-starlink-network/\",\"wikipedia\":\"https://en.wikipedia.org/wiki/Starlink\"},\"static_fire_date_utc\":\"2020-10-21T12:55:00.000Z\",\"static_fire_date_unix\":1603284900,\"net\":false,\"window\":null,\"rocket\":\"5e9d0d95eda69973a809d1ec\",\"success\":true,\"failures\":[],\"details\":\"This mission will launch the fourteenth batch of operational Starlink satellites, which are expected to be version 1.0, from SLC-40, Kennedy Space Center. It is the fifteenth Starlink launch overall. The satellites will be delivered to low Earth orbit and will spend a few weeks maneuvering to their operational altitude of 550 km. The booster for this mission is expected to land on JRTI.\",\"crew\":[],\"ships\":[\"5ea6ed2f080df4000697c910\",\"5ea6ed2f080df4000697c90b\",\"5ea6ed2e080df4000697c907\",\"5ea6ed2e080df4000697c908\"],\"capsules\":[],\"payloads\":[\"5ef6a4ea0059c33cee4a82a2\"],\"launchpad\":\"5e9e4501f509094ba4566f84\",\"flight_number\":105,\"name\":\"Starlink-14 (v1.0)\",\"date_utc\":\"2020-10-24T15:31:00.000Z\",\"date_unix\":1603553460,\"date_local\":\"2020-10-24T11:31:00-04:00\",\"date_precision\":\"hour\",\"upcoming\":false,\"cores\":[{\"core\":\"5ef670f10059c33cee4a826c\",\"flight\":3,\"gridfins\":true,\"legs\":true,\"reused\":true,\"landing_attempt\":true,\"landing_success\":true,\"landing_type\":\"ASDS\",\"landpad\":\"5e9e3033383ecbb9e534e7cc\"}],\"auto_update\":true,\"tbd\":false,\"launch_library_id\":null,\"id\":\"5ef6a2e70059c33cee4a8293\"},{\"fairings\":{\"reused\":null,\"recovery_attempt\":true,\"recovered\":null,\"ships\":[\"5ea6ed2e080df4000697c907\"]},\"links\":{\"patch\":{\"small\":\"https://images2.imgbox.com/5e/b7/Kn4Vn6nM_o.png\",\"large\":\"https://images2.imgbox.com/c8/f5/tRqtdHD6_o.png\"},\"reddit\":{\"campaign\":\"https://www.reddit.com/r/spacex/comments/io0swm/gps_iii_sv04_launch_campaign_thread/\",\"launch\":\"https://www.reddit.com/r/spacex/comments/jobxn2/rspacex_gps_iii_sv04_sacagawea_official_launch/\",\"media\":null,\"recovery\":null},\"flickr\":{\"small\":[],\"original\":[\"https://live.staticflickr.com/65535/50611865511_2299e11860_o.jpg\",\"https://live.staticflickr.com/65535/50611118958_448d239fe1_o.jpg\",\"https://live.staticflickr.com/65535/50611979827_48811d2ea6_o.jpg\"]},\"presskit\":null,\"webcast\":\"https://youtu.be/wufXF5YKR1M\",\"youtube_id\":\"wufXF5YKR1M\",\"article\":\"https://spaceflightnow.com/2020/11/06/spacex-launches-gps-navigation-satellite-from-cape-canaveral/\",\"wikipedia\":\"https://en.wikipedia.org/wiki/GPS_Block_III\"},\"static_fire_date_utc\":\"2020-09-25T05:42:00.000Z\",\"static_fire_date_unix\":1601012520,\"net\":false,\"window\":null,\"rocket\":\"5e9d0d95eda69973a809d1ec\",\"success\":true,\"failures\":[],\"details\":\"SpaceX will launch GPS Block III Space Vehicle 04 from SLC-40, Cape Canaveral AFS aboard a Falcon 9. GPS III is owned and operated by the US Air Force and produced by Lockheed Martin. This will be the fourth GPS III satellite launched and the third launched by SpaceX. The satellite will be delivered into a MEO transfer orbit. The booster for this mission will land on an ASDS.\",\"crew\":[],\"ships\":[\"5ea6ed30080df4000697c913\",\"5ee68c683c228f36bd5809b5\",\"5ea6ed2e080df4000697c907\"],\"capsules\":[],\"payloads\":[\"5eb0e4d2b6c3bb0006eeb25e\"],\"launchpad\":\"5e9e4501f509094ba4566f84\",\"flight_number\":106,\"name\":\"GPS III SV04 (Sacagawea)\",\"date_utc\":\"2020-11-05T23:24:00.000Z\",\"date_unix\":1604618640,\"date_local\":\"2020-11-05T18:24:00-05:00\",\"date_precision\":\"hour\",\"upcoming\":false,\"cores\":[{\"core\":\"5f57c5440622a633027900a0\",\"flight\":1,\"gridfins\":true,\"legs\":true,\"reused\":false,\"landing_attempt\":true,\"landing_success\":true,\"landing_type\":\"ASDS\",\"landpad\":\"5e9e3032383ecb6bb234e7ca\"}],\"auto_update\":true,\"tbd\":false,\"launch_library_id\":null,\"id\":\"5eb87d4cffd86e000604b38d\"},{\"fairings\":null,\"links\":{\"patch\":{\"small\":\"https://images2.imgbox.com/98/cc/UJd0SS73_o.png\",\"large\":\"https://images2.imgbox.com/03/3d/LzQWXPfy_o.png\"},\"reddit\":{\"campaign\":\"https://www.reddit.com/r/spacex/comments/iwb8bl/crew1_launch_campaign_thread/\",\"launch\":\"https://www.reddit.com/r/spacex/comments/ju7fxv/rspacex_crew1_official_launch_coast_docking/\",\"media\":\"https://www.reddit.com/r/spacex/comments/judv0r/rspacex_crew1_media_thread_photographer_contest/\",\"recovery\":null},\"flickr\":{\"small\":[],\"original\":[\"https://live.staticflickr.com/65535/50618376646_8f52c31fc4_o.jpg\",\"https://live.staticflickr.com/65535/50618376731_43ddaab1b8_o.jpg\",\"https://live.staticflickr.com/65535/50618376671_ba4e60af7c_o.jpg\",\"https://live.staticflickr.com/65535/50618376351_ecfdee4ab2_o.jpg\",\"https://live.staticflickr.com/65535/50618727917_01e579c4d9_o.jpg\",\"https://live.staticflickr.com/65535/50618355216_2872d1fe98_o.jpg\",\"https://live.staticflickr.com/65535/50618354801_ff3e722884_o.jpg\",\"https://live.staticflickr.com/65535/50618463487_41642939a4_o.jpg\",\"https://live.staticflickr.com/65535/50617619613_5630422345_o.jpg\",\"https://live.staticflickr.com/65535/50617619668_d680d7319c_o.jpg\",\"https://live.staticflickr.com/65535/50617625523_a7484e0abf_o.jpg\",\"https://live.staticflickr.com/65535/50618469202_fa86f88ab3_o.jpg\",\"https://live.staticflickr.com/65535/50617625183_8554412cee_o.jpg\",\"https://live.staticflickr.com/65535/50618470472_fb8e6507d7_o.jpg\",\"https://live.staticflickr.com/65535/50617626838_c0c71de1f7_o.jpg\",\"https://live.staticflickr.com/65535/50617626738_aa3997aaea_o.jpg\",\"https://live.staticflickr.com/65535/50617626408_fb0bba0f89_o.jpg\",\"https://live.staticflickr.com/65535/51158778650_9b8d555c1e_o.jpg\",\"https://live.staticflickr.com/65535/51158458619_9b74f6a3d0_o.jpg\"]},\"presskit\":null,\"webcast\":\"https://youtu.be/bnChQbxLkkI\",\"youtube_id\":\"bnChQbxLkkI\",\"article\":\"https://spaceflightnow.com/2020/11/16/astronauts-ride-spacex-crew-capsule-in-landmark-launch-for-commercial-spaceflight/\",\"wikipedia\":\"https://en.wikipedia.org/wiki/SpaceX_Crew-1\"},\"static_fire_date_utc\":\"2020-11-11T16:17:00.000Z\",\"static_fire_date_unix\":1605111420,\"net\":false,\"window\":0,\"rocket\":\"5e9d0d95eda69973a809d1ec\",\"success\":true,\"failures\":[],\"details\":\"SpaceX will launch the first operational mission of its Crew Dragon vehicle as part of NASA\\'s Commercial Crew Transportation Capability Program (CCtCap), carrying 3 NASA astronauts and 1 JAXA astronaut to the International Space Station. This mission will be the second crewed flight to launch from the United States since the end of the Space Shuttle program in 2011.\",\"crew\":[\"5f7f1543bf32c864a529b23e\",\"5f7f158bbf32c864a529b23f\",\"5f7f15d5bf32c864a529b240\",\"5f7f1614bf32c864a529b241\"],\"ships\":[\"5ea6ed2f080df4000697c910\",\"5ee68c683c228f36bd5809b5\",\"5ea6ed2f080df4000697c90c\",\"5ea6ed2e080df4000697c909\",\"5ea6ed2f080df4000697c90b\"],\"capsules\":[\"5f6f99fddcfdf403df379709\"],\"payloads\":[\"5eb0e4d2b6c3bb0006eeb25f\"],\"launchpad\":\"5e9e4502f509094188566f88\",\"flight_number\":107,\"name\":\"Crew-1\",\"date_utc\":\"2020-11-16T00:27:00.000Z\",\"date_unix\":1605486420,\"date_local\":\"2020-11-15T19:27:00-05:00\",\"date_precision\":\"hour\",\"upcoming\":false,\"cores\":[{\"core\":\"5f57c53d0622a6330279009f\",\"flight\":1,\"gridfins\":true,\"legs\":true,\"reused\":false,\"landing_attempt\":true,\"landing_success\":true,\"landing_type\":\"ASDS\",\"landpad\":\"5e9e3033383ecbb9e534e7cc\"}],\"auto_update\":true,\"tbd\":false,\"launch_library_id\":null,\"id\":\"5eb87d4dffd86e000604b38e\"},{\"fairings\":{\"reused\":null,\"recovery_attempt\":null,\"recovered\":null,\"ships\":[]},\"links\":{\"patch\":{\"small\":\"https://images2.imgbox.com/96/40/667HXq7w_o.png\",\"large\":\"https://images2.imgbox.com/26/73/pypHBlGD_o.png\"},\"reddit\":{\"campaign\":\"https://www.reddit.com/r/spacex/comments/jkk93v/sentinel6_michael_freilich_launch_campaign_thread/\",\"launch\":\"https://www.reddit.com/r/spacex/comments/jxsche/rspacex_sentinel6_official_launch_discussion/\",\"media\":\"https://www.reddit.com/r/spacex/comments/jyd67q/rspacex_sentinel6_media_thread_photographer/\",\"recovery\":null},\"flickr\":{\"small\":[],\"original\":[\"https://live.staticflickr.com/65535/50630802488_8cc373728e_o.jpg\",\"https://live.staticflickr.com/65535/50631642722_3af8131c6f_o.jpg\",\"https://live.staticflickr.com/65535/50631544171_66bd43eaa9_o.jpg\",\"https://live.staticflickr.com/65535/50631543966_e8035d5cca_o.jpg\",\"https://live.staticflickr.com/65535/50631643257_c214ceee7b_o.jpg\",\"https://live.staticflickr.com/65535/50631643917_cb7db291d0_o.jpg\"]},\"presskit\":null,\"webcast\":\"https://youtu.be/aVFPzTDCihQ\",\"youtube_id\":\"aVFPzTDCihQ\",\"article\":\"https://spaceflightnow.com/2020/11/21/international-satellite-launches-to-extend-measurements-of-sea-level-rise/\",\"wikipedia\":\"https://en.wikipedia.org/wiki/Copernicus_Sentinel-6\"},\"static_fire_date_utc\":\"2020-11-17T13:17:00.000Z\",\"static_fire_date_unix\":1605619020,\"net\":false,\"window\":null,\"rocket\":\"5e9d0d95eda69973a809d1ec\",\"success\":true,\"failures\":[],\"details\":\"SpaceX will launch Sentinel-6 Michael Freilich into low Earth orbit for NASA, NOAA, ESA, and the European Organization for the Exploitation of Meteorological Satellites aboard a Falcon 9 from SLC-4E, Vandenberg Air Force Station. Sentinel-6(A) is an ocean observation satellite providing radar ocean surface altimetry data and also atmospheric temperature profiles as a secondary mission. The booster for this mission is will land at LZ-4.\",\"crew\":[],\"ships\":[],\"capsules\":[],\"payloads\":[\"5ed9867c1f30554030d45c40\"],\"launchpad\":\"5e9e4502f509092b78566f87\",\"flight_number\":108,\"name\":\"Sentinel-6 Michael Freilich\",\"date_utc\":\"2020-11-21T17:17:00.000Z\",\"date_unix\":1605979020,\"date_local\":\"2020-11-21T09:17:00-08:00\",\"date_precision\":\"hour\",\"upcoming\":false,\"cores\":[{\"core\":\"5f57c54a0622a633027900a1\",\"flight\":1,\"gridfins\":true,\"legs\":true,\"reused\":false,\"landing_attempt\":true,\"landing_success\":true,\"landing_type\":\"RTLS\",\"landpad\":\"5e9e3032383ecb554034e7c9\"}],\"auto_update\":true,\"tbd\":false,\"launch_library_id\":null,\"id\":\"5ed983aa1f30554030d45c31\"},{\"fairings\":{\"reused\":true,\"recovery_attempt\":true,\"recovered\":null,\"ships\":[\"5ea6ed2e080df4000697c907\"]},\"links\":{\"patch\":{\"small\":\"https://images2.imgbox.com/54/00/2OgoVFlS_o.png\",\"large\":\"https://images2.imgbox.com/4a/e7/h403ivFa_o.png\"},\"reddit\":{\"campaign\":\"https://www.reddit.com/r/spacex/comments/jhu37i/starlink_general_discussion_and_deployment_thread/\",\"launch\":\"https://www.reddit.com/r/spacex/comments/jxyodz/rspacex_starlink15_official_launch_discussion/\",\"media\":\"https://www.reddit.com/r/spacex/comments/k0mom0/starlink15_media_thread_photographer_contest/\",\"recovery\":null},\"flickr\":{\"small\":[],\"original\":[\"https://live.staticflickr.com/65535/50644831893_bb40b60827_o.jpg\",\"https://live.staticflickr.com/65535/50645580736_44af27257f_o.jpg\"]},\"presskit\":null,\"webcast\":\"https://youtu.be/J442-ti-Dhg\",\"youtube_id\":\"J442-ti-Dhg\",\"article\":\"https://spaceflightnow.com/2020/11/25/spacex-launches-60-more-starlink-satellites-on-100th-falcon-9-flight/\",\"wikipedia\":\"https://en.wikipedia.org/wiki/Starlink\"},\"static_fire_date_utc\":\"2020-11-21T16:31:00.000Z\",\"static_fire_date_unix\":1605976260,\"net\":false,\"window\":null,\"rocket\":\"5e9d0d95eda69973a809d1ec\",\"success\":true,\"failures\":[],\"details\":\"This mission will launch the fifteenth batch of operational Starlink satellites, which are version 1.0, from SLC-40, Cape Canaveral Air Force Station. It will be the sixteenth Starlink launch overall. The satellites will be delivered to low Earth orbit and will spend a few weeks maneuvering to their operational altitude of 550 km. The booster for this mission is expected to land on an ASDS.\",\"crew\":[],\"ships\":[\"5ea6ed30080df4000697c913\",\"5ea6ed2f080df4000697c90c\",\"5ea6ed2f080df4000697c90b\",\"5ea6ed2f080df4000697c90d\",\"5ea6ed2e080df4000697c907\"],\"capsules\":[],\"payloads\":[\"5fb95c263a88ae63c9546044\"],\"launchpad\":\"5e9e4501f509094ba4566f84\",\"flight_number\":109,\"name\":\"Starlink-15 (v1.0)\",\"date_utc\":\"2020-11-25T02:13:00.000Z\",\"date_unix\":1606270380,\"date_local\":\"2020-11-24T21:13:00-05:00\",\"date_precision\":\"hour\",\"upcoming\":false,\"cores\":[{\"core\":\"5e9e28a5f3591833b13b2659\",\"flight\":7,\"gridfins\":true,\"legs\":true,\"reused\":true,\"landing_attempt\":true,\"landing_success\":true,\"landing_type\":\"ASDS\",\"landpad\":\"5e9e3032383ecb6bb234e7ca\"}],\"auto_update\":true,\"tbd\":false,\"launch_library_id\":null,\"id\":\"5fb95b3f3a88ae63c954603c\"},{\"fairings\":null,\"links\":{\"patch\":{\"small\":\"https://images2.imgbox.com/a2/a0/cHJWyFCo_o.png\",\"large\":\"https://images2.imgbox.com/dd/53/W10Rog1y_o.png\"},\"reddit\":{\"campaign\":\"https://www.reddit.com/r/spacex/comments/jw8bfe/crs21_launch_campaign_thread/\",\"launch\":\"https://www.reddit.com/r/spacex/comments/k6my16/rspacex_crs21_official_launch_discussion_updates/\",\"media\":null,\"recovery\":\"https://www.reddit.com/r/spacex/comments/k2ts1q/rspacex_fleet_updates_discussion_thread/\"},\"flickr\":{\"small\":[],\"original\":[\"https://live.staticflickr.com/65535/50689254612_db8bc87d2c_o.jpg\",\"https://live.staticflickr.com/65535/50689254712_98ef758c81_o.jpg\",\"https://live.staticflickr.com/65535/50689254512_bb44826694_o.jpg\",\"https://live.staticflickr.com/65535/50689254642_ba6b08d142_o.jpg\",\"https://live.staticflickr.com/65535/50689254552_1d9f91a963_o.jpg\"]},\"presskit\":\"https://www.nasa.gov/sites/default/files/atoms/files/spacex_crs-21_mision_overview_high_res.pdf\",\"webcast\":\"https://youtu.be/4xJAGFR_N-c\",\"youtube_id\":\"4xJAGFR_N-c\",\"article\":\"https://spaceflightnow.com/2020/12/06/spacex-launches-first-in-new-line-of-upgraded-space-station-cargo-ships/\",\"wikipedia\":\"https://en.wikipedia.org/wiki/SpaceX_CRS-21\"},\"static_fire_date_utc\":\"2020-12-03T13:45:00.000Z\",\"static_fire_date_unix\":1607003100,\"net\":false,\"window\":null,\"rocket\":\"5e9d0d95eda69973a809d1ec\",\"success\":true,\"failures\":[],\"details\":\"SpaceX\\'s 21st ISS resupply mission on behalf of NASA and the first under the CRS-2 contract, this mission brings essential supplies to the International Space Station using the cargo variant of SpaceX\\'s Dragon 2 spacecraft. The external payload for this mission is the Nanoracks Bishop Airlock. Falcon 9 and Dragon launch from LC-39A, Kennedy Space Center and the booster is expected to land on an ASDS. The mission will be complete with return and recovery of the Dragon capsule and down cargo.\",\"crew\":[],\"ships\":[\"5ea6ed30080df4000697c913\",\"5ea6ed2f080df4000697c90b\",\"5ea6ed2f080df4000697c90d\"],\"capsules\":[\"5fbb0f8fec55b34eb9f35c14\"],\"payloads\":[\"5eb0e4d3b6c3bb0006eeb262\"],\"launchpad\":\"5e9e4502f509094188566f88\",\"flight_number\":110,\"name\":\"CRS-21\",\"date_utc\":\"2020-12-06T16:17:00.000Z\",\"date_unix\":1607271420,\"date_local\":\"2020-12-06T11:17:00-05:00\",\"date_precision\":\"hour\",\"upcoming\":false,\"cores\":[{\"core\":\"5e9e28a7f3591817f23b2663\",\"flight\":4,\"gridfins\":true,\"legs\":true,\"reused\":true,\"landing_attempt\":true,\"landing_success\":true,\"landing_type\":\"ASDS\",\"landpad\":\"5e9e3032383ecb6bb234e7ca\"}],\"auto_update\":true,\"tbd\":false,\"launch_library_id\":null,\"id\":\"5eb87d4effd86e000604b391\"},{\"fairings\":{\"reused\":true,\"recovery_attempt\":true,\"recovered\":null,\"ships\":[]},\"links\":{\"patch\":{\"small\":\"https://images2.imgbox.com/a9/be/43FhrPoq_o.png\",\"large\":\"https://images2.imgbox.com/17/34/WgRl7YFh_o.png\"},\"reddit\":{\"campaign\":\"https://www.reddit.com/r/spacex/comments/k51p7b/sxm7_launch_campaign_thread/\",\"launch\":\"https://www.reddit.com/r/spacex/comments/kaizok/rspacex_sxm7_official_launch_discussion_updates/\",\"media\":\"https://www.reddit.com/r/spacex/comments/kcev8p/sxm7_media_thread_photographer_contest/\",\"recovery\":\"https://www.reddit.com/r/spacex/comments/k2ts1q/rspacex_fleet_updates_discussion_thread/\"},\"flickr\":{\"small\":[],\"original\":[\"https://live.staticflickr.com/65535/50715254423_3cb2a8ff9c_o.jpg\",\"https://live.staticflickr.com/65535/50715992426_bf43a8f872_o.jpg\",\"https://live.staticflickr.com/65535/50716071077_5a5bc00af9_o.jpg\",\"https://live.staticflickr.com/65535/50716071167_100d6f7092_o.jpg\"]},\"presskit\":null,\"webcast\":\"https://youtu.be/COraGXFb1lo\",\"youtube_id\":\"COraGXFb1lo\",\"article\":\"https://spaceflightnow.com/2020/12/13/siriusxm-satellite-rides-spacex-rocket-into-orbit/\",\"wikipedia\":\"https://en.wikipedia.org/wiki/Sirius_XM#Satellites\"},\"static_fire_date_utc\":\"2020-12-07T23:00:00.000Z\",\"static_fire_date_unix\":1607382000,\"net\":false,\"window\":null,\"rocket\":\"5e9d0d95eda69973a809d1ec\",\"success\":true,\"failures\":[],\"details\":\"SpaceX will launch the first of two next generation high power S-band broadcast satellites for SiriusXM. The spacecraft will be delivered into a geostationary transfer orbit and the booster will be recovered downrange. The spacecraft is built by Space Systems Loral (SSL) on the SSL 1300 platform and includes two solar arrays producing 20kW, and an unfurlable antenna dish. SXM-7 will replace XM-3 in geostationary orbit.\",\"crew\":[],\"ships\":[\"5ea6ed2f080df4000697c910\",\"5ee68c683c228f36bd5809b5\",\"5ea6ed2f080df4000697c90c\"],\"capsules\":[],\"payloads\":[\"5eb0e4d2b6c3bb0006eeb25d\"],\"launchpad\":\"5e9e4501f509094ba4566f84\",\"flight_number\":111,\"name\":\"SXM-7\",\"date_utc\":\"2020-12-13T17:30:00.000Z\",\"date_unix\":1607880600,\"date_local\":\"2020-12-13T12:30:00-05:00\",\"date_precision\":\"hour\",\"upcoming\":false,\"cores\":[{\"core\":\"5e9e28a6f35918c0803b265c\",\"flight\":7,\"gridfins\":true,\"legs\":true,\"reused\":true,\"landing_attempt\":true,\"landing_success\":true,\"landing_type\":\"ASDS\",\"landpad\":\"5e9e3033383ecbb9e534e7cc\"}],\"auto_update\":true,\"tbd\":false,\"launch_library_id\":null,\"id\":\"5eb87d4bffd86e000604b38c\"},{\"fairings\":{\"reused\":false,\"recovery_attempt\":true,\"recovered\":true,\"ships\":[\"5ea6ed2e080df4000697c908\",\"5ea6ed2f080df4000697c90c\"]},\"links\":{\"patch\":{\"small\":\"https://images2.imgbox.com/25/01/sBErNO7T_o.jpg\",\"large\":\"https://images2.imgbox.com/be/b5/tGnEI6rY_o.jpg\"},\"reddit\":{\"campaign\":\"https://www.reddit.com/r/spacex/comments/j7qqbg/nrol108_launch_campaign_thread/\",\"launch\":\"https://www.reddit.com/r/spacex/comments/ke9pmg/rspacex_nrol108_official_launch_discussion/\",\"media\":null,\"recovery\":\"https://www.reddit.com/r/spacex/comments/k2ts1q/rspacex_fleet_updates_discussion_thread/\"},\"flickr\":{\"small\":[],\"original\":[\"https://live.staticflickr.com/65535/50740257483_0f550f6a25_o.jpg\",\"https://live.staticflickr.com/65535/50740993291_57ef3f881b_o.jpg\",\"https://live.staticflickr.com/65535/50740257263_b41b843e85_o.jpg\",\"https://live.staticflickr.com/65535/50740993211_dc00af6dbb_o.jpg\",\"https://live.staticflickr.com/65535/50740257078_e46a6462df_o.jpg\",\"https://live.staticflickr.com/65535/50741096702_2a152bdf13_o.jpg\",\"https://live.staticflickr.com/65535/50740257323_e3e49fa2c6_o.jpg\"]},\"presskit\":null,\"webcast\":\"https://youtu.be/9OeVwaFBkfE\",\"youtube_id\":\"9OeVwaFBkfE\",\"article\":\"https://spaceflightnow.com/2020/12/19/spacex-closes-out-record-year-of-launches-from-floridas-space-coast/\",\"wikipedia\":\"https://en.wikipedia.org/wiki/National_Reconnaissance_Office\"},\"static_fire_date_utc\":null,\"static_fire_date_unix\":null,\"net\":false,\"window\":null,\"rocket\":\"5e9d0d95eda69973a809d1ec\",\"success\":true,\"failures\":[],\"details\":\"SpaceX will launch NROL-108 for the National Reconnaissance Office aboard a Falcon 9 from SLC-40, Cape Canaveral Air Force Station. The booster for this mission is expected to land at LZ-1.\",\"crew\":[],\"ships\":[\"5ea6ed2f080df4000697c90c\",\"5ea6ed2e080df4000697c908\"],\"capsules\":[],\"payloads\":[\"5f839ac7818d8b59f5740d48\"],\"launchpad\":\"5e9e4502f509094188566f88\",\"flight_number\":112,\"name\":\"NROL-108\",\"date_utc\":\"2020-12-19T14:00:00.000Z\",\"date_unix\":1608386400,\"date_local\":\"2020-12-19T09:00:00-05:00\",\"date_precision\":\"hour\",\"upcoming\":false,\"cores\":[{\"core\":\"5e9e28a7f359187afd3b2662\",\"flight\":5,\"gridfins\":true,\"legs\":true,\"reused\":true,\"landing_attempt\":true,\"landing_success\":true,\"landing_type\":\"RTLS\",\"landpad\":\"5e9e3032383ecb267a34e7c7\"}],\"auto_update\":true,\"tbd\":false,\"launch_library_id\":null,\"id\":\"5f8399fb818d8b59f5740d43\"},{\"fairings\":{\"reused\":true,\"recovery_attempt\":true,\"recovered\":null,\"ships\":[\"5ea6ed2e080df4000697c907\",\"5ea6ed2e080df4000697c908\"]},\"links\":{\"patch\":{\"small\":\"https://images2.imgbox.com/a4/9a/8KhFejXx_o.png\",\"large\":\"https://images2.imgbox.com/aa/a6/hE0kWqix_o.png\"},\"reddit\":{\"campaign\":\"https://www.reddit.com/r/spacex/comments/kawyb4/t%C3%BCrksat_5a_launch_campaign_thread/\",\"launch\":\"https://www.reddit.com/r/spacex/comments/ksagr9/rspacex_t%C3%BCrksat_5a_official_launch_discussion/\",\"media\":null,\"recovery\":\"https://www.reddit.com/r/spacex/comments/k2ts1q/rspacex_fleet_updates_discussion_thread/\"},\"flickr\":{\"small\":[],\"original\":[\"https://live.staticflickr.com/65535/50814482042_476d87b020_o.jpg\",\"https://live.staticflickr.com/65535/50813630408_d98c2215f8_o.jpg\",\"https://live.staticflickr.com/65535/50814379121_8834b5362d_o.jpg\",\"https://live.staticflickr.com/65535/50814379056_f032a23955_o.jpg\"]},\"presskit\":null,\"webcast\":\"https://youtu.be/9I0UYXVqIn8\",\"youtube_id\":\"9I0UYXVqIn8\",\"article\":\"https://spaceflightnow.com/2021/01/08/spacex-deploys-turkish-satellite-in-first-launch-of-2021/\",\"wikipedia\":\"https://en.wikipedia.org/wiki/T%C3%BCrksat_5A\"},\"static_fire_date_utc\":null,\"static_fire_date_unix\":null,\"net\":false,\"window\":17820,\"rocket\":\"5e9d0d95eda69973a809d1ec\",\"success\":true,\"failures\":[],\"details\":\"SpaceX will launch the first of two next generation satellites on contract for T\\xc3\\xbcrksat. T\\xc3\\xbcrksat 5A is a Ku-band broadcast satellite built by Airbus Defense and Space and based on the Electric Orbit Raising version of the Eurostar E3000 platform. This spacecraft will be delivered into a transfer orbit and will then raise itself to its operational 31\\xc2\\xb0 East geostationary orbit to serve Turkey, the Middle East, Europe, North Africa and South Africa. The booster for this mission will be recovered downrange via ASDS.\",\"crew\":[],\"ships\":[\"5ea6ed2f080df4000697c90d\",\"5ea6ed2f080df4000697c910\",\"5ea6ed2e080df4000697c907\",\"5ea6ed2e080df4000697c908\"],\"capsules\":[],\"payloads\":[\"5eb0e4d3b6c3bb0006eeb264\"],\"launchpad\":\"5e9e4501f509094ba4566f84\",\"flight_number\":113,\"name\":\"Turksat 5A\",\"date_utc\":\"2021-01-08T02:15:00.000Z\",\"date_unix\":1610072100,\"date_local\":\"2021-01-07T21:15:00-05:00\",\"date_precision\":\"hour\",\"upcoming\":false,\"cores\":[{\"core\":\"5ef670f10059c33cee4a826c\",\"flight\":4,\"gridfins\":true,\"legs\":true,\"reused\":true,\"landing_attempt\":true,\"landing_success\":true,\"landing_type\":\"ASDS\",\"landpad\":\"5e9e3033383ecbb9e534e7cc\"}],\"auto_update\":true,\"tbd\":false,\"launch_library_id\":null,\"id\":\"5eb87d4fffd86e000604b393\"},{\"fairings\":{\"reused\":true,\"recovery_attempt\":true,\"recovered\":null,\"ships\":[\"5ea6ed2e080df4000697c907\",\"5ea6ed2e080df4000697c908\"]},\"links\":{\"patch\":{\"small\":\"https://images2.imgbox.com/a6/d3/bPczm8gQ_o.png\",\"large\":\"https://images2.imgbox.com/2b/28/fZnNbGqX_o.png\"},\"reddit\":{\"campaign\":\"https://www.reddit.com/r/spacex/comments/jhu37i/starlink_general_discussion_and_deployment_thread/\",\"launch\":\"https://www.reddit.com/r/spacex/comments/kz969o/rspacex_starlink16_official_launch_discussion/\",\"media\":\"https://www.reddit.com/r/spacex/comments/l1b5q8/starlink16_media_thread_photographer_contest/\",\"recovery\":\"https://www.reddit.com/r/spacex/comments/k2ts1q/rspacex_fleet_updates_discussion_thread/\"},\"flickr\":{\"small\":[],\"original\":[\"https://live.staticflickr.com/65535/50855737853_4d290519b4_o.jpg\",\"https://live.staticflickr.com/65535/50856457401_5fd05cddd1_o.jpg\",\"https://live.staticflickr.com/65535/50855737933_bcc65bdf8b_o.jpg\",\"https://live.staticflickr.com/65535/50856551642_5190c59ec1_o.jpg\"]},\"presskit\":null,\"webcast\":\"https://youtu.be/84Nct_Q9Lqw\",\"youtube_id\":\"84Nct_Q9Lqw\",\"article\":\"https://spaceflightnow.com/2021/01/20/spacex-sets-new-rocket-reuse-records-with-successful-starlink-launch/\",\"wikipedia\":\"https://en.wikipedia.org/wiki/Starlink\"},\"static_fire_date_utc\":null,\"static_fire_date_unix\":null,\"net\":false,\"window\":null,\"rocket\":\"5e9d0d95eda69973a809d1ec\",\"success\":true,\"failures\":[],\"details\":\"This mission launches the sixteenth batch of operational Starlink satellites, which are version 1.0, from SLC-40 or LC-39A. It is the seventeenth Starlink launch overall. The satellites will be delivered to low Earth orbit and will spend a few weeks maneuvering to their operational altitude. The booster is expected to land on an ASDS.\",\"crew\":[],\"ships\":[\"5ea6ed2e080df4000697c907\",\"5ea6ed2e080df4000697c908\",\"5ea6ed2f080df4000697c910\",\"5ea6ed2f080df4000697c90d\",\"5ea6ed2f080df4000697c90b\"],\"capsules\":[],\"payloads\":[\"5fbfedba54ceb10a5664c813\"],\"launchpad\":\"5e9e4502f509094188566f88\",\"flight_number\":114,\"name\":\"Starlink-16 (v1.0)\",\"date_utc\":\"2021-01-20T13:02:00.000Z\",\"date_unix\":1611147720,\"date_local\":\"2021-01-20T08:02:00-05:00\",\"date_precision\":\"hour\",\"upcoming\":false,\"cores\":[{\"core\":\"5e9e28a6f35918c0803b265c\",\"flight\":8,\"gridfins\":true,\"legs\":true,\"reused\":true,\"landing_attempt\":true,\"landing_success\":true,\"landing_type\":\"ASDS\",\"landpad\":\"5e9e3033383ecbb9e534e7cc\"}],\"auto_update\":true,\"tbd\":false,\"launch_library_id\":null,\"id\":\"5fbfecce54ceb10a5664c80a\"},{\"fairings\":{\"reused\":false,\"recovery_attempt\":true,\"recovered\":true,\"ships\":[\"5ea6ed2e080df4000697c908\",\"5ea6ed2e080df4000697c907\"]},\"links\":{\"patch\":{\"small\":\"https://images2.imgbox.com/58/70/eapAog9v_o.png\",\"large\":\"https://images2.imgbox.com/82/9a/fzsUstOu_o.png\"},\"reddit\":{\"campaign\":\"https://www.reddit.com/r/spacex/comments/kt5gds/transporter1_launch_campaign_thread/\",\"launch\":\"https://www.reddit.com/r/spacex/comments/l210i3/rspacex_transporter1_official_launch_discussion/\",\"media\":null,\"recovery\":\"https://www.reddit.com/r/spacex/comments/k2ts1q/rspacex_fleet_updates_discussion_thread/\"},\"flickr\":{\"small\":[],\"original\":[\"https://live.staticflickr.com/65535/50870343533_e815eb30c4_o.jpg\",\"https://live.staticflickr.com/65535/50871151292_af114a3f9e_o.jpg\",\"https://live.staticflickr.com/65535/50871053741_59a1dbb6cc_o.jpg\",\"https://live.staticflickr.com/65535/50871053696_cd01a7e092_o.jpg\",\"https://live.staticflickr.com/65535/50870343763_1b1ac55eae_o.jpg\"]},\"presskit\":null,\"webcast\":\"https://youtu.be/ScHI1cbkUv4\",\"youtube_id\":\"ScHI1cbkUv4\",\"article\":\"https://spaceflightnow.com/2021/01/24/spacex-launches-record-setting-rideshare-mission-with-143-small-satellites/\",\"wikipedia\":null},\"static_fire_date_utc\":null,\"static_fire_date_unix\":null,\"net\":false,\"window\":2520,\"rocket\":\"5e9d0d95eda69973a809d1ec\",\"success\":true,\"failures\":[],\"details\":\"SpaceX will launch a dedicated rideshare mission from SLC-40 or LC-39A. The spacecraft will be delivered into a sun-synchronous orbit. The booster for this mission is expected to land on an ASDS.\",\"crew\":[],\"ships\":[\"5ea6ed30080df4000697c913\",\"5ea6ed2f080df4000697c90c\",\"5ea6ed2e080df4000697c908\",\"5ea6ed2e080df4000697c907\"],\"capsules\":[],\"payloads\":[\"5fd3871a7faea57d297c86c6\"],\"launchpad\":\"5e9e4501f509094ba4566f84\",\"flight_number\":115,\"name\":\"Transporter-1\",\"date_utc\":\"2021-01-24T15:00:00.000Z\",\"date_unix\":1611500400,\"date_local\":\"2021-01-24T10:00:00-05:00\",\"date_precision\":\"hour\",\"upcoming\":false,\"cores\":[{\"core\":\"5e9e28a7f3591817f23b2663\",\"flight\":5,\"gridfins\":true,\"legs\":true,\"reused\":true,\"landing_attempt\":true,\"landing_success\":true,\"landing_type\":\"ASDS\",\"landpad\":\"5e9e3032383ecb6bb234e7ca\"}],\"auto_update\":true,\"tbd\":false,\"launch_library_id\":null,\"id\":\"5fd386aa7faea57d297c86c1\"},{\"fairings\":{\"reused\":true,\"recovery_attempt\":true,\"recovered\":null,\"ships\":[\"5ea6ed2e080df4000697c908\",\"5ea6ed2e080df4000697c907\"]},\"links\":{\"patch\":{\"small\":\"https://images2.imgbox.com/81/af/UT6KOE53_o.png\",\"large\":\"https://images2.imgbox.com/6b/53/ZqAxQPhS_o.png\"},\"reddit\":{\"campaign\":\"https://www.reddit.com/r/spacex/comments/jhu37i/starlink_general_discussion_and_deployment_thread/\",\"launch\":\"https://www.reddit.com/r/spacex/comments/lbjuok/rspacex_starlink18_official_launch_discussion/\",\"media\":null,\"recovery\":\"https://www.reddit.com/r/spacex/comments/k2ts1q/rspacex_fleet_updates_discussion_thread/\"},\"flickr\":{\"small\":[],\"original\":[\"https://live.staticflickr.com/65535/50908787351_5733229c09_o.jpg\",\"https://live.staticflickr.com/65535/50908092893_d254477be0_o.jpg\",\"https://live.staticflickr.com/65535/50908092833_4cb5833fb9_o.jpg\",\"https://live.staticflickr.com/65535/50908787221_9cf383a2b4_o.jpg\",\"https://live.staticflickr.com/65535/50908787166_8dde2e29bd_o.jpg\"]},\"presskit\":null,\"webcast\":\"https://youtu.be/fe6HBw1y6bA\",\"youtube_id\":\"fe6HBw1y6bA\",\"article\":null,\"wikipedia\":\"https://en.wikipedia.org/wiki/Starlink\"},\"static_fire_date_utc\":null,\"static_fire_date_unix\":null,\"net\":false,\"window\":null,\"rocket\":\"5e9d0d95eda69973a809d1ec\",\"success\":true,\"failures\":[],\"details\":\"This mission launches the eighteenth batch of operational Starlink satellites, which are version 1.0, from SLC-40. It is the nineteenth Starlink launch overall. The satellites will be delivered to low Earth orbit and will spend a few weeks maneuvering to their operational altitude. The booster is expected to land on an ASDS.\",\"crew\":[],\"ships\":[\"5ea6ed30080df4000697c913\",\"601742b20c87b90be7bb7e86\",\"5ea6ed2e080df4000697c908\",\"5ea6ed2e080df4000697c907\",\"5ea6ed2f080df4000697c90b\"],\"capsules\":[],\"payloads\":[\"5ff655769257f579ee3a6c64\"],\"launchpad\":\"5e9e4501f509094ba4566f84\",\"flight_number\":116,\"name\":\"Starlink-18 (v1.0)\",\"date_utc\":\"2021-02-04T06:19:00.000Z\",\"date_unix\":1612419540,\"date_local\":\"2021-02-04T01:19:00-05:00\",\"date_precision\":\"hour\",\"upcoming\":false,\"cores\":[{\"core\":\"5ef670f10059c33cee4a826c\",\"flight\":5,\"gridfins\":true,\"legs\":true,\"reused\":true,\"landing_attempt\":true,\"landing_success\":true,\"landing_type\":\"ASDS\",\"landpad\":\"5e9e3032383ecb6bb234e7ca\"}],\"auto_update\":true,\"tbd\":false,\"launch_library_id\":\"f31702e8-6353-4c9a-932c-5bd104717500\",\"id\":\"5ff6554f9257f579ee3a6c5f\"},{\"fairings\":{\"reused\":null,\"recovery_attempt\":true,\"recovered\":true,\"ships\":[\"5ea6ed2e080df4000697c908\",\"5ea6ed2e080df4000697c907\"]},\"links\":{\"patch\":{\"small\":\"https://images2.imgbox.com/fa/01/EAdaKWgq_o.png\",\"large\":\"https://images2.imgbox.com/ec/c1/ex40h2Xp_o.png\"},\"reddit\":{\"campaign\":\"https://www.reddit.com/r/spacex/comments/jhu37i/starlink_general_discussion_and_deployment_thread/\",\"launch\":\"https://www.reddit.com/r/spacex/comments/ljkh7l/rspacex_starlink19_official_launch_discussion/\",\"media\":\"https://www.reddit.com/r/spacex/comments/lkwllg/starlink19_media_thread_photographer_contest/\",\"recovery\":\"https://www.reddit.com/r/spacex/comments/k2ts1q/rspacex_fleet_updates_discussion_thread/\"},\"flickr\":{\"small\":[],\"original\":[\"https://live.staticflickr.com/65535/50949943433_87e3002307_o.jpg\"]},\"presskit\":null,\"webcast\":\"https://youtu.be/L0dkyV09Zso\",\"youtube_id\":\"L0dkyV09Zso\",\"article\":\"https://spaceflightnow.com/2021/02/16/spacex-successfully-deploys-60-more-starlink-satellites-but-loses-booster-on-descent/\",\"wikipedia\":\"https://en.wikipedia.org/wiki/Starlink\"},\"static_fire_date_utc\":\"2021-02-13T18:17:00.000Z\",\"static_fire_date_unix\":1613240220,\"net\":false,\"window\":null,\"rocket\":\"5e9d0d95eda69973a809d1ec\",\"success\":true,\"failures\":[],\"details\":\"This mission launches the eighteenth batch of operational Starlink satellites, which are version 1.0, from SLC-40. It is the nineteenth Starlink launch overall. The satellites will be delivered to low Earth orbit and will spend a few weeks maneuvering to their operational altitude. The booster is expected to land on an ASDS.\",\"crew\":[],\"ships\":[\"5ea6ed30080df4000697c913\"],\"capsules\":[],\"payloads\":[\"600f9bc08f798e2a4d5f97a4\"],\"launchpad\":\"5e9e4501f509094ba4566f84\",\"flight_number\":117,\"name\":\"Starlink-19 (v1.0)\",\"date_utc\":\"2021-02-16T03:59:00.000Z\",\"date_unix\":1613447940,\"date_local\":\"2021-02-15T22:59:00-05:00\",\"date_precision\":\"hour\",\"upcoming\":false,\"cores\":[{\"core\":\"5e9e28a7f359187afd3b2662\",\"flight\":6,\"gridfins\":true,\"legs\":true,\"reused\":true,\"landing_attempt\":true,\"landing_success\":false,\"landing_type\":\"ASDS\",\"landpad\":\"5e9e3032383ecb6bb234e7ca\"}],\"auto_update\":true,\"tbd\":false,\"launch_library_id\":\"985f1cc1-82c1-4a89-b2cc-e9dc91829a0e\",\"id\":\"600f9a5e8f798e2a4d5f979c\"},{\"fairings\":{\"reused\":null,\"recovery_attempt\":null,\"recovered\":null,\"ships\":[]},\"links\":{\"patch\":{\"small\":\"https://images2.imgbox.com/ba/a9/Q6APoE8C_o.png\",\"large\":\"https://images2.imgbox.com/29/6c/mQwxR0KQ_o.png\"},\"reddit\":{\"campaign\":\"https://www.reddit.com/r/spacex/comments/jhu37i/starlink_general_discussion_and_deployment_thread/\",\"launch\":\"https://www.reddit.com/r/spacex/comments/l8qsz3/rspacex_starlink17_official_launch_discussion/\",\"media\":null,\"recovery\":\"https://www.reddit.com/r/spacex/comments/k2ts1q/rspacex_fleet_updates_discussion_thread/\"},\"flickr\":{\"small\":[],\"original\":[\"https://live.staticflickr.com/65535/51004598206_9779f08338_o.jpg\",\"https://live.staticflickr.com/65535/51004598196_b2059799f4_o.jpg\"]},\"presskit\":null,\"webcast\":\"https://youtu.be/d5DzoKuhdNk\",\"youtube_id\":\"d5DzoKuhdNk\",\"article\":\"https://spaceflightnow.com/2021/03/04/spacex-sticks-75th-falcon-rocket-landing-after-launching-60-more-starlink-satellites/\",\"wikipedia\":\"https://en.wikipedia.org/wiki/Starlink\"},\"static_fire_date_utc\":\"2021-02-24T12:25:00.000Z\",\"static_fire_date_unix\":1614169500,\"net\":false,\"window\":null,\"rocket\":\"5e9d0d95eda69973a809d1ec\",\"success\":true,\"failures\":[],\"details\":\"This mission launches the sixteenth batch of operational Starlink satellites, which are version 1.0, from LC-39A. It is the eighteenth Starlink launch overall. The satellites will be delivered to low Earth orbit and will spend a few weeks maneuvering to their operational altitude. The booster is expected to land on an ASDS.\",\"crew\":[],\"ships\":[\"5ea6ed2f080df4000697c90d\",\"5ea6ed30080df4000697c913\"],\"capsules\":[],\"payloads\":[\"5fbfedc654ceb10a5664c814\"],\"launchpad\":\"5e9e4502f509094188566f88\",\"flight_number\":118,\"name\":\"Starlink-17 (v1.0)\",\"date_utc\":\"2021-03-04T08:24:00.000Z\",\"date_unix\":1614846240,\"date_local\":\"2021-03-04T03:24:00-05:00\",\"date_precision\":\"hour\",\"upcoming\":false,\"cores\":[{\"core\":\"5e9e28a5f3591833b13b2659\",\"flight\":8,\"gridfins\":true,\"legs\":true,\"reused\":true,\"landing_attempt\":true,\"landing_success\":true,\"landing_type\":\"ASDS\",\"landpad\":\"5e9e3032383ecb6bb234e7ca\"}],\"auto_update\":true,\"tbd\":false,\"launch_library_id\":\"dfd4f0e0-0ab4-494d-bd88-1b93b934b269\",\"id\":\"5fbfecfe54ceb10a5664c80b\"},{\"fairings\":{\"reused\":true,\"recovery_attempt\":true,\"recovered\":true,\"ships\":[\"5ea6ed2e080df4000697c909\",\"5ea6ed2f080df4000697c90c\"]},\"links\":{\"patch\":{\"small\":\"https://images2.imgbox.com/df/ea/lre39tFr_o.png\",\"large\":\"https://images2.imgbox.com/38/db/moPRrpCB_o.png\"},\"reddit\":{\"campaign\":\"https://www.reddit.com/r/spacex/comments/jhu37i/starlink_general_discussion_and_deployment_thread/\",\"launch\":\"https://www.reddit.com/r/spacex/comments/m0yww5/rspacex_starlink20_official_launch_discussion/\",\"media\":null,\"recovery\":\"https://www.reddit.com/r/spacex/comments/k2ts1q/rspacex_fleet_updates_discussion_thread/\"},\"flickr\":{\"small\":[],\"original\":[\"https://live.staticflickr.com/65535/51027544097_799f5baccc_o.jpg\",\"https://live.staticflickr.com/65535/51027443336_3e7486be6f_o.jpg\",\"https://live.staticflickr.com/65535/51027443321_9a59458d39_o.jpg\"]},\"presskit\":null,\"webcast\":\"https://youtu.be/U4sWbTfrzj8\",\"youtube_id\":\"U4sWbTfrzj8\",\"article\":\"https://spaceflightnow.com/2021/03/11/spacex-adds-more-satellites-to-starlink-internet-fleet/\",\"wikipedia\":\"https://en.wikipedia.org/wiki/Starlink\"},\"static_fire_date_utc\":\"2021-03-09T23:00:00.000Z\",\"static_fire_date_unix\":1615330800,\"net\":false,\"window\":null,\"rocket\":\"5e9d0d95eda69973a809d1ec\",\"success\":true,\"failures\":[],\"details\":\"This mission launches the 20th batch of operational Starlink satellites, which are version 1.0, from LC-39A or SLC-40. It is the 21st Starlink launch overall. The satellites will be delivered to low Earth orbit and will spend a few weeks maneuvering to their operational altitude. The booster is expected to land on an ASDS.\",\"crew\":[],\"ships\":[\"5ea6ed2f080df4000697c910\",\"5ee68c683c228f36bd5809b5\",\"5ea6ed2e080df4000697c909\",\"5ea6ed2f080df4000697c90c\"],\"capsules\":[],\"payloads\":[\"600f9bcb8f798e2a4d5f97a5\"],\"launchpad\":\"5e9e4501f509094ba4566f84\",\"flight_number\":119,\"name\":\"Starlink-20 (v1.0)\",\"date_utc\":\"2021-03-11T08:13:00.000Z\",\"date_unix\":1615450380,\"date_local\":\"2021-03-11T03:13:00-05:00\",\"date_precision\":\"hour\",\"upcoming\":false,\"cores\":[{\"core\":\"5e9e28a7f3591817f23b2663\",\"flight\":6,\"gridfins\":true,\"legs\":true,\"reused\":true,\"landing_attempt\":true,\"landing_success\":true,\"landing_type\":\"ASDS\",\"landpad\":\"5e9e3033383ecbb9e534e7cc\"}],\"auto_update\":true,\"tbd\":false,\"launch_library_id\":\"134eb787-244e-4131-8b03-c9fbd0a11efc\",\"id\":\"600f9a718f798e2a4d5f979d\"},{\"fairings\":{\"reused\":true,\"recovery_attempt\":true,\"recovered\":true,\"ships\":[\"5ea6ed2e080df4000697c909\",\"5ea6ed2f080df4000697c90c\"]},\"links\":{\"patch\":{\"small\":\"https://images2.imgbox.com/a0/1a/BLRGLyNe_o.png\",\"large\":\"https://images2.imgbox.com/a0/db/7LwA6xV9_o.png\"},\"reddit\":{\"campaign\":\"https://www.reddit.com/r/spacex/comments/jhu37i/starlink_general_discussion_and_deployment_thread/\",\"launch\":\"https://www.reddit.com/r/spacex/comments/m4e377/rspacex_starlink21_launch_discussion_updates/\",\"media\":null,\"recovery\":\"https://www.reddit.com/r/spacex/comments/k2ts1q/rspacex_fleet_updates_discussion_thread/\"},\"flickr\":{\"small\":[],\"original\":[\"https://live.staticflickr.com/65535/51036945097_9fc94fa9a9_o.jpg\",\"https://live.staticflickr.com/65535/51036945067_ce0d5b3c0b_o.jpg\",\"https://live.staticflickr.com/65535/51036945027_47c96d71d1_o.jpg\"]},\"presskit\":null,\"webcast\":\"https://youtu.be/JKf45ATgATc\",\"youtube_id\":\"JKf45ATgATc\",\"article\":\"https://spaceflightnow.com/2021/03/14/spacex-extends-its-own-rocket-reuse-record-on-starlink-launch/\",\"wikipedia\":\"https://en.wikipedia.org/wiki/Starlink\"},\"static_fire_date_utc\":null,\"static_fire_date_unix\":null,\"net\":false,\"window\":null,\"rocket\":\"5e9d0d95eda69973a809d1ec\",\"success\":true,\"failures\":[],\"details\":\"This mission launches the 21st batch of operational Starlink satellites, which are version 1.0, from LC-39A or SLC-40. It is the 22nd Starlink launch overall. The satellites will be delivered to low Earth orbit and will spend a few weeks maneuvering to their operational altitude. The booster is expected to land on an ASDS.\",\"crew\":[],\"ships\":[\"5ea6ed2e080df4000697c909\",\"5ea6ed2f080df4000697c90c\",\"5ea6ed2f080df4000697c90d\",\"5ea6ed30080df4000697c913\"],\"capsules\":[],\"payloads\":[\"600f9bd88f798e2a4d5f97a6\"],\"launchpad\":\"5e9e4502f509094188566f88\",\"flight_number\":120,\"name\":\"Starlink-21 (v1.0)\",\"date_utc\":\"2021-03-14T10:01:00.000Z\",\"date_unix\":1615716060,\"date_local\":\"2021-03-14T06:01:00-04:00\",\"date_precision\":\"hour\",\"upcoming\":false,\"cores\":[{\"core\":\"5e9e28a6f35918c0803b265c\",\"flight\":9,\"gridfins\":true,\"legs\":true,\"reused\":true,\"landing_attempt\":true,\"landing_success\":true,\"landing_type\":\"ASDS\",\"landpad\":\"5e9e3032383ecb6bb234e7ca\"}],\"auto_update\":true,\"tbd\":false,\"launch_library_id\":\"896d876d-e834-4810-8a5e-44d6b6a42630\",\"id\":\"600f9a8d8f798e2a4d5f979e\"},{\"fairings\":{\"reused\":null,\"recovery_attempt\":true,\"recovered\":true,\"ships\":[\"6059166413f40e27e8af34b6\",\"5ea6ed2f080df4000697c90b\"]},\"links\":{\"patch\":{\"small\":\"https://images2.imgbox.com/f3/0d/E2I1NJs2_o.png\",\"large\":\"https://images2.imgbox.com/68/e1/XpScXejQ_o.png\"},\"reddit\":{\"campaign\":\"https://www.reddit.com/r/spacex/comments/jhu37i/starlink_general_discussion_and_deployment_thread/\",\"launch\":\"https://www.reddit.com/r/spacex/comments/maqmd0/rspacex_starlink22_launch_discussion_updates/\",\"media\":null,\"recovery\":\"https://www.reddit.com/r/spacex/comments/k2ts1q/rspacex_fleet_updates_discussion_thread/\"},\"flickr\":{\"small\":[],\"original\":[]},\"presskit\":null,\"webcast\":\"https://youtu.be/a15czI9B91c\",\"youtube_id\":\"a15czI9B91c\",\"article\":\"https://spaceflightnow.com/2021/03/24/spacex-launches-25th-mission-to-build-out-starlink-internet-network/\",\"wikipedia\":\"https://en.wikipedia.org/wiki/Starlink\"},\"static_fire_date_utc\":null,\"static_fire_date_unix\":null,\"net\":false,\"window\":null,\"rocket\":\"5e9d0d95eda69973a809d1ec\",\"success\":true,\"failures\":[],\"details\":\"This mission launches the 22nd batch of operational Starlink satellites, which are version 1.0, from or SLC-40. It is the 23rd Starlink launch overall. The satellites will be delivered to low Earth orbit and will spend a few weeks maneuvering to their operational altitude. The booster is expected to land on an ASDS.\",\"crew\":[],\"ships\":[\"5ee68c683c228f36bd5809b5\",\"5ea6ed30080df4000697c913\",\"5ea6ed2f080df4000697c90b\",\"6059166413f40e27e8af34b6\"],\"capsules\":[],\"payloads\":[\"60428afbc041c16716f73cdd\"],\"launchpad\":\"5e9e4501f509094ba4566f84\",\"flight_number\":121,\"name\":\"Starlink-22 (v1.0)\",\"date_utc\":\"2021-03-24T08:28:00.000Z\",\"date_unix\":1616574480,\"date_local\":\"2021-03-24T04:28:00-04:00\",\"date_precision\":\"hour\",\"upcoming\":false,\"cores\":[{\"core\":\"5ef670f10059c33cee4a826c\",\"flight\":6,\"gridfins\":true,\"legs\":true,\"reused\":true,\"landing_attempt\":true,\"landing_success\":true,\"landing_type\":\"ASDS\",\"landpad\":\"5e9e3032383ecb6bb234e7ca\"}],\"auto_update\":true,\"tbd\":false,\"launch_library_id\":\"ec03fe36-fe2a-4e43-8e10-d07d5349f1de\",\"id\":\"60428aafc041c16716f73cd7\"},{\"fairings\":{\"reused\":true,\"recovery_attempt\":true,\"recovered\":null,\"ships\":[\"6059166413f40e27e8af34b6\",\"5ea6ed2f080df4000697c90b\",\"5ea6ed2e080df4000697c908\"]},\"links\":{\"patch\":{\"small\":\"https://images2.imgbox.com/b7/ca/KRGYs6pm_o.png\",\"large\":\"https://images2.imgbox.com/10/23/NARQHPzA_o.png\"},\"reddit\":{\"campaign\":\"https://www.reddit.com/r/spacex/comments/jhu37i/starlink_general_discussion_and_deployment_thread/\",\"launch\":\"https://www.reddit.com/r/spacex/comments/mlitqf/rspacex_starlink23_launch_discussion_updates/\",\"media\":null,\"recovery\":\"https://www.reddit.com/r/spacex/comments/k2ts1q/rspacex_fleet_updates_discussion_thread/\"},\"flickr\":{\"small\":[],\"original\":[\"https://live.staticflickr.com/65535/51101836837_8671b88722_o.jpg\",\"https://live.staticflickr.com/65535/51101836832_e151d33d66_o.jpg\"]},\"presskit\":null,\"webcast\":\"https://youtu.be/Uy9Jn-3vuPs\",\"youtube_id\":\"Uy9Jn-3vuPs\",\"article\":\"https://spaceflightnow.com/2021/04/07/spacex-launches-its-100th-mission-from-floridas-space-coast/\",\"wikipedia\":\"https://en.wikipedia.org/wiki/Starlink\"},\"static_fire_date_utc\":null,\"static_fire_date_unix\":null,\"net\":false,\"window\":0,\"rocket\":\"5e9d0d95eda69973a809d1ec\",\"success\":true,\"failures\":[],\"details\":\"This mission launches the 23rd batch of operational Starlink satellites, which are version 1.0, from or SLC-40 or LC-39A. It is the 24th Starlink launch overall. The satellites will be delivered to low Earth orbit and will spend a few weeks maneuvering to their operational altitude. The booster is expected to land on an ASDS.\",\"crew\":[],\"ships\":[\"5ea6ed30080df4000697c913\",\"5ee68c683c228f36bd5809b5\",\"5ea6ed2f080df4000697c90b\"],\"capsules\":[],\"payloads\":[\"60428b02c041c16716f73cde\"],\"launchpad\":\"5e9e4501f509094ba4566f84\",\"flight_number\":122,\"name\":\"Starlink-23 (v1.0)\",\"date_utc\":\"2021-04-07T16:34:00.000Z\",\"date_unix\":1617813240,\"date_local\":\"2021-04-07T12:34:00-04:00\",\"date_precision\":\"hour\",\"upcoming\":false,\"cores\":[{\"core\":\"5e9e28a7f3591817f23b2663\",\"flight\":7,\"gridfins\":true,\"legs\":true,\"reused\":true,\"landing_attempt\":true,\"landing_success\":true,\"landing_type\":\"ASDS\",\"landpad\":\"5e9e3032383ecb6bb234e7ca\"}],\"auto_update\":true,\"tbd\":false,\"launch_library_id\":\"385455f4-067e-4c24-9937-ca8283ed3307\",\"id\":\"60428ac4c041c16716f73cd8\"},{\"fairings\":null,\"links\":{\"patch\":{\"small\":\"https://images2.imgbox.com/c4/ee/2m9k8HLW_o.png\",\"large\":\"https://images2.imgbox.com/cf/e3/b0i2QZU1_o.png\"},\"reddit\":{\"campaign\":\"https://www.reddit.com/r/spacex/comments/lrx7ez/crew2_launch_campaign_thread/\",\"launch\":\"https://www.reddit.com/r/spacex/comments/mvcst9/rspacex_crew2_launch_discussion_updates_thread/\",\"media\":null,\"recovery\":null},\"flickr\":{\"small\":[],\"original\":[\"https://live.staticflickr.com/65535/51136761295_edb4d3ba1d_o.jpg\",\"https://live.staticflickr.com/65535/51135652706_3e8448193d_o.jpg\",\"https://live.staticflickr.com/65535/51135865043_3ee9818a56_o.jpg\",\"https://live.staticflickr.com/65535/51136428854_4723547f5a_o.jpg\",\"https://live.staticflickr.com/65535/51134975562_ca678d7e2f_o.jpg\",\"https://live.staticflickr.com/65535/51135650561_0bd04e5a56_o.jpg\",\"https://live.staticflickr.com/65535/51135650711_f65e45739d_o.jpg\",\"https://live.staticflickr.com/65535/51136428874_30a1912bc6_o.jpg\",\"https://live.staticflickr.com/65535/51135650696_80bb4d0047_o.jpg\",\"https://live.staticflickr.com/65535/51135650641_f8c77b5420_o.jpg\",\"https://live.staticflickr.com/65535/51136428829_2b995a79bc_o.jpg\",\"https://live.staticflickr.com/65535/51135650621_187bc9fa5b_o.jpg\",\"https://live.staticflickr.com/65535/51135324597_816d0bc217_o.jpg\",\"https://live.staticflickr.com/65535/51135997286_1b5a4452f0_o.jpg\",\"https://live.staticflickr.com/65535/51136428899_eb329865d1_o.jpg\",\"https://live.staticflickr.com/65535/51136428909_d4d6cf76ae_o.jpg\",\"https://live.staticflickr.com/65535/51136761220_9a2e6dbaf6_o.jpg\"]},\"presskit\":null,\"webcast\":\"https://youtu.be/lW07SN3YoLI\",\"youtube_id\":\"lW07SN3YoLI\",\"article\":\"https://spaceflightnow.com/2021/04/23/spacex-launches-astronauts-on-refurbished-capsule-and-flight-proven-rocket/\",\"wikipedia\":\"https://en.wikipedia.org/wiki/SpaceX_Crew-2\"},\"static_fire_date_utc\":\"2021-04-17T11:01:00.000Z\",\"static_fire_date_unix\":1618657260,\"net\":false,\"window\":0,\"rocket\":\"5e9d0d95eda69973a809d1ec\",\"success\":true,\"failures\":[],\"details\":\"SpaceX launches the second operational mission of its Crew Dragon vehicle as part of NASA\\'s Commercial Crew Program, carrying NASA astronauts Shane Kimbrough, Megan McArthur, Thomas Pesquet, and Akihiko Hoshide to the International Space Station. The Falcon 9 and Crew Dragon lift off from LC-39A, Kennedy Space Center. Both the booster and the capsule have flown previously, each a first for a commercial crew flight. The booster for this mission is expected to land on an ASDS. The mission will be complete with the safe return of the astronauts to Earth.\",\"crew\":[\"5fe3ba5fb3467846b3242188\",\"5fe3bb01b3467846b3242189\",\"5fe3bc3db3467846b324218b\",\"5fe3bc8ab3467846b324218c\"],\"ships\":[\"5ea6ed2e080df4000697c909\",\"5ea6ed30080df4000697c913\"],\"capsules\":[\"5e9e2c5df359188aba3b2676\"],\"payloads\":[\"5fe3b3adb3467846b3242173\"],\"launchpad\":\"5e9e4502f509094188566f88\",\"flight_number\":123,\"name\":\"Crew-2\",\"date_utc\":\"2021-04-23T09:49:00.000Z\",\"date_unix\":1619171340,\"date_local\":\"2021-04-23T05:49:00-04:00\",\"date_precision\":\"hour\",\"upcoming\":false,\"cores\":[{\"core\":\"5f57c53d0622a6330279009f\",\"flight\":2,\"gridfins\":true,\"legs\":true,\"reused\":true,\"landing_attempt\":true,\"landing_success\":true,\"landing_type\":\"ASDS\",\"landpad\":\"5e9e3032383ecb6bb234e7ca\"}],\"auto_update\":true,\"tbd\":false,\"launch_library_id\":\"32dcb5ad-7609-4fc0-8094-768ee5c2ebe0\",\"id\":\"5fe3af58b3467846b324215f\"},{\"fairings\":{\"reused\":false,\"recovery_attempt\":true,\"recovered\":true,\"ships\":[\"6059166413f40e27e8af34b6\"]},\"links\":{\"patch\":{\"small\":\"https://images2.imgbox.com/cd/30/UYfjAmuT_o.png\",\"large\":\"https://images2.imgbox.com/2e/a8/bvzKCiwf_o.png\"},\"reddit\":{\"campaign\":\"https://www.reddit.com/r/spacex/comments/jhu37i/starlink_general_discussion_and_deployment_thread/\",\"launch\":\"https://www.reddit.com/r/spacex/comments/mzol0k/rspacex_starlink24_launch_discussion_updates/\",\"media\":null,\"recovery\":\"https://www.reddit.com/r/spacex/comments/k2ts1q/rspacex_fleet_updates_discussion_thread/\"},\"flickr\":{\"small\":[],\"original\":[\"https://live.staticflickr.com/65535/51146838376_4667d78231_o.jpg\",\"https://live.staticflickr.com/65535/51147622479_d027e09727_o.jpg\",\"https://live.staticflickr.com/65535/51147949685_975bd6b4ee_o.jpg\"]},\"presskit\":null,\"webcast\":\"https://youtu.be/RBxkRKZ34yo\",\"youtube_id\":\"RBxkRKZ34yo\",\"article\":\"https://spaceflightnow.com/2021/04/29/spacex-launches-60-more-starlink-spacecraft-fcc-clears-spacex-to-fly-satellites-at-lower-altitudes/\",\"wikipedia\":\"https://en.wikipedia.org/wiki/Starlink\"},\"static_fire_date_utc\":null,\"static_fire_date_unix\":null,\"net\":false,\"window\":null,\"rocket\":\"5e9d0d95eda69973a809d1ec\",\"success\":true,\"failures\":[],\"details\":\"This mission launches the 24th batch of operational Starlink satellites, which are version 1.0, from LC-39A or SLC-40. It is the 25th Starlink launch overall. The satellites will be delivered to low Earth orbit and will spend a few weeks maneuvering to their operational altitude. The booster is expected to land on an ASDS.\",\"crew\":[],\"ships\":[\"5ea6ed2f080df4000697c910\",\"5ea6ed2f080df4000697c90d\",\"5ee68c683c228f36bd5809b5\",\"6059166413f40e27e8af34b6\"],\"capsules\":[],\"payloads\":[\"605b4be3aa5433645e37d046\"],\"launchpad\":\"5e9e4501f509094ba4566f84\",\"flight_number\":124,\"name\":\"Starlink-24 (v1.0)\",\"date_utc\":\"2021-04-29T03:44:00.000Z\",\"date_unix\":1619667840,\"date_local\":\"2021-04-28T23:44:00-04:00\",\"date_precision\":\"hour\",\"upcoming\":false,\"cores\":[{\"core\":\"5ef670f10059c33cee4a826c\",\"flight\":7,\"gridfins\":true,\"legs\":true,\"reused\":true,\"landing_attempt\":true,\"landing_success\":true,\"landing_type\":\"ASDS\",\"landpad\":\"5e9e3033383ecbb9e534e7cc\"}],\"auto_update\":true,\"tbd\":false,\"launch_library_id\":\"fbd23c86-89d0-4d3f-b5fb-5d7165d05cca\",\"id\":\"605b4b6aaa5433645e37d03f\"},{\"fairings\":{\"reused\":true,\"recovery_attempt\":true,\"recovered\":true,\"ships\":[\"6059166413f40e27e8af34b6\"]},\"links\":{\"patch\":{\"small\":\"https://images2.imgbox.com/33/03/aHKx9cu1_o.png\",\"large\":\"https://images2.imgbox.com/8e/e0/wOt6ZecV_o.png\"},\"reddit\":{\"campaign\":\"https://www.reddit.com/r/spacex/comments/jhu37i/starlink_general_discussion_and_deployment_thread/\",\"launch\":\"https://www.reddit.com/r/spacex/comments/n3z0aa/rspacex_starlink25_launch_discussion_updates/\",\"media\":null,\"recovery\":\"https://www.reddit.com/r/spacex/comments/k2ts1q/rspacex_fleet_updates_discussion_thread/\"},\"flickr\":{\"small\":[],\"original\":[]},\"presskit\":null,\"webcast\":\"https://youtu.be/xpl_JnG7rcg\",\"youtube_id\":\"xpl_JnG7rcg\",\"article\":null,\"wikipedia\":\"https://en.wikipedia.org/wiki/Starlink\"},\"static_fire_date_utc\":\"2021-05-03T05:00:00.000Z\",\"static_fire_date_unix\":1620018000,\"net\":false,\"window\":0,\"rocket\":\"5e9d0d95eda69973a809d1ec\",\"success\":true,\"failures\":[],\"details\":\"This mission launches the 25th batch of operational Starlink satellites, which are version 1.0, from LC-39A. It is the 26th Starlink launch overall. The satellites will be delivered to low Earth orbit and will spend a few weeks maneuvering to their operational altitude. The booster is expected to land on OCISLY.\",\"crew\":[],\"ships\":[\"608c1a06cf7f3d6152666ad4\",\"5ea6ed30080df4000697c913\",\"6059166413f40e27e8af34b6\"],\"capsules\":[],\"payloads\":[\"605b4befaa5433645e37d047\"],\"launchpad\":\"5e9e4502f509094188566f88\",\"flight_number\":125,\"name\":\"Starlink-25 (v1.0)\",\"date_utc\":\"2021-05-04T19:01:00.000Z\",\"date_unix\":1620154860,\"date_local\":\"2021-05-04T15:01:00-04:00\",\"date_precision\":\"hour\",\"upcoming\":false,\"cores\":[{\"core\":\"5e9e28a5f3591833b13b2659\",\"flight\":9,\"gridfins\":true,\"legs\":true,\"reused\":true,\"landing_attempt\":true,\"landing_success\":true,\"landing_type\":\"ASDS\",\"landpad\":\"5e9e3032383ecb6bb234e7ca\"}],\"auto_update\":true,\"tbd\":false,\"launch_library_id\":\"1ecc82c0-c5c8-41f0-aa58-b50a3b839ae0\",\"id\":\"605b4b7daa5433645e37d040\"},{\"fairings\":{\"reused\":true,\"recovery_attempt\":true,\"recovered\":true,\"ships\":[\"6059166413f40e27e8af34b6\"]},\"links\":{\"patch\":{\"small\":\"https://images2.imgbox.com/ad/eb/pq1vQuoW_o.png\",\"large\":\"https://images2.imgbox.com/97/83/Y1Qj9iUC_o.png\"},\"reddit\":{\"campaign\":\"https://www.reddit.com/r/spacex/comments/jhu37i/starlink_general_discussion_and_deployment_thread/\",\"launch\":\"https://www.reddit.com/r/spacex/comments/n7ju15/rspacex_starlink27_launch_discussion_updates/\",\"media\":null,\"recovery\":\"https://www.reddit.com/r/spacex/comments/k2ts1q/rspacex_fleet_updates_discussion_thread/\"},\"flickr\":{\"small\":[],\"original\":[]},\"presskit\":null,\"webcast\":\"https://youtu.be/J71s2KmkSrc\",\"youtube_id\":\"J71s2KmkSrc\",\"article\":null,\"wikipedia\":\"https://en.wikipedia.org/wiki/Starlink\"},\"static_fire_date_utc\":null,\"static_fire_date_unix\":null,\"net\":false,\"window\":null,\"rocket\":\"5e9d0d95eda69973a809d1ec\",\"success\":true,\"failures\":[],\"details\":\"This mission launches the 26th batch of operational Starlink satellites, which are version 1.0, from SLC-40. It is the 27th Starlink launch overall. The satellites will be delivered to low Earth orbit and will spend a few weeks maneuvering to their operational altitude. The booster is expected to land on an ASDS.\",\"crew\":[],\"ships\":[\"5ea6ed30080df4000697c913\",\"5ee68c683c228f36bd5809b5\",\"6059166413f40e27e8af34b6\"],\"capsules\":[],\"payloads\":[\"6079bd5e9a06446e8c61bf7c\"],\"launchpad\":\"5e9e4501f509094ba4566f84\",\"flight_number\":126,\"name\":\"Starlink-27 (v1.0)\",\"date_utc\":\"2021-05-09T06:42:00.000Z\",\"date_unix\":1620542520,\"date_local\":\"2021-05-09T02:42:00-04:00\",\"date_precision\":\"hour\",\"upcoming\":false,\"cores\":[{\"core\":\"5e9e28a6f35918c0803b265c\",\"flight\":10,\"gridfins\":true,\"legs\":true,\"reused\":true,\"landing_attempt\":true,\"landing_success\":true,\"landing_type\":\"ASDS\",\"landpad\":\"5e9e3032383ecb6bb234e7ca\"}],\"auto_update\":true,\"tbd\":false,\"launch_library_id\":\"e5085f22-208b-4b28-b66c-fd4bd9df90e7\",\"id\":\"6079bd1c9a06446e8c61bf76\"},{\"fairings\":{\"reused\":true,\"recovery_attempt\":true,\"recovered\":null,\"ships\":[\"6059166413f40e27e8af34b6\"]},\"links\":{\"patch\":{\"small\":\"https://images2.imgbox.com/b5/8a/KeiGEz4f_o.png\",\"large\":\"https://images2.imgbox.com/f6/28/amlU5JWP_o.png\"},\"reddit\":{\"campaign\":\"https://www.reddit.com/r/spacex/comments/jhu37i/starlink_general_discussion_and_deployment_thread/\",\"launch\":\"https://www.reddit.com/r/spacex/comments/ncfexu/rspacex_starlink26_launch_discussion_updates/\",\"media\":null,\"recovery\":\"https://www.reddit.com/r/spacex/comments/k2ts1q/rspacex_fleet_updates_discussion_thread/\"},\"flickr\":{\"small\":[],\"original\":[\"https://live.staticflickr.com/65535/51171344450_6a3f0e08b9_o.jpg\",\"https://live.staticflickr.com/65535/51170251791_9b36fba5b7_o.jpg\",\"https://live.staticflickr.com/65535/51185653708_86840b1672_o.jpg\",\"https://live.staticflickr.com/65535/51185653723_7bd9ecab87_o.jpg\",\"https://live.staticflickr.com/65535/51186506630_1a47a43787_o.jpg\"]},\"presskit\":null,\"webcast\":\"https://youtu.be/tdgg_qwj-hI\",\"youtube_id\":\"tdgg_qwj-hI\",\"article\":null,\"wikipedia\":\"https://en.wikipedia.org/wiki/Starlink\"},\"static_fire_date_utc\":null,\"static_fire_date_unix\":null,\"net\":false,\"window\":0,\"rocket\":\"5e9d0d95eda69973a809d1ec\",\"success\":true,\"failures\":[],\"details\":\"This mission launches the 27th batch of operational Starlink satellites, which are version 1.0, from LC-39A or SLC-40. It is the 28th Starlink launch overall. The satellites will be delivered to low Earth orbit and will spend a few weeks maneuvering to their operational altitude. The booster is expected to land on an ASDS.\",\"crew\":[],\"ships\":[\"5ea6ed30080df4000697c913\",\"6059166413f40e27e8af34b6\",\"608c1a06cf7f3d6152666ad4\",\"5ea6ed2f080df4000697c90b\"],\"capsules\":[],\"payloads\":[\"605b4bfcaa5433645e37d048\",\"609f48374a12e4692eae4667\",\"609f49c64a12e4692eae4668\"],\"launchpad\":\"5e9e4502f509094188566f88\",\"flight_number\":127,\"name\":\"Starlink-26 (v1.0) + Capella-6 + Tyvak-0130\",\"date_utc\":\"2021-05-15T22:54:00.000Z\",\"date_unix\":1621119240,\"date_local\":\"2021-05-15T18:54:00-04:00\",\"date_precision\":\"hour\",\"upcoming\":false,\"cores\":[{\"core\":\"5e9e28a7f3591817f23b2663\",\"flight\":8,\"gridfins\":true,\"legs\":true,\"reused\":true,\"landing_attempt\":true,\"landing_success\":true,\"landing_type\":\"ASDS\",\"landpad\":\"5e9e3032383ecb6bb234e7ca\"}],\"auto_update\":true,\"tbd\":false,\"launch_library_id\":\"c32d1f5e-2dd9-4b55-ac8b-3eb8c4a4e955\",\"id\":\"605b4b95aa5433645e37d041\"},{\"fairings\":{\"reused\":true,\"recovery_attempt\":true,\"recovered\":true,\"ships\":[\"5ea6ed2e080df4000697c909\",\"5ea6ed2f080df4000697c90c\"]},\"links\":{\"patch\":{\"small\":\"https://images2.imgbox.com/28/ee/Bchywpgu_o.png\",\"large\":\"https://images2.imgbox.com/06/09/908F8uzV_o.png\"},\"reddit\":{\"campaign\":\"https://www.reddit.com/r/spacex/comments/jhu37i/starlink_general_discussion_and_deployment_thread/\",\"launch\":\"https://www.reddit.com/r/spacex/comments/nkxg4s/rspacex_starlink28_launch_discussion_and_updates/\",\"media\":null,\"recovery\":\"https://www.reddit.com/r/spacex/comments/k2ts1q/rspacex_fleet_updates_discussion_thread/\"},\"flickr\":{\"small\":[],\"original\":[\"https://live.staticflickr.com/65535/51225270061_42bc3abb43_o.jpg\",\"https://live.staticflickr.com/65535/51226036719_584d141279_o.jpg\",\"https://live.staticflickr.com/65535/51225480623_5ef7d3957a_o.jpg\"]},\"presskit\":null,\"webcast\":\"https://youtu.be/xRu-ekesDyY\",\"youtube_id\":\"xRu-ekesDyY\",\"article\":\"https://spaceflightnow.com/2021/05/26/first-phase-of-spacexs-starlink-network-nears-completion-with-falcon-9-launch/\",\"wikipedia\":\"https://en.wikipedia.org/wiki/Starlink\"},\"static_fire_date_utc\":null,\"static_fire_date_unix\":null,\"net\":false,\"window\":0,\"rocket\":\"5e9d0d95eda69973a809d1ec\",\"success\":true,\"failures\":[],\"details\":\"This mission launches the 28th batch of operational Starlink satellites, which were version 1.0, from SLC-40. It was the 29th Starlink launch overall. The satellites plan to be delivered to low Earth orbit and will spend a few weeks maneuvering to their operational altitude. The booster is expected to land on ASDS JRTI.\",\"crew\":[],\"ships\":[\"5ea6ed30080df4000697c913\",\"5ea6ed2f080df4000697c90c\",\"5ee68c683c228f36bd5809b5\",\"5ea6ed2f080df4000697c90b\",\"5ea6ed2e080df4000697c909\"],\"capsules\":[],\"payloads\":[\"6079bd679a06446e8c61bf7d\"],\"launchpad\":\"5e9e4501f509094ba4566f84\",\"flight_number\":128,\"name\":\"Starlink-28 (v1.0)\",\"date_utc\":\"2021-05-26T18:59:00.000Z\",\"date_unix\":1622055540,\"date_local\":\"2021-05-26T14:59:00-04:00\",\"date_precision\":\"hour\",\"upcoming\":false,\"cores\":[{\"core\":\"5f57c54a0622a633027900a1\",\"flight\":2,\"gridfins\":true,\"legs\":true,\"reused\":true,\"landing_attempt\":true,\"landing_success\":true,\"landing_type\":\"ASDS\",\"landpad\":\"5e9e3033383ecbb9e534e7cc\"}],\"auto_update\":true,\"tbd\":false,\"launch_library_id\":\"fb25ecf0-fb51-4b5e-b678-105f6ba4c06e\",\"id\":\"6079bd399a06446e8c61bf77\"},{\"fairings\":null,\"links\":{\"patch\":{\"small\":\"https://images2.imgbox.com/aa/a8/HhwYIXoB_o.png\",\"large\":\"https://images2.imgbox.com/16/32/9Z7btrQF_o.png\"},\"reddit\":{\"campaign\":\"https://www.reddit.com/r/spacex/comments/nhztq5/crs22_launch_campaign_thread/\",\"launch\":\"https://www.reddit.com/r/spacex/comments/nqqojc/rspacex_crs22_launch_docking_discussion_updates/\",\"media\":null,\"recovery\":\"https://www.reddit.com/r/spacex/comments/k2ts1q/rspacex_fleet_updates_discussion_thread/\"},\"flickr\":{\"small\":[],\"original\":[\"https://live.staticflickr.com/65535/51225482033_086576f2cd_o.jpg\",\"https://live.staticflickr.com/65535/51226340205_9c3ac87b8e_o.jpg\",\"https://live.staticflickr.com/65535/51224563112_61d493b775_o.jpg\",\"https://live.staticflickr.com/65535/51224563062_95bf029b80_o.jpg\",\"https://live.staticflickr.com/65535/51225271661_49315dc688_o.jpg\",\"https://live.staticflickr.com/65535/51226340225_27df994080_o.jpg\",\"https://live.staticflickr.com/65535/51224563102_d07c630ef5_o.jpg\",\"https://live.staticflickr.com/65535/51225482053_1fe7157f74_o.jpg\",\"https://live.staticflickr.com/65535/51226038164_304c347347_o.jpg\"]},\"presskit\":null,\"webcast\":\"https://youtu.be/QXf9mRWbXDM\",\"youtube_id\":\"QXf9mRWbXDM\",\"article\":\"https://spaceflightnow.com/2021/06/03/spacex-supply-ship-launches-on-mission-to-begin-upgrading-space-station-electrical-grid/\",\"wikipedia\":\"https://en.wikipedia.org/wiki/SpaceX_CRS-22\"},\"static_fire_date_utc\":null,\"static_fire_date_unix\":null,\"net\":false,\"window\":0,\"rocket\":\"5e9d0d95eda69973a809d1ec\",\"success\":true,\"failures\":[],\"details\":\"SpaceX\\'s 22nd ISS resupply mission on behalf of NASA, this mission sends essential supplies to the International Space Station using the cargo variant of SpaceX\\'s Dragon 2 spacecraft. The external payload for this mission is the first pair of ISS Roll Out Solar Arrays. Falcon 9 and Dragon launch from LC-39A, Kennedy Space Center and the booster is expected to land on an ASDS. The mission will be complete with splashdown and recovery of the capsule and down cargo.\",\"crew\":[],\"ships\":[\"5ea6ed2f080df4000697c90b\",\"608c1a06cf7f3d6152666ad4\",\"5ea6ed30080df4000697c913\"],\"capsules\":[\"60b803421f83cc1e59f1644d\"],\"payloads\":[\"5fe3b642b3467846b324217b\"],\"launchpad\":\"5e9e4502f509094188566f88\",\"flight_number\":129,\"name\":\"CRS-22 & IROSA\",\"date_utc\":\"2021-06-03T17:29:00.000Z\",\"date_unix\":1622741340,\"date_local\":\"2021-06-03T13:29:00-04:00\",\"date_precision\":\"hour\",\"upcoming\":false,\"cores\":[{\"core\":\"60b800111f83cc1e59f16438\",\"flight\":1,\"gridfins\":true,\"legs\":true,\"reused\":false,\"landing_attempt\":true,\"landing_success\":true,\"landing_type\":\"ASDS\",\"landpad\":\"5e9e3032383ecb6bb234e7ca\"}],\"auto_update\":true,\"tbd\":false,\"launch_library_id\":\"89a150ea-6e4b-489f-853c-3603ae684611\",\"id\":\"5fe3af84b3467846b3242161\"},{\"fairings\":{\"reused\":false,\"recovery_attempt\":true,\"recovered\":true,\"ships\":[\"5ea6ed2f080df4000697c90b\",\"5ea6ed2e080df4000697c909\"]},\"links\":{\"patch\":{\"small\":\"https://images2.imgbox.com/9a/f0/UVl6cZ6e_o.png\",\"large\":\"https://images2.imgbox.com/98/c3/8McdwgVu_o.png\"},\"reddit\":{\"campaign\":\"https://www.reddit.com/r/spacex/comments/n9llxw/sxm8_launch_campaign_thread/\",\"launch\":\"https://www.reddit.com/r/spacex/comments/nss9br/rspacex_sxm8_launch_discussion_and_updates_thread/\",\"media\":null,\"recovery\":null},\"flickr\":{\"small\":[],\"original\":[]},\"presskit\":null,\"webcast\":\"https://youtu.be/bgtDRR2F2wA\",\"youtube_id\":\"bgtDRR2F2wA\",\"article\":null,\"wikipedia\":\"https://en.wikipedia.org/wiki/Sirius_XM#Satellites\"},\"static_fire_date_utc\":\"2021-06-03T06:32:00.000Z\",\"static_fire_date_unix\":1622701920,\"net\":false,\"window\":5940,\"rocket\":\"5e9d0d95eda69973a809d1ec\",\"success\":true,\"failures\":[],\"details\":\"SpaceX launches the second of two next generation satellites for SiriusXM from SLC-40, Cape Canaveral Space Force Station. The spacecraft will be delivered into a sub-synchronous geostationary transfer orbit and will replace XM-4 in geostationary orbit. The booster for this mission will land on an ASDS.\",\"crew\":[],\"ships\":[\"5ee68c683c228f36bd5809b5\",\"5ea6ed2f080df4000697c910\",\"5ea6ed2f080df4000697c90b\",\"5ea6ed2e080df4000697c909\"],\"capsules\":[],\"payloads\":[\"5fe3b57db3467846b324217a\"],\"launchpad\":\"5e9e4501f509094ba4566f84\",\"flight_number\":130,\"name\":\"SXM-8\",\"date_utc\":\"2021-06-06T04:26:00.000Z\",\"date_unix\":1622953560,\"date_local\":\"2021-06-06T00:26:00-04:00\",\"date_precision\":\"hour\",\"upcoming\":false,\"cores\":[{\"core\":\"5f57c53d0622a6330279009f\",\"flight\":3,\"gridfins\":true,\"legs\":true,\"reused\":true,\"landing_attempt\":true,\"landing_success\":true,\"landing_type\":\"ASDS\",\"landpad\":\"5e9e3033383ecbb9e534e7cc\"}],\"auto_update\":true,\"tbd\":false,\"launch_library_id\":\"edaf9a8d-d67c-4e0e-8452-a37b111581d5\",\"id\":\"5fe3af6db3467846b3242160\"},{\"fairings\":{\"reused\":false,\"recovery_attempt\":true,\"recovered\":true,\"ships\":[\"60c8c7a45d4819007ea69871\"]},\"links\":{\"patch\":{\"small\":\"https://images2.imgbox.com/d0/66/bCRsHNSZ_o.png\",\"large\":\"https://images2.imgbox.com/2f/6f/ebFS9FDJ_o.png\"},\"reddit\":{\"campaign\":\"https://www.reddit.com/r/spacex/comments/nuud0l/gps_iii_sv05_launch_campaign_thread/\",\"launch\":\"https://www.reddit.com/r/spacex/comments/o0gcnq/rspacex_gps_iii_sv05_launch_discussion_and/\",\"media\":null,\"recovery\":null},\"flickr\":{\"small\":[],\"original\":[\"https://live.staticflickr.com/65535/51254829184_e6e1d0d79c_o.jpg\",\"https://live.staticflickr.com/65535/51253353892_de82b01e23_o.jpg\",\"https://live.staticflickr.com/65535/51254285968_288383ce6e_o.jpg\",\"https://live.staticflickr.com/65535/51254829154_3c5980c086_o.jpg\",\"https://live.staticflickr.com/65535/51253353882_e59ea4df4f_o.jpg\",\"https://live.staticflickr.com/65535/51254829139_ca68c19689_o.jpg\",\"https://live.staticflickr.com/65535/51262926489_9fbce20e9c_o.jpg\",\"https://live.staticflickr.com/65535/51262926469_974292477d_o.jpg\",\"https://live.staticflickr.com/65535/51262179176_e4302db116_o.jpg\",\"https://live.staticflickr.com/65535/51263224735_3210fb7499_o.jpg\"]},\"presskit\":null,\"webcast\":\"https://youtu.be/QJXxVtp3KqI\",\"youtube_id\":\"QJXxVtp3KqI\",\"article\":null,\"wikipedia\":\"https://en.wikipedia.org/wiki/GPS_Block_III\"},\"static_fire_date_utc\":\"2021-06-13T19:30:00.000Z\",\"static_fire_date_unix\":1623612600,\"net\":false,\"window\":900,\"rocket\":\"5e9d0d95eda69973a809d1ec\",\"success\":true,\"failures\":[],\"details\":\"SpaceX\\'s fourth GPS III launch will use the first stage from the previous GPS mission. This will be the first time a National Security Space Launch has flown on a flight proven booster. Falcon 9 will launch from SLC-40, Cape Canaveral and the booster will land downrange on a drone ship. GPS III is the third generation of the U.S. Space Force\\'s NAVSTAR Global Positioning System satellites, developed by Lockheed Martin. The GPS III constellation will feature a cross-linked command and control architecture, allowing the entire GPS constellation to be updated simultaneously from a single ground station. A new spot beam capability for enhanced military coverage and increased resistance to hostile jamming will be incorporated.\",\"crew\":[],\"ships\":[\"60c8c7a45d4819007ea69871\",\"5ee68c683c228f36bd5809b5\",\"5ea6ed2f080df4000697c910\"],\"capsules\":[],\"payloads\":[\"5eb0e4d2b6c3bb0006eeb261\"],\"launchpad\":\"5e9e4501f509094ba4566f84\",\"flight_number\":131,\"name\":\"GPS III SV05\",\"date_utc\":\"2021-06-17T16:09:00.000Z\",\"date_unix\":1623946140,\"date_local\":\"2021-06-17T12:09:00-04:00\",\"date_precision\":\"hour\",\"upcoming\":false,\"cores\":[{\"core\":\"5f57c5440622a633027900a0\",\"flight\":2,\"gridfins\":true,\"legs\":true,\"reused\":true,\"landing_attempt\":true,\"landing_success\":true,\"landing_type\":\"ASDS\",\"landpad\":\"5e9e3033383ecbb9e534e7cc\"}],\"auto_update\":true,\"tbd\":false,\"launch_library_id\":\"110c808a-a091-47ab-8532-4fa058c1de7a\",\"id\":\"5eb87d4effd86e000604b390\"},{\"fairings\":{\"reused\":true,\"recovery_attempt\":true,\"recovered\":true,\"ships\":[\"60c8c7a45d4819007ea69871\"]},\"links\":{\"patch\":{\"small\":\"https://images2.imgbox.com/a9/3e/L2EqHznO_o.png\",\"large\":\"https://images2.imgbox.com/96/8c/4HOqLFoZ_o.png\"},\"reddit\":{\"campaign\":\"https://www.reddit.com/r/spacex/comments/nz7rai/transporter2_launch_campaign_thread/\",\"launch\":\"https://www.reddit.com/r/spacex/comments/o9ki7u/rspacex_transporter2_launch_discussion_and/\",\"media\":null,\"recovery\":\"https://www.reddit.com/r/spacex/comments/k2ts1q/rspacex_fleet_updates_discussion_thread/\"},\"flickr\":{\"small\":[],\"original\":[\"https://live.staticflickr.com/65535/51283430951_a9e5a41141_o.jpg\",\"https://live.staticflickr.com/65535/51283430936_3852120bbe_o.jpg\",\"https://live.staticflickr.com/65535/51283604493_d1a088b7c9_o.jpg\",\"https://live.staticflickr.com/65535/51284454795_591717faee_o.jpg\",\"https://live.staticflickr.com/65535/51284454810_9fdd0e8db4_o.jpg\",\"https://live.staticflickr.com/65535/51283604443_6d92fe1231_o.jpg\",\"https://live.staticflickr.com/65535/51283604428_b24ebf1b5f_o.jpg\",\"https://live.staticflickr.com/65535/51283604438_7202e2a388_o.jpg\"]},\"presskit\":null,\"webcast\":\"https://youtu.be/sSiuW1HcGjA\",\"youtube_id\":\"sSiuW1HcGjA\",\"article\":null,\"wikipedia\":null},\"static_fire_date_utc\":\"2021-06-22T15:24:00.000Z\",\"static_fire_date_unix\":1624375440,\"net\":false,\"window\":0,\"rocket\":\"5e9d0d95eda69973a809d1ec\",\"success\":true,\"failures\":[],\"details\":\"Falcon 9 launches to sun-synchronous polar orbit from Florida as part of SpaceX\\'s Rideshare program dedicated to smallsat customers. The mission lifts off from SLC-40, Cape Canaveral on a southward azimuth and performs a dogleg maneuver. The booster for this mission is expected to return to LZ-1 based on FCC communications filings. This rideshare takes approximately 90 satellites and hosted payloads into orbit on a variety of deployers including three free-flying spacecraft which dispense their customers\\' satellites after separation from the SpaceX stack.\",\"crew\":[],\"ships\":[\"60c8c7a45d4819007ea69871\"],\"capsules\":[],\"payloads\":[\"608ac397eb3e50044e3630e7\"],\"launchpad\":\"5e9e4501f509094ba4566f84\",\"flight_number\":132,\"name\":\"Transporter-2\",\"date_utc\":\"2021-06-30T19:31:00.000Z\",\"date_unix\":1625081460,\"date_local\":\"2021-06-30T15:31:00-04:00\",\"date_precision\":\"hour\",\"upcoming\":false,\"cores\":[{\"core\":\"5ef670f10059c33cee4a826c\",\"flight\":8,\"gridfins\":true,\"legs\":true,\"reused\":true,\"landing_attempt\":true,\"landing_success\":true,\"landing_type\":\"RTLS\",\"landpad\":\"5e9e3032383ecb267a34e7c7\"}],\"auto_update\":true,\"tbd\":false,\"launch_library_id\":\"5d248abe-17ef-43ce-9c04-aef33af40520\",\"id\":\"600f9b6d8f798e2a4d5f979f\"},{\"fairings\":null,\"links\":{\"patch\":{\"small\":\"https://images2.imgbox.com/23/8a/eyj3lHJk_o.png\",\"large\":\"https://images2.imgbox.com/fd/60/g7jacgTb_o.png\"},\"reddit\":{\"campaign\":\"https://www.reddit.com/r/spacex/comments/p67i27/crs23_launch_campaign_thread/\",\"launch\":\"https://www.reddit.com/r/spacex/comments/pcj0ao/rspacex_crs23_launch_docking_discussion_updates/\",\"media\":null,\"recovery\":null},\"flickr\":{\"small\":[],\"original\":[\"https://live.staticflickr.com/65535/51411435986_82d7088b61_o.jpg\",\"https://live.staticflickr.com/65535/51411702583_fe67991413_o.jpg\",\"https://live.staticflickr.com/65535/51411702573_de10cdbc06_o.jpg\",\"https://live.staticflickr.com/65535/51411435116_ac7b3cc3d1_o.jpg\"]},\"presskit\":null,\"webcast\":\"https://youtu.be/x-KiDqxAMU0\",\"youtube_id\":\"x-KiDqxAMU0\",\"article\":null,\"wikipedia\":\"https://en.wikipedia.org/wiki/SpaceX_CRS-23\"},\"static_fire_date_utc\":\"2021-08-26T02:49:00.000Z\",\"static_fire_date_unix\":1629946140,\"net\":false,\"window\":0,\"rocket\":\"5e9d0d95eda69973a809d1ec\",\"success\":true,\"failures\":[],\"details\":\"SpaceX\\'s 23rd ISS resupply mission on behalf of NASA, this mission brings essential supplies to the International Space Station using the cargo variant of SpaceX\\'s Dragon 2 spacecraft. Cargo includes several science experiments. The booster for this mission is expected to land on an ASDS. The mission will be complete with return and recovery of the Dragon capsule and down cargo.\",\"crew\":[],\"ships\":[\"5ea6ed2d080df4000697c904\"],\"capsules\":[],\"payloads\":[\"5fe3c4f2b3467846b3242193\"],\"launchpad\":\"5e9e4502f509094188566f88\",\"flight_number\":133,\"name\":\"CRS-23\",\"date_utc\":\"2021-08-29T07:14:00.000Z\",\"date_unix\":1630221240,\"date_local\":\"2021-08-29T03:14:00-04:00\",\"date_precision\":\"hour\",\"upcoming\":false,\"cores\":[{\"core\":\"5f57c53d0622a6330279009f\",\"flight\":4,\"gridfins\":true,\"legs\":true,\"reused\":true,\"landing_attempt\":true,\"landing_success\":true,\"landing_type\":\"ASDS\",\"landpad\":\"5e9e3033383ecb075134e7cd\"}],\"auto_update\":true,\"tbd\":false,\"launch_library_id\":\"13386512-85bb-4c93-a9b0-f5eac05fbe4f\",\"id\":\"5fe3b11eb3467846b324216c\"},{\"fairings\":{\"reused\":true,\"recovery_attempt\":null,\"recovered\":null,\"ships\":[]},\"links\":{\"patch\":{\"small\":\"https://images2.imgbox.com/cb/ef/u7GOlbj4_o.png\",\"large\":\"https://images2.imgbox.com/a3/55/7K6zEOT2_o.png\"},\"reddit\":{\"campaign\":\"https://www.reddit.com/r/spacex/comments/jhu37i/starlink_general_discussion_and_deployment_thread/\",\"launch\":\"https://www.reddit.com/r/spacex/comments/pmn0xm/rspacex_starlink21_launch_discussion_and_updates/\",\"media\":null,\"recovery\":\"https://www.reddit.com/r/spacex/comments/k2ts1q/rspacex_fleet_updates_discussion_thread/\"},\"flickr\":{\"small\":[],\"original\":[\"https://live.staticflickr.com/65535/51474853666_be4615e186_o.jpg\",\"https://live.staticflickr.com/65535/51475097383_dcf9002e9c_o.jpg\"]},\"presskit\":null,\"webcast\":\"https://youtu.be/4372QYiPZB4\",\"youtube_id\":\"4372QYiPZB4\",\"article\":\"https://spaceflightnow.com/2021/09/14/spacex-launches-first-full-batch-of-laser-equipped-starlink-satellites/\",\"wikipedia\":\"https://en.wikipedia.org/wiki/Starlink\"},\"static_fire_date_utc\":\"2021-09-02T17:29:00.000Z\",\"static_fire_date_unix\":1630603740,\"net\":false,\"window\":0,\"rocket\":\"5e9d0d95eda69973a809d1ec\",\"success\":true,\"failures\":[],\"details\":null,\"crew\":[],\"ships\":[\"5ea6ed30080df4000697c913\"],\"capsules\":[],\"payloads\":[\"60e3bf3373359e1e20335c3c\"],\"launchpad\":\"5e9e4502f509092b78566f87\",\"flight_number\":134,\"name\":\"Starlink 2-1 (v1.5)\",\"date_utc\":\"2021-09-14T03:55:00.000Z\",\"date_unix\":1631591700,\"date_local\":\"2021-09-13T20:55:00-07:00\",\"date_precision\":\"hour\",\"upcoming\":false,\"cores\":[{\"core\":\"5e9e28a5f3591833b13b2659\",\"flight\":10,\"gridfins\":true,\"legs\":true,\"reused\":true,\"landing_attempt\":true,\"landing_success\":true,\"landing_type\":\"ASDS\",\"landpad\":\"5e9e3032383ecb6bb234e7ca\"}],\"auto_update\":true,\"tbd\":false,\"launch_library_id\":\"6b9f9fe6-7f94-498b-a664-7c9e42dbe76d\",\"id\":\"60e3bf0d73359e1e20335c37\"},{\"fairings\":null,\"links\":{\"patch\":{\"small\":\"https://images2.imgbox.com/bb/2f/jMnSSQHM_o.png\",\"large\":\"https://images2.imgbox.com/eb/36/ZJnCO6hc_o.png\"},\"reddit\":{\"campaign\":\"https://www.reddit.com/r/spacex/comments/pc1fq7/inspiration4_launch_campaign_thread/\",\"launch\":\"https://www.reddit.com/r/spacex/comments/po651k/rspacex_inspiration4_launch_discussion_updates/\",\"media\":null,\"recovery\":null},\"flickr\":{\"small\":[],\"original\":[]},\"presskit\":null,\"webcast\":\"https://youtu.be/3pv01sSq44w\",\"youtube_id\":\"3pv01sSq44w\",\"article\":null,\"wikipedia\":\"https://en.wikipedia.org/wiki/Inspiration4\"},\"static_fire_date_utc\":\"2021-09-13T07:07:00.000Z\",\"static_fire_date_unix\":1631516820,\"net\":false,\"window\":18000,\"rocket\":\"5e9d0d95eda69973a809d1ec\",\"success\":true,\"failures\":[],\"details\":\"Inspiration4 is the world\\xe2\\x80\\x99s first all-civilian mission to space. The mission will be commanded by Jared Isaacman, the 37-year-old founder and Chief Executive Officer of Shift4 Payments and an accomplished pilot and adventurer. Inspiration4 will leave Earth from Kennedy Space Center\\xe2\\x80\\x99s historic Launch Complex 39A, the embarkation point for Apollo and Space Shuttle missions, and travel across a low earth orbit on a multi-day journey that will continually eclipse more than 90% of the earth\\xe2\\x80\\x99s population. Named in recognition of the four-person crew that will raise awareness and funds for St. Jude Children\\xe2\\x80\\x99s Research Hospital, this milestone represents a new era for human spaceflight and exploration.\",\"crew\":[\"607a3a5f5a906a44023e0870\",\"607a3ab45a906a44023e0872\",\"607b48375a906a44023e08b8\",\"607b48da5a906a44023e08b9\"],\"ships\":[\"5ea6ed2f080df4000697c910\",\"5ee68c683c228f36bd5809b5\",\"614251b711a64135defb3654\"],\"capsules\":[\"5f6f99fddcfdf403df379709\"],\"payloads\":[\"607a382f5a906a44023e0867\"],\"launchpad\":\"5e9e4502f509094188566f88\",\"flight_number\":135,\"name\":\"Inspiration4\",\"date_utc\":\"2021-09-16T00:02:00.000Z\",\"date_unix\":1631750520,\"date_local\":\"2021-09-15T20:02:00-04:00\",\"date_precision\":\"hour\",\"upcoming\":false,\"cores\":[{\"core\":\"5f57c5440622a633027900a0\",\"flight\":3,\"gridfins\":true,\"legs\":true,\"reused\":true,\"landing_attempt\":true,\"landing_success\":true,\"landing_type\":\"ASDS\",\"landpad\":\"5e9e3033383ecbb9e534e7cc\"}],\"auto_update\":true,\"tbd\":false,\"launch_library_id\":\"621d64e6-0513-45dc-8ffa-c9fd56518398\",\"id\":\"607a37565a906a44023e0866\"},{\"fairings\":null,\"links\":{\"patch\":{\"small\":\"https://images2.imgbox.com/5a/2f/w3woVyro_o.png\",\"large\":\"https://images2.imgbox.com/80/34/J7ROsgsi_o.png\"},\"reddit\":{\"campaign\":\"https://www.reddit.com/r/spacex/comments/q8r52a/crew3_launch_campaign_thread/\",\"launch\":\"https://www.reddit.com/r/spacex/comments/qij6f4/rspacex_crew3_launch_discussion_updates_thread/\",\"media\":null,\"recovery\":null},\"flickr\":{\"small\":[],\"original\":[\"https://live.staticflickr.com/65535/51673353699_e3da266245_o.jpg\",\"https://live.staticflickr.com/65535/51673548360_64354b760f_o.jpg\",\"https://live.staticflickr.com/65535/51672676881_3b88410a96_o.jpg\",\"https://live.staticflickr.com/65535/51673548330_7acc53d2fb_o.jpg\",\"https://live.staticflickr.com/65535/51671874407_4f56a87855_o.jpg\",\"https://live.staticflickr.com/65535/51672676961_36371a6a76_o.jpg\",\"https://live.staticflickr.com/65535/51672915563_7f5b373701_o.jpg\",\"https://live.staticflickr.com/65535/51672915633_947e35cabc_o.jpg\"]},\"presskit\":null,\"webcast\":\"https://youtu.be/WZvtrnFItNs\",\"youtube_id\":\"WZvtrnFItNs\",\"article\":\"https://spaceflightnow.com/2021/11/11/spacex-debuts-new-dragon-capsule-in-launch-to-the-international-space-station/\",\"wikipedia\":\"https://en.wikipedia.org/wiki/SpaceX_Crew-3\"},\"static_fire_date_utc\":\"2021-10-28T05:46:00.000Z\",\"static_fire_date_unix\":1635399960,\"net\":false,\"window\":0,\"rocket\":\"5e9d0d95eda69973a809d1ec\",\"success\":true,\"failures\":[],\"details\":\"SpaceX will launch the third operational mission of its Crew Dragon vehicle as part of NASA\\'s Commercial Crew Program, carrying four astronauts to the International Space Station, including 1 international partner This mission will fly on a new capsule and a once used booster. The booster will land downrange on a drone ship. The Crew-2 mission returns from the space station in November.\",\"crew\":[\"5fe3c587b3467846b3242198\",\"5fe3c5beb3467846b3242199\",\"5fe3c5f6b3467846b324219a\",\"60c4b5ad4e041c0b356db393\"],\"ships\":[\"5ea6ed2d080df4000697c904\",\"5ee68c683c228f36bd5809b5\",\"614251b711a64135defb3654\",\"5ea6ed2f080df4000697c90c\",\"5ea6ed2e080df4000697c909\"],\"capsules\":[\"617c05591bad2c661a6e2909\"],\"payloads\":[\"5fe3b3bab3467846b3242174\"],\"launchpad\":\"5e9e4502f509094188566f88\",\"flight_number\":136,\"name\":\"Crew-3\",\"date_utc\":\"2021-11-11T02:03:00.000Z\",\"date_unix\":1636596180,\"date_local\":\"2021-11-10T21:03:00-05:00\",\"date_precision\":\"hour\",\"upcoming\":false,\"cores\":[{\"core\":\"60b800111f83cc1e59f16438\",\"flight\":2,\"gridfins\":true,\"legs\":true,\"reused\":true,\"landing_attempt\":true,\"landing_success\":true,\"landing_type\":\"ASDS\",\"landpad\":\"5e9e3033383ecb075134e7cd\"}],\"auto_update\":true,\"tbd\":false,\"launch_library_id\":\"0d779392-1a36-4c1e-b0b8-ec11e3031ee6\",\"id\":\"5fe3b15eb3467846b324216d\"},{\"fairings\":{\"reused\":null,\"recovery_attempt\":true,\"recovered\":true,\"ships\":[\"618fad7e563d69573ed8caa9\"]},\"links\":{\"patch\":{\"small\":\"https://images2.imgbox.com/f1/38/HYBzPrio_o.png\",\"large\":\"https://images2.imgbox.com/c9/b7/R0e1MkGD_o.png\"},\"reddit\":{\"campaign\":\"https://www.reddit.com/r/spacex/comments/jhu37i/starlink_general_discussion_and_deployment_thread/\",\"launch\":\"https://www.reddit.com/r/spacex/comments/qro60o/rspacex_starlink_41_launch_discussion_and_updates/\",\"media\":null,\"recovery\":\"https://www.reddit.com/r/spacex/comments/k2ts1q/rspacex_fleet_updates_discussion_thread/\"},\"flickr\":{\"small\":[],\"original\":[\"https://live.staticflickr.com/65535/51676939646_1a12780e54_o.jpg\",\"https://live.staticflickr.com/65535/51677186188_e03e87ae8e_o.jpg\",\"https://live.staticflickr.com/65535/51676136297_0bbb893f44_o.jpg\",\"https://live.staticflickr.com/65535/51677822295_87c2ee94b1_o.jpg\",\"https://live.staticflickr.com/65535/51677186098_12c8f54593_o.jpg\",\"https://live.staticflickr.com/65535/51676136282_5118fa42ef_o.jpg\"]},\"presskit\":null,\"webcast\":\"https://youtu.be/AtmtP4vouSY\",\"youtube_id\":\"AtmtP4vouSY\",\"article\":\"https://spaceflightnow.com/2021/11/13/spacex-launch-starts-deployment-of-new-starlink-orbital-shell/\",\"wikipedia\":\"https://en.wikipedia.org/wiki/Starlink\"},\"static_fire_date_utc\":null,\"static_fire_date_unix\":null,\"net\":false,\"window\":null,\"rocket\":\"5e9d0d95eda69973a809d1ec\",\"success\":true,\"failures\":[],\"details\":null,\"crew\":[],\"ships\":[\"5ea6ed2f080df4000697c910\",\"618fad7e563d69573ed8caa9\"],\"capsules\":[],\"payloads\":[\"618fabf0563d69573ed8caa6\"],\"launchpad\":\"5e9e4501f509094ba4566f84\",\"flight_number\":137,\"name\":\"Starlink 4-1 (v1.5)\",\"date_utc\":\"2021-11-13T12:40:00.000Z\",\"date_unix\":1636807200,\"date_local\":\"2021-11-13T07:40:00-05:00\",\"date_precision\":\"hour\",\"upcoming\":false,\"cores\":[{\"core\":\"5e9e28a7f3591817f23b2663\",\"flight\":9,\"gridfins\":true,\"legs\":true,\"reused\":true,\"landing_attempt\":true,\"landing_success\":true,\"landing_type\":\"ASDS\",\"landpad\":\"5e9e3033383ecbb9e534e7cc\"}],\"auto_update\":true,\"tbd\":false,\"launch_library_id\":null,\"id\":\"618faad2563d69573ed8ca9d\"},{\"fairings\":{\"reused\":null,\"recovery_attempt\":true,\"recovered\":null,\"ships\":[\"5ea6ed30080df4000697c912\"]},\"links\":{\"patch\":{\"small\":\"https://images2.imgbox.com/5a/fa/fhZj1ebN_o.png\",\"large\":\"https://images2.imgbox.com/57/b8/7pGrT5cb_o.png\"},\"reddit\":{\"campaign\":\"https://www.reddit.com/r/spacex/comments/qu8s5a/dart_launch_campaign_thread/\",\"launch\":\"https://www.reddit.com/r/spacex/comments/r0dn3a/rspacex_dart_launch_discussion_and_updates_thread/\",\"media\":null,\"recovery\":null},\"flickr\":{\"small\":[],\"original\":[\"https://live.staticflickr.com/65535/51702654584_13a4b39655_o.jpg\",\"https://live.staticflickr.com/65535/51702261963_ec86519bce_o.jpg\",\"https://live.staticflickr.com/65535/51702654544_c4b0a727c3_o.jpg\",\"https://live.staticflickr.com/65535/51702654514_c379940fa3_o.jpg\",\"https://live.staticflickr.com/65535/51702654339_7c40563d73_o.jpg\"]},\"presskit\":null,\"webcast\":\"https://youtu.be/XKRf6-NcMqI\",\"youtube_id\":\"XKRf6-NcMqI\",\"article\":null,\"wikipedia\":\"https://en.wikipedia.org/wiki/Double_Asteroid_Redirection_Test\"},\"static_fire_date_utc\":\"2021-11-19T20:20:00.000Z\",\"static_fire_date_unix\":1637353200,\"net\":false,\"window\":null,\"rocket\":\"5e9d0d95eda69973a809d1ec\",\"success\":true,\"failures\":[],\"details\":\"NASA\\'s Double Asteroid Redirect Test (DART) will demonstrate the use of a kinetic impactor to alter an asteroid\\'s trajectory, an intervention that could be used in the future to prevent devastating Earth impacts. The target system consists of Didymos, 780 meters in diameter, and its moonlet Dimorphos, 160 meters. The DART spacecraft will intercept the double asteroid, using autonomous guidance to crash into the smaller one. Moving at about 6 km/s, the transferred momentum should alter Dimorphos\\'s 12 hour orbital period around its companion by several minutes. The mission tests several technologies, including the Small-body Maneuvering Autonomous Real-Time Navigation (SMART Nav) used to differentiate and steer toward the target body and Roll-Out Solar Arrays (ROSA) with Transformational Solar Array concentrators. NASA\\xe2\\x80\\x99s Evolutionary Xenon Thruster \\xe2\\x80\\x94 Commercial (NEXT\\xe2\\x80\\x93C) ion engine will also be demonstrated, although the spacecraft\\'s primary propulsion is hydrazine thrusters. DART should arrive at Didymos in late September 2022, when it is about 11 million kilometers from Earth. Ten days before impact, the Italian Space Agency\\'s cubesat LICIACube will be deployed to observe the collision and ejecta with its two cameras. Earth-based telescopes will be used to measure the altered orbit.\",\"crew\":[],\"ships\":[\"5ea6ed30080df4000697c913\",\"5ea6ed2f080df4000697c90b\",\"5ea6ed30080df4000697c912\"],\"capsules\":[],\"payloads\":[\"5fe3c4a6b3467846b3242192\"],\"launchpad\":\"5e9e4502f509092b78566f87\",\"flight_number\":138,\"name\":\"DART\",\"date_utc\":\"2021-11-24T06:20:00.000Z\",\"date_unix\":1637734800,\"date_local\":\"2021-11-23T22:20:00-08:00\",\"date_precision\":\"hour\",\"upcoming\":false,\"cores\":[{\"core\":\"5f57c54a0622a633027900a1\",\"flight\":2,\"gridfins\":true,\"legs\":true,\"reused\":true,\"landing_attempt\":true,\"landing_success\":true,\"landing_type\":\"ASDS\",\"landpad\":\"5e9e3032383ecb6bb234e7ca\"}],\"auto_update\":true,\"tbd\":false,\"launch_library_id\":\"c4b2f90e-3385-4cbe-a89f-fc5f57da1bfb\",\"id\":\"5fe3b107b3467846b324216b\"},{\"fairings\":{\"reused\":null,\"recovery_attempt\":true,\"recovered\":null,\"ships\":[\"618fad7e563d69573ed8caa9\"]},\"links\":{\"patch\":{\"small\":\"https://images2.imgbox.com/fc/e7/esvHlHwA_o.png\",\"large\":\"https://images2.imgbox.com/91/15/2LRaHihk_o.png\"},\"reddit\":{\"campaign\":\"https://www.reddit.com/r/spacex/comments/jhu37i/starlink_general_discussion_and_deployment_thread/\",\"launch\":\"https://www.reddit.com/r/spacex/comments/r79osa/spacex_starlink_43_launch_discussion_and_updates/\",\"media\":null,\"recovery\":\"https://www.reddit.com/r/spacex/comments/k2ts1q/rspacex_fleet_updates_discussion_thread/\"},\"flickr\":{\"small\":[],\"original\":[\"https://live.staticflickr.com/65535/51732172914_4efa7d5210_o.jpg\",\"https://live.staticflickr.com/65535/51730706247_4b5bf2899f_o.jpg\",\"https://live.staticflickr.com/65535/51732172879_4ce91546ed_o.jpg\"]},\"presskit\":null,\"webcast\":\"https://youtu.be/594TbXriaAk\",\"youtube_id\":\"594TbXriaAk\",\"article\":null,\"wikipedia\":\"https://en.wikipedia.org/wiki/Starlink\"},\"static_fire_date_utc\":null,\"static_fire_date_unix\":null,\"net\":false,\"window\":null,\"rocket\":\"5e9d0d95eda69973a809d1ec\",\"success\":true,\"failures\":[],\"details\":null,\"crew\":[],\"ships\":[\"5ea6ed2d080df4000697c904\",\"618fad7e563d69573ed8caa9\",\"5ee68c683c228f36bd5809b5\"],\"capsules\":[],\"payloads\":[\"6161d0f26db1a92bfba85355\"],\"launchpad\":\"5e9e4501f509094ba4566f84\",\"flight_number\":139,\"name\":\"Starlink 4-3 (v1.5)\",\"date_utc\":\"2021-12-01T23:20:00.000Z\",\"date_unix\":1638400800,\"date_local\":\"2021-12-01T18:20:00-05:00\",\"date_precision\":\"hour\",\"upcoming\":false,\"cores\":[{\"core\":\"5ef670f10059c33cee4a826c\",\"flight\":9,\"gridfins\":true,\"legs\":true,\"reused\":true,\"landing_attempt\":true,\"landing_success\":true,\"landing_type\":\"ASDS\",\"landpad\":\"5e9e3033383ecb075134e7cd\"}],\"auto_update\":true,\"tbd\":false,\"launch_library_id\":\"56db9abd-41b8-41a3-9d6d-88e52460682b\",\"id\":\"6161c94c6db1a92bfba85349\"},{\"fairings\":{\"reused\":null,\"recovery_attempt\":null,\"recovered\":null,\"ships\":[]},\"links\":{\"patch\":{\"small\":\"https://images2.imgbox.com/75/ac/qogMzpf1_o.png\",\"large\":\"https://images2.imgbox.com/29/60/zFjdRVpC_o.png\"},\"reddit\":{\"campaign\":\"https://www.reddit.com/r/spacex/comments/r7chh2/ixpe_launch_campaign_thread/\",\"launch\":null,\"media\":null,\"recovery\":null},\"flickr\":{\"small\":[],\"original\":[\"https://live.staticflickr.com/65535/51736587581_c944959eaa_o.jpg\",\"https://live.staticflickr.com/65535/51737479675_63a2074244_o.jpg\",\"https://live.staticflickr.com/65535/51737234364_b43ca3ea26_o.jpg\",\"https://live.staticflickr.com/65535/51735767097_6126fe3138_o.jpg\"]},\"presskit\":null,\"webcast\":\"https://youtu.be/CpmHsN5GUn8\",\"youtube_id\":\"CpmHsN5GUn8\",\"article\":null,\"wikipedia\":\"https://en.wikipedia.org/wiki/IXPE\"},\"static_fire_date_utc\":null,\"static_fire_date_unix\":null,\"net\":false,\"window\":null,\"rocket\":\"5e9d0d95eda69973a809d1ec\",\"success\":true,\"failures\":[],\"details\":null,\"crew\":[],\"ships\":[],\"capsules\":[],\"payloads\":[\"61c1f395a4a2462678cbf46e\"],\"launchpad\":\"5e9e4502f509094188566f88\",\"flight_number\":140,\"name\":\"IXPE\",\"date_utc\":\"2021-12-09T06:00:00.000Z\",\"date_unix\":1639029600,\"date_local\":\"2021-12-09T01:00:00-05:00\",\"date_precision\":\"hour\",\"upcoming\":false,\"cores\":[{\"core\":\"5f57c53d0622a6330279009f\",\"flight\":5,\"gridfins\":true,\"legs\":true,\"reused\":true,\"landing_attempt\":true,\"landing_success\":true,\"landing_type\":\"ASDS\",\"landpad\":\"5e9e3033383ecbb9e534e7cc\"}],\"auto_update\":true,\"tbd\":false,\"launch_library_id\":\"dfb2cc3b-8cd8-41b6-a83a-22b2a742ba4b\",\"id\":\"6161c88d6db1a92bfba85348\"},{\"fairings\":{\"reused\":null,\"recovery_attempt\":true,\"recovered\":null,\"ships\":[\"5ea6ed30080df4000697c912\"]},\"links\":{\"patch\":{\"small\":\"https://images2.imgbox.com/1d/2f/Z0V6iIoM_o.png\",\"large\":\"https://images2.imgbox.com/0a/63/DSii5T55_o.png\"},\"reddit\":{\"campaign\":\"https://www.reddit.com/r/spacex/comments/jhu37i/starlink_general_discussion_and_deployment_thread/\",\"launch\":\"https://www.reddit.com/r/spacex/comments/rhvacp/rspacex_starlink_44_launch_discussion_and_updates/\",\"media\":null,\"recovery\":\"https://www.reddit.com/r/spacex/comments/k2ts1q/rspacex_fleet_updates_discussion_thread/\"},\"flickr\":{\"small\":[],\"original\":[\"https://live.staticflickr.com/65535/51756013766_f664db8097_o.jpg\",\"https://live.staticflickr.com/65535/51756656374_59ca8efbab_o.jpg\"]},\"presskit\":null,\"webcast\":\"https://youtu.be/q4Ed3EBx90s\",\"youtube_id\":\"q4Ed3EBx90s\",\"article\":\"https://spaceflightnow.com/2021/12/18/spacex-launches-starlink-satellites-from-california-on-unusual-coast-hugging-trajectory/\",\"wikipedia\":\"https://en.wikipedia.org/wiki/Starlink\"},\"static_fire_date_utc\":\"2021-12-17T08:31:00.000Z\",\"static_fire_date_unix\":1639729860,\"net\":false,\"window\":null,\"rocket\":\"5e9d0d95eda69973a809d1ec\",\"success\":true,\"failures\":[],\"details\":\"The mission consists in launching 52 Starlink v1.5 satellites to Shell number 4 at 53.2\\xc2\\xb0. This is unusual as the mission is launching from Vandenberg as these missions usually launch from the East Coast.\",\"crew\":[],\"ships\":[\"5ea6ed30080df4000697c913\",\"5ea6ed30080df4000697c912\",\"5ea6ed2f080df4000697c90b\"],\"capsules\":[],\"payloads\":[\"61bbac16437241381bf70632\"],\"launchpad\":\"5e9e4502f509092b78566f87\",\"flight_number\":141,\"name\":\"Starlink 4-4 (v1.5)\",\"date_utc\":\"2021-12-18T12:41:40.000Z\",\"date_unix\":1639831300,\"date_local\":\"2021-12-18T12:41:40-08:00\",\"date_precision\":\"hour\",\"upcoming\":false,\"cores\":[{\"core\":\"5e9e28a6f35918c0803b265c\",\"flight\":11,\"gridfins\":true,\"legs\":true,\"reused\":true,\"landing_attempt\":true,\"landing_success\":true,\"landing_type\":\"ASDS\",\"landpad\":\"5e9e3032383ecb6bb234e7ca\"}],\"auto_update\":false,\"tbd\":false,\"launch_library_id\":\"0d4b0c0f-3d72-4cb2-b596-dc526ad178a6\",\"id\":\"61bba806437241381bf7061e\"},{\"fairings\":{\"reused\":null,\"recovery_attempt\":true,\"recovered\":null,\"ships\":[\"618fad7e563d69573ed8caa9\"]},\"links\":{\"patch\":{\"small\":\"https://images2.imgbox.com/9d/c9/rmVWqnDr_o.png\",\"large\":\"https://images2.imgbox.com/e4/6b/fZQllIZ8_o.png\"},\"reddit\":{\"campaign\":\"https://www.reddit.com/r/spacex/comments/rfim89/t%C3%BCrksat_5b_launch_campaign_thread/\",\"launch\":\"https://www.reddit.com/r/spacex/comments/rja5u0/rspacex_t%C3%BCrksat_5b_launch_discussion_and_updates/\",\"media\":null,\"recovery\":null},\"flickr\":{\"small\":[],\"original\":[]},\"presskit\":null,\"webcast\":\"https://youtu.be/JBGjE9_aosc\",\"youtube_id\":\"JBGjE9_aosc\",\"article\":\"https://spaceflightnow.com/2021/12/19/spacex-two-for-two-in-companys-first-falcon-9-launch-doubleheader/\",\"wikipedia\":\"https://en.wikipedia.org/wiki/T%C3%BCrksat_5B\"},\"static_fire_date_utc\":null,\"static_fire_date_unix\":null,\"net\":false,\"window\":null,\"rocket\":\"5e9d0d95eda69973a809d1ec\",\"success\":true,\"failures\":[],\"details\":\"The T\\xc3\\xbcrksat 5B communication satellite, which its construction work continues at Airbus Defense and Space\\'s facilities in Toulouse, France, will soon be sent to the Cape Canaveral Space Launch Station located in Florida, United States. The satellite will be launched into space onboard the Falcon 9 rocket following pre-launch preparations. With an estimated in-orbit lifetime of 30 years and the aim of securing Turkey\\xe2\\x80\\x99s orbital and frequency rights, T\\xc3\\xbcrksat 5B will be launched into an orbital slot at 42 degrees East. With 12 kW power, T\\xc3\\xbcrksat 5B will provide TV broadcasting and data communication services over a wide coverage area that reaches the entire Middle East, the Persian Gulf, the Red Sea, the Mediterranean, North Africa, East Africa, South Africa and Nigeria. Apart from that, the satellite will also provide customized services for airlines and commercial ship operators around the world thanks to the fact that it operates in Ka-Band.\",\"crew\":[],\"ships\":[\"618fad7e563d69573ed8caa9\",\"5ee68c683c228f36bd5809b5\"],\"capsules\":[],\"payloads\":[\"5fe3c080b3467846b3242190\"],\"launchpad\":\"5e9e4501f509094ba4566f84\",\"flight_number\":142,\"name\":\"T\\xc3\\xbcrksat 5B\",\"date_utc\":\"2021-12-19T03:58:00.000Z\",\"date_unix\":1639886280,\"date_local\":\"2021-12-18T22:58:00-05:00\",\"date_precision\":\"hour\",\"upcoming\":false,\"cores\":[{\"core\":\"60b800111f83cc1e59f16438\",\"flight\":3,\"gridfins\":true,\"legs\":true,\"reused\":true,\"landing_attempt\":true,\"landing_success\":true,\"landing_type\":\"ASDS\",\"landpad\":\"5e9e3033383ecb075134e7cd\"}],\"auto_update\":false,\"tbd\":false,\"launch_library_id\":\"16d0c02e-0bb1-45d5-a3f5-7c4ff6cf6de1\",\"id\":\"5fe3afc1b3467846b3242164\"},{\"fairings\":null,\"links\":{\"patch\":{\"small\":\"https://images2.imgbox.com/fe/c3/yV1LnAUT_o.png\",\"large\":\"https://images2.imgbox.com/37/fd/AiNV3ldU_o.png\"},\"reddit\":{\"campaign\":\"https://www.reddit.com/r/spacex/comments/rfisc2/crs24_launch_campaign_thread/\",\"launch\":\"https://www.reddit.com/r/spacex/comments/rktygs/rspacex_crs24_launch_discussion_and_updates_thread/\",\"media\":null,\"recovery\":null},\"flickr\":{\"small\":[],\"original\":[]},\"presskit\":null,\"webcast\":\"https://youtu.be/gEv6HLHYhWo\",\"youtube_id\":\"gEv6HLHYhWo\",\"article\":\"https://spaceflightnow.com/2021/12/21/spacex-cargo-flight-sets-record-for-most-orbital-launches-from-space-coast-in-a-year/\",\"wikipedia\":null},\"static_fire_date_utc\":null,\"static_fire_date_unix\":null,\"net\":false,\"window\":0,\"rocket\":\"5e9d0d95eda69973a809d1ec\",\"success\":true,\"failures\":[],\"details\":\"SpaceX\\'s 24th ISS resupply mission on behalf of NASA, this mission brings essential supplies to the International Space Station using the cargo variant of SpaceX\\'s Dragon 2 spacecraft. Cargo includes several science experiments. The booster for this mission is expected to land on an ASDS. The mission will be complete with return and recovery of the Dragon capsule and down cargo.\",\"crew\":[],\"ships\":[\"5ea6ed2f080df4000697c910\",\"614251b711a64135defb3654\"],\"capsules\":[\"60b803421f83cc1e59f1644d\"],\"payloads\":[\"6161d22a6db1a92bfba85357\"],\"launchpad\":\"5e9e4502f509094188566f88\",\"flight_number\":143,\"name\":\"CRS-24\",\"date_utc\":\"2021-12-21T10:06:00.000Z\",\"date_unix\":1640081160,\"date_local\":\"2021-12-21T05:06:00-05:00\",\"date_precision\":\"hour\",\"upcoming\":false,\"cores\":[{\"core\":\"61c1ef45a4a2462678cbf45d\",\"flight\":1,\"gridfins\":true,\"legs\":true,\"reused\":false,\"landing_attempt\":true,\"landing_success\":true,\"landing_type\":\"ASDS\",\"landpad\":\"5e9e3033383ecbb9e534e7cc\"}],\"auto_update\":true,\"tbd\":false,\"launch_library_id\":\"878ba32c-5e93-4d2b-95c3-24b60c8b05e7\",\"id\":\"6161d2006db1a92bfba85356\"},{\"fairings\":{\"reused\":null,\"recovery_attempt\":true,\"recovered\":null,\"ships\":[\"614251b711a64135defb3654\"]},\"links\":{\"patch\":{\"small\":\"https://images2.imgbox.com/8e/e9/MJG9yylu_o.png\",\"large\":\"https://images2.imgbox.com/e3/1b/r7u0e6SM_o.png\"},\"reddit\":{\"campaign\":\"https://www.reddit.com/r/spacex/comments/jhu37i/starlink_general_discussion_and_deployment_thread/\",\"launch\":\"https://www.reddit.com/r/spacex/comments/rwukw5/rspacex_starlink_45_launch_discussion_and_updates/\",\"media\":null,\"recovery\":\"https://www.reddit.com/r/spacex/comments/k2ts1q/rspacex_fleet_updates_discussion_thread/\"},\"flickr\":{\"small\":[],\"original\":[\"https://live.staticflickr.com/65535/51804559341_730da65003_o.jpg\",\"https://live.staticflickr.com/65535/51804671583_7a1137dd05_o.jpg\",\"https://live.staticflickr.com/65535/51804914844_ee0cd2c3c0_o.jpg\"]},\"presskit\":null,\"webcast\":\"https://youtu.be/4_ePBpwMhns\",\"youtube_id\":\"4_ePBpwMhns\",\"article\":\"https://spaceflightnow.com/2022/01/06/spacex-deploys-49-more-starlink-satellites-in-first-launch-of-2022/\",\"wikipedia\":\"https://en.wikipedia.org/wiki/Starlink\"},\"static_fire_date_utc\":null,\"static_fire_date_unix\":null,\"net\":false,\"window\":null,\"rocket\":\"5e9d0d95eda69973a809d1ec\",\"success\":true,\"failures\":[],\"details\":null,\"crew\":[],\"ships\":[\"614251b711a64135defb3654\",\"5ea6ed2d080df4000697c904\"],\"capsules\":[],\"payloads\":[\"61d5ece4f88e4c5fc91f1ebb\"],\"launchpad\":\"5e9e4502f509094188566f88\",\"flight_number\":144,\"name\":\"Starlink 4-5 (v1.5)\",\"date_utc\":\"2022-01-06T21:49:00.000Z\",\"date_unix\":1641505740,\"date_local\":\"2022-01-06T16:49:00-05:00\",\"date_precision\":\"hour\",\"upcoming\":false,\"cores\":[{\"core\":\"5f57c5440622a633027900a0\",\"flight\":4,\"gridfins\":true,\"legs\":true,\"reused\":true,\"landing_attempt\":true,\"landing_success\":true,\"landing_type\":\"ASDS\",\"landpad\":\"5e9e3033383ecb075134e7cd\"}],\"auto_update\":true,\"tbd\":false,\"launch_library_id\":\"3ddb1934-2b57-489b-b5d2-31d4990604eb\",\"id\":\"61d5eca1f88e4c5fc91f1eb7\"},{\"fairings\":{\"reused\":null,\"recovery_attempt\":null,\"recovered\":null,\"ships\":[]},\"links\":{\"patch\":{\"small\":\"https://images2.imgbox.com/d4/7b/iDjUz9US_o.png\",\"large\":\"https://images2.imgbox.com/94/be/MVwoNNDy_o.png\"},\"reddit\":{\"campaign\":\"https://www.reddit.com/r/spacex/comments/s04tw9/transporter3_launch_campaign_thread/\",\"launch\":\"https://www.reddit.com/r/spacex/comments/s23yav/rspacex_transporter3_launch_discussion_and/\",\"media\":null,\"recovery\":null},\"flickr\":{\"small\":[],\"original\":[\"https://live.staticflickr.com/65535/51818737408_435196f856_o.jpg\",\"https://live.staticflickr.com/65535/51819334315_a542f60ca7_o.jpg\",\"https://live.staticflickr.com/65535/51818737428_c969752259_o.jpg\",\"https://live.staticflickr.com/65535/51818622981_a51f8e400e_o.jpg\",\"https://live.staticflickr.com/65535/51818962544_6dc5873faf_o.jpg\",\"https://live.staticflickr.com/65535/51818737463_ab81867074_o.jpg\"]},\"presskit\":null,\"webcast\":\"https://youtu.be/mFBeuSAvhUQ\",\"youtube_id\":\"mFBeuSAvhUQ\",\"article\":\"https://spaceflightnow.com/2022/01/13/spacex-launches-105-customer-satellites-on-third-transporter-rideshare-mission/\",\"wikipedia\":null},\"static_fire_date_utc\":null,\"static_fire_date_unix\":null,\"net\":false,\"window\":null,\"rocket\":\"5e9d0d95eda69973a809d1ec\",\"success\":true,\"failures\":[],\"details\":null,\"crew\":[],\"ships\":[],\"capsules\":[],\"payloads\":[\"6175aaacefa4314085aa9c56\"],\"launchpad\":\"5e9e4501f509094ba4566f84\",\"flight_number\":145,\"name\":\"Transporter-3\",\"date_utc\":\"2022-01-13T15:25:00.000Z\",\"date_unix\":1642087500,\"date_local\":\"2022-01-13T10:25:00-05:00\",\"date_precision\":\"hour\",\"upcoming\":false,\"cores\":[{\"core\":\"5e9e28a7f3591817f23b2663\",\"flight\":10,\"gridfins\":true,\"legs\":true,\"reused\":true,\"landing_attempt\":true,\"landing_success\":true,\"landing_type\":\"RTLS\",\"landpad\":\"5e9e3032383ecb267a34e7c7\"}],\"auto_update\":true,\"tbd\":false,\"launch_library_id\":\"c660df6f-7e33-4c90-a0f5-b27c8cb4c974\",\"id\":\"61bf3e31cd5ab50b0d936345\"},{\"fairings\":{\"reused\":null,\"recovery_attempt\":true,\"recovered\":null,\"ships\":[\"614251b711a64135defb3654\"]},\"links\":{\"patch\":{\"small\":\"https://images2.imgbox.com/5f/23/CAkj0nIZ_o.png\",\"large\":\"https://images2.imgbox.com/d6/57/1HqOmlpH_o.png\"},\"reddit\":{\"campaign\":\"https://www.reddit.com/r/spacex/comments/jhu37i/starlink_general_discussion_and_deployment_thread/\",\"launch\":null,\"media\":null,\"recovery\":\"https://www.reddit.com/r/spacex/comments/k2ts1q/rspacex_fleet_updates_discussion_thread/\"},\"flickr\":{\"small\":[],\"original\":[\"https://live.staticflickr.com/65535/51830117595_12bfa3bf5d_o.jpg\",\"https://live.staticflickr.com/65535/51828440767_8ce8e10d30_o.jpg\",\"https://live.staticflickr.com/65535/51829734974_ddfe778a46_o.jpg\",\"https://live.staticflickr.com/65535/51829734959_d68fa43e2a_o.jpg\"]},\"presskit\":null,\"webcast\":\"https://youtu.be/Yov854ZT1lg\",\"youtube_id\":\"Yov854ZT1lg\",\"article\":\"https://spaceflightnow.com/2022/01/19/spacex-launches-2000th-starlink-satellite/\",\"wikipedia\":\"https://en.wikipedia.org/wiki/Starlink\"},\"static_fire_date_utc\":null,\"static_fire_date_unix\":null,\"net\":false,\"window\":null,\"rocket\":\"5e9d0d95eda69973a809d1ec\",\"success\":true,\"failures\":[],\"details\":null,\"crew\":[],\"ships\":[\"5ea6ed2d080df4000697c904\",\"614251b711a64135defb3654\"],\"capsules\":[],\"payloads\":[\"61e05516be8d8b66799018d4\"],\"launchpad\":\"5e9e4502f509094188566f88\",\"flight_number\":146,\"name\":\"Starlink 4-6 (v1.5)\",\"date_utc\":\"2022-01-19T00:04:00.000Z\",\"date_unix\":1642550640,\"date_local\":\"2022-01-18T19:04:00-05:00\",\"date_precision\":\"hour\",\"upcoming\":false,\"cores\":[{\"core\":\"5ef670f10059c33cee4a826c\",\"flight\":10,\"gridfins\":true,\"legs\":true,\"reused\":true,\"landing_attempt\":true,\"landing_success\":true,\"landing_type\":\"ASDS\",\"landpad\":\"5e9e3033383ecb075134e7cd\"}],\"auto_update\":true,\"tbd\":false,\"launch_library_id\":\"50ac28f2-024f-442f-837d-dab8107304ec\",\"id\":\"61e048bbbe8d8b66799018d0\"},{\"fairings\":{\"reused\":null,\"recovery_attempt\":null,\"recovered\":null,\"ships\":[]},\"links\":{\"patch\":{\"small\":\"https://images2.imgbox.com/69/be/Y0sIjJ6f_o.png\",\"large\":\"https://images2.imgbox.com/ea/26/DjPDzbZl_o.png\"},\"reddit\":{\"campaign\":\"https://www.reddit.com/r/spacex/comments/sarr7x/rspacex_csg2_campaign_thread/\",\"launch\":\"https://www.reddit.com/r/spacex/comments/sdtz77/rspacex_csg2_launch_discussion_and_updates_thread/\",\"media\":null,\"recovery\":null},\"flickr\":{\"small\":[],\"original\":[\"https://live.staticflickr.com/65535/51856205295_4ec1c21ce3_o.jpg\",\"https://live.staticflickr.com/65535/51854587612_b30f28ede1_o.jpg\",\"https://live.staticflickr.com/65535/51855875789_b27465e1f2_o.jpg\",\"https://live.staticflickr.com/65535/51855546836_710848417a_o.jpg\",\"https://live.staticflickr.com/65535/51855627363_c927574ce4_o.jpg\",\"https://live.staticflickr.com/65535/51854587577_cfe014f0e9_o.jpg\",\"https://live.staticflickr.com/65535/51855875759_a4cdc29fbf_o.jpg\",\"https://live.staticflickr.com/65535/51855546821_7900aed52d_o.jpg\"]},\"presskit\":null,\"webcast\":\"https://youtu.be/AbFoi68L-GQ\",\"youtube_id\":\"AbFoi68L-GQ\",\"article\":\"https://spaceflightnow.com/2022/02/01/italian-radar-satellite-rides-spacex-rocket-into-polar-orbit/\",\"wikipedia\":null},\"static_fire_date_utc\":\"2022-01-23T21:22:00.000Z\",\"static_fire_date_unix\":1642972920,\"net\":false,\"window\":null,\"rocket\":\"5e9d0d95eda69973a809d1ec\",\"success\":true,\"failures\":[],\"details\":\"Falcon 9 launches to sun-synchronous polar orbit from Florida as part of CSG-2 Mission. The mission lifts off from SLC-40, Cape Canaveral on a southward azimuth and performs a dogleg maneuver. The booster for this mission is expected to return to LZ-1 based on FCC communications filings\",\"crew\":[],\"ships\":[],\"capsules\":[],\"payloads\":[\"6161d3a06db1a92bfba8535a\"],\"launchpad\":\"5e9e4501f509094ba4566f84\",\"flight_number\":147,\"name\":\"CSG-2\",\"date_utc\":\"2022-01-31T23:11:12.000Z\",\"date_unix\":1643670672,\"date_local\":\"2022-01-31T18:11:12-05:00\",\"date_precision\":\"hour\",\"upcoming\":false,\"cores\":[{\"core\":\"5e9e28a6f359183c413b265d\",\"flight\":3,\"gridfins\":true,\"legs\":true,\"reused\":true,\"landing_attempt\":true,\"landing_success\":true,\"landing_type\":\"RTLS\",\"landpad\":\"5e9e3032383ecb267a34e7c7\"}],\"auto_update\":false,\"tbd\":false,\"launch_library_id\":\"23229c2b-abb7-4b94-b624-981a9adc88d2\",\"id\":\"6161d32d6db1a92bfba85359\"},{\"fairings\":{\"reused\":null,\"recovery_attempt\":null,\"recovered\":null,\"ships\":[]},\"links\":{\"patch\":{\"small\":\"https://images2.imgbox.com/a8/17/lVuBZTIF_o.png\",\"large\":\"https://images2.imgbox.com/4c/7a/USlzA8r3_o.png\"},\"reddit\":{\"campaign\":null,\"launch\":\"https://www.reddit.com/r/spacex/comments/si3o0y/rspacex_nrol87_launch_discussion_and_updates/\",\"media\":null,\"recovery\":null},\"flickr\":{\"small\":[],\"original\":[\"https://live.staticflickr.com/65535/51860158413_2ebc4d47a4_o.jpg\",\"https://live.staticflickr.com/65535/51860412009_2e15b59fbf_o.jpg\",\"https://live.staticflickr.com/65535/51860158508_793bf779eb_o.jpg\",\"https://live.staticflickr.com/65535/51860411994_584cab0598_o.jpg\",\"https://live.staticflickr.com/65535/51859123422_603c610574_o.jpg\",\"https://live.staticflickr.com/65535/51859122897_637e67a312_o.jpg\",\"https://live.staticflickr.com/65535/51860730685_c8c7f0561e_o.jpg\",\"https://live.staticflickr.com/65535/51859123052_cc5640ef1a_o.jpg\",\"https://live.staticflickr.com/65535/51860412119_8926453a27_o.jpg\"]},\"presskit\":null,\"webcast\":\"https://youtu.be/bVk8XyjhTKo\",\"youtube_id\":\"bVk8XyjhTKo\",\"article\":\"https://spaceflightnow.com/2022/02/02/spacex-launches-classified-nro-satellite-from-vandenberg-space-force-base/\",\"wikipedia\":null},\"static_fire_date_utc\":null,\"static_fire_date_unix\":null,\"net\":false,\"window\":null,\"rocket\":\"5e9d0d95eda69973a809d1ec\",\"success\":true,\"failures\":[],\"details\":null,\"crew\":[],\"ships\":[],\"capsules\":[],\"payloads\":[\"6175aaacefa4314085aa9c56\"],\"launchpad\":\"5e9e4502f509092b78566f87\",\"flight_number\":148,\"name\":\"NROL-87\",\"date_utc\":\"2022-02-02T20:18:00.000Z\",\"date_unix\":1643833080,\"date_local\":\"2022-02-02T12:18:00-08:00\",\"date_precision\":\"hour\",\"upcoming\":false,\"cores\":[{\"core\":\"61fae5947aa67176fe3e0e1e\",\"flight\":1,\"gridfins\":true,\"legs\":true,\"reused\":false,\"landing_attempt\":true,\"landing_success\":true,\"landing_type\":\"RTLS\",\"landpad\":\"5e9e3032383ecb554034e7c9\"}],\"auto_update\":true,\"tbd\":false,\"launch_library_id\":\"2e650790-ff3e-434a-b028-a6a1a13cfc94\",\"id\":\"607a34e35a906a44023e085e\"},{\"fairings\":{\"reused\":null,\"recovery_attempt\":null,\"recovered\":null,\"ships\":[]},\"links\":{\"patch\":{\"small\":\"https://images2.imgbox.com/1c/c9/KfwNHab1_o.png\",\"large\":\"https://images2.imgbox.com/fa/2d/9bZKP4Lb_o.png\"},\"reddit\":{\"campaign\":\"https://www.reddit.com/r/spacex/comments/jhu37i/starlink_general_discussion_and_deployment_thread/\",\"launch\":\"https://www.reddit.com/r/spacex/comments/sfr8l0/rspacex_starlink_47_launch_discussion_and_updates/\",\"media\":null,\"recovery\":\"https://www.reddit.com/r/spacex/comments/k2ts1q/rspacex_fleet_updates_discussion_thread/\"},\"flickr\":{\"small\":[],\"original\":[\"https://live.staticflickr.com/65535/51869166852_83ed7030ff_o.jpg\",\"https://live.staticflickr.com/65535/51870446979_a7af58c55a_o.jpg\",\"https://live.staticflickr.com/65535/51870446669_f94575721f_o.jpg\"]},\"presskit\":null,\"webcast\":\"https://youtu.be/UY3fZ6PwuUY\",\"youtube_id\":\"UY3fZ6PwuUY\",\"article\":\"https://spaceflightnow.com/2022/02/03/spacex-launches-third-falcon-9-rocket-mission-in-three-days/\",\"wikipedia\":\"https://en.wikipedia.org/wiki/Starlink\"},\"static_fire_date_utc\":null,\"static_fire_date_unix\":null,\"net\":false,\"window\":null,\"rocket\":\"5e9d0d95eda69973a809d1ec\",\"success\":true,\"failures\":[],\"details\":null,\"crew\":[],\"ships\":[],\"capsules\":[],\"payloads\":[\"61e05520be8d8b66799018d5\"],\"launchpad\":\"5e9e4502f509094188566f88\",\"flight_number\":149,\"name\":\"Starlink 4-7 (v1.5)\",\"date_utc\":\"2022-02-03T18:13:00.000Z\",\"date_unix\":1643911980,\"date_local\":\"2022-02-03T13:13:00-05:00\",\"date_precision\":\"hour\",\"upcoming\":false,\"cores\":[{\"core\":\"5f57c53d0622a6330279009f\",\"flight\":6,\"gridfins\":true,\"legs\":true,\"reused\":true,\"landing_attempt\":true,\"landing_success\":true,\"landing_type\":\"ASDS\",\"landpad\":\"5e9e3033383ecb075134e7cd\"}],\"auto_update\":true,\"tbd\":false,\"launch_library_id\":\"de39dd1a-0f72-4afd-a6b9-1b848b246071\",\"id\":\"61e048ffbe8d8b66799018d1\"},{\"fairings\":{\"reused\":null,\"recovery_attempt\":null,\"recovered\":null,\"ships\":[]},\"links\":{\"patch\":{\"small\":\"https://images2.imgbox.com/97/24/8byKYtz1_o.png\",\"large\":\"https://images2.imgbox.com/d0/84/kfEJRH1j_o.png\"},\"reddit\":{\"campaign\":\"https://www.reddit.com/r/spacex/comments/jhu37i/starlink_general_discussion_and_deployment_thread/\",\"launch\":\"https://www.reddit.com/r/spacex/comments/sx92uf/rspacex_starlink_48_launch_discussion_and_updates/\",\"media\":null,\"recovery\":\"https://www.reddit.com/r/spacex/comments/k2ts1q/rspacex_fleet_updates_discussion_thread/\"},\"flickr\":{\"small\":[],\"original\":[\"https://live.staticflickr.com/65535/51897183392_ecee950c6f_o.jpg\",\"https://live.staticflickr.com/65535/51898142206_9dd9dd27e1_o.jpg\",\"https://live.staticflickr.com/65535/51897183382_6f6dcf0fb8_o.jpg\"]},\"presskit\":null,\"webcast\":\"https://youtu.be/eiKOMCRymsw\",\"youtube_id\":\"eiKOMCRymsw\",\"article\":\"https://spaceflightnow.com/2022/02/21/spacex-adds-46-more-satellites-to-starlink-fleet/\",\"wikipedia\":\"https://en.wikipedia.org/wiki/Starlink\"},\"static_fire_date_utc\":null,\"static_fire_date_unix\":null,\"net\":false,\"window\":null,\"rocket\":\"5e9d0d95eda69973a809d1ec\",\"success\":true,\"failures\":[],\"details\":null,\"crew\":[],\"ships\":[],\"capsules\":[],\"payloads\":[\"61fc02e1e0dc5662b76489b4\"],\"launchpad\":\"5e9e4501f509094ba4566f84\",\"flight_number\":150,\"name\":\"Starlink 4-8 (v1.5)\",\"date_utc\":\"2022-02-21T14:44:00.000Z\",\"date_unix\":1645454640,\"date_local\":\"2022-02-21T09:44:00-05:00\",\"date_precision\":\"hour\",\"upcoming\":false,\"cores\":[{\"core\":\"5e9e28a7f3591817f23b2663\",\"flight\":11,\"gridfins\":true,\"legs\":true,\"reused\":true,\"landing_attempt\":true,\"landing_success\":true,\"landing_type\":\"ASDS\",\"landpad\":\"5e9e3033383ecb075134e7cd\"}],\"auto_update\":true,\"tbd\":false,\"launch_library_id\":\"398e713f-5daa-4fb9-a70a-0b8654baf5d1\",\"id\":\"61fc01dae0dc5662b76489a7\"},{\"fairings\":{\"reused\":null,\"recovery_attempt\":null,\"recovered\":null,\"ships\":[]},\"links\":{\"patch\":{\"small\":\"https://images2.imgbox.com/4d/6a/Oh3QT4JI_o.png\",\"large\":\"https://images2.imgbox.com/e7/37/bWXhCJ8i_o.png\"},\"reddit\":{\"campaign\":\"https://www.reddit.com/r/spacex/comments/jhu37i/starlink_general_discussion_and_deployment_thread/\",\"launch\":\"https://www.reddit.com/r/spacex/comments/t0yksi/rspacex_starlink_411_launch_discussion_and/\",\"media\":null,\"recovery\":\"https://www.reddit.com/r/spacex/comments/k2ts1q/rspacex_fleet_updates_discussion_thread/\"},\"flickr\":{\"small\":[],\"original\":[\"https://live.staticflickr.com/65535/51903390122_fc0acab37a_o.jpg\",\"https://live.staticflickr.com/65535/51904998190_f8f347c995_o.jpg\",\"https://live.staticflickr.com/65535/51904679574_588b01b22d_o.jpg\"]},\"presskit\":null,\"webcast\":\"https://youtu.be/nnVOfKOzXHE\",\"youtube_id\":\"nnVOfKOzXHE\",\"article\":\"https://spaceflightnow.com/2022/02/25/spacex-deploys-another-batch-of-starlink-satellites/\",\"wikipedia\":\"https://en.wikipedia.org/wiki/Starlink\"},\"static_fire_date_utc\":null,\"static_fire_date_unix\":null,\"net\":false,\"window\":null,\"rocket\":\"5e9d0d95eda69973a809d1ec\",\"success\":true,\"failures\":[],\"details\":null,\"crew\":[],\"ships\":[],\"capsules\":[],\"payloads\":[\"61fc0334e0dc5662b76489b5\"],\"launchpad\":\"5e9e4502f509092b78566f87\",\"flight_number\":151,\"name\":\"Starlink 4-11 (v1.5)\",\"date_utc\":\"2022-02-25T17:12:00.000Z\",\"date_unix\":1645809120,\"date_local\":\"2022-02-25T09:12:00-08:00\",\"date_precision\":\"hour\",\"upcoming\":false,\"cores\":[{\"core\":\"5f57c54a0622a633027900a1\",\"flight\":4,\"gridfins\":true,\"legs\":true,\"reused\":true,\"landing_attempt\":true,\"landing_success\":true,\"landing_type\":\"ASDS\",\"landpad\":\"5e9e3032383ecb6bb234e7ca\"}],\"auto_update\":true,\"tbd\":false,\"launch_library_id\":\"b7b24770-f9dd-40eb-adad-da95e917e55d\",\"id\":\"61fc0203e0dc5662b76489a8\"},{\"fairings\":{\"reused\":null,\"recovery_attempt\":null,\"recovered\":null,\"ships\":[]},\"links\":{\"patch\":{\"small\":\"https://images2.imgbox.com/cd/cf/dbAM1D7F_o.png\",\"large\":\"https://images2.imgbox.com/75/11/KTRZPYiQ_o.png\"},\"reddit\":{\"campaign\":\"https://www.reddit.com/r/spacex/comments/jhu37i/starlink_general_discussion_and_deployment_thread/\",\"launch\":\"https://www.reddit.com/r/spacex/comments/t5lzm9/rspacex_starlink_49_launch_discussion_and_updates/\",\"media\":null,\"recovery\":\"https://www.reddit.com/r/spacex/comments/k2ts1q/rspacex_fleet_updates_discussion_thread/\"},\"flickr\":{\"small\":[],\"original\":[\"https://live.staticflickr.com/65535/51924631989_4e0b26f306_o.jpg\",\"https://live.staticflickr.com/65535/51924934610_296c72bf67_o.jpg\",\"https://live.staticflickr.com/65535/51924933910_9627ae096e_o.jpg\"]},\"presskit\":null,\"webcast\":\"https://youtu.be/ypb2sDdUkRo\",\"youtube_id\":\"ypb2sDdUkRo\",\"article\":\"https://spaceflightnow.com/2022/03/03/after-another-starlink-mission-spacex-on-pace-for-one-launch-per-week-this-year/\",\"wikipedia\":\"https://en.wikipedia.org/wiki/Starlink\"},\"static_fire_date_utc\":null,\"static_fire_date_unix\":null,\"net\":false,\"window\":null,\"rocket\":\"5e9d0d95eda69973a809d1ec\",\"success\":true,\"failures\":[],\"details\":null,\"crew\":[],\"ships\":[],\"capsules\":[],\"payloads\":[\"61fc0379e0dc5662b76489b6\"],\"launchpad\":\"5e9e4502f509094188566f88\",\"flight_number\":152,\"name\":\"Starlink 4-9 (v1.5)\",\"date_utc\":\"2022-03-03T14:35:00.000Z\",\"date_unix\":1646318100,\"date_local\":\"2022-03-03T09:35:00-05:00\",\"date_precision\":\"hour\",\"upcoming\":false,\"cores\":[{\"core\":\"5ef670f10059c33cee4a826c\",\"flight\":11,\"gridfins\":true,\"legs\":true,\"reused\":true,\"landing_attempt\":true,\"landing_success\":true,\"landing_type\":\"ASDS\",\"landpad\":\"5e9e3033383ecbb9e534e7cc\"}],\"auto_update\":true,\"tbd\":false,\"launch_library_id\":\"861795c5-e694-4d3e-b22f-a356a31cd5d8\",\"id\":\"61fc0224e0dc5662b76489ab\"},{\"fairings\":{\"reused\":null,\"recovery_attempt\":null,\"recovered\":null,\"ships\":[]},\"links\":{\"patch\":{\"small\":\"https://images2.imgbox.com/82/8f/qKGTi0s6_o.png\",\"large\":\"https://images2.imgbox.com/16/33/3M4qJ6Fz_o.png\"},\"reddit\":{\"campaign\":\"https://www.reddit.com/r/spacex/comments/jhu37i/starlink_general_discussion_and_deployment_thread/\",\"launch\":\"https://www.reddit.com/r/spacex/comments/t9la7r/rspacex_starlink_410_launch_discussion_and/\",\"media\":null,\"recovery\":\"https://www.reddit.com/r/spacex/comments/k2ts1q/rspacex_fleet_updates_discussion_thread/\"},\"flickr\":{\"small\":[],\"original\":[\"https://live.staticflickr.com/65535/51928220502_1a44139be7_o.jpg\",\"https://live.staticflickr.com/65535/51929288928_46decee5db_o.jpg\",\"https://live.staticflickr.com/65535/51929537589_f03fb8c20a_o.jpg\"]},\"presskit\":null,\"webcast\":\"https://youtu.be/uqAppamdGyo\",\"youtube_id\":\"uqAppamdGyo\",\"article\":\"https://spaceflightnow.com/2022/03/09/spacex-broomstick-launches-40th-starlink-mission/\",\"wikipedia\":\"https://en.wikipedia.org/wiki/Starlink\"},\"static_fire_date_utc\":null,\"static_fire_date_unix\":null,\"net\":false,\"window\":null,\"rocket\":\"5e9d0d95eda69973a809d1ec\",\"success\":true,\"failures\":[],\"details\":null,\"crew\":[],\"ships\":[],\"capsules\":[],\"payloads\":[\"61fc0382e0dc5662b76489b7\"],\"launchpad\":\"5e9e4501f509094ba4566f84\",\"flight_number\":153,\"name\":\"Starlink 4-10 (v1.5)\",\"date_utc\":\"2022-03-09T13:45:00.000Z\",\"date_unix\":1646833500,\"date_local\":\"2022-03-09T08:45:00-05:00\",\"date_precision\":\"hour\",\"upcoming\":false,\"cores\":[{\"core\":\"5e9e28a6f359183c413b265d\",\"flight\":4,\"gridfins\":true,\"legs\":true,\"reused\":true,\"landing_attempt\":true,\"landing_success\":true,\"landing_type\":\"ASDS\",\"landpad\":\"5e9e3033383ecb075134e7cd\"}],\"auto_update\":true,\"tbd\":false,\"launch_library_id\":\"d8c7fbe0-6a32-42dc-8c24-f1c632adc8b5\",\"id\":\"61fc0243e0dc5662b76489ae\"},{\"fairings\":{\"reused\":null,\"recovery_attempt\":null,\"recovered\":null,\"ships\":[]},\"links\":{\"patch\":{\"small\":\"https://images2.imgbox.com/d6/34/IPIyyiUF_o.png\",\"large\":\"https://images2.imgbox.com/4e/d5/Mvzpbdfg_o.png\"},\"reddit\":{\"campaign\":\"https://www.reddit.com/r/spacex/comments/jhu37i/starlink_general_discussion_and_deployment_thread/\",\"launch\":null,\"media\":null,\"recovery\":\"https://www.reddit.com/r/spacex/comments/k2ts1q/rspacex_fleet_updates_discussion_thread/\"},\"flickr\":{\"small\":[],\"original\":[\"https://live.staticflickr.com/65535/51947052831_3b1599cd70_o.jpg\",\"https://live.staticflickr.com/65535/51946071252_b51d6839e9_o.jpg\"]},\"presskit\":null,\"webcast\":\"https://youtu.be/0giA6VZOICs\",\"youtube_id\":\"0giA6VZOICs\",\"article\":\"https://spaceflightnow.com/2022/03/19/spacex-stretches-rocket-reuse-record-with-another-starlink-launch/\",\"wikipedia\":\"https://en.wikipedia.org/wiki/Starlink\"},\"static_fire_date_utc\":null,\"static_fire_date_unix\":null,\"net\":false,\"window\":null,\"rocket\":\"5e9d0d95eda69973a809d1ec\",\"success\":true,\"failures\":[],\"details\":null,\"crew\":[],\"ships\":[],\"capsules\":[],\"payloads\":[\"623491e5f051102e1fcedac9\"],\"launchpad\":\"5e9e4501f509094ba4566f84\",\"flight_number\":154,\"name\":\"Starlink 4-12 (v1.5)\",\"date_utc\":\"2022-03-19T03:24:00.000Z\",\"date_unix\":1647660240,\"date_local\":\"2022-03-18T23:24:00-04:00\",\"date_precision\":\"hour\",\"upcoming\":false,\"cores\":[{\"core\":\"5e9e28a6f35918c0803b265c\",\"flight\":12,\"gridfins\":true,\"legs\":true,\"reused\":true,\"landing_attempt\":true,\"landing_success\":true,\"landing_type\":\"ASDS\",\"landpad\":\"5e9e3033383ecbb9e534e7cc\"}],\"auto_update\":true,\"tbd\":false,\"launch_library_id\":\"72188aca-810d-40b9-887d-43040614dd2c\",\"id\":\"6234908cf051102e1fcedac4\"},{\"fairings\":{\"reused\":null,\"recovery_attempt\":null,\"recovered\":null,\"ships\":[]},\"links\":{\"patch\":{\"small\":\"https://images2.imgbox.com/6f/96/DdGNFAIf_o.png\",\"large\":\"https://images2.imgbox.com/cb/68/qmxOMk8e_o.png\"},\"reddit\":{\"campaign\":null,\"launch\":\"https://www.reddit.com/r/spacex/comments/tt5n43/rspacex_transporter4_launch_discussion_and/\",\"media\":null,\"recovery\":null},\"flickr\":{\"small\":[],\"original\":[\"https://live.staticflickr.com/65535/51981688502_0584ac5658_o.jpg\",\"https://live.staticflickr.com/65535/51982975529_3e1610767a_o.jpg\"]},\"presskit\":null,\"webcast\":\"https://youtu.be/4NqSoHnkKEM\",\"youtube_id\":\"4NqSoHnkKEM\",\"article\":\"https://spaceflightnow.com/2022/04/01/forty-payloads-ride-into-orbit-on-spacex-falcon-9-rocket/\",\"wikipedia\":null},\"static_fire_date_utc\":null,\"static_fire_date_unix\":null,\"net\":false,\"window\":null,\"rocket\":\"5e9d0d95eda69973a809d1ec\",\"success\":true,\"failures\":[],\"details\":null,\"crew\":[],\"ships\":[],\"capsules\":[],\"payloads\":[\"6243af62af52800c6e919260\"],\"launchpad\":\"5e9e4501f509094ba4566f84\",\"flight_number\":155,\"name\":\"Transporter-4\",\"date_utc\":\"2022-04-01T16:24:00.000Z\",\"date_unix\":1648830240,\"date_local\":\"2022-04-01T12:24:00-04:00\",\"date_precision\":\"hour\",\"upcoming\":false,\"cores\":[{\"core\":\"5f57c53d0622a6330279009f\",\"flight\":7,\"gridfins\":true,\"legs\":true,\"reused\":true,\"landing_attempt\":true,\"landing_success\":true,\"landing_type\":\"ASDS\",\"landpad\":\"5e9e3033383ecbb9e534e7cc\"}],\"auto_update\":true,\"tbd\":false,\"launch_library_id\":\"335acce9-a35c-436c-9a22-a2505f20957f\",\"id\":\"6243ad8baf52800c6e919252\"},{\"fairings\":null,\"links\":{\"patch\":{\"small\":\"https://images2.imgbox.com/16/33/EAmegdSP_o.png\",\"large\":\"https://images2.imgbox.com/27/1c/FaWQjihE_o.png\"},\"reddit\":{\"campaign\":\"https://www.reddit.com/r/spacex/comments/t3ez79/axiom1_launch_campaign_thread/\",\"launch\":\"https://www.reddit.com/r/spacex/comments/tyd866/rspacex_axiom1_launch_discussion_and_updates/\",\"media\":null,\"recovery\":null},\"flickr\":{\"small\":[],\"original\":[\"https://live.staticflickr.com/65535/51991997860_fa865513ec_o.jpg\",\"https://live.staticflickr.com/65535/51991997845_85b28ce575_o.jpg\",\"https://live.staticflickr.com/65535/51990441472_e16a9f15ff_o.jpg\",\"https://live.staticflickr.com/65535/51991440466_17111d73b6_o.jpg\",\"https://live.staticflickr.com/65535/51991498488_037537ba40_o.jpg\",\"https://live.staticflickr.com/65535/51991498473_0e62ee3c34_o.jpg\",\"https://live.staticflickr.com/65535/51991440451_209bac2fac_o.jpg\",\"https://live.staticflickr.com/65535/51991997825_345544ff0a_o.jpg\",\"https://live.staticflickr.com/65535/51990441502_7dfa987137_o.jpg\",\"https://live.staticflickr.com/65535/51990441532_e9d53093c6_o.jpg\"]},\"presskit\":null,\"webcast\":\"https://youtu.be/5nLk_Vqp7nw\",\"youtube_id\":\"5nLk_Vqp7nw\",\"article\":null,\"wikipedia\":\"https://en.wikipedia.org/wiki/Axiom_Mission_1\"},\"static_fire_date_utc\":\"2022-04-06T19:13:00.000Z\",\"static_fire_date_unix\":1649272380,\"net\":false,\"window\":null,\"rocket\":\"5e9d0d95eda69973a809d1ec\",\"success\":true,\"failures\":[],\"details\":\"Axiom Mission 1 (or Ax-1) is a planned SpaceX Crew Dragon mission to the International Space Station (ISS), operated by SpaceX on behalf of Axiom Space. The flight will launch no earlier than 31 March 2022 and send four people to the ISS for an eight-day stay\",\"crew\":[\"61eefc9c9eb1064137a1bd77\",\"61eefcf89eb1064137a1bd79\",\"61eefd5b9eb1064137a1bd7a\",\"61eefdbf9eb1064137a1bd7b\"],\"ships\":[\"5ea6ed2e080df4000697c909\"],\"capsules\":[\"5e9e2c5df359188aba3b2676\"],\"payloads\":[\"61eefb129eb1064137a1bd74\"],\"launchpad\":\"5e9e4502f509094188566f88\",\"flight_number\":156,\"name\":\"Ax-1\",\"date_utc\":\"2022-04-08T15:17:00.000Z\",\"date_unix\":1649431020,\"date_local\":\"2022-04-08T11:17:00-04:00\",\"date_precision\":\"hour\",\"upcoming\":false,\"cores\":[{\"core\":\"5f57c5440622a633027900a0\",\"flight\":5,\"gridfins\":true,\"legs\":true,\"reused\":true,\"landing_attempt\":true,\"landing_success\":true,\"landing_type\":\"ASDS\",\"landpad\":\"5e9e3033383ecb075134e7cd\"}],\"auto_update\":true,\"tbd\":false,\"launch_library_id\":\"a3eeb03b-a209-4255-91b5-772dc0d2150e\",\"id\":\"61eefaa89eb1064137a1bd73\"},{\"fairings\":{\"reused\":null,\"recovery_attempt\":null,\"recovered\":null,\"ships\":[]},\"links\":{\"patch\":{\"small\":\"https://images2.imgbox.com/2b/af/npQ6NwKM_o.png\",\"large\":\"https://images2.imgbox.com/aa/64/aThfTk9s_o.png\"},\"reddit\":{\"campaign\":null,\"launch\":null,\"media\":null,\"recovery\":null},\"flickr\":{\"small\":[],\"original\":[\"https://live.staticflickr.com/65535/52013376989_395092fa4c_o.jpg\",\"https://live.staticflickr.com/65535/52013130121_da63eecbec_o.jpg\",\"https://live.staticflickr.com/65535/52013376694_cea1bb1c0b_o.jpg\"]},\"presskit\":null,\"webcast\":\"https://youtu.be/mMcmf1g4qSA\",\"youtube_id\":\"mMcmf1g4qSA\",\"article\":\"https://spaceflightnow.com/2022/04/17/spacex-launches-and-lands-rocket-on-mission-for-national-reconnaissance-office/\",\"wikipedia\":\"https://en.wikipedia.org/wiki/National_Reconnaissance_Office\"},\"static_fire_date_utc\":null,\"static_fire_date_unix\":null,\"net\":false,\"window\":null,\"rocket\":\"5e9d0d95eda69973a809d1ec\",\"success\":true,\"failures\":[],\"details\":null,\"crew\":[],\"ships\":[],\"capsules\":[],\"payloads\":[\"6243b036af52800c6e919262\"],\"launchpad\":\"5e9e4502f509092b78566f87\",\"flight_number\":157,\"name\":\"NROL-85\",\"date_utc\":\"2022-04-17T13:13:00.000Z\",\"date_unix\":1650201180,\"date_local\":\"2022-04-17T06:13:00-07:00\",\"date_precision\":\"hour\",\"upcoming\":false,\"cores\":[{\"core\":\"61fae5947aa67176fe3e0e1e\",\"flight\":2,\"gridfins\":true,\"legs\":true,\"reused\":true,\"landing_attempt\":true,\"landing_success\":true,\"landing_type\":\"RTLS\",\"landpad\":\"5e9e3032383ecb554034e7c9\"}],\"auto_update\":true,\"tbd\":false,\"launch_library_id\":\"42932355-c450-4250-a885-2d2709fd7cfc\",\"id\":\"6243adcaaf52800c6e919254\"},{\"fairings\":{\"reused\":null,\"recovery_attempt\":null,\"recovered\":null,\"ships\":[]},\"links\":{\"patch\":{\"small\":\"https://images2.imgbox.com/60/36/ReA4NxNK_o.png\",\"large\":\"https://images2.imgbox.com/77/16/dxET2a6z_o.png\"},\"reddit\":{\"campaign\":\"https://www.reddit.com/r/spacex/comments/jhu37i/starlink_general_discussion_and_deployment_thread/\",\"launch\":\"https://www.reddit.com/r/spacex/comments/u8hpux/rspacex_starlink_414_launch_discussion_and/\",\"media\":null,\"recovery\":\"https://www.reddit.com/r/spacex/comments/k2ts1q/rspacex_fleet_updates_discussion_thread/\"},\"flickr\":{\"small\":[],\"original\":[]},\"presskit\":null,\"webcast\":\"https://youtu.be/s6yBwQSrtFY\",\"youtube_id\":\"s6yBwQSrtFY\",\"article\":null,\"wikipedia\":\"https://en.wikipedia.org/wiki/Starlink\"},\"static_fire_date_utc\":null,\"static_fire_date_unix\":null,\"net\":false,\"window\":null,\"rocket\":\"5e9d0d95eda69973a809d1ec\",\"success\":true,\"failures\":[],\"details\":null,\"crew\":[],\"ships\":[\"618fad7e563d69573ed8caa9\"],\"capsules\":[],\"payloads\":[\"6243af9faf52800c6e919261\"],\"launchpad\":\"5e9e4501f509094ba4566f84\",\"flight_number\":158,\"name\":\"Starlink 4-14 (v1.5)\",\"date_utc\":\"2022-04-21T15:16:00.000Z\",\"date_unix\":1650554160,\"date_local\":\"2022-04-21T11:16:00-04:00\",\"date_precision\":\"hour\",\"upcoming\":false,\"cores\":[{\"core\":\"5ef670f10059c33cee4a826c\",\"flight\":12,\"gridfins\":true,\"legs\":true,\"reused\":true,\"landing_attempt\":true,\"landing_success\":true,\"landing_type\":\"ASDS\",\"landpad\":\"5e9e3033383ecbb9e534e7cc\"}],\"auto_update\":true,\"tbd\":false,\"launch_library_id\":\"2c5447d7-36c5-40fd-88de-47ed6b258bdb\",\"id\":\"6243ada6af52800c6e919253\"},{\"fairings\":null,\"links\":{\"patch\":{\"small\":\"https://images2.imgbox.com/22/94/l0GVrzr2_o.png\",\"large\":\"https://images2.imgbox.com/8f/ce/drbrg4Ky_o.png\"},\"reddit\":{\"campaign\":\"https://www.reddit.com/r/spacex/comments/u6d5na/rspacex_crew4_campaign_launch_discussion_updates/\",\"launch\":null,\"media\":null,\"recovery\":null},\"flickr\":{\"small\":[],\"original\":[]},\"presskit\":null,\"webcast\":\"https://youtu.be/orN0PaqQECs\",\"youtube_id\":\"orN0PaqQECs\",\"article\":null,\"wikipedia\":\"https://en.wikipedia.org/wiki/SpaceX_Crew-4\"},\"static_fire_date_utc\":\"2022-04-20T14:12:00.000Z\",\"static_fire_date_unix\":1650463920,\"net\":false,\"window\":null,\"rocket\":\"5e9d0d95eda69973a809d1ec\",\"success\":true,\"failures\":[],\"details\":null,\"crew\":[\"6243bc5baf52800c6e919276\",\"6243bcdcaf52800c6e919277\",\"6243bd7baf52800c6e919278\",\"6243bdf8af52800c6e919279\"],\"ships\":[\"614251b711a64135defb3654\"],\"capsules\":[\"62615d180ec008379be596f1\"],\"payloads\":[\"6243b1cdaf52800c6e919265\"],\"launchpad\":\"5e9e4502f509094188566f88\",\"flight_number\":159,\"name\":\"Crew-4\",\"date_utc\":\"2022-04-27T07:52:00.000Z\",\"date_unix\":1651045920,\"date_local\":\"2022-04-27T03:52:00-04:00\",\"date_precision\":\"hour\",\"upcoming\":false,\"cores\":[{\"core\":\"60b800111f83cc1e59f16438\",\"flight\":4,\"gridfins\":true,\"legs\":true,\"reused\":true,\"landing_attempt\":true,\"landing_success\":true,\"landing_type\":\"ASDS\",\"landpad\":\"5e9e3033383ecb075134e7cd\"}],\"auto_update\":true,\"tbd\":false,\"launch_library_id\":\"d786d8fc-862b-45bf-8f7b-9ad862883f67\",\"id\":\"6243ade2af52800c6e919255\"},{\"fairings\":{\"reused\":null,\"recovery_attempt\":null,\"recovered\":null,\"ships\":[]},\"links\":{\"patch\":{\"small\":\"https://images2.imgbox.com/f2/ba/8LUO26uP_o.png\",\"large\":\"https://images2.imgbox.com/17/93/FKLGOiaH_o.png\"},\"reddit\":{\"campaign\":\"https://www.reddit.com/r/spacex/comments/jhu37i/starlink_general_discussion_and_deployment_thread/\",\"launch\":null,\"media\":null,\"recovery\":\"https://www.reddit.com/r/spacex/comments/k2ts1q/rspacex_fleet_updates_discussion_thread/\"},\"flickr\":{\"small\":[],\"original\":[]},\"presskit\":null,\"webcast\":\"https://youtu.be/skNrXnubpwA\",\"youtube_id\":\"skNrXnubpwA\",\"article\":null,\"wikipedia\":\"https://en.wikipedia.org/wiki/Starlink\"},\"static_fire_date_utc\":null,\"static_fire_date_unix\":null,\"net\":false,\"window\":null,\"rocket\":\"5e9d0d95eda69973a809d1ec\",\"success\":true,\"failures\":[],\"details\":null,\"crew\":[],\"ships\":[],\"capsules\":[],\"payloads\":[\"62582aa55988f159024b964d\"],\"launchpad\":\"5e9e4501f509094ba4566f84\",\"flight_number\":160,\"name\":\"Starlink 4-16 (v1.5)\",\"date_utc\":\"2022-04-29T21:27:00.000Z\",\"date_unix\":1651267620,\"date_local\":\"2022-04-29T17:27:00-04:00\",\"date_precision\":\"hour\",\"upcoming\":false,\"cores\":[{\"core\":\"5f57c5440622a633027900a0\",\"flight\":6,\"gridfins\":true,\"legs\":true,\"reused\":true,\"landing_attempt\":true,\"landing_success\":true,\"landing_type\":\"ASDS\",\"landpad\":\"5e9e3033383ecbb9e534e7cc\"}],\"auto_update\":true,\"tbd\":false,\"launch_library_id\":\"b79a9332-4c0c-42a2-a59b-aafcd5d4721d\",\"id\":\"62582a6f5988f159024b964b\"},{\"fairings\":{\"reused\":null,\"recovery_attempt\":null,\"recovered\":null,\"ships\":[]},\"links\":{\"patch\":{\"small\":\"https://images2.imgbox.com/1c/64/JbkoahWh_o.png\",\"large\":\"https://images2.imgbox.com/c3/f5/xpg9K0hk_o.png\"},\"reddit\":{\"campaign\":\"https://www.reddit.com/r/spacex/comments/jhu37i/starlink_general_discussion_and_deployment_thread/\",\"launch\":\"https://www.reddit.com/r/spacex/comments/uj5ina/rspacex_starlink_417_launch_discussion_and/\",\"media\":null,\"recovery\":\"https://www.reddit.com/r/spacex/comments/k2ts1q/rspacex_fleet_updates_discussion_thread/\"},\"flickr\":{\"small\":[],\"original\":[]},\"presskit\":null,\"webcast\":\"https://youtu.be/KzpVUXxdc68\",\"youtube_id\":\"KzpVUXxdc68\",\"article\":null,\"wikipedia\":null},\"static_fire_date_utc\":null,\"static_fire_date_unix\":null,\"net\":false,\"window\":null,\"rocket\":\"5e9d0d95eda69973a809d1ec\",\"success\":true,\"failures\":[],\"details\":null,\"crew\":[],\"ships\":[],\"capsules\":[],\"payloads\":[\"62582aad5988f159024b964e\"],\"launchpad\":\"5e9e4502f509094188566f88\",\"flight_number\":161,\"name\":\"Starlink 4-17 (v1.5)\",\"date_utc\":\"2022-05-06T09:42:00.000Z\",\"date_unix\":1651830120,\"date_local\":\"2022-05-06T05:42:00-04:00\",\"date_precision\":\"hour\",\"upcoming\":false,\"cores\":[{\"core\":\"5e9e28a7f3591817f23b2663\",\"flight\":12,\"gridfins\":true,\"legs\":true,\"reused\":true,\"landing_attempt\":true,\"landing_success\":true,\"landing_type\":\"ASDS\",\"landpad\":\"5e9e3033383ecb075134e7cd\"}],\"auto_update\":true,\"tbd\":false,\"launch_library_id\":\"4f25c927-6a49-4472-814f-4f1a20d93604\",\"id\":\"62582a855988f159024b964c\"},{\"fairings\":{\"reused\":null,\"recovery_attempt\":null,\"recovered\":null,\"ships\":[]},\"links\":{\"patch\":{\"small\":\"https://images2.imgbox.com/46/a4/j5tV5LLx_o.png\",\"large\":\"https://images2.imgbox.com/45/88/6grEBZra_o.png\"},\"reddit\":{\"campaign\":\"https://www.reddit.com/r/spacex/comments/jhu37i/starlink_general_discussion_and_deployment_thread/\",\"launch\":null,\"media\":null,\"recovery\":\"https://www.reddit.com/r/spacex/comments/k2ts1q/rspacex_fleet_updates_discussion_thread/\"},\"flickr\":{\"small\":[],\"original\":[]},\"presskit\":null,\"webcast\":\"https://youtu.be/bG6AwvGPd-E\",\"youtube_id\":\"bG6AwvGPd-E\",\"article\":null,\"wikipedia\":null},\"static_fire_date_utc\":null,\"static_fire_date_unix\":null,\"net\":false,\"window\":null,\"rocket\":\"5e9d0d95eda69973a809d1ec\",\"success\":true,\"failures\":[],\"details\":null,\"crew\":[],\"ships\":[],\"capsules\":[],\"payloads\":[\"625829d75988f159024b9649\"],\"launchpad\":\"5e9e4502f509092b78566f87\",\"flight_number\":162,\"name\":\"Starlink 4-13 (v1.5)\",\"date_utc\":\"2022-05-13T22:07:00.000Z\",\"date_unix\":1652479620,\"date_local\":\"2022-05-13T15:07:00-07:00\",\"date_precision\":\"hour\",\"upcoming\":false,\"cores\":[{\"core\":\"5f57c54a0622a633027900a1\",\"flight\":5,\"gridfins\":true,\"legs\":true,\"reused\":true,\"landing_attempt\":true,\"landing_success\":true,\"landing_type\":\"ASDS\",\"landpad\":\"5e9e3032383ecb6bb234e7ca\"}],\"auto_update\":true,\"tbd\":false,\"launch_library_id\":\"0bc91464-1d61-4545-95c8-01040dc5eec9\",\"id\":\"6258290d5988f159024b9644\"},{\"fairings\":{\"reused\":null,\"recovery_attempt\":null,\"recovered\":null,\"ships\":[]},\"links\":{\"patch\":{\"small\":\"https://images2.imgbox.com/45/9f/Na8zs6V4_o.png\",\"large\":\"https://images2.imgbox.com/13/f0/tUIAS2tH_o.png\"},\"reddit\":{\"campaign\":\"https://www.reddit.com/r/spacex/comments/jhu37i/starlink_general_discussion_and_deployment_thread/\",\"launch\":\"https://www.reddit.com/r/spacex/comments/upk6t3/rspacex_starlink_415_launch_discussion_and/\",\"media\":null,\"recovery\":\"https://www.reddit.com/r/spacex/comments/k2ts1q/rspacex_fleet_updates_discussion_thread/\"},\"flickr\":{\"small\":[],\"original\":[]},\"presskit\":null,\"webcast\":\"https://youtu.be/nFDkWL2Hmh8\",\"youtube_id\":\"nFDkWL2Hmh8\",\"article\":null,\"wikipedia\":null},\"static_fire_date_utc\":null,\"static_fire_date_unix\":null,\"net\":false,\"window\":null,\"rocket\":\"5e9d0d95eda69973a809d1ec\",\"success\":true,\"failures\":[],\"details\":null,\"crew\":[],\"ships\":[],\"capsules\":[],\"payloads\":[\"625829cf5988f159024b9648\"],\"launchpad\":\"5e9e4501f509094ba4566f84\",\"flight_number\":163,\"name\":\"Starlink 4-15 (v1.5)\",\"date_utc\":\"2022-05-14T20:40:00.000Z\",\"date_unix\":1652560800,\"date_local\":\"2022-05-14T16:40:00-04:00\",\"date_precision\":\"hour\",\"upcoming\":false,\"cores\":[{\"core\":\"627843db57b51b752c5c5a54\",\"flight\":1,\"gridfins\":true,\"legs\":true,\"reused\":false,\"landing_attempt\":true,\"landing_success\":true,\"landing_type\":\"ASDS\",\"landpad\":\"5e9e3033383ecbb9e534e7cc\"}],\"auto_update\":true,\"tbd\":false,\"launch_library_id\":\"b418d984-a9d1-4fa3-953d-c684a079714c\",\"id\":\"625828f25988f159024b9643\"},{\"fairings\":{\"reused\":null,\"recovery_attempt\":null,\"recovered\":null,\"ships\":[]},\"links\":{\"patch\":{\"small\":\"https://images2.imgbox.com/b8/49/OVeV3xJg_o.png\",\"large\":\"https://images2.imgbox.com/60/48/jFYGyCf9_o.png\"},\"reddit\":{\"campaign\":\"https://www.reddit.com/r/spacex/comments/jhu37i/starlink_general_discussion_and_deployment_thread/\",\"launch\":\"https://www.reddit.com/r/spacex/comments/urv8l4/rspacex_starlink_418_launch_discussion_and/\",\"media\":null,\"recovery\":\"https://www.reddit.com/r/spacex/comments/k2ts1q/rspacex_fleet_updates_discussion_thread/\"},\"flickr\":{\"small\":[],\"original\":[]},\"presskit\":null,\"webcast\":\"https://youtu.be/dQTgX40R-IQ\",\"youtube_id\":\"dQTgX40R-IQ\",\"article\":null,\"wikipedia\":null},\"static_fire_date_utc\":null,\"static_fire_date_unix\":null,\"net\":false,\"window\":null,\"rocket\":\"5e9d0d95eda69973a809d1ec\",\"success\":true,\"failures\":[],\"details\":null,\"crew\":[],\"ships\":[],\"capsules\":[],\"payloads\":[\"62615ee40ec008379be596fd\"],\"launchpad\":\"5e9e4502f509094188566f88\",\"flight_number\":164,\"name\":\"Starlink 4-18 (v1.5)\",\"date_utc\":\"2022-05-18T10:40:00.000Z\",\"date_unix\":1652870400,\"date_local\":\"2022-05-18T06:40:00-04:00\",\"date_precision\":\"hour\",\"upcoming\":false,\"cores\":[{\"core\":\"5e9e28a6f359183c413b265d\",\"flight\":5,\"gridfins\":true,\"legs\":true,\"reused\":true,\"landing_attempt\":true,\"landing_success\":true,\"landing_type\":\"ASDS\",\"landpad\":\"5e9e3033383ecb075134e7cd\"}],\"auto_update\":true,\"tbd\":false,\"launch_library_id\":\"27795b91-eb0e-43f1-898b-a23d9ff332db\",\"id\":\"62615ebc0ec008379be596fa\"},{\"fairings\":{\"reused\":null,\"recovery_attempt\":null,\"recovered\":null,\"ships\":[]},\"links\":{\"patch\":{\"small\":\"https://images2.imgbox.com/fc/73/QpGKqpvV_o.png\",\"large\":\"https://images2.imgbox.com/a1/0b/Hj2nGHdQ_o.png\"},\"reddit\":{\"campaign\":null,\"launch\":\"https://www.reddit.com/r/spacex/comments/uxafkb/rspacex_transporter5_launch_discussion_and/\",\"media\":null,\"recovery\":null},\"flickr\":{\"small\":[],\"original\":[]},\"presskit\":null,\"webcast\":\"https://youtu.be/KHt3MyimuqU\",\"youtube_id\":\"KHt3MyimuqU\",\"article\":null,\"wikipedia\":null},\"static_fire_date_utc\":null,\"static_fire_date_unix\":null,\"net\":false,\"window\":null,\"rocket\":\"5e9d0d95eda69973a809d1ec\",\"success\":true,\"failures\":[],\"details\":null,\"crew\":[],\"ships\":[],\"capsules\":[],\"payloads\":[\"6243b39daf52800c6e919267\"],\"launchpad\":\"5e9e4501f509094ba4566f84\",\"flight_number\":165,\"name\":\"Transporter-5\",\"date_utc\":\"2022-05-25T18:27:00.000Z\",\"date_unix\":1653503220,\"date_local\":\"2022-05-25T14:27:00-04:00\",\"date_precision\":\"hour\",\"upcoming\":false,\"cores\":[{\"core\":\"5f57c53d0622a6330279009f\",\"flight\":8,\"gridfins\":true,\"legs\":true,\"reused\":true,\"landing_attempt\":true,\"landing_success\":true,\"landing_type\":\"RTLS\",\"landpad\":\"5e9e3032383ecb267a34e7c7\"}],\"auto_update\":true,\"tbd\":false,\"launch_library_id\":\"949421ac-3802-499b-b383-d8274de7e147\",\"id\":\"6243ae24af52800c6e919258\"},{\"fairings\":{\"reused\":null,\"recovery_attempt\":null,\"recovered\":null,\"ships\":[]},\"links\":{\"patch\":{\"small\":\"https://images2.imgbox.com/6d/f7/ZJKXRNzL_o.png\",\"large\":\"https://images2.imgbox.com/32/10/Mb5CLqt8_o.png\"},\"reddit\":{\"campaign\":null,\"launch\":\"https://www.reddit.com/r/spacex/comments/v7hxph/rspacex_nilesat_301_launch_discussion_and_updates/\",\"media\":null,\"recovery\":null},\"flickr\":{\"small\":[],\"original\":[]},\"presskit\":null,\"webcast\":\"https://youtu.be/UpCZu89zb5Y\",\"youtube_id\":\"UpCZu89zb5Y\",\"article\":null,\"wikipedia\":\"https://en.wikipedia.org/wiki/Nilesat\"},\"static_fire_date_utc\":null,\"static_fire_date_unix\":null,\"net\":false,\"window\":null,\"rocket\":\"5e9d0d95eda69973a809d1ec\",\"success\":true,\"failures\":[],\"details\":null,\"crew\":[],\"ships\":[],\"capsules\":[],\"payloads\":[\"6243b286af52800c6e919266\"],\"launchpad\":\"5e9e4501f509094ba4566f84\",\"flight_number\":166,\"name\":\"Nilesat-301\",\"date_utc\":\"2022-06-08T21:04:00.000Z\",\"date_unix\":1654722240,\"date_local\":\"2022-06-08T17:04:00-04:00\",\"date_precision\":\"hour\",\"upcoming\":false,\"cores\":[{\"core\":\"5f57c5440622a633027900a0\",\"flight\":7,\"gridfins\":true,\"legs\":true,\"reused\":true,\"landing_attempt\":true,\"landing_success\":true,\"landing_type\":\"ASDS\",\"landpad\":\"5e9e3033383ecbb9e534e7cc\"}],\"auto_update\":true,\"tbd\":false,\"launch_library_id\":\"62fb58f6-1d43-4b24-862f-6ac5bee5f723\",\"id\":\"6243ae0aaf52800c6e919257\"},{\"fairings\":{\"reused\":null,\"recovery_attempt\":null,\"recovered\":null,\"ships\":[]},\"links\":{\"patch\":{\"small\":\"https://images2.imgbox.com/ea/40/slQKbK6Y_o.png\",\"large\":\"https://images2.imgbox.com/24/85/xcpbpqqZ_o.png\"},\"reddit\":{\"campaign\":\"https://www.reddit.com/r/spacex/comments/jhu37i/starlink_general_discussion_and_deployment_thread/\",\"launch\":\"https://www.reddit.com/r/spacex/comments/vdue2y/rspacex_starlink_419_launch_discussion_and/\",\"media\":null,\"recovery\":\"https://www.reddit.com/r/spacex/comments/k2ts1q/rspacex_fleet_updates_discussion_thread/\"},\"flickr\":{\"small\":[],\"original\":[]},\"presskit\":null,\"webcast\":\"https://youtu.be/oCN-BMU9-hM\",\"youtube_id\":\"oCN-BMU9-hM\",\"article\":null,\"wikipedia\":null},\"static_fire_date_utc\":null,\"static_fire_date_unix\":null,\"net\":false,\"window\":null,\"rocket\":\"5e9d0d95eda69973a809d1ec\",\"success\":true,\"failures\":[],\"details\":null,\"crew\":[],\"ships\":[],\"capsules\":[],\"payloads\":[\"6278484e57b51b752c5c5a63\"],\"launchpad\":\"5e9e4502f509094188566f88\",\"flight_number\":167,\"name\":\"Starlink 4-19 (v1.5)\",\"date_utc\":\"2022-06-01T17:08:50.000Z\",\"date_unix\":1654103330,\"date_local\":\"2022-06-01T13:08:50-04:00\",\"date_precision\":\"hour\",\"upcoming\":false,\"cores\":[{\"core\":\"5ef670f10059c33cee4a826c\",\"flight\":13,\"gridfins\":true,\"legs\":true,\"reused\":true,\"landing_attempt\":true,\"landing_success\":true,\"landing_type\":\"ASDS\",\"landpad\":\"5e9e3033383ecb075134e7cd\"}],\"auto_update\":true,\"tbd\":false,\"launch_library_id\":\"179789f0-9380-4182-8ea2-676504c2f890\",\"id\":\"6278481757b51b752c5c5a5f\"},{\"fairings\":{\"reused\":null,\"recovery_attempt\":null,\"recovered\":null,\"ships\":[]},\"links\":{\"patch\":{\"small\":\"https://images2.imgbox.com/c4/49/D1B0f2cg_o.png\",\"large\":\"https://images2.imgbox.com/9e/a6/Vc7LrFG8_o.png\"},\"reddit\":{\"campaign\":null,\"launch\":\"https://www.reddit.com/r/spacex/comments/vf0x9v/rspacex_sarah1_launch_discussion_and_updates/\",\"media\":null,\"recovery\":\"https://www.reddit.com/r/spacex/comments/k2ts1q/rspacex_fleet_updates_discussion_thread/\"},\"flickr\":{\"small\":[],\"original\":[]},\"presskit\":null,\"webcast\":\"https://youtu.be/lCX-KUCn4A4\",\"youtube_id\":\"lCX-KUCn4A4\",\"article\":null,\"wikipedia\":null},\"static_fire_date_utc\":null,\"static_fire_date_unix\":null,\"net\":false,\"window\":null,\"rocket\":\"5e9d0d95eda69973a809d1ec\",\"success\":true,\"failures\":[],\"details\":null,\"crew\":[],\"ships\":[],\"capsules\":[],\"payloads\":[\"5fe3b2abb3467846b3242172\"],\"launchpad\":\"5e9e4502f509092b78566f87\",\"flight_number\":168,\"name\":\"SARah 1\",\"date_utc\":\"2022-06-18T14:19:00.000Z\",\"date_unix\":1655561940,\"date_local\":\"2022-06-18T07:19:00-07:00\",\"date_precision\":\"hour\",\"upcoming\":false,\"cores\":[{\"core\":\"61fae5947aa67176fe3e0e1e\",\"flight\":3,\"gridfins\":true,\"legs\":true,\"reused\":true,\"landing_attempt\":true,\"landing_success\":true,\"landing_type\":\"RTLS\",\"landpad\":\"5e9e3032383ecb554034e7c9\"}],\"auto_update\":true,\"tbd\":false,\"launch_library_id\":\"4ca945f6-981f-4ee9-8a79-f1204b785f8c\",\"id\":\"5fe3af43b3467846b324215e\"},{\"fairings\":{\"reused\":null,\"recovery_attempt\":null,\"recovered\":null,\"ships\":[]},\"links\":{\"patch\":{\"small\":\"https://images2.imgbox.com/8b/bd/1cZPPs46_o.png\",\"large\":\"https://images2.imgbox.com/3c/8b/Ck1Ona0s_o.png\"},\"reddit\":{\"campaign\":null,\"launch\":\"https://www.reddit.com/r/spacex/comments/vfcq6f/rspacex_globalstar_fm15_launch_discussion_and/\",\"media\":null,\"recovery\":null},\"flickr\":{\"small\":[],\"original\":[]},\"presskit\":null,\"webcast\":\"https://youtu.be/94cClvOFWH4\",\"youtube_id\":\"94cClvOFWH4\",\"article\":null,\"wikipedia\":\"https://en.wikipedia.org/wiki/Globalstar\"},\"static_fire_date_utc\":null,\"static_fire_date_unix\":null,\"net\":false,\"window\":null,\"rocket\":\"5e9d0d95eda69973a809d1ec\",\"success\":true,\"failures\":[],\"details\":null,\"crew\":[],\"ships\":[],\"capsules\":[],\"payloads\":[\"62adecbcd26f4f711fa53848\"],\"launchpad\":\"5e9e4501f509094ba4566f84\",\"flight_number\":169,\"name\":\"Globalstar FM15\",\"date_utc\":\"2022-06-19T04:27:00.000Z\",\"date_unix\":1655612820,\"date_local\":\"2022-06-19T00:27:00-04:00\",\"date_precision\":\"hour\",\"upcoming\":false,\"cores\":[{\"core\":\"5f57c53d0622a6330279009f\",\"flight\":9,\"gridfins\":true,\"legs\":true,\"reused\":true,\"landing_attempt\":true,\"landing_success\":true,\"landing_type\":\"ASDS\",\"landpad\":\"5e9e3033383ecbb9e534e7cc\"}],\"auto_update\":true,\"tbd\":false,\"launch_library_id\":\"33223258-614c-449c-8af7-a9f75cc036b2\",\"id\":\"62a9f08b20413d2695d88711\"},{\"fairings\":{\"reused\":null,\"recovery_attempt\":null,\"recovered\":null,\"ships\":[]},\"links\":{\"patch\":{\"small\":\"https://images2.imgbox.com/32/84/oJzvzmvd_o.jpg\",\"large\":\"https://images2.imgbox.com/c8/1c/MnTYr16O_o.jpg\"},\"reddit\":{\"campaign\":null,\"launch\":\"https://www.reddit.com/r/spacex/comments/vnc3uu/rspacex_ses22_launch_discussion_and_updates_thread/\",\"media\":null,\"recovery\":null},\"flickr\":{\"small\":[],\"original\":[]},\"presskit\":null,\"webcast\":\"https://youtu.be/ZjUvXWg2_fE\",\"youtube_id\":\"ZjUvXWg2_fE\",\"article\":null,\"wikipedia\":null},\"static_fire_date_utc\":null,\"static_fire_date_unix\":null,\"net\":false,\"window\":null,\"rocket\":\"5e9d0d95eda69973a809d1ec\",\"success\":true,\"failures\":[],\"details\":null,\"crew\":[],\"ships\":[],\"capsules\":[],\"payloads\":[\"6243b93caf52800c6e91926f\"],\"launchpad\":\"5e9e4501f509094ba4566f84\",\"flight_number\":170,\"name\":\"SES-22\",\"date_utc\":\"2022-06-29T21:04:00.000Z\",\"date_unix\":1656536640,\"date_local\":\"2022-06-29T17:04:00-04:00\",\"date_precision\":\"hour\",\"upcoming\":false,\"cores\":[{\"core\":\"627843db57b51b752c5c5a54\",\"flight\":2,\"gridfins\":true,\"legs\":true,\"reused\":true,\"landing_attempt\":true,\"landing_success\":true,\"landing_type\":\"ASDS\",\"landpad\":\"5e9e3033383ecb075134e7cd\"}],\"auto_update\":true,\"tbd\":false,\"launch_library_id\":\"86a3010e-f8ef-4b64-a029-f4f92829772d\",\"id\":\"6243aea5af52800c6e91925c\"},{\"fairings\":{\"reused\":null,\"recovery_attempt\":null,\"recovered\":null,\"ships\":[]},\"links\":{\"patch\":{\"small\":\"https://images2.imgbox.com/b4/ad/i3KVeFRA_o.png\",\"large\":\"https://images2.imgbox.com/4a/e6/kCnNdivV_o.png\"},\"reddit\":{\"campaign\":\"https://www.reddit.com/r/spacex/comments/jhu37i/starlink_general_discussion_and_deployment_thread/\",\"launch\":\"https://www.reddit.com/r/spacex/comments/vsz5s5/rspacex_starlink_421_launch_discussion_and/\",\"media\":null,\"recovery\":\"https://www.reddit.com/r/spacex/comments/k2ts1q/rspacex_fleet_updates_discussion_thread/\"},\"flickr\":{\"small\":[],\"original\":[]},\"presskit\":null,\"webcast\":\"https://youtu.be/u_A7xdnVllM\",\"youtube_id\":\"u_A7xdnVllM\",\"article\":null,\"wikipedia\":null},\"static_fire_date_utc\":null,\"static_fire_date_unix\":null,\"net\":false,\"window\":null,\"rocket\":\"5e9d0d95eda69973a809d1ec\",\"success\":true,\"failures\":[],\"details\":null,\"crew\":[],\"ships\":[],\"capsules\":[],\"payloads\":[\"630bccc6d36448026ab01639\"],\"launchpad\":\"5e9e4501f509094ba4566f84\",\"flight_number\":171,\"name\":\"Starlink 4-21 (v1.5)\",\"date_utc\":\"2022-07-07T13:11:00.000Z\",\"date_unix\":1657199460,\"date_local\":\"2022-07-07T09:11:00-04:00\",\"date_precision\":\"hour\",\"upcoming\":false,\"cores\":[{\"core\":\"5e9e28a7f3591817f23b2663\",\"flight\":13,\"gridfins\":true,\"legs\":true,\"reused\":true,\"landing_attempt\":true,\"landing_success\":true,\"landing_type\":\"ASDS\",\"landpad\":\"5e9e3033383ecbb9e534e7cc\"}],\"auto_update\":true,\"tbd\":false,\"launch_library_id\":\"ac4ce8e1-fd76-4654-8809-5500ba792a8a\",\"id\":\"62a9f0c920413d2695d88712\"},{\"fairings\":{\"reused\":null,\"recovery_attempt\":null,\"recovered\":null,\"ships\":[]},\"links\":{\"patch\":{\"small\":\"https://images2.imgbox.com/8a/bc/C3bBWOQN_o.png\",\"large\":\"https://images2.imgbox.com/e6/b5/PT6yjfOt_o.png\"},\"reddit\":{\"campaign\":\"https://www.reddit.com/r/spacex/comments/jhu37i/starlink_general_discussion_and_deployment_thread/\",\"launch\":\"https://www.reddit.com/r/spacex/comments/vvwx9k/rspacex_starlink_31_launch_discussion_and_updates/\",\"media\":null,\"recovery\":\"https://www.reddit.com/r/spacex/comments/k2ts1q/rspacex_fleet_updates_discussion_thread/\"},\"flickr\":{\"small\":[],\"original\":[]},\"presskit\":null,\"webcast\":\"https://youtu.be/_c738Z_zQR0\",\"youtube_id\":\"_c738Z_zQR0\",\"article\":null,\"wikipedia\":null},\"static_fire_date_utc\":null,\"static_fire_date_unix\":null,\"net\":false,\"window\":null,\"rocket\":\"5e9d0d95eda69973a809d1ec\",\"success\":null,\"failures\":[],\"details\":null,\"crew\":[],\"ships\":[],\"capsules\":[],\"payloads\":[\"630bccd6d36448026ab0163a\"],\"launchpad\":\"5e9e4502f509092b78566f87\",\"flight_number\":172,\"name\":\"Starlink 3-1 (v1.5)\",\"date_utc\":\"2022-07-11T01:39:00.000Z\",\"date_unix\":1657503540,\"date_local\":\"2022-07-10T18:39:00-07:00\",\"date_precision\":\"hour\",\"upcoming\":false,\"cores\":[{\"core\":\"5f57c54a0622a633027900a1\",\"flight\":6,\"gridfins\":true,\"legs\":true,\"reused\":true,\"landing_attempt\":true,\"landing_success\":true,\"landing_type\":\"ASDS\",\"landpad\":\"5e9e3032383ecb6bb234e7ca\"}],\"auto_update\":true,\"tbd\":false,\"launch_library_id\":\"051c4c90-a89d-4a86-a77f-c7e22b9cb458\",\"id\":\"62a9f0e320413d2695d88713\"},{\"fairings\":null,\"links\":{\"patch\":{\"small\":\"https://images2.imgbox.com/4a/8a/XVjJ2BKD_o.png\",\"large\":\"https://images2.imgbox.com/80/e2/15AFwnRv_o.png\"},\"reddit\":{\"campaign\":null,\"launch\":\"https://www.reddit.com/r/spacex/comments/vyw3eo/rspacex_crs25_launch_discussion_and_updates_thread/\",\"media\":null,\"recovery\":null},\"flickr\":{\"small\":[],\"original\":[]},\"presskit\":null,\"webcast\":\"https://youtu.be/mnowEqqMiFs\",\"youtube_id\":\"mnowEqqMiFs\",\"article\":null,\"wikipedia\":null},\"static_fire_date_utc\":null,\"static_fire_date_unix\":null,\"net\":false,\"window\":null,\"rocket\":\"5e9d0d95eda69973a809d1ec\",\"success\":true,\"failures\":[],\"details\":null,\"crew\":[],\"ships\":[],\"capsules\":[],\"payloads\":[\"6243b835af52800c6e91926d\"],\"launchpad\":\"5e9e4502f509094188566f88\",\"flight_number\":173,\"name\":\"CRS-25\",\"date_utc\":\"2022-07-15T00:44:00.000Z\",\"date_unix\":1657845840,\"date_local\":\"2022-07-14T20:44:00-04:00\",\"date_precision\":\"hour\",\"upcoming\":false,\"cores\":[{\"core\":\"60b800111f83cc1e59f16438\",\"flight\":5,\"gridfins\":true,\"legs\":true,\"reused\":true,\"landing_attempt\":true,\"landing_success\":true,\"landing_type\":\"ASDS\",\"landpad\":\"5e9e3033383ecb075134e7cd\"}],\"auto_update\":true,\"tbd\":false,\"launch_library_id\":\"2773613e-58eb-4b99-8120-595c92aa3390\",\"id\":\"6243ae40af52800c6e919259\"},{\"fairings\":{\"reused\":null,\"recovery_attempt\":null,\"recovered\":null,\"ships\":[]},\"links\":{\"patch\":{\"small\":\"https://images2.imgbox.com/ba/9b/INF3SG3k_o.png\",\"large\":\"https://images2.imgbox.com/32/8f/HPsvsuG9_o.png\"},\"reddit\":{\"campaign\":\"https://www.reddit.com/r/spacex/comments/jhu37i/starlink_general_discussion_and_deployment_thread/\",\"launch\":null,\"media\":null,\"recovery\":\"https://www.reddit.com/r/spacex/comments/k2ts1q/rspacex_fleet_updates_discussion_thread/\"},\"flickr\":{\"small\":[],\"original\":[]},\"presskit\":null,\"webcast\":\"https://youtu.be/7VWcjgYfJ9U\",\"youtube_id\":\"7VWcjgYfJ9U\",\"article\":null,\"wikipedia\":null},\"static_fire_date_utc\":null,\"static_fire_date_unix\":null,\"net\":false,\"window\":null,\"rocket\":\"5e9d0d95eda69973a809d1ec\",\"success\":true,\"failures\":[],\"details\":null,\"crew\":[],\"ships\":[],\"capsules\":[],\"payloads\":[\"630bce10d36448026ab0163b\"],\"launchpad\":\"5e9e4501f509094ba4566f84\",\"flight_number\":174,\"name\":\"Starlink 4-22 (v1.5)\",\"date_utc\":\"2022-07-17T14:50:00.000Z\",\"date_unix\":1658069400,\"date_local\":\"2022-07-17T10:50:00-04:00\",\"date_precision\":\"hour\",\"upcoming\":false,\"cores\":[{\"core\":\"5e9e28a6f35918c0803b265c\",\"flight\":13,\"gridfins\":true,\"legs\":true,\"reused\":true,\"landing_attempt\":true,\"landing_success\":true,\"landing_type\":\"ASDS\",\"landpad\":\"5e9e3033383ecbb9e534e7cc\"}],\"auto_update\":true,\"tbd\":false,\"launch_library_id\":\"84f9bbdd-0e2c-468e-b1d0-73d640745c13\",\"id\":\"62a9f0f820413d2695d88714\"},{\"fairings\":{\"reused\":null,\"recovery_attempt\":null,\"recovered\":null,\"ships\":[]},\"links\":{\"patch\":{\"small\":\"https://images2.imgbox.com/74/7b/F8vvXC49_o.png\",\"large\":\"https://images2.imgbox.com/a4/4e/55EPx43e_o.png\"},\"reddit\":{\"campaign\":\"https://www.reddit.com/r/spacex/comments/jhu37i/starlink_general_discussion_and_deployment_thread/\",\"launch\":null,\"media\":null,\"recovery\":\"https://www.reddit.com/r/spacex/comments/k2ts1q/rspacex_fleet_updates_discussion_thread/\"},\"flickr\":{\"small\":[],\"original\":[]},\"presskit\":null,\"webcast\":\"https://youtu.be/BuXdtORWrpg\",\"youtube_id\":\"BuXdtORWrpg\",\"article\":null,\"wikipedia\":null},\"static_fire_date_utc\":null,\"static_fire_date_unix\":null,\"net\":false,\"window\":null,\"rocket\":\"5e9d0d95eda69973a809d1ec\",\"success\":true,\"failures\":[],\"details\":null,\"crew\":[],\"ships\":[],\"capsules\":[],\"payloads\":[\"630bce49d36448026ab0163c\"],\"launchpad\":\"5e9e4502f509092b78566f87\",\"flight_number\":175,\"name\":\"Starlink 3-2 (v1.5)\",\"date_utc\":\"2022-07-21T17:13:00.000Z\",\"date_unix\":1658423580,\"date_local\":\"2022-07-21T10:13:00-07:00\",\"date_precision\":\"hour\",\"upcoming\":false,\"cores\":[{\"core\":\"61fae5947aa67176fe3e0e1e\",\"flight\":4,\"gridfins\":true,\"legs\":true,\"reused\":true,\"landing_attempt\":true,\"landing_success\":true,\"landing_type\":\"ASDS\",\"landpad\":\"5e9e3032383ecb6bb234e7ca\"}],\"auto_update\":true,\"tbd\":false,\"launch_library_id\":\"4ddf282b-94a1-418e-b3f6-7d8e753fdfec\",\"id\":\"62a9f10b20413d2695d88715\"},{\"fairings\":{\"reused\":null,\"recovery_attempt\":null,\"recovered\":null,\"ships\":[]},\"links\":{\"patch\":{\"small\":\"https://images2.imgbox.com/8b/5a/zJ1W8QIE_o.png\",\"large\":\"https://images2.imgbox.com/d2/64/JxeOTPRl_o.png\"},\"reddit\":{\"campaign\":\"https://www.reddit.com/r/spacex/comments/jhu37i/starlink_general_discussion_and_deployment_thread/\",\"launch\":null,\"media\":null,\"recovery\":\"https://www.reddit.com/r/spacex/comments/k2ts1q/rspacex_fleet_updates_discussion_thread/\"},\"flickr\":{\"small\":[],\"original\":[]},\"presskit\":null,\"webcast\":null,\"youtube_id\":null,\"article\":null,\"wikipedia\":null},\"static_fire_date_utc\":null,\"static_fire_date_unix\":null,\"net\":false,\"window\":null,\"rocket\":\"5e9d0d95eda69973a809d1ec\",\"success\":true,\"failures\":[],\"details\":null,\"crew\":[],\"ships\":[],\"capsules\":[],\"payloads\":[\"630bce79d36448026ab0163d\"],\"launchpad\":\"5e9e4501f509094ba4566f84\",\"flight_number\":176,\"name\":\"Starlink 4-25 (v1.5)\",\"date_utc\":\"2022-07-24T00:00:00.000Z\",\"date_unix\":1658620800,\"date_local\":\"2022-07-23T20:00:00-04:00\",\"date_precision\":\"day\",\"upcoming\":false,\"cores\":[{\"core\":\"5f57c5440622a633027900a0\",\"flight\":8,\"gridfins\":true,\"legs\":true,\"reused\":true,\"landing_attempt\":true,\"landing_success\":true,\"landing_type\":\"ASDS\",\"landpad\":\"5e9e3033383ecb075134e7cd\"}],\"auto_update\":true,\"tbd\":false,\"launch_library_id\":null,\"id\":\"62a9f12820413d2695d88716\"},{\"fairings\":{\"reused\":null,\"recovery_attempt\":null,\"recovered\":null,\"ships\":[]},\"links\":{\"patch\":{\"small\":\"https://images2.imgbox.com/9a/11/gjRM9dTi_o.png\",\"large\":\"https://images2.imgbox.com/ca/23/Q8I8SwKv_o.png\"},\"reddit\":{\"campaign\":null,\"launch\":\"https://www.reddit.com/r/spacex/comments/wfohz0/rspacex_kplo_launch_discussion_updates_thread/\",\"media\":null,\"recovery\":null},\"flickr\":{\"small\":[],\"original\":[]},\"presskit\":null,\"webcast\":\"https://youtu.be/rTrkHZjiO_8\",\"youtube_id\":\"rTrkHZjiO_8\",\"article\":null,\"wikipedia\":null},\"static_fire_date_utc\":null,\"static_fire_date_unix\":null,\"net\":false,\"window\":null,\"rocket\":\"5e9d0d95eda69973a809d1ec\",\"success\":true,\"failures\":[],\"details\":null,\"crew\":[],\"ships\":[],\"capsules\":[],\"payloads\":[\"630bcfe1d36448026ab01641\"],\"launchpad\":\"5e9e4501f509094ba4566f84\",\"flight_number\":177,\"name\":\"KPLO\",\"date_utc\":\"2022-08-04T23:08:00.000Z\",\"date_unix\":1659654480,\"date_local\":\"2022-08-04T19:08:00-04:00\",\"date_precision\":\"hour\",\"upcoming\":false,\"cores\":[{\"core\":\"5e9e28a6f359183c413b265d\",\"flight\":6,\"gridfins\":true,\"legs\":true,\"reused\":true,\"landing_attempt\":true,\"landing_success\":true,\"landing_type\":\"ASDS\",\"landpad\":\"5e9e3033383ecbb9e534e7cc\"}],\"auto_update\":true,\"tbd\":false,\"launch_library_id\":\"75d7306e-1d76-4c0b-9dc4-98dee7b9af59\",\"id\":\"62a9f86420413d2695d88719\"},{\"fairings\":{\"reused\":null,\"recovery_attempt\":null,\"recovered\":null,\"ships\":[]},\"links\":{\"patch\":{\"small\":\"https://images2.imgbox.com/db/0c/Qrfi4lgd_o.png\",\"large\":\"https://images2.imgbox.com/6f/13/SnfNAbpz_o.png\"},\"reddit\":{\"campaign\":\"https://www.reddit.com/r/spacex/comments/jhu37i/starlink_general_discussion_and_deployment_thread/\",\"launch\":\"https://www.reddit.com/r/spacex/comments/wk8dua/rspacex_starlink_426_launch_discussion_and/\",\"media\":null,\"recovery\":\"https://www.reddit.com/r/spacex/comments/k2ts1q/rspacex_fleet_updates_discussion_thread/\"},\"flickr\":{\"small\":[],\"original\":[]},\"presskit\":null,\"webcast\":\"https://youtu.be/ck5z0uMGz8s\",\"youtube_id\":\"ck5z0uMGz8s\",\"article\":null,\"wikipedia\":null},\"static_fire_date_utc\":null,\"static_fire_date_unix\":null,\"net\":false,\"window\":null,\"rocket\":\"5e9d0d95eda69973a809d1ec\",\"success\":true,\"failures\":[],\"details\":null,\"crew\":[],\"ships\":[],\"capsules\":[],\"payloads\":[\"630bcea1d36448026ab0163e\"],\"launchpad\":\"5e9e4502f509094188566f88\",\"flight_number\":178,\"name\":\"Starlink 4-26 (v1.5)\",\"date_utc\":\"2022-08-09T22:57:00.000Z\",\"date_unix\":1660085820,\"date_local\":\"2022-08-09T18:57:00-04:00\",\"date_precision\":\"hour\",\"upcoming\":false,\"cores\":[{\"core\":\"627843db57b51b752c5c5a54\",\"flight\":3,\"gridfins\":true,\"legs\":true,\"reused\":true,\"landing_attempt\":true,\"landing_success\":true,\"landing_type\":\"ASDS\",\"landpad\":\"5e9e3033383ecb075134e7cd\"}],\"auto_update\":true,\"tbd\":false,\"launch_library_id\":\"a6b9deb4-f78d-4b57-8e47-98c5aea99d9e\",\"id\":\"62a9f8b320413d2695d8871b\"},{\"fairings\":{\"reused\":null,\"recovery_attempt\":null,\"recovered\":null,\"ships\":[]},\"links\":{\"patch\":{\"small\":\"https://images2.imgbox.com/d0/90/pKNXVgeG_o.png\",\"large\":\"https://images2.imgbox.com/33/50/ZK6KD7kE_o.png\"},\"reddit\":{\"campaign\":\"https://www.reddit.com/r/spacex/comments/jhu37i/starlink_general_discussion_and_deployment_thread/\",\"launch\":\"https://www.reddit.com/r/spacex/comments/wmgtiu/rspacex_starlink_33_launch_discussion_and_updates/\",\"media\":null,\"recovery\":\"https://www.reddit.com/r/spacex/comments/k2ts1q/rspacex_fleet_updates_discussion_thread/\"},\"flickr\":{\"small\":[],\"original\":[]},\"presskit\":null,\"webcast\":\"https://youtu.be/SU5FbiCbjic\",\"youtube_id\":\"SU5FbiCbjic\",\"article\":null,\"wikipedia\":null},\"static_fire_date_utc\":null,\"static_fire_date_unix\":null,\"net\":false,\"window\":null,\"rocket\":\"5e9d0d95eda69973a809d1ec\",\"success\":true,\"failures\":[],\"details\":null,\"crew\":[],\"ships\":[],\"capsules\":[],\"payloads\":[\"630bceb8d36448026ab01640\"],\"launchpad\":\"5e9e4502f509092b78566f87\",\"flight_number\":179,\"name\":\"Starlink 3-3 (v1.5)\",\"date_utc\":\"2022-08-12T21:30:00.000Z\",\"date_unix\":1660339800,\"date_local\":\"2022-08-12T14:30:00-07:00\",\"date_precision\":\"hour\",\"upcoming\":false,\"cores\":[{\"core\":\"5f57c53d0622a6330279009f\",\"flight\":10,\"gridfins\":true,\"legs\":true,\"reused\":true,\"landing_attempt\":true,\"landing_success\":true,\"landing_type\":\"ASDS\",\"landpad\":\"5e9e3032383ecb6bb234e7ca\"}],\"auto_update\":true,\"tbd\":false,\"launch_library_id\":\"4f2c5733-5019-4f7a-8403-15a1a270bf96\",\"id\":\"62f3b4ff0f55c50e192a4e6b\"},{\"fairings\":{\"reused\":null,\"recovery_attempt\":null,\"recovered\":null,\"ships\":[]},\"links\":{\"patch\":{\"small\":\"https://images2.imgbox.com/ba/c7/O1spe4aF_o.png\",\"large\":\"https://images2.imgbox.com/d1/10/0u6LdCUH_o.png\"},\"reddit\":{\"campaign\":\"https://www.reddit.com/r/spacex/comments/jhu37i/starlink_general_discussion_and_deployment_thread/\",\"launch\":\"https://www.reddit.com/r/spacex/comments/wsde1t/rspacex_starlink_427_launch_discussion_and/\",\"media\":null,\"recovery\":\"https://www.reddit.com/r/spacex/comments/k2ts1q/rspacex_fleet_updates_discussion_thread/\"},\"flickr\":{\"small\":[],\"original\":[]},\"presskit\":null,\"webcast\":\"https://youtu.be/M018DAaNd_E\",\"youtube_id\":\"M018DAaNd_E\",\"article\":null,\"wikipedia\":null},\"static_fire_date_utc\":null,\"static_fire_date_unix\":null,\"net\":false,\"window\":null,\"rocket\":\"5e9d0d95eda69973a809d1ec\",\"success\":true,\"failures\":[],\"details\":null,\"crew\":[],\"ships\":[],\"capsules\":[],\"payloads\":[\"630bceadd36448026ab0163f\"],\"launchpad\":\"5e9e4501f509094ba4566f84\",\"flight_number\":180,\"name\":\"Starlink 4-27 (v1.5)\",\"date_utc\":\"2022-08-19T19:24:00.000Z\",\"date_unix\":1660937040,\"date_local\":\"2022-08-19T15:24:00-04:00\",\"date_precision\":\"hour\",\"upcoming\":false,\"cores\":[{\"core\":\"5f57c5440622a633027900a0\",\"flight\":9,\"gridfins\":true,\"legs\":true,\"reused\":true,\"landing_attempt\":true,\"landing_success\":true,\"landing_type\":\"ASDS\",\"landpad\":\"5e9e3033383ecb075134e7cd\"}],\"auto_update\":true,\"tbd\":false,\"launch_library_id\":\"4a114237-e8c5-4248-8d30-7a9026b86430\",\"id\":\"62f3b5200f55c50e192a4e6c\"},{\"fairings\":{\"reused\":null,\"recovery_attempt\":null,\"recovered\":null,\"ships\":[]},\"links\":{\"patch\":{\"small\":\"https://images2.imgbox.com/12/42/5T8I9wZL_o.png\",\"large\":\"https://images2.imgbox.com/f4/bc/5iJ5j1Ju_o.png\"},\"reddit\":{\"campaign\":\"https://www.reddit.com/r/spacex/comments/jhu37i/starlink_general_discussion_and_deployment_thread/\",\"launch\":null,\"media\":null,\"recovery\":\"https://www.reddit.com/r/spacex/comments/k2ts1q/rspacex_fleet_updates_discussion_thread/\"},\"flickr\":{\"small\":[],\"original\":[]},\"presskit\":null,\"webcast\":\"https://youtu.be/07RGJ04HRns\",\"youtube_id\":\"07RGJ04HRns\",\"article\":null,\"wikipedia\":null},\"static_fire_date_utc\":null,\"static_fire_date_unix\":null,\"net\":false,\"window\":null,\"rocket\":\"5e9d0d95eda69973a809d1ec\",\"success\":true,\"failures\":[],\"details\":null,\"crew\":[],\"ships\":[],\"capsules\":[],\"payloads\":[\"631614d7ffc78f3b85670716\"],\"launchpad\":\"5e9e4502f509094188566f88\",\"flight_number\":181,\"name\":\"Starlink 4-23 (v1.5)\",\"date_utc\":\"2022-08-28T02:22:00.000Z\",\"date_unix\":1661653320,\"date_local\":\"2022-08-27T22:22:00-04:00\",\"date_precision\":\"hour\",\"upcoming\":false,\"cores\":[{\"core\":\"61c1ef45a4a2462678cbf45d\",\"flight\":2,\"gridfins\":true,\"legs\":true,\"reused\":true,\"landing_attempt\":true,\"landing_success\":true,\"landing_type\":\"ASDS\",\"landpad\":\"5e9e3033383ecb075134e7cd\"}],\"auto_update\":true,\"tbd\":false,\"launch_library_id\":\"67158b3c-201d-4450-be8a-990010c05b40\",\"id\":\"62f3b5290f55c50e192a4e6d\"},{\"fairings\":{\"reused\":null,\"recovery_attempt\":null,\"recovered\":null,\"ships\":[]},\"links\":{\"patch\":{\"small\":\"https://images2.imgbox.com/72/07/PtgYfiFT_o.png\",\"large\":\"https://images2.imgbox.com/fc/18/97AKS1XR_o.png\"},\"reddit\":{\"campaign\":\"https://www.reddit.com/r/spacex/comments/jhu37i/starlink_general_discussion_and_deployment_thread/\",\"launch\":\"https://www.reddit.com/r/spacex/comments/x1t7gd/rspacex_starlink_34_launch_discussion_and_updates/\",\"media\":null,\"recovery\":\"https://www.reddit.com/r/spacex/comments/k2ts1q/rspacex_fleet_updates_discussion_thread/\"},\"flickr\":{\"small\":[],\"original\":[]},\"presskit\":null,\"webcast\":\"https://youtu.be/zSJWK_pmXVw\",\"youtube_id\":\"zSJWK_pmXVw\",\"article\":null,\"wikipedia\":null},\"static_fire_date_utc\":null,\"static_fire_date_unix\":null,\"net\":false,\"window\":null,\"rocket\":\"5e9d0d95eda69973a809d1ec\",\"success\":true,\"failures\":[],\"details\":null,\"crew\":[],\"ships\":[],\"capsules\":[],\"payloads\":[\"630f63bf18702d4844fb5391\"],\"launchpad\":\"5e9e4502f509092b78566f87\",\"flight_number\":182,\"name\":\"Starlink 3-4 (v1.5)\",\"date_utc\":\"2022-08-31T05:40:00.000Z\",\"date_unix\":1661924400,\"date_local\":\"2022-08-30T22:40:00-07:00\",\"date_precision\":\"hour\",\"upcoming\":false,\"cores\":[{\"core\":\"5f57c54a0622a633027900a1\",\"flight\":7,\"gridfins\":true,\"legs\":true,\"reused\":true,\"landing_attempt\":true,\"landing_success\":true,\"landing_type\":\"ASDS\",\"landpad\":\"5e9e3032383ecb6bb234e7ca\"}],\"auto_update\":true,\"tbd\":false,\"launch_library_id\":\"576b04d6-1962-4bda-b43f-0da4138d192d\",\"id\":\"62f3b53a0f55c50e192a4e6f\"},{\"fairings\":{\"reused\":null,\"recovery_attempt\":null,\"recovered\":null,\"ships\":[]},\"links\":{\"patch\":{\"small\":\"https://images2.imgbox.com/dc/a0/erKL6HGq_o.png\",\"large\":\"https://images2.imgbox.com/57/42/trORYoRc_o.png\"},\"reddit\":{\"campaign\":\"https://www.reddit.com/r/spacex/comments/jhu37i/starlink_general_discussion_and_deployment_thread/\",\"launch\":null,\"media\":null,\"recovery\":\"https://www.reddit.com/r/spacex/comments/k2ts1q/rspacex_fleet_updates_discussion_thread/\"},\"flickr\":{\"small\":[],\"original\":[]},\"presskit\":null,\"webcast\":\"https://youtu.be/NONM-xsKMSs\",\"youtube_id\":\"NONM-xsKMSs\",\"article\":null,\"wikipedia\":null},\"static_fire_date_utc\":null,\"static_fire_date_unix\":null,\"net\":false,\"window\":null,\"rocket\":\"5e9d0d95eda69973a809d1ec\",\"success\":true,\"failures\":[],\"details\":null,\"crew\":[],\"ships\":[],\"capsules\":[],\"payloads\":[\"631614e9ffc78f3b85670717\",\"631617fbffc78f3b8567071d\"],\"launchpad\":\"5e9e4501f509094ba4566f84\",\"flight_number\":183,\"name\":\"Starlink 4-20 (v1.5) & Sherpa LTC-2/Varuna-TDM\",\"date_utc\":\"2022-09-05T02:09:00.000Z\",\"date_unix\":1662343740,\"date_local\":\"2022-09-04T22:09:00-04:00\",\"date_precision\":\"hour\",\"upcoming\":false,\"cores\":[{\"core\":\"5e9e28a6f359183c413b265d\",\"flight\":7,\"gridfins\":true,\"legs\":true,\"reused\":true,\"landing_attempt\":true,\"landing_success\":true,\"landing_type\":\"ASDS\",\"landpad\":\"5e9e3033383ecbb9e534e7cc\"}],\"auto_update\":true,\"tbd\":false,\"launch_library_id\":null,\"id\":\"62f3b5330f55c50e192a4e6e\"},{\"fairings\":{\"reused\":null,\"recovery_attempt\":null,\"recovered\":null,\"ships\":[]},\"links\":{\"patch\":{\"small\":\"https://images2.imgbox.com/a9/9a/NXVkTZCE_o.png\",\"large\":\"https://images2.imgbox.com/e3/cc/hN96PmST_o.png\"},\"reddit\":{\"campaign\":\"https://www.reddit.com/r/spacex/comments/jhu37i/starlink_general_discussion_and_deployment_thread/\",\"launch\":null,\"media\":null,\"recovery\":\"https://www.reddit.com/r/spacex/comments/k2ts1q/rspacex_fleet_updates_discussion_thread/\"},\"flickr\":{\"small\":[],\"original\":[]},\"presskit\":null,\"webcast\":null,\"youtube_id\":null,\"article\":null,\"wikipedia\":null},\"static_fire_date_utc\":null,\"static_fire_date_unix\":null,\"net\":false,\"window\":null,\"rocket\":\"5e9d0d95eda69973a809d1ec\",\"success\":true,\"failures\":[],\"details\":null,\"crew\":[],\"ships\":[],\"capsules\":[],\"payloads\":[\"63161610ffc78f3b85670718\",\"63161872ffc78f3b8567071e\"],\"launchpad\":\"5e9e4502f509094188566f88\",\"flight_number\":184,\"name\":\"Starlink 4-2 (v1.5) & Blue Walker 3\",\"date_utc\":\"2022-09-11T01:10:00.000Z\",\"date_unix\":1662858600,\"date_local\":\"2022-09-10T21:10:00-04:00\",\"date_precision\":\"hour\",\"upcoming\":false,\"cores\":[{\"core\":\"5e9e28a7f3591817f23b2663\",\"flight\":14,\"gridfins\":true,\"legs\":true,\"reused\":true,\"landing_attempt\":true,\"landing_success\":true,\"landing_type\":\"ASDS\",\"landpad\":\"5e9e3033383ecb075134e7cd\"}],\"auto_update\":true,\"tbd\":false,\"launch_library_id\":\"992823ad-f843-4a4a-beca-882b8ce8773a\",\"id\":\"62a9f89a20413d2695d8871a\"},{\"fairings\":{\"reused\":null,\"recovery_attempt\":null,\"recovered\":null,\"ships\":[]},\"links\":{\"patch\":{\"small\":\"https://images2.imgbox.com/a9/9a/NXVkTZCE_o.png\",\"large\":\"https://images2.imgbox.com/e3/cc/hN96PmST_o.png\"},\"reddit\":{\"campaign\":\"https://www.reddit.com/r/spacex/comments/jhu37i/starlink_general_discussion_and_deployment_thread/\",\"launch\":\"https://www.reddit.com/r/spacex/comments/xd8vhj/rspacex_starlink_434_launch_discussion_and/\",\"media\":null,\"recovery\":\"https://www.reddit.com/r/spacex/comments/k2ts1q/rspacex_fleet_updates_discussion_thread/\"},\"flickr\":{\"small\":[],\"original\":[]},\"presskit\":null,\"webcast\":\"https://youtu.be/ZlQHF_yBkMQ\",\"youtube_id\":\"ZlQHF_yBkMQ\",\"article\":null,\"wikipedia\":null},\"static_fire_date_utc\":null,\"static_fire_date_unix\":null,\"net\":false,\"window\":null,\"rocket\":\"5e9d0d95eda69973a809d1ec\",\"success\":true,\"failures\":[],\"details\":null,\"crew\":[],\"ships\":[],\"capsules\":[],\"payloads\":[\"63161699ffc78f3b85670719\"],\"launchpad\":\"5e9e4501f509094ba4566f84\",\"flight_number\":185,\"name\":\"Starlink 4-34 (v1.5)\",\"date_utc\":\"2022-09-17T01:05:00.000Z\",\"date_unix\":1663376700,\"date_local\":\"2022-09-16T21:05:00-04:00\",\"date_precision\":\"hour\",\"upcoming\":false,\"cores\":[{\"core\":\"60b800111f83cc1e59f16438\",\"flight\":6,\"gridfins\":true,\"legs\":true,\"reused\":true,\"landing_attempt\":true,\"landing_success\":true,\"landing_type\":\"ASDS\",\"landpad\":\"5e9e3033383ecbb9e534e7cc\"}],\"auto_update\":true,\"tbd\":false,\"launch_library_id\":\"9ba04064-c329-40bf-b477-ff468d7d8058\",\"id\":\"63161329ffc78f3b8567070b\"},{\"fairings\":{\"reused\":null,\"recovery_attempt\":null,\"recovered\":null,\"ships\":[]},\"links\":{\"patch\":{\"small\":\"https://images2.imgbox.com/a9/9a/NXVkTZCE_o.png\",\"large\":\"https://images2.imgbox.com/e3/cc/hN96PmST_o.png\"},\"reddit\":{\"campaign\":\"https://www.reddit.com/r/spacex/comments/jhu37i/starlink_general_discussion_and_deployment_thread/\",\"launch\":\"https://www.reddit.com/r/spacex/comments/xn028t/rspacex_starlink_435_launch_discussion_and/\",\"media\":null,\"recovery\":\"https://www.reddit.com/r/spacex/comments/k2ts1q/rspacex_fleet_updates_discussion_thread/\"},\"flickr\":{\"small\":[],\"original\":[]},\"presskit\":null,\"webcast\":\"https://youtu.be/VVu2bSJJhgI\",\"youtube_id\":\"VVu2bSJJhgI\",\"article\":null,\"wikipedia\":null},\"static_fire_date_utc\":null,\"static_fire_date_unix\":null,\"net\":false,\"window\":null,\"rocket\":\"5e9d0d95eda69973a809d1ec\",\"success\":true,\"failures\":[],\"details\":null,\"crew\":[],\"ships\":[],\"capsules\":[],\"payloads\":[\"631616a7ffc78f3b8567071a\"],\"launchpad\":\"5e9e4501f509094ba4566f84\",\"flight_number\":186,\"name\":\"Starlink 4-35 (v1.5)\",\"date_utc\":\"2022-09-24T23:30:00.000Z\",\"date_unix\":1664062200,\"date_local\":\"2022-09-24T19:30:00-04:00\",\"date_precision\":\"hour\",\"upcoming\":false,\"cores\":[{\"core\":\"627843d657b51b752c5c5a53\",\"flight\":4,\"gridfins\":true,\"legs\":true,\"reused\":true,\"landing_attempt\":true,\"landing_success\":true,\"landing_type\":\"ASDS\",\"landpad\":\"5e9e3033383ecbb9e534e7cc\"}],\"auto_update\":true,\"tbd\":false,\"launch_library_id\":\"1c903b65-6667-4fd5-944d-296c5f13e01f\",\"id\":\"63161339ffc78f3b8567070c\"},{\"fairings\":null,\"links\":{\"patch\":{\"small\":\"https://images2.imgbox.com/eb/d8/D1Yywp0w_o.png\",\"large\":\"https://images2.imgbox.com/33/2e/k6VE4iYl_o.png\"},\"reddit\":{\"campaign\":null,\"launch\":\"https://www.reddit.com/r/spacex/comments/xvm76j/rspacex_crew5_launchcoast_docking_discussion_and/\",\"media\":null,\"recovery\":null},\"flickr\":{\"small\":[],\"original\":[]},\"presskit\":null,\"webcast\":\"https://youtu.be/5EwW8ZkArL4\",\"youtube_id\":\"5EwW8ZkArL4\",\"article\":null,\"wikipedia\":\"https://en.wikipedia.org/wiki/SpaceX_Crew-5\"},\"static_fire_date_utc\":null,\"static_fire_date_unix\":null,\"net\":false,\"window\":null,\"rocket\":\"5e9d0d95eda69973a809d1ec\",\"success\":true,\"failures\":[],\"details\":null,\"crew\":[\"62dd7196202306255024d13c\",\"62dd71c9202306255024d13d\",\"62dd7210202306255024d13e\",\"62dd7253202306255024d13f\"],\"ships\":[],\"capsules\":[\"617c05591bad2c661a6e2909\"],\"payloads\":[\"62dd73ed202306255024d145\"],\"launchpad\":\"5e9e4502f509094188566f88\",\"flight_number\":187,\"name\":\"Crew-5\",\"date_utc\":\"2022-10-05T16:00:00.000Z\",\"date_unix\":1664985600,\"date_local\":\"2022-10-05T12:00:00-04:00\",\"date_precision\":\"hour\",\"upcoming\":false,\"cores\":[{\"core\":\"633d9da635a71d1d9c66797b\",\"flight\":1,\"gridfins\":true,\"legs\":true,\"reused\":false,\"landing_attempt\":true,\"landing_success\":true,\"landing_type\":\"ASDS\",\"landpad\":\"5e9e3033383ecbb9e534e7cc\"}],\"auto_update\":true,\"tbd\":false,\"launch_library_id\":\"f33d5ece-e825-4cd8-809f-1d4c72a2e0d3\",\"id\":\"62dd70d5202306255024d139\"}]'\n"
     ]
    }
   ],
   "source": [
    "print(response.content)"
   ]
  },
  {
   "cell_type": "markdown",
   "id": "e0d656cf",
   "metadata": {},
   "source": [
    "# Task 1: Request and parse the SpaceX launch data using the GET request\n"
   ]
  },
  {
   "cell_type": "markdown",
   "id": "5bf2a9f9",
   "metadata": {},
   "source": [
    "To make the requested JSON results more consistent, we will use the following static response object for this project:\n"
   ]
  },
  {
   "cell_type": "markdown",
   "id": "30a55dea",
   "metadata": {},
   "source": [
    "static_json_url='https://cf-courses-data.s3.us.cloud-object-storage.appdomain.cloud/IBM-DS0321EN-SkillsNetwork/datasets/API_call_spacex_api.json'"
   ]
  },
  {
   "cell_type": "markdown",
   "id": "796c33f3",
   "metadata": {},
   "source": [
    "We should see that the request was successfull with the 200 status response code\n"
   ]
  },
  {
   "cell_type": "markdown",
   "id": "2032c9c5",
   "metadata": {},
   "source": [
    "response.status_code"
   ]
  },
  {
   "cell_type": "markdown",
   "id": "6765ed89",
   "metadata": {},
   "source": [
    "Now we decode the response content as a Json using <code>.json()</code> and turn it into a Pandas dataframe using <code>.json_normalize()</code>\n"
   ]
  },
  {
   "cell_type": "markdown",
   "id": "4474bebd",
   "metadata": {},
   "source": [
    " Use json_normalize meethod to convert the json result into a dataframe\n"
   ]
  },
  {
   "cell_type": "markdown",
   "id": "62c1f995",
   "metadata": {},
   "source": [
    "Using the dataframe <code>data</code> print the first 5 rows\n"
   ]
  },
  {
   "cell_type": "markdown",
   "id": "f9a1e8b6",
   "metadata": {},
   "source": [
    "Get the head of the dataframe\n"
   ]
  },
  {
   "cell_type": "markdown",
   "id": "28dde735",
   "metadata": {},
   "source": [
    "You will notice that a lot of the data are IDs. For example the rocket column has no information about the rocket just an identification number.\n",
    "\n",
    "We will now use the API again to get information about the launches using the IDs given for each launch. Specifically we will be using columns <code>rocket</code>, <code>payloads</code>, <code>launchpad</code>, and <code>cores</code>.\n"
   ]
  },
  {
   "cell_type": "code",
   "execution_count": null,
   "id": "a258af66",
   "metadata": {},
   "outputs": [],
   "source": [
    "# Lets take a subset of our dataframe keeping only the features we want and the flight number, and date_utc.\n",
    "data = data[['rocket', 'payloads', 'launchpad', 'cores', 'flight_number', 'date_utc']]\n",
    "\n",
    "# We will remove rows with multiple cores because those are falcon rockets with 2 extra rocket boosters and rows that have multiple payloads in a single rocket.\n",
    "data = data[data['cores'].map(len)==1]\n",
    "data = data[data['payloads'].map(len)==1]\n",
    "\n",
    "# Since payloads and cores are lists of size 1 we will also extract the single value in the list and replace the feature.\n",
    "data['cores'] = data['cores'].map(lambda x : x[0])\n",
    "data['payloads'] = data['payloads'].map(lambda x : x[0])\n",
    "\n",
    "# We also want to convert the date_utc to a datetime datatype and then extracting the date leaving the time\n",
    "data['date'] = pd.to_datetime(data['date_utc']).dt.date\n",
    "\n",
    "# Using the date we will restrict the dates of the launches\n",
    "data = data[data['date'] <= datetime.date(2020, 11, 13)]"
   ]
  },
  {
   "cell_type": "markdown",
   "id": "3a99ce33",
   "metadata": {},
   "source": [
    "* From the <code>rocket</code> we would like to learn the booster name\n",
    "\n",
    "* From the <code>payload</code> we would like to learn the mass of the payload and the orbit that it is going to\n",
    "\n",
    "* From the <code>launchpad</code> we would like to know the name of the launch site being used, the longitude, and the latitude.\n",
    "\n",
    "* **From <code>cores</code> we would like to learn the outcome of the landing, the type of the landing, number of flights with that core, whether gridfins were used, whether the core is reused, whether legs were used, the landing pad used, the block of the core which is a number used to seperate version of cores, the number of times this specific core has been reused, and the serial of the core.**\n",
    "\n",
    "The data from these requests will be stored in lists and will be used to create a new dataframe.\n"
   ]
  },
  {
   "cell_type": "code",
   "execution_count": 16,
   "id": "5d534d55",
   "metadata": {},
   "outputs": [],
   "source": [
    "#Global variables \n",
    "BoosterVersion = []\n",
    "PayloadMass = []\n",
    "Orbit = []\n",
    "LaunchSite = []\n",
    "Outcome = []\n",
    "Flights = []\n",
    "GridFins = []\n",
    "Reused = []\n",
    "Legs = []\n",
    "LandingPad = []\n",
    "Block = []\n",
    "ReusedCount = []\n",
    "Serial = []\n",
    "Longitude = []\n",
    "Latitude = []"
   ]
  },
  {
   "cell_type": "markdown",
   "id": "7402d138",
   "metadata": {},
   "source": [
    "These functions will apply the outputs globally to the above variables. Let's take a looks at <code>BoosterVersion</code> variable. Before we apply  <code>getBoosterVersion</code> the list is empty:\n"
   ]
  },
  {
   "cell_type": "markdown",
   "id": "382169e4",
   "metadata": {},
   "source": [
    "BoosterVersion"
   ]
  },
  {
   "cell_type": "markdown",
   "id": "7836c5c3",
   "metadata": {},
   "source": [
    "Now, let's apply <code> getBoosterVersion</code> function method to get the booster version\n"
   ]
  },
  {
   "cell_type": "code",
   "execution_count": null,
   "id": "c857f98f",
   "metadata": {},
   "outputs": [],
   "source": [
    "# Call getBoosterVersion\n",
    "getBoosterVersion(data)"
   ]
  },
  {
   "cell_type": "markdown",
   "id": "e4fb3f20",
   "metadata": {},
   "source": [
    "the list has now been update \n"
   ]
  },
  {
   "cell_type": "code",
   "execution_count": null,
   "id": "99156a77",
   "metadata": {},
   "outputs": [],
   "source": [
    "BoosterVersion[0:5]"
   ]
  },
  {
   "cell_type": "markdown",
   "id": "d219d36b",
   "metadata": {},
   "source": [
    "we can apply the rest of the  functions here:\n"
   ]
  },
  {
   "cell_type": "code",
   "execution_count": null,
   "id": "a951579d",
   "metadata": {},
   "outputs": [],
   "source": [
    "# Call getLaunchSite\n",
    "getLaunchSite(data)"
   ]
  },
  {
   "cell_type": "code",
   "execution_count": null,
   "id": "7bb4297f",
   "metadata": {},
   "outputs": [],
   "source": [
    "# Call getPayloadData\n",
    "getPayloadData(data)"
   ]
  },
  {
   "cell_type": "code",
   "execution_count": null,
   "id": "99e4e100",
   "metadata": {},
   "outputs": [],
   "source": [
    "# Call getCoreData\n",
    "getCoreData(data)"
   ]
  },
  {
   "cell_type": "markdown",
   "id": "18e74296",
   "metadata": {},
   "source": [
    "Finally lets construct our dataset using the data we have obtained. We we combine the columns into a dictionary.\n"
   ]
  },
  {
   "cell_type": "code",
   "execution_count": null,
   "id": "e61b2a14",
   "metadata": {},
   "outputs": [],
   "source": [
    "launch_dict = {'FlightNumber': list(data['flight_number']),\n",
    "'Date': list(data['date']),\n",
    "'BoosterVersion':BoosterVersion,\n",
    "'PayloadMass':PayloadMass,\n",
    "'Orbit':Orbit,\n",
    "'LaunchSite':LaunchSite,\n",
    "'Outcome':Outcome,\n",
    "'Flights':Flights,\n",
    "'GridFins':GridFins,\n",
    "'Reused':Reused,\n",
    "'Legs':Legs,\n",
    "'LandingPad':LandingPad,\n",
    "'Block':Block,\n",
    "'ReusedCount':ReusedCount,\n",
    "'Serial':Serial,\n",
    "'Longitude': Longitude,\n",
    "'Latitude': Latitude}\n"
   ]
  },
  {
   "cell_type": "markdown",
   "id": "3d950d3d",
   "metadata": {},
   "source": [
    "Then, we need to create a Pandas data frame from the dictionary launch_dict.\n"
   ]
  },
  {
   "cell_type": "code",
   "execution_count": 24,
   "id": "925777d0",
   "metadata": {},
   "outputs": [],
   "source": [
    "# Create a data from launch_dict\n"
   ]
  },
  {
   "cell_type": "markdown",
   "id": "eb954a38",
   "metadata": {},
   "source": [
    "Show the summary of the dataframe\n"
   ]
  },
  {
   "cell_type": "code",
   "execution_count": 25,
   "id": "02311354",
   "metadata": {},
   "outputs": [],
   "source": [
    "# Show the head of the dataframe"
   ]
  },
  {
   "cell_type": "markdown",
   "id": "05f8dc04",
   "metadata": {},
   "source": [
    "# Task 2: Filter the dataframe to only include `Falcon 9` launches\n"
   ]
  },
  {
   "cell_type": "markdown",
   "id": "7ad7eee0",
   "metadata": {},
   "source": [
    "Finally we will remove the Falcon 1 launches keeping only the Falcon 9 launches. Filter the data dataframe using the <code>BoosterVersion</code> column to only keep the Falcon 9 launches. Save the filtered data to a new dataframe called <code>data_falcon9</code>.\n"
   ]
  },
  {
   "cell_type": "code",
   "execution_count": 26,
   "id": "d2080a35",
   "metadata": {},
   "outputs": [],
   "source": [
    "# Hint data['BoosterVersion']!='Falcon 1'\n"
   ]
  },
  {
   "cell_type": "markdown",
   "id": "2495255f",
   "metadata": {},
   "source": [
    "Now that we have removed some values we should reset the FlgihtNumber column\n"
   ]
  },
  {
   "cell_type": "code",
   "execution_count": null,
   "id": "113c19b5",
   "metadata": {},
   "outputs": [],
   "source": [
    "data_falcon9.loc[:,'FlightNumber'] = list(range(1, data_falcon9.shape[0]+1))\n",
    "data_falcon9"
   ]
  },
  {
   "cell_type": "markdown",
   "id": "2e57a171",
   "metadata": {},
   "source": [
    "# Data Wrangling\n"
   ]
  },
  {
   "cell_type": "markdown",
   "id": "bdcd9b54",
   "metadata": {},
   "source": [
    "We can see below that some of the rows are missing values in our dataset.\n"
   ]
  },
  {
   "cell_type": "code",
   "execution_count": null,
   "id": "1fa685c6",
   "metadata": {},
   "outputs": [],
   "source": [
    "data_falcon9.isnull().sum()"
   ]
  },
  {
   "cell_type": "markdown",
   "id": "c274c638",
   "metadata": {},
   "source": [
    "Before we can continue we must deal with these missing values. The <code>LandingPad</code> column will retain None values to represent when landing pads were not used.\n"
   ]
  },
  {
   "cell_type": "markdown",
   "id": "30a882b4",
   "metadata": {},
   "source": [
    "### Task 3: Dealing with Missing Values\n"
   ]
  },
  {
   "cell_type": "code",
   "execution_count": null,
   "id": "d746a20b",
   "metadata": {},
   "outputs": [],
   "source": [
    "Calculate below the mean for the <code>PayloadMass</code> using the <code>.mean()</code>. Then use the mean and the <code>.replace()</code> function to replace `np.nan` values in the data with the mean you calculated.\n"
   ]
  },
  {
   "cell_type": "code",
   "execution_count": 30,
   "id": "76dcb214",
   "metadata": {},
   "outputs": [],
   "source": [
    "# Calculate the mean value of PayloadMass column\n",
    "\n",
    "# Replace the np.nan values with its mean value"
   ]
  },
  {
   "cell_type": "markdown",
   "id": "6b5b9498",
   "metadata": {},
   "source": [
    "You should see the number of missing values of the <code>PayLoadMass</code> change to zero.\n",
    "Now we should have no missing values in our dataset except for in <code>LandingPad</code>.\n",
    "We can now export it to a <b>CSV</b> for the next section,but to make the answers consistent, in the next lab we will provide data in a pre-selected date range. \n"
   ]
  },
  {
   "cell_type": "code",
   "execution_count": null,
   "id": "122e1eb6",
   "metadata": {},
   "outputs": [],
   "source": [
    "<code>data_falcon9.to_csv('dataset_part_1.csv', index=False)</code>\n"
   ]
  },
  {
   "cell_type": "markdown",
   "id": "f474d47c",
   "metadata": {},
   "source": [
    "# **Space X  Falcon 9 First Stage Landing Prediction**\n"
   ]
  },
  {
   "cell_type": "markdown",
   "id": "50801428",
   "metadata": {},
   "source": [
    "# Lab 2: Data wrangling \n"
   ]
  },
  {
   "cell_type": "markdown",
   "id": "f670a683",
   "metadata": {},
   "source": [
    "In this lab, we will perform some Exploratory Data Analysis (EDA) to find some patterns in the data and determine what would be the label for training supervised models. \n",
    "\n",
    "In the data set, there are several different cases where the booster did not land successfully. Sometimes a landing was attempted but failed due to an accident; for example, <code>True Ocean</code> means the mission outcome was successfully  landed to a specific region of the ocean while <code>False Ocean</code> means the mission outcome was unsuccessfully landed to a specific region of the ocean. <code>True RTLS</code> means the mission outcome was successfully  landed to a ground pad <code>False RTLS</code> means the mission outcome was unsuccessfully landed to a ground pad.<code>True ASDS</code> means the mission outcome was successfully landed on  a drone ship <code>False ASDS</code> means the mission outcome was unsuccessfully landed on a drone ship. \n",
    "\n",
    "In this lab we will mainly convert those outcomes into Training Labels with `1` means the booster successfully landed `0` means it was unsuccessful.\n"
   ]
  },
  {
   "cell_type": "markdown",
   "id": "aea8b75d",
   "metadata": {},
   "source": [
    "## Objectives\n",
    "Perform exploratory  Data Analysis and determine Training Labels \n",
    "\n",
    "- Exploratory Data Analysis\n",
    "- Determine Training Labels \n"
   ]
  },
  {
   "cell_type": "markdown",
   "id": "43e38e4d",
   "metadata": {},
   "source": [
    "# Import Libraries and Define Auxiliary Functions\n"
   ]
  },
  {
   "cell_type": "markdown",
   "id": "63353780",
   "metadata": {},
   "source": [
    "We will import the following libraries.\n"
   ]
  },
  {
   "cell_type": "code",
   "execution_count": 31,
   "id": "cd9d628b",
   "metadata": {},
   "outputs": [],
   "source": [
    "# Pandas is a software library written for the Python programming language for data manipulation and analysis.\n",
    "import pandas as pd\n",
    "#NumPy is a library for the Python programming language, adding support for large, multi-dimensional arrays and matrices, along with a large collection of high-level mathematical functions to operate on these arrays\n",
    "import numpy as np"
   ]
  },
  {
   "cell_type": "markdown",
   "id": "193a49d0",
   "metadata": {},
   "source": [
    "# Data Analysis \n"
   ]
  },
  {
   "cell_type": "markdown",
   "id": "b42a332d",
   "metadata": {},
   "source": [
    "Load Space X dataset, from last section.\n"
   ]
  },
  {
   "cell_type": "code",
   "execution_count": 32,
   "id": "2eeb0afe",
   "metadata": {},
   "outputs": [
    {
     "data": {
      "text/html": [
       "<div>\n",
       "<style scoped>\n",
       "    .dataframe tbody tr th:only-of-type {\n",
       "        vertical-align: middle;\n",
       "    }\n",
       "\n",
       "    .dataframe tbody tr th {\n",
       "        vertical-align: top;\n",
       "    }\n",
       "\n",
       "    .dataframe thead th {\n",
       "        text-align: right;\n",
       "    }\n",
       "</style>\n",
       "<table border=\"1\" class=\"dataframe\">\n",
       "  <thead>\n",
       "    <tr style=\"text-align: right;\">\n",
       "      <th></th>\n",
       "      <th>FlightNumber</th>\n",
       "      <th>Date</th>\n",
       "      <th>BoosterVersion</th>\n",
       "      <th>PayloadMass</th>\n",
       "      <th>Orbit</th>\n",
       "      <th>LaunchSite</th>\n",
       "      <th>Outcome</th>\n",
       "      <th>Flights</th>\n",
       "      <th>GridFins</th>\n",
       "      <th>Reused</th>\n",
       "      <th>Legs</th>\n",
       "      <th>LandingPad</th>\n",
       "      <th>Block</th>\n",
       "      <th>ReusedCount</th>\n",
       "      <th>Serial</th>\n",
       "      <th>Longitude</th>\n",
       "      <th>Latitude</th>\n",
       "    </tr>\n",
       "  </thead>\n",
       "  <tbody>\n",
       "    <tr>\n",
       "      <th>0</th>\n",
       "      <td>1</td>\n",
       "      <td>2010-06-04</td>\n",
       "      <td>Falcon 9</td>\n",
       "      <td>6104.959412</td>\n",
       "      <td>LEO</td>\n",
       "      <td>CCAFS SLC 40</td>\n",
       "      <td>None None</td>\n",
       "      <td>1</td>\n",
       "      <td>False</td>\n",
       "      <td>False</td>\n",
       "      <td>False</td>\n",
       "      <td>NaN</td>\n",
       "      <td>1.0</td>\n",
       "      <td>0</td>\n",
       "      <td>B0003</td>\n",
       "      <td>-80.577366</td>\n",
       "      <td>28.561857</td>\n",
       "    </tr>\n",
       "    <tr>\n",
       "      <th>1</th>\n",
       "      <td>2</td>\n",
       "      <td>2012-05-22</td>\n",
       "      <td>Falcon 9</td>\n",
       "      <td>525.000000</td>\n",
       "      <td>LEO</td>\n",
       "      <td>CCAFS SLC 40</td>\n",
       "      <td>None None</td>\n",
       "      <td>1</td>\n",
       "      <td>False</td>\n",
       "      <td>False</td>\n",
       "      <td>False</td>\n",
       "      <td>NaN</td>\n",
       "      <td>1.0</td>\n",
       "      <td>0</td>\n",
       "      <td>B0005</td>\n",
       "      <td>-80.577366</td>\n",
       "      <td>28.561857</td>\n",
       "    </tr>\n",
       "    <tr>\n",
       "      <th>2</th>\n",
       "      <td>3</td>\n",
       "      <td>2013-03-01</td>\n",
       "      <td>Falcon 9</td>\n",
       "      <td>677.000000</td>\n",
       "      <td>ISS</td>\n",
       "      <td>CCAFS SLC 40</td>\n",
       "      <td>None None</td>\n",
       "      <td>1</td>\n",
       "      <td>False</td>\n",
       "      <td>False</td>\n",
       "      <td>False</td>\n",
       "      <td>NaN</td>\n",
       "      <td>1.0</td>\n",
       "      <td>0</td>\n",
       "      <td>B0007</td>\n",
       "      <td>-80.577366</td>\n",
       "      <td>28.561857</td>\n",
       "    </tr>\n",
       "    <tr>\n",
       "      <th>3</th>\n",
       "      <td>4</td>\n",
       "      <td>2013-09-29</td>\n",
       "      <td>Falcon 9</td>\n",
       "      <td>500.000000</td>\n",
       "      <td>PO</td>\n",
       "      <td>VAFB SLC 4E</td>\n",
       "      <td>False Ocean</td>\n",
       "      <td>1</td>\n",
       "      <td>False</td>\n",
       "      <td>False</td>\n",
       "      <td>False</td>\n",
       "      <td>NaN</td>\n",
       "      <td>1.0</td>\n",
       "      <td>0</td>\n",
       "      <td>B1003</td>\n",
       "      <td>-120.610829</td>\n",
       "      <td>34.632093</td>\n",
       "    </tr>\n",
       "    <tr>\n",
       "      <th>4</th>\n",
       "      <td>5</td>\n",
       "      <td>2013-12-03</td>\n",
       "      <td>Falcon 9</td>\n",
       "      <td>3170.000000</td>\n",
       "      <td>GTO</td>\n",
       "      <td>CCAFS SLC 40</td>\n",
       "      <td>None None</td>\n",
       "      <td>1</td>\n",
       "      <td>False</td>\n",
       "      <td>False</td>\n",
       "      <td>False</td>\n",
       "      <td>NaN</td>\n",
       "      <td>1.0</td>\n",
       "      <td>0</td>\n",
       "      <td>B1004</td>\n",
       "      <td>-80.577366</td>\n",
       "      <td>28.561857</td>\n",
       "    </tr>\n",
       "    <tr>\n",
       "      <th>5</th>\n",
       "      <td>6</td>\n",
       "      <td>2014-01-06</td>\n",
       "      <td>Falcon 9</td>\n",
       "      <td>3325.000000</td>\n",
       "      <td>GTO</td>\n",
       "      <td>CCAFS SLC 40</td>\n",
       "      <td>None None</td>\n",
       "      <td>1</td>\n",
       "      <td>False</td>\n",
       "      <td>False</td>\n",
       "      <td>False</td>\n",
       "      <td>NaN</td>\n",
       "      <td>1.0</td>\n",
       "      <td>0</td>\n",
       "      <td>B1005</td>\n",
       "      <td>-80.577366</td>\n",
       "      <td>28.561857</td>\n",
       "    </tr>\n",
       "    <tr>\n",
       "      <th>6</th>\n",
       "      <td>7</td>\n",
       "      <td>2014-04-18</td>\n",
       "      <td>Falcon 9</td>\n",
       "      <td>2296.000000</td>\n",
       "      <td>ISS</td>\n",
       "      <td>CCAFS SLC 40</td>\n",
       "      <td>True Ocean</td>\n",
       "      <td>1</td>\n",
       "      <td>False</td>\n",
       "      <td>False</td>\n",
       "      <td>True</td>\n",
       "      <td>NaN</td>\n",
       "      <td>1.0</td>\n",
       "      <td>0</td>\n",
       "      <td>B1006</td>\n",
       "      <td>-80.577366</td>\n",
       "      <td>28.561857</td>\n",
       "    </tr>\n",
       "    <tr>\n",
       "      <th>7</th>\n",
       "      <td>8</td>\n",
       "      <td>2014-07-14</td>\n",
       "      <td>Falcon 9</td>\n",
       "      <td>1316.000000</td>\n",
       "      <td>LEO</td>\n",
       "      <td>CCAFS SLC 40</td>\n",
       "      <td>True Ocean</td>\n",
       "      <td>1</td>\n",
       "      <td>False</td>\n",
       "      <td>False</td>\n",
       "      <td>True</td>\n",
       "      <td>NaN</td>\n",
       "      <td>1.0</td>\n",
       "      <td>0</td>\n",
       "      <td>B1007</td>\n",
       "      <td>-80.577366</td>\n",
       "      <td>28.561857</td>\n",
       "    </tr>\n",
       "    <tr>\n",
       "      <th>8</th>\n",
       "      <td>9</td>\n",
       "      <td>2014-08-05</td>\n",
       "      <td>Falcon 9</td>\n",
       "      <td>4535.000000</td>\n",
       "      <td>GTO</td>\n",
       "      <td>CCAFS SLC 40</td>\n",
       "      <td>None None</td>\n",
       "      <td>1</td>\n",
       "      <td>False</td>\n",
       "      <td>False</td>\n",
       "      <td>False</td>\n",
       "      <td>NaN</td>\n",
       "      <td>1.0</td>\n",
       "      <td>0</td>\n",
       "      <td>B1008</td>\n",
       "      <td>-80.577366</td>\n",
       "      <td>28.561857</td>\n",
       "    </tr>\n",
       "    <tr>\n",
       "      <th>9</th>\n",
       "      <td>10</td>\n",
       "      <td>2014-09-07</td>\n",
       "      <td>Falcon 9</td>\n",
       "      <td>4428.000000</td>\n",
       "      <td>GTO</td>\n",
       "      <td>CCAFS SLC 40</td>\n",
       "      <td>None None</td>\n",
       "      <td>1</td>\n",
       "      <td>False</td>\n",
       "      <td>False</td>\n",
       "      <td>False</td>\n",
       "      <td>NaN</td>\n",
       "      <td>1.0</td>\n",
       "      <td>0</td>\n",
       "      <td>B1011</td>\n",
       "      <td>-80.577366</td>\n",
       "      <td>28.561857</td>\n",
       "    </tr>\n",
       "  </tbody>\n",
       "</table>\n",
       "</div>"
      ],
      "text/plain": [
       "   FlightNumber        Date BoosterVersion  PayloadMass Orbit    LaunchSite  \\\n",
       "0             1  2010-06-04       Falcon 9  6104.959412   LEO  CCAFS SLC 40   \n",
       "1             2  2012-05-22       Falcon 9   525.000000   LEO  CCAFS SLC 40   \n",
       "2             3  2013-03-01       Falcon 9   677.000000   ISS  CCAFS SLC 40   \n",
       "3             4  2013-09-29       Falcon 9   500.000000    PO   VAFB SLC 4E   \n",
       "4             5  2013-12-03       Falcon 9  3170.000000   GTO  CCAFS SLC 40   \n",
       "5             6  2014-01-06       Falcon 9  3325.000000   GTO  CCAFS SLC 40   \n",
       "6             7  2014-04-18       Falcon 9  2296.000000   ISS  CCAFS SLC 40   \n",
       "7             8  2014-07-14       Falcon 9  1316.000000   LEO  CCAFS SLC 40   \n",
       "8             9  2014-08-05       Falcon 9  4535.000000   GTO  CCAFS SLC 40   \n",
       "9            10  2014-09-07       Falcon 9  4428.000000   GTO  CCAFS SLC 40   \n",
       "\n",
       "       Outcome  Flights  GridFins  Reused   Legs LandingPad  Block  \\\n",
       "0    None None        1     False   False  False        NaN    1.0   \n",
       "1    None None        1     False   False  False        NaN    1.0   \n",
       "2    None None        1     False   False  False        NaN    1.0   \n",
       "3  False Ocean        1     False   False  False        NaN    1.0   \n",
       "4    None None        1     False   False  False        NaN    1.0   \n",
       "5    None None        1     False   False  False        NaN    1.0   \n",
       "6   True Ocean        1     False   False   True        NaN    1.0   \n",
       "7   True Ocean        1     False   False   True        NaN    1.0   \n",
       "8    None None        1     False   False  False        NaN    1.0   \n",
       "9    None None        1     False   False  False        NaN    1.0   \n",
       "\n",
       "   ReusedCount Serial   Longitude   Latitude  \n",
       "0            0  B0003  -80.577366  28.561857  \n",
       "1            0  B0005  -80.577366  28.561857  \n",
       "2            0  B0007  -80.577366  28.561857  \n",
       "3            0  B1003 -120.610829  34.632093  \n",
       "4            0  B1004  -80.577366  28.561857  \n",
       "5            0  B1005  -80.577366  28.561857  \n",
       "6            0  B1006  -80.577366  28.561857  \n",
       "7            0  B1007  -80.577366  28.561857  \n",
       "8            0  B1008  -80.577366  28.561857  \n",
       "9            0  B1011  -80.577366  28.561857  "
      ]
     },
     "execution_count": 32,
     "metadata": {},
     "output_type": "execute_result"
    }
   ],
   "source": [
    "df=pd.read_csv(\"https://cf-courses-data.s3.us.cloud-object-storage.appdomain.cloud/IBM-DS0321EN-SkillsNetwork/datasets/dataset_part_1.csv\")\n",
    "df.head(10)"
   ]
  },
  {
   "cell_type": "markdown",
   "id": "121c3bbe",
   "metadata": {},
   "source": [
    "Identify and calculate the percentage of the missing values in each attribute\n"
   ]
  },
  {
   "cell_type": "code",
   "execution_count": 33,
   "id": "9ad8b100",
   "metadata": {},
   "outputs": [
    {
     "data": {
      "text/plain": [
       "FlightNumber       0.000000\n",
       "Date               0.000000\n",
       "BoosterVersion     0.000000\n",
       "PayloadMass        0.000000\n",
       "Orbit              0.000000\n",
       "LaunchSite         0.000000\n",
       "Outcome            0.000000\n",
       "Flights            0.000000\n",
       "GridFins           0.000000\n",
       "Reused             0.000000\n",
       "Legs               0.000000\n",
       "LandingPad        28.888889\n",
       "Block              0.000000\n",
       "ReusedCount        0.000000\n",
       "Serial             0.000000\n",
       "Longitude          0.000000\n",
       "Latitude           0.000000\n",
       "dtype: float64"
      ]
     },
     "execution_count": 33,
     "metadata": {},
     "output_type": "execute_result"
    }
   ],
   "source": [
    "df.isnull().sum()/len(df)*100"
   ]
  },
  {
   "cell_type": "markdown",
   "id": "1a4c39a8",
   "metadata": {},
   "source": [
    "Identify which columns are numerical and categorical:\n"
   ]
  },
  {
   "cell_type": "code",
   "execution_count": 34,
   "id": "46e87200",
   "metadata": {},
   "outputs": [
    {
     "data": {
      "text/plain": [
       "FlightNumber        int64\n",
       "Date               object\n",
       "BoosterVersion     object\n",
       "PayloadMass       float64\n",
       "Orbit              object\n",
       "LaunchSite         object\n",
       "Outcome            object\n",
       "Flights             int64\n",
       "GridFins             bool\n",
       "Reused               bool\n",
       "Legs                 bool\n",
       "LandingPad         object\n",
       "Block             float64\n",
       "ReusedCount         int64\n",
       "Serial             object\n",
       "Longitude         float64\n",
       "Latitude          float64\n",
       "dtype: object"
      ]
     },
     "execution_count": 34,
     "metadata": {},
     "output_type": "execute_result"
    }
   ],
   "source": [
    "df.dtypes"
   ]
  },
  {
   "cell_type": "markdown",
   "id": "44cea182",
   "metadata": {},
   "source": [
    "# TASK 1: Calculate the number of launches on each site\n",
    "\n",
    "The data contains several Space X  launch facilities: <a href='https://en.wikipedia.org/wiki/List_of_Cape_Canaveral_and_Merritt_Island_launch_sites'>Cape Canaveral Space</a> Launch Complex 40  <b>VAFB SLC 4E </b> , Vandenberg Air Force Base Space Launch Complex 4E <b>(SLC-4E)</b>, Kennedy Space Center Launch Complex 39A <b>KSC LC 39A </b>.The location of each Launch Is placed in the column <code>LaunchSite</code>\n"
   ]
  },
  {
   "cell_type": "markdown",
   "id": "0862d1a1",
   "metadata": {},
   "source": [
    "Next, let's see the number of launches for each site.\n",
    "\n",
    "Use the method  <code>value_counts()</code> on the column <code>LaunchSite</code> to determine the number of launches  on each site: \n"
   ]
  },
  {
   "cell_type": "markdown",
   "id": "d85ca695",
   "metadata": {},
   "source": [
    "# Apply value_counts() on column LaunchSite\n"
   ]
  },
  {
   "cell_type": "markdown",
   "id": "b14f1901",
   "metadata": {},
   "source": [
    "Each launch aims to an dedicated orbit, and here are some common orbit types:\n"
   ]
  },
  {
   "cell_type": "markdown",
   "id": "51432fee",
   "metadata": {},
   "source": [
    "\n",
    "\n",
    "* <b>LEO</b>: Low Earth orbit (LEO)is an Earth-centred orbit with an altitude of 2,000 km (1,200 mi) or less (approximately one-third of the radius of Earth),[1] or with at least 11.25 periods per day (an orbital period of 128 minutes or less) and an eccentricity less than 0.25.[2] Most of the manmade objects in outer space are in LEO <a href='https://en.wikipedia.org/wiki/Low_Earth_orbit'>[1]</a>.\n",
    "\n",
    "* <b>VLEO</b>: Very Low Earth Orbits (VLEO) can be defined as the orbits with a mean altitude below 450 km. Operating in these orbits can provide a number of benefits to Earth observation spacecraft as the spacecraft operates closer to the observation<a href='https://www.researchgate.net/publication/271499606_Very_Low_Earth_Orbit_mission_concepts_for_Earth_Observation_Benefits_and_challenges'>[2]</a>.\n",
    "\n",
    "\n",
    "* <b>GTO</b> A geosynchronous orbit is a high Earth orbit that allows satellites to match Earth's rotation. Located at 22,236 miles (35,786 kilometers) above Earth's equator, this position is a valuable spot for monitoring weather, communications and surveillance. Because the satellite orbits at the same speed that the Earth is turning, the satellite seems to stay in place over a single longitude, though it may drift north to south,” NASA wrote on its Earth Observatory website <a  href=\"https://www.space.com/29222-geosynchronous-orbit.html\" >[3] </a>.\n",
    "\n",
    "\n",
    "* <b>SSO (or SO)</b>: It is a Sun-synchronous orbit  also called a heliosynchronous orbit is a nearly polar orbit around a planet, in which the satellite passes over any given point of the planet's surface at the same local mean solar time <a href=\"https://en.wikipedia.org/wiki/Sun-synchronous_orbit\">[4] <a>.\n",
    "    \n",
    "    \n",
    "    \n",
    "* <b>ES-L1 </b>:At the Lagrange points the gravitational forces of the two large bodies cancel out in such a way that a small object placed in orbit there is in equilibrium relative to the center of mass of the large bodies. L1 is one such point between the sun and the earth <a href=\"https://en.wikipedia.org/wiki/Lagrange_point#L1_point\">[5]</a> .\n",
    "    \n",
    "    \n",
    "* <b>HEO</b> A highly elliptical orbit, is an elliptic orbit with high eccentricity, usually referring to one around Earth <a href=\"https://en.wikipedia.org/wiki/Highly_elliptical_orbit\">[6]</a>.\n",
    "\n",
    "\n",
    "* <b> ISS </b> A modular space station (habitable artificial satellite) in low Earth orbit. It is a multinational collaborative project between five participating space agencies: NASA (United States), Roscosmos (Russia), JAXA (Japan), ESA (Europe), and CSA (Canada)<a href=\"https://en.wikipedia.org/wiki/International_Space_Station\"> [7] </a>\n",
    "\n",
    "\n",
    "* <b> MEO </b> Geocentric orbits ranging in altitude from 2,000 km (1,200 mi) to just below geosynchronous orbit at 35,786 kilometers (22,236 mi). Also known as an intermediate circular orbit. These are \"most commonly at 20,200 kilometers (12,600 mi), or 20,650 kilometers (12,830 mi), with an orbital period of 12 hours <a href=\"https://en.wikipedia.org/wiki/List_of_orbits\"> [8] </a>\n",
    "\n",
    "\n",
    "* <b> HEO </b> Geocentric orbits above the altitude of geosynchronous orbit (35,786 km or 22,236 mi) <a href=\"https://en.wikipedia.org/wiki/List_of_orbits\"> [9] </a>\n",
    "\n",
    "\n",
    "* <b> GEO </b> It is a circular geosynchronous orbit 35,786 kilometres (22,236 miles) above Earth's equator and following the direction of Earth's rotation <a href=\"https://en.wikipedia.org/wiki/Geostationary_orbit\"> [10] </a>\n",
    "\n",
    "\n",
    "* <b> PO </b> It is one type of satellites in which a satellite passes above or nearly above both poles of the body being orbited (usually a planet such as the Earth <a href=\"https://en.wikipedia.org/wiki/Polar_orbit\"> [11] </a>\n",
    "\n",
    "some are shown in the following plot:\n"
   ]
  },
  {
   "cell_type": "markdown",
   "id": "5b700844",
   "metadata": {},
   "source": [
    "# TASK 2: Calculate the number and occurrence of each orbit\n"
   ]
  },
  {
   "cell_type": "markdown",
   "id": "3e7f8a31",
   "metadata": {},
   "source": [
    " Use the method  <code>.value_counts()</code> to determine the number and occurrence of each orbit in the  column <code>Orbit</code>\n"
   ]
  },
  {
   "cell_type": "code",
   "execution_count": 35,
   "id": "78f38493",
   "metadata": {},
   "outputs": [],
   "source": [
    "# Apply value_counts on Orbit column"
   ]
  },
  {
   "cell_type": "code",
   "execution_count": null,
   "id": "01ab1600",
   "metadata": {},
   "outputs": [],
   "source": [
    "### TASK 3: Calculate the number and occurence of mission outcome of the orbits\n",
    "\n",
    "Use the method <code>.value_counts()</code> on the column <code>Outcome</code> to determine the number of <code>landing_outcomes</code>.Then assign it to a variable landing_outcomes.\n",
    "\n",
    "# landing_outcomes = values on Outcome column\n",
    "<code>True Ocean</code> means the mission outcome was successfully  landed to a specific region of the ocean while <code>False Ocean</code> means the mission outcome was unsuccessfully landed to a specific region of the ocean. <code>True RTLS</code> means the mission outcome was successfully  landed to a ground pad <code>False RTLS</code> means the mission outcome was unsuccessfully landed to a ground pad.<code>True ASDS</code> means the mission outcome was successfully  landed to a drone ship <code>False ASDS</code> means the mission outcome was unsuccessfully landed to a drone ship. <code>None ASDS</code> and <code>None None</code> these represent a failure to land.\n",
    "\n",
    "for i,outcome in enumerate(landing_outcomes.keys()):\n",
    "    print(i,outcome)\n",
    "We create a set of outcomes where the second stage did not land successfully:\n",
    "\n",
    "bad_outcomes=set(landing_outcomes.keys()[[1,3,5,6,7]])\n",
    "bad_outcomes"
   ]
  },
  {
   "cell_type": "markdown",
   "id": "9cb509d5",
   "metadata": {},
   "source": [
    "# TASK 4: Create a landing outcome label from Outcome column\n"
   ]
  },
  {
   "cell_type": "markdown",
   "id": "237fd5b0",
   "metadata": {},
   "source": [
    "Using the <code>Outcome</code>,  create a list where the element is zero if the corresponding  row  in  <code>Outcome</code> is in the set <code>bad_outcome</code>; otherwise, it's one. Then assign it to the variable <code>landing_class</code>:\n"
   ]
  },
  {
   "cell_type": "code",
   "execution_count": 37,
   "id": "2e3fdf01",
   "metadata": {},
   "outputs": [],
   "source": [
    "# landing_class = 0 if bad_outcome\n",
    "# landing_class = 1 otherwise"
   ]
  },
  {
   "cell_type": "markdown",
   "id": "2ab75ac9",
   "metadata": {},
   "source": [
    "This variable will represent the classification variable that represents the outcome of each launch. If the value is zero, the  first stage did not land successfully; one means  the first stage landed Successfully \n"
   ]
  },
  {
   "cell_type": "code",
   "execution_count": null,
   "id": "d678713b",
   "metadata": {},
   "outputs": [],
   "source": [
    "df['Class']=landing_class\n",
    "df[['Class']].head(8)"
   ]
  },
  {
   "cell_type": "code",
   "execution_count": 39,
   "id": "9ee378ff",
   "metadata": {},
   "outputs": [
    {
     "data": {
      "text/html": [
       "<div>\n",
       "<style scoped>\n",
       "    .dataframe tbody tr th:only-of-type {\n",
       "        vertical-align: middle;\n",
       "    }\n",
       "\n",
       "    .dataframe tbody tr th {\n",
       "        vertical-align: top;\n",
       "    }\n",
       "\n",
       "    .dataframe thead th {\n",
       "        text-align: right;\n",
       "    }\n",
       "</style>\n",
       "<table border=\"1\" class=\"dataframe\">\n",
       "  <thead>\n",
       "    <tr style=\"text-align: right;\">\n",
       "      <th></th>\n",
       "      <th>FlightNumber</th>\n",
       "      <th>Date</th>\n",
       "      <th>BoosterVersion</th>\n",
       "      <th>PayloadMass</th>\n",
       "      <th>Orbit</th>\n",
       "      <th>LaunchSite</th>\n",
       "      <th>Outcome</th>\n",
       "      <th>Flights</th>\n",
       "      <th>GridFins</th>\n",
       "      <th>Reused</th>\n",
       "      <th>Legs</th>\n",
       "      <th>LandingPad</th>\n",
       "      <th>Block</th>\n",
       "      <th>ReusedCount</th>\n",
       "      <th>Serial</th>\n",
       "      <th>Longitude</th>\n",
       "      <th>Latitude</th>\n",
       "    </tr>\n",
       "  </thead>\n",
       "  <tbody>\n",
       "    <tr>\n",
       "      <th>0</th>\n",
       "      <td>1</td>\n",
       "      <td>2010-06-04</td>\n",
       "      <td>Falcon 9</td>\n",
       "      <td>6104.959412</td>\n",
       "      <td>LEO</td>\n",
       "      <td>CCAFS SLC 40</td>\n",
       "      <td>None None</td>\n",
       "      <td>1</td>\n",
       "      <td>False</td>\n",
       "      <td>False</td>\n",
       "      <td>False</td>\n",
       "      <td>NaN</td>\n",
       "      <td>1.0</td>\n",
       "      <td>0</td>\n",
       "      <td>B0003</td>\n",
       "      <td>-80.577366</td>\n",
       "      <td>28.561857</td>\n",
       "    </tr>\n",
       "    <tr>\n",
       "      <th>1</th>\n",
       "      <td>2</td>\n",
       "      <td>2012-05-22</td>\n",
       "      <td>Falcon 9</td>\n",
       "      <td>525.000000</td>\n",
       "      <td>LEO</td>\n",
       "      <td>CCAFS SLC 40</td>\n",
       "      <td>None None</td>\n",
       "      <td>1</td>\n",
       "      <td>False</td>\n",
       "      <td>False</td>\n",
       "      <td>False</td>\n",
       "      <td>NaN</td>\n",
       "      <td>1.0</td>\n",
       "      <td>0</td>\n",
       "      <td>B0005</td>\n",
       "      <td>-80.577366</td>\n",
       "      <td>28.561857</td>\n",
       "    </tr>\n",
       "    <tr>\n",
       "      <th>2</th>\n",
       "      <td>3</td>\n",
       "      <td>2013-03-01</td>\n",
       "      <td>Falcon 9</td>\n",
       "      <td>677.000000</td>\n",
       "      <td>ISS</td>\n",
       "      <td>CCAFS SLC 40</td>\n",
       "      <td>None None</td>\n",
       "      <td>1</td>\n",
       "      <td>False</td>\n",
       "      <td>False</td>\n",
       "      <td>False</td>\n",
       "      <td>NaN</td>\n",
       "      <td>1.0</td>\n",
       "      <td>0</td>\n",
       "      <td>B0007</td>\n",
       "      <td>-80.577366</td>\n",
       "      <td>28.561857</td>\n",
       "    </tr>\n",
       "    <tr>\n",
       "      <th>3</th>\n",
       "      <td>4</td>\n",
       "      <td>2013-09-29</td>\n",
       "      <td>Falcon 9</td>\n",
       "      <td>500.000000</td>\n",
       "      <td>PO</td>\n",
       "      <td>VAFB SLC 4E</td>\n",
       "      <td>False Ocean</td>\n",
       "      <td>1</td>\n",
       "      <td>False</td>\n",
       "      <td>False</td>\n",
       "      <td>False</td>\n",
       "      <td>NaN</td>\n",
       "      <td>1.0</td>\n",
       "      <td>0</td>\n",
       "      <td>B1003</td>\n",
       "      <td>-120.610829</td>\n",
       "      <td>34.632093</td>\n",
       "    </tr>\n",
       "    <tr>\n",
       "      <th>4</th>\n",
       "      <td>5</td>\n",
       "      <td>2013-12-03</td>\n",
       "      <td>Falcon 9</td>\n",
       "      <td>3170.000000</td>\n",
       "      <td>GTO</td>\n",
       "      <td>CCAFS SLC 40</td>\n",
       "      <td>None None</td>\n",
       "      <td>1</td>\n",
       "      <td>False</td>\n",
       "      <td>False</td>\n",
       "      <td>False</td>\n",
       "      <td>NaN</td>\n",
       "      <td>1.0</td>\n",
       "      <td>0</td>\n",
       "      <td>B1004</td>\n",
       "      <td>-80.577366</td>\n",
       "      <td>28.561857</td>\n",
       "    </tr>\n",
       "  </tbody>\n",
       "</table>\n",
       "</div>"
      ],
      "text/plain": [
       "   FlightNumber        Date BoosterVersion  PayloadMass Orbit    LaunchSite  \\\n",
       "0             1  2010-06-04       Falcon 9  6104.959412   LEO  CCAFS SLC 40   \n",
       "1             2  2012-05-22       Falcon 9   525.000000   LEO  CCAFS SLC 40   \n",
       "2             3  2013-03-01       Falcon 9   677.000000   ISS  CCAFS SLC 40   \n",
       "3             4  2013-09-29       Falcon 9   500.000000    PO   VAFB SLC 4E   \n",
       "4             5  2013-12-03       Falcon 9  3170.000000   GTO  CCAFS SLC 40   \n",
       "\n",
       "       Outcome  Flights  GridFins  Reused   Legs LandingPad  Block  \\\n",
       "0    None None        1     False   False  False        NaN    1.0   \n",
       "1    None None        1     False   False  False        NaN    1.0   \n",
       "2    None None        1     False   False  False        NaN    1.0   \n",
       "3  False Ocean        1     False   False  False        NaN    1.0   \n",
       "4    None None        1     False   False  False        NaN    1.0   \n",
       "\n",
       "   ReusedCount Serial   Longitude   Latitude  \n",
       "0            0  B0003  -80.577366  28.561857  \n",
       "1            0  B0005  -80.577366  28.561857  \n",
       "2            0  B0007  -80.577366  28.561857  \n",
       "3            0  B1003 -120.610829  34.632093  \n",
       "4            0  B1004  -80.577366  28.561857  "
      ]
     },
     "execution_count": 39,
     "metadata": {},
     "output_type": "execute_result"
    }
   ],
   "source": [
    "df.head(5)"
   ]
  },
  {
   "cell_type": "markdown",
   "id": "3e17d074",
   "metadata": {},
   "source": [
    "We can use the following line of code to determine  the success rate:\n"
   ]
  },
  {
   "cell_type": "code",
   "execution_count": null,
   "id": "d6ba016a",
   "metadata": {},
   "outputs": [],
   "source": [
    "df[\"Class\"].mean()"
   ]
  },
  {
   "cell_type": "markdown",
   "id": "51f77644",
   "metadata": {},
   "source": [
    "We can now export it to a CSV for the next section,but to make the answers consistent, in the next lab we will provide data in a pre-selected date range.\n"
   ]
  },
  {
   "cell_type": "code",
   "execution_count": null,
   "id": "1b5543a1",
   "metadata": {},
   "outputs": [],
   "source": [
    "<code>df.to_csv(\"dataset_part_2.csv\", index=False)</code>\n"
   ]
  },
  {
   "cell_type": "markdown",
   "id": "f1495174",
   "metadata": {},
   "source": [
    "# Introduction"
   ]
  },
  {
   "cell_type": "markdown",
   "id": "e4f982f2",
   "metadata": {},
   "source": [
    "Using this python notebook you will:\n",
    "  1. Understand the spacex Dataset\n",
    "  2. Load the dataset into the corresponding table in a Db2 database\n",
    "  3. Execute SQL queries to answer assignment questions"
   ]
  },
  {
   "cell_type": "markdown",
   "id": "e5f1da50",
   "metadata": {},
   "source": [
    "## Overview of the DataSet\n",
    "\n",
    "SpaceX has gained worldwide attention for a series of historic milestones. \n",
    "\n",
    "It is the only private company ever to return a spacecraft from low-earth orbit, which it first accomplished in December 2010.\n",
    "SpaceX advertises Falcon 9 rocket launches on its website with a cost of 62 million dollars wheras other providers cost upward of 165 million dollars each, much of the savings is because Space X can reuse the first stage. \n",
    "\n",
    "\n",
    "Therefore if we can determine if the first stage will land, we can determine the cost of a launch. \n",
    "\n",
    "This information can be used if an alternate company wants to bid against SpaceX for a rocket launch.\n",
    "\n",
    "This dataset includes a record for each payload carried during a SpaceX mission into outer space.\n"
   ]
  },
  {
   "cell_type": "markdown",
   "id": "20433d2e",
   "metadata": {},
   "source": [
    "### Download the datasets\n",
    "\n",
    "This assignment requires you to load the spacex dataset.\n",
    "\n",
    "In many cases the dataset to be analyzed is available as a .CSV (comma separated values) file, perhaps on the internet. Click on the link below to download and save the dataset (.CSV file):\n",
    "\n",
    " <a href=\"https://cf-courses-data.s3.us.cloud-object-storage.appdomain.cloud/IBM-DS0321EN-SkillsNetwork/labs/module_2/data/Spacex.csv\" target=\"_blank\">Spacex DataSet</a>\n",
    "\n"
   ]
  },
  {
   "cell_type": "code",
   "execution_count": 42,
   "id": "255bb717",
   "metadata": {},
   "outputs": [
    {
     "name": "stdout",
     "output_type": "stream",
     "text": [
      "Collecting sqlalchemy==1.3.9\n",
      "  Downloading SQLAlchemy-1.3.9.tar.gz (6.0 MB)\n",
      "     ---------------------------------------- 0.0/6.0 MB ? eta -:--:--\n",
      "     ---------------------------------------- 0.0/6.0 MB 217.9 kB/s eta 0:00:28\n",
      "     ---------------------------------------- 0.0/6.0 MB 262.6 kB/s eta 0:00:23\n",
      "      --------------------------------------- 0.1/6.0 MB 581.0 kB/s eta 0:00:11\n",
      "     - -------------------------------------- 0.2/6.0 MB 1.3 MB/s eta 0:00:05\n",
      "     --- ------------------------------------ 0.5/6.0 MB 2.2 MB/s eta 0:00:03\n",
      "     ---- ----------------------------------- 0.7/6.0 MB 2.7 MB/s eta 0:00:02\n",
      "     ------ --------------------------------- 0.9/6.0 MB 2.7 MB/s eta 0:00:02\n",
      "     ------ --------------------------------- 1.0/6.0 MB 2.9 MB/s eta 0:00:02\n",
      "     ---------- ----------------------------- 1.6/6.0 MB 3.7 MB/s eta 0:00:02\n",
      "     ----------- ---------------------------- 1.8/6.0 MB 3.9 MB/s eta 0:00:02\n",
      "     ------------- -------------------------- 2.1/6.0 MB 4.1 MB/s eta 0:00:01\n",
      "     --------------- ------------------------ 2.3/6.0 MB 4.2 MB/s eta 0:00:01\n",
      "     ---------------- ----------------------- 2.5/6.0 MB 4.2 MB/s eta 0:00:01\n",
      "     ------------------ --------------------- 2.8/6.0 MB 4.3 MB/s eta 0:00:01\n",
      "     -------------------- ------------------- 3.0/6.0 MB 4.3 MB/s eta 0:00:01\n",
      "     --------------------- ------------------ 3.2/6.0 MB 4.4 MB/s eta 0:00:01\n",
      "     ----------------------- ---------------- 3.5/6.0 MB 4.4 MB/s eta 0:00:01\n",
      "     ------------------------ --------------- 3.7/6.0 MB 4.4 MB/s eta 0:00:01\n",
      "     -------------------------- ------------- 3.9/6.0 MB 4.4 MB/s eta 0:00:01\n",
      "     --------------------------- ------------ 4.1/6.0 MB 4.4 MB/s eta 0:00:01\n",
      "     ---------------------------- ----------- 4.3/6.0 MB 4.4 MB/s eta 0:00:01\n",
      "     ------------------------------ --------- 4.5/6.0 MB 4.4 MB/s eta 0:00:01\n",
      "     ------------------------------- -------- 4.7/6.0 MB 4.4 MB/s eta 0:00:01\n",
      "     -------------------------------- ------- 4.9/6.0 MB 4.4 MB/s eta 0:00:01\n",
      "     --------------------------------- ------ 5.1/6.0 MB 4.4 MB/s eta 0:00:01\n",
      "     ----------------------------------- ---- 5.3/6.0 MB 4.4 MB/s eta 0:00:01\n",
      "     ------------------------------------ --- 5.5/6.0 MB 4.4 MB/s eta 0:00:01\n",
      "     -------------------------------------- - 5.7/6.0 MB 4.4 MB/s eta 0:00:01\n",
      "     ---------------------------------------  5.9/6.0 MB 4.4 MB/s eta 0:00:01\n",
      "     ---------------------------------------- 6.0/6.0 MB 4.3 MB/s eta 0:00:00\n",
      "  Preparing metadata (setup.py): started\n",
      "  Preparing metadata (setup.py): finished with status 'done'\n",
      "Building wheels for collected packages: sqlalchemy\n",
      "  Building wheel for sqlalchemy (setup.py): started\n",
      "  Building wheel for sqlalchemy (setup.py): finished with status 'done'\n",
      "  Created wheel for sqlalchemy: filename=SQLAlchemy-1.3.9-cp311-cp311-win_amd64.whl size=1142949 sha256=7da05fbac38b9f30121054c31f116672388e94039e3c641c07f8f0c1e6996513\n",
      "  Stored in directory: c:\\users\\umana\\appdata\\local\\pip\\cache\\wheels\\3a\\7c\\1e\\12404784a68083eb969f877a1808a1847bab897684b56ddc55\n",
      "Successfully built sqlalchemy\n",
      "Installing collected packages: sqlalchemy\n",
      "  Attempting uninstall: sqlalchemy\n",
      "    Found existing installation: SQLAlchemy 1.4.39\n",
      "    Uninstalling SQLAlchemy-1.4.39:\n",
      "      Successfully uninstalled SQLAlchemy-1.4.39\n",
      "Successfully installed sqlalchemy-1.3.9\n"
     ]
    }
   ],
   "source": [
    "!pip install sqlalchemy==1.3.9\n"
   ]
  },
  {
   "cell_type": "markdown",
   "id": "8a1c2b77",
   "metadata": {},
   "source": [
    "# Connect to the database\n",
    "\n",
    "Let us first load the SQL extension and establish a connection with the database\n"
   ]
  },
  {
   "cell_type": "code",
   "execution_count": 43,
   "id": "cb669079",
   "metadata": {},
   "outputs": [],
   "source": [
    "#Please uncomment and execute the code below if you are working locally.\n",
    "\n",
    "#!pip install ipython-sql"
   ]
  },
  {
   "cell_type": "code",
   "execution_count": null,
   "id": "78163779",
   "metadata": {},
   "outputs": [],
   "source": [
    "%load_ext sql"
   ]
  },
  {
   "cell_type": "code",
   "execution_count": null,
   "id": "b91986da",
   "metadata": {},
   "outputs": [],
   "source": [
    "import csv, sqlite3\n",
    "\n",
    "con = sqlite3.connect(\"my_data1.db\")\n",
    "cur = con.cursor()"
   ]
  },
  {
   "cell_type": "code",
   "execution_count": null,
   "id": "2dae0725",
   "metadata": {},
   "outputs": [],
   "source": [
    "!pip install -q pandas==1.1.5"
   ]
  },
  {
   "cell_type": "code",
   "execution_count": 48,
   "id": "a6f4757a",
   "metadata": {},
   "outputs": [
    {
     "name": "stderr",
     "output_type": "stream",
     "text": [
      "UsageError: Line magic function `%sql` not found.\n"
     ]
    }
   ],
   "source": [
    "%sql sqlite:///my_data1.db"
   ]
  },
  {
   "cell_type": "code",
   "execution_count": 49,
   "id": "e40c973c",
   "metadata": {},
   "outputs": [
    {
     "data": {
      "text/plain": [
       "101"
      ]
     },
     "execution_count": 49,
     "metadata": {},
     "output_type": "execute_result"
    }
   ],
   "source": [
    "import pandas as pd\n",
    "df = pd.read_csv(\"https://cf-courses-data.s3.us.cloud-object-storage.appdomain.cloud/IBM-DS0321EN-SkillsNetwork/labs/module_2/data/Spacex.csv\")\n",
    "df.to_sql(\"SPACEXTBL\", con, if_exists='replace', index=False,method=\"multi\")"
   ]
  },
  {
   "cell_type": "markdown",
   "id": "382739f2",
   "metadata": {},
   "source": [
    "# **Note:This below code is added to remove blank rows from table**\n"
   ]
  },
  {
   "cell_type": "code",
   "execution_count": null,
   "id": "b562af2a",
   "metadata": {},
   "outputs": [],
   "source": [
    "%sql create table SPACEXTABLE as select * from SPACEXTBL where Date is not null"
   ]
  },
  {
   "cell_type": "markdown",
   "id": "a53c8603",
   "metadata": {},
   "source": [
    "# Tasks\n",
    "\n",
    "Now write and execute SQL queries to solve the assignment tasks.\n",
    "\n",
    "**Note: If the column names are in mixed case enclose it in double quotes\n",
    "   For Example \"Landing_Outcome\"**\n",
    "\n",
    " Task 1\n",
    "\n",
    "\n",
    "\n",
    "\n",
    "##### Display the names of the unique launch sites  in the space mission\n"
   ]
  },
  {
   "cell_type": "markdown",
   "id": "3dfe581a",
   "metadata": {},
   "source": [
    "# Task 2\n",
    "\n",
    "\n",
    "#####  Display 5 records where launch sites begin with the string 'CCA' \n"
   ]
  },
  {
   "cell_type": "markdown",
   "id": "9787f05b",
   "metadata": {},
   "source": [
    "# Task 3\n",
    "\n",
    "\n",
    "\n",
    "\n",
    "##### Display the total payload mass carried by boosters launched by NASA (CRS)\n"
   ]
  },
  {
   "cell_type": "markdown",
   "id": "3cc94814",
   "metadata": {},
   "source": [
    "# Task 4\n",
    "\n",
    "\n",
    "\n",
    "\n",
    "##### Display average payload mass carried by booster version F9 v1.1\n"
   ]
  },
  {
   "cell_type": "markdown",
   "id": "176023fc",
   "metadata": {},
   "source": [
    "# Task 5\n",
    "\n",
    "##### List the date when the first succesful landing outcome in ground pad was acheived.\n",
    "\n",
    "\n",
    "_Hint:Use min function_ \n"
   ]
  },
  {
   "cell_type": "markdown",
   "id": "62e9bafe",
   "metadata": {},
   "source": [
    "# Task 6\n",
    "\n",
    "##### List the names of the boosters which have success in drone ship and have payload mass greater than 4000 but less than 6000\n"
   ]
  },
  {
   "cell_type": "markdown",
   "id": "e348046b",
   "metadata": {},
   "source": [
    "# Task 7\n",
    "\n",
    "\n",
    "\n",
    "\n",
    "##### List the total number of successful and failure mission outcomes\n"
   ]
  },
  {
   "cell_type": "markdown",
   "id": "41d67dee",
   "metadata": {},
   "source": [
    "# Task 8\n",
    "\n",
    "\n",
    "\n",
    "##### List the   names of the booster_versions which have carried the maximum payload mass. Use a subquery\n"
   ]
  },
  {
   "cell_type": "markdown",
   "id": "50468559",
   "metadata": {},
   "source": [
    "# Task 9\n",
    "\n",
    "\n",
    "##### List the records which will display the month names, failure landing_outcomes in drone ship ,booster versions, launch_site for the months in year 2015.\n",
    "\n",
    "**Note: SQLLite does not support monthnames. So you need to use  substr(Date, 6,2) as month to get the months and substr(Date,0,5)='2015' for year.**\n"
   ]
  },
  {
   "cell_type": "markdown",
   "id": "0e704c80",
   "metadata": {},
   "source": [
    "# Task 10\n",
    "\n",
    "\n",
    "\n",
    "\n",
    "##### Rank the count of landing outcomes (such as Failure (drone ship) or Success (ground pad)) between the date 2010-06-04 and 2017-03-20, in descending order.\n"
   ]
  },
  {
   "cell_type": "markdown",
   "id": "51e30e90",
   "metadata": {},
   "source": [
    "# **SpaceX  Falcon 9 First Stage Landing Prediction**\n"
   ]
  },
  {
   "cell_type": "markdown",
   "id": "db98776d",
   "metadata": {},
   "source": [
    "# Assignment: Exploring and Preparing Data\n"
   ]
  },
  {
   "cell_type": "markdown",
   "id": "6c3e6859",
   "metadata": {},
   "source": [
    "In this assignment, we will predict if the Falcon 9 first stage will land successfully. SpaceX advertises Falcon 9 rocket launches on its website with a cost of 62 million dollars; other providers cost upward of 165 million dollars each, much of the savings is due to the fact that SpaceX can reuse the first stage. \n",
    "\n",
    "In this lab, you will perform Exploratory Data Analysis and Feature Engineering.\n"
   ]
  },
  {
   "cell_type": "markdown",
   "id": "0b8a046e",
   "metadata": {},
   "source": [
    "  ## Objectives\n",
    "Perform exploratory Data Analysis and Feature Engineering using `Pandas` and `Matplotlib`\n",
    "\n",
    "- Exploratory Data Analysis\n",
    "- Preparing Data  Feature Engineering \n"
   ]
  },
  {
   "cell_type": "markdown",
   "id": "c04af465",
   "metadata": {},
   "source": [
    "# Import Libraries and Define Auxiliary Functions\n"
   ]
  },
  {
   "cell_type": "markdown",
   "id": "3d69fc35",
   "metadata": {},
   "source": [
    "We will import the following libraries the lab \n",
    "\n"
   ]
  },
  {
   "cell_type": "code",
   "execution_count": 58,
   "id": "e70ef982",
   "metadata": {},
   "outputs": [],
   "source": [
    "# Pandas is a software library written for the Python programming language for data manipulation and analysis.\n",
    "import pandas as pd\n",
    "#NumPy is a library for the Python programming language, adding support for large, multi-dimensional arrays and matrices, along with a large collection of high-level mathematical functions to operate on these arrays\n",
    "import numpy as np\n",
    "# Matplotlib is a plotting library for python and pyplot gives us a MatLab like plotting framework. We will use this in our plotter function to plot data.\n",
    "import matplotlib.pyplot as plt\n",
    "#Seaborn is a Python data visualization library based on matplotlib. It provides a high-level interface for drawing attractive and informative statistical graphics\n",
    "import seaborn as sns"
   ]
  },
  {
   "cell_type": "markdown",
   "id": "594e800a",
   "metadata": {},
   "source": [
    "# Exploratory Data Analysis \n"
   ]
  },
  {
   "cell_type": "markdown",
   "id": "529a5c10",
   "metadata": {},
   "source": [
    "First, let's read the SpaceX dataset into a Pandas dataframe and print its summary\n"
   ]
  },
  {
   "cell_type": "code",
   "execution_count": 59,
   "id": "fa1cfd49",
   "metadata": {},
   "outputs": [
    {
     "data": {
      "text/html": [
       "<div>\n",
       "<style scoped>\n",
       "    .dataframe tbody tr th:only-of-type {\n",
       "        vertical-align: middle;\n",
       "    }\n",
       "\n",
       "    .dataframe tbody tr th {\n",
       "        vertical-align: top;\n",
       "    }\n",
       "\n",
       "    .dataframe thead th {\n",
       "        text-align: right;\n",
       "    }\n",
       "</style>\n",
       "<table border=\"1\" class=\"dataframe\">\n",
       "  <thead>\n",
       "    <tr style=\"text-align: right;\">\n",
       "      <th></th>\n",
       "      <th>FlightNumber</th>\n",
       "      <th>Date</th>\n",
       "      <th>BoosterVersion</th>\n",
       "      <th>PayloadMass</th>\n",
       "      <th>Orbit</th>\n",
       "      <th>LaunchSite</th>\n",
       "      <th>Outcome</th>\n",
       "      <th>Flights</th>\n",
       "      <th>GridFins</th>\n",
       "      <th>Reused</th>\n",
       "      <th>Legs</th>\n",
       "      <th>LandingPad</th>\n",
       "      <th>Block</th>\n",
       "      <th>ReusedCount</th>\n",
       "      <th>Serial</th>\n",
       "      <th>Longitude</th>\n",
       "      <th>Latitude</th>\n",
       "      <th>Class</th>\n",
       "    </tr>\n",
       "  </thead>\n",
       "  <tbody>\n",
       "    <tr>\n",
       "      <th>0</th>\n",
       "      <td>1</td>\n",
       "      <td>2010-06-04</td>\n",
       "      <td>Falcon 9</td>\n",
       "      <td>6104.959412</td>\n",
       "      <td>LEO</td>\n",
       "      <td>CCAFS SLC 40</td>\n",
       "      <td>None None</td>\n",
       "      <td>1</td>\n",
       "      <td>False</td>\n",
       "      <td>False</td>\n",
       "      <td>False</td>\n",
       "      <td>NaN</td>\n",
       "      <td>1.0</td>\n",
       "      <td>0</td>\n",
       "      <td>B0003</td>\n",
       "      <td>-80.577366</td>\n",
       "      <td>28.561857</td>\n",
       "      <td>0</td>\n",
       "    </tr>\n",
       "    <tr>\n",
       "      <th>1</th>\n",
       "      <td>2</td>\n",
       "      <td>2012-05-22</td>\n",
       "      <td>Falcon 9</td>\n",
       "      <td>525.000000</td>\n",
       "      <td>LEO</td>\n",
       "      <td>CCAFS SLC 40</td>\n",
       "      <td>None None</td>\n",
       "      <td>1</td>\n",
       "      <td>False</td>\n",
       "      <td>False</td>\n",
       "      <td>False</td>\n",
       "      <td>NaN</td>\n",
       "      <td>1.0</td>\n",
       "      <td>0</td>\n",
       "      <td>B0005</td>\n",
       "      <td>-80.577366</td>\n",
       "      <td>28.561857</td>\n",
       "      <td>0</td>\n",
       "    </tr>\n",
       "    <tr>\n",
       "      <th>2</th>\n",
       "      <td>3</td>\n",
       "      <td>2013-03-01</td>\n",
       "      <td>Falcon 9</td>\n",
       "      <td>677.000000</td>\n",
       "      <td>ISS</td>\n",
       "      <td>CCAFS SLC 40</td>\n",
       "      <td>None None</td>\n",
       "      <td>1</td>\n",
       "      <td>False</td>\n",
       "      <td>False</td>\n",
       "      <td>False</td>\n",
       "      <td>NaN</td>\n",
       "      <td>1.0</td>\n",
       "      <td>0</td>\n",
       "      <td>B0007</td>\n",
       "      <td>-80.577366</td>\n",
       "      <td>28.561857</td>\n",
       "      <td>0</td>\n",
       "    </tr>\n",
       "    <tr>\n",
       "      <th>3</th>\n",
       "      <td>4</td>\n",
       "      <td>2013-09-29</td>\n",
       "      <td>Falcon 9</td>\n",
       "      <td>500.000000</td>\n",
       "      <td>PO</td>\n",
       "      <td>VAFB SLC 4E</td>\n",
       "      <td>False Ocean</td>\n",
       "      <td>1</td>\n",
       "      <td>False</td>\n",
       "      <td>False</td>\n",
       "      <td>False</td>\n",
       "      <td>NaN</td>\n",
       "      <td>1.0</td>\n",
       "      <td>0</td>\n",
       "      <td>B1003</td>\n",
       "      <td>-120.610829</td>\n",
       "      <td>34.632093</td>\n",
       "      <td>0</td>\n",
       "    </tr>\n",
       "    <tr>\n",
       "      <th>4</th>\n",
       "      <td>5</td>\n",
       "      <td>2013-12-03</td>\n",
       "      <td>Falcon 9</td>\n",
       "      <td>3170.000000</td>\n",
       "      <td>GTO</td>\n",
       "      <td>CCAFS SLC 40</td>\n",
       "      <td>None None</td>\n",
       "      <td>1</td>\n",
       "      <td>False</td>\n",
       "      <td>False</td>\n",
       "      <td>False</td>\n",
       "      <td>NaN</td>\n",
       "      <td>1.0</td>\n",
       "      <td>0</td>\n",
       "      <td>B1004</td>\n",
       "      <td>-80.577366</td>\n",
       "      <td>28.561857</td>\n",
       "      <td>0</td>\n",
       "    </tr>\n",
       "  </tbody>\n",
       "</table>\n",
       "</div>"
      ],
      "text/plain": [
       "   FlightNumber        Date BoosterVersion  PayloadMass Orbit    LaunchSite  \\\n",
       "0             1  2010-06-04       Falcon 9  6104.959412   LEO  CCAFS SLC 40   \n",
       "1             2  2012-05-22       Falcon 9   525.000000   LEO  CCAFS SLC 40   \n",
       "2             3  2013-03-01       Falcon 9   677.000000   ISS  CCAFS SLC 40   \n",
       "3             4  2013-09-29       Falcon 9   500.000000    PO   VAFB SLC 4E   \n",
       "4             5  2013-12-03       Falcon 9  3170.000000   GTO  CCAFS SLC 40   \n",
       "\n",
       "       Outcome  Flights  GridFins  Reused   Legs LandingPad  Block  \\\n",
       "0    None None        1     False   False  False        NaN    1.0   \n",
       "1    None None        1     False   False  False        NaN    1.0   \n",
       "2    None None        1     False   False  False        NaN    1.0   \n",
       "3  False Ocean        1     False   False  False        NaN    1.0   \n",
       "4    None None        1     False   False  False        NaN    1.0   \n",
       "\n",
       "   ReusedCount Serial   Longitude   Latitude  Class  \n",
       "0            0  B0003  -80.577366  28.561857      0  \n",
       "1            0  B0005  -80.577366  28.561857      0  \n",
       "2            0  B0007  -80.577366  28.561857      0  \n",
       "3            0  B1003 -120.610829  34.632093      0  \n",
       "4            0  B1004  -80.577366  28.561857      0  "
      ]
     },
     "execution_count": 59,
     "metadata": {},
     "output_type": "execute_result"
    }
   ],
   "source": [
    "df=pd.read_csv(\"https://cf-courses-data.s3.us.cloud-object-storage.appdomain.cloud/IBM-DS0321EN-SkillsNetwork/datasets/dataset_part_2.csv\")\n",
    "\n",
    "# If you were unable to complete the previous lab correctly you can uncomment and load this csv\n",
    "\n",
    "# df = pd.read_csv('https://cf-courses-data.s3.us.cloud-object-storage.appdomain.cloud/IBMDeveloperSkillsNetwork-DS0701EN-SkillsNetwork/api/dataset_part_2.csv')\n",
    "\n",
    "df.head(5)"
   ]
  },
  {
   "cell_type": "markdown",
   "id": "a291c62b",
   "metadata": {},
   "source": [
    "First, let's try to see how the `FlightNumber` (indicating the continuous launch attempts.) and `Payload` variables would affect the launch outcome.\n",
    "\n",
    "We can plot out the <code>FlightNumber</code> vs. <code>PayloadMass</code>and overlay the outcome of the launch. We see that as the flight number increases, the first stage is more likely to land successfully. The payload mass is also important; it seems the more massive the payload, the less likely the first stage will return.\n"
   ]
  },
  {
   "cell_type": "code",
   "execution_count": 60,
   "id": "992b54d6",
   "metadata": {},
   "outputs": [
    {
     "name": "stderr",
     "output_type": "stream",
     "text": [
      "C:\\Users\\umana\\anaconda3\\Lib\\site-packages\\seaborn\\axisgrid.py:118: UserWarning: The figure layout has changed to tight\n",
      "  self._figure.tight_layout(*args, **kwargs)\n"
     ]
    },
    {
     "data": {
      "image/png": "[encoded data removed]",
      "text/plain": [
       "<Figure size 2558.88x500 with 1 Axes>"
      ]
     },
     "metadata": {},
     "output_type": "display_data"
    }
   ],
   "source": [
    "sns.catplot(y=\"PayloadMass\", x=\"FlightNumber\", hue=\"Class\", data=df, aspect = 5)\n",
    "plt.xlabel(\"Flight Number\",fontsize=20)\n",
    "plt.ylabel(\"Pay load Mass (kg)\",fontsize=20)\n",
    "plt.show()"
   ]
  },
  {
   "cell_type": "markdown",
   "id": "841d6043",
   "metadata": {},
   "source": [
    "Next, let's drill down to each site visualize its detailed launch records.\n"
   ]
  },
  {
   "cell_type": "markdown",
   "id": "720658f9",
   "metadata": {},
   "source": [
    "# TASK 1: Visualize the relationship between Flight Number and Launch Site\n"
   ]
  },
  {
   "cell_type": "markdown",
   "id": "a6fb4d16",
   "metadata": {},
   "source": [
    "Use the function <code>catplot</code> to plot <code>FlightNumber</code> vs <code>LaunchSite</code>, set the  parameter <code>x</code>  parameter to <code>FlightNumber</code>,set the  <code>y</code> to <code>Launch Site</code> and set the parameter <code>hue</code> to <code>'class'</code>\n"
   ]
  },
  {
   "cell_type": "code",
   "execution_count": 61,
   "id": "7bdd578e",
   "metadata": {},
   "outputs": [],
   "source": [
    "# Plot a scatter point chart with x axis to be Flight Number and y axis to be the launch site, and hue to be the class value\n"
   ]
  },
  {
   "cell_type": "markdown",
   "id": "b6bdbcbf",
   "metadata": {},
   "source": [
    "Now try to explain the patterns you found in the Flight Number vs. Launch Site scatter point plots.\n"
   ]
  },
  {
   "cell_type": "markdown",
   "id": "a9af5563",
   "metadata": {},
   "source": [
    "# TASK 2: Visualize the relationship between Payload and Launch Site\n"
   ]
  },
  {
   "cell_type": "markdown",
   "id": "bbe9f1a4",
   "metadata": {},
   "source": [
    "We also want to observe if there is any relationship between launch sites and their payload mass.\n"
   ]
  },
  {
   "cell_type": "code",
   "execution_count": 62,
   "id": "935bfe50",
   "metadata": {},
   "outputs": [],
   "source": [
    "# Plot a scatter point chart with x axis to be Pay Load Mass (kg) and y axis to be the launch site, and hue to be the class value\n"
   ]
  },
  {
   "cell_type": "markdown",
   "id": "ee6ee4bc",
   "metadata": {},
   "source": [
    "Now if you observe Payload Vs. Launch Site scatter point chart you will find for the VAFB-SLC  launchsite there are no  rockets  launched for  heavypayload mass(greater than 10000).\n"
   ]
  },
  {
   "cell_type": "markdown",
   "id": "6679ba1d",
   "metadata": {},
   "source": [
    "# TASK  3: Visualize the relationship between success rate of each orbit type\n"
   ]
  },
  {
   "cell_type": "markdown",
   "id": "6619090b",
   "metadata": {},
   "source": [
    "Next, we want to visually check if there are any relationship between success rate and orbit type.\n"
   ]
  },
  {
   "cell_type": "markdown",
   "id": "fcdb5060",
   "metadata": {},
   "source": [
    "Let's create a `bar chart` for the sucess rate of each orbit\n"
   ]
  },
  {
   "cell_type": "markdown",
   "id": "15540414",
   "metadata": {},
   "source": [
    "# HINT use groupby method on Orbit column and get the mean of Class column\n"
   ]
  },
  {
   "cell_type": "markdown",
   "id": "9609388b",
   "metadata": {},
   "source": [
    "Analyze the ploted bar chart try to find which orbits have high sucess rate.\n"
   ]
  },
  {
   "cell_type": "markdown",
   "id": "db586340",
   "metadata": {},
   "source": [
    "## TASK  4: Visualize the relationship between FlightNumber and Orbit type\n"
   ]
  },
  {
   "cell_type": "markdown",
   "id": "a26d0973",
   "metadata": {},
   "source": [
    "For each orbit, we want to see if there is any relationship between FlightNumber and Orbit type.\n"
   ]
  },
  {
   "cell_type": "code",
   "execution_count": 64,
   "id": "141f9b07",
   "metadata": {},
   "outputs": [],
   "source": [
    "# Plot a scatter point chart with x axis to be FlightNumber and y axis to be the Orbit, and hue to be the class value\n"
   ]
  },
  {
   "cell_type": "markdown",
   "id": "72f5a0c2",
   "metadata": {},
   "source": [
    "You should see that in the LEO orbit the Success appears related to the number of flights; on the other hand, there seems to be no relationship between flight number when in GTO orbit.\n"
   ]
  },
  {
   "cell_type": "markdown",
   "id": "bc856fba",
   "metadata": {},
   "source": [
    "## TASK  5: Visualize the relationship between Payload and Orbit type\n"
   ]
  },
  {
   "cell_type": "markdown",
   "id": "5395de07",
   "metadata": {},
   "source": [
    "Similarly, we can plot the Payload vs. Orbit scatter point charts to reveal the relationship between Payload and Orbit type\n"
   ]
  },
  {
   "cell_type": "code",
   "execution_count": 65,
   "id": "2bd4bf47",
   "metadata": {},
   "outputs": [],
   "source": [
    "# Plot a scatter point chart with x axis to be Payload and y axis to be the Orbit, and hue to be the class value\n"
   ]
  },
  {
   "cell_type": "markdown",
   "id": "beded1bf",
   "metadata": {},
   "source": [
    "With heavy payloads the successful landing or positive landing rate are more for Polar,LEO and ISS.   \n",
    "\n",
    "However for GTO we cannot distinguish this well as both positive landing rate and negative landing(unsuccessful mission) are both there here.\n",
    "\n",
    "\n"
   ]
  },
  {
   "cell_type": "markdown",
   "id": "73325457",
   "metadata": {},
   "source": [
    "# TASK  6: Visualize the launch success yearly trend\n"
   ]
  },
  {
   "cell_type": "markdown",
   "id": "9b7082ae",
   "metadata": {},
   "source": [
    "You can plot a line chart with x axis to be <code>Year</code> and y axis to be average success rate, to get the average launch success trend. \n"
   ]
  },
  {
   "cell_type": "markdown",
   "id": "e8d8cc62",
   "metadata": {},
   "source": [
    "\n",
    "The function will help you get the year from the date:\n"
   ]
  },
  {
   "cell_type": "code",
   "execution_count": 66,
   "id": "88a5201f",
   "metadata": {},
   "outputs": [],
   "source": [
    "# A function to Extract years from the date \n",
    "year=[]\n",
    "def Extract_year(date):\n",
    "    for i in df[\"Date\"]:\n",
    "        year.append(i.split(\"-\")[0])\n",
    "    return year\n",
    "    "
   ]
  },
  {
   "cell_type": "code",
   "execution_count": 67,
   "id": "4532b8b9",
   "metadata": {},
   "outputs": [],
   "source": [
    "# Plot a line chart with x axis to be the extracted year and y axis to be the success rate\n"
   ]
  },
  {
   "cell_type": "markdown",
   "id": "f84536c7",
   "metadata": {},
   "source": [
    "You can observe that the success rate since 2013 kept increasing till 2017 (stable in 2014) and after 2015 it started increasing.\n"
   ]
  },
  {
   "cell_type": "markdown",
   "id": "fc5b61e7",
   "metadata": {},
   "source": [
    "# Features Engineering \n"
   ]
  },
  {
   "cell_type": "markdown",
   "id": "1180a8bf",
   "metadata": {},
   "source": [
    "By now, you should obtain some preliminary insights about how each important variable would affect the success rate, we will select the features that will be used in success prediction in the future module.\n"
   ]
  },
  {
   "cell_type": "code",
   "execution_count": 68,
   "id": "b0f2eb48",
   "metadata": {},
   "outputs": [
    {
     "data": {
      "text/html": [
       "<div>\n",
       "<style scoped>\n",
       "    .dataframe tbody tr th:only-of-type {\n",
       "        vertical-align: middle;\n",
       "    }\n",
       "\n",
       "    .dataframe tbody tr th {\n",
       "        vertical-align: top;\n",
       "    }\n",
       "\n",
       "    .dataframe thead th {\n",
       "        text-align: right;\n",
       "    }\n",
       "</style>\n",
       "<table border=\"1\" class=\"dataframe\">\n",
       "  <thead>\n",
       "    <tr style=\"text-align: right;\">\n",
       "      <th></th>\n",
       "      <th>FlightNumber</th>\n",
       "      <th>PayloadMass</th>\n",
       "      <th>Orbit</th>\n",
       "      <th>LaunchSite</th>\n",
       "      <th>Flights</th>\n",
       "      <th>GridFins</th>\n",
       "      <th>Reused</th>\n",
       "      <th>Legs</th>\n",
       "      <th>LandingPad</th>\n",
       "      <th>Block</th>\n",
       "      <th>ReusedCount</th>\n",
       "      <th>Serial</th>\n",
       "    </tr>\n",
       "  </thead>\n",
       "  <tbody>\n",
       "    <tr>\n",
       "      <th>0</th>\n",
       "      <td>1</td>\n",
       "      <td>6104.959412</td>\n",
       "      <td>LEO</td>\n",
       "      <td>CCAFS SLC 40</td>\n",
       "      <td>1</td>\n",
       "      <td>False</td>\n",
       "      <td>False</td>\n",
       "      <td>False</td>\n",
       "      <td>NaN</td>\n",
       "      <td>1.0</td>\n",
       "      <td>0</td>\n",
       "      <td>B0003</td>\n",
       "    </tr>\n",
       "    <tr>\n",
       "      <th>1</th>\n",
       "      <td>2</td>\n",
       "      <td>525.000000</td>\n",
       "      <td>LEO</td>\n",
       "      <td>CCAFS SLC 40</td>\n",
       "      <td>1</td>\n",
       "      <td>False</td>\n",
       "      <td>False</td>\n",
       "      <td>False</td>\n",
       "      <td>NaN</td>\n",
       "      <td>1.0</td>\n",
       "      <td>0</td>\n",
       "      <td>B0005</td>\n",
       "    </tr>\n",
       "    <tr>\n",
       "      <th>2</th>\n",
       "      <td>3</td>\n",
       "      <td>677.000000</td>\n",
       "      <td>ISS</td>\n",
       "      <td>CCAFS SLC 40</td>\n",
       "      <td>1</td>\n",
       "      <td>False</td>\n",
       "      <td>False</td>\n",
       "      <td>False</td>\n",
       "      <td>NaN</td>\n",
       "      <td>1.0</td>\n",
       "      <td>0</td>\n",
       "      <td>B0007</td>\n",
       "    </tr>\n",
       "    <tr>\n",
       "      <th>3</th>\n",
       "      <td>4</td>\n",
       "      <td>500.000000</td>\n",
       "      <td>PO</td>\n",
       "      <td>VAFB SLC 4E</td>\n",
       "      <td>1</td>\n",
       "      <td>False</td>\n",
       "      <td>False</td>\n",
       "      <td>False</td>\n",
       "      <td>NaN</td>\n",
       "      <td>1.0</td>\n",
       "      <td>0</td>\n",
       "      <td>B1003</td>\n",
       "    </tr>\n",
       "    <tr>\n",
       "      <th>4</th>\n",
       "      <td>5</td>\n",
       "      <td>3170.000000</td>\n",
       "      <td>GTO</td>\n",
       "      <td>CCAFS SLC 40</td>\n",
       "      <td>1</td>\n",
       "      <td>False</td>\n",
       "      <td>False</td>\n",
       "      <td>False</td>\n",
       "      <td>NaN</td>\n",
       "      <td>1.0</td>\n",
       "      <td>0</td>\n",
       "      <td>B1004</td>\n",
       "    </tr>\n",
       "  </tbody>\n",
       "</table>\n",
       "</div>"
      ],
      "text/plain": [
       "   FlightNumber  PayloadMass Orbit    LaunchSite  Flights  GridFins  Reused  \\\n",
       "0             1  6104.959412   LEO  CCAFS SLC 40        1     False   False   \n",
       "1             2   525.000000   LEO  CCAFS SLC 40        1     False   False   \n",
       "2             3   677.000000   ISS  CCAFS SLC 40        1     False   False   \n",
       "3             4   500.000000    PO   VAFB SLC 4E        1     False   False   \n",
       "4             5  3170.000000   GTO  CCAFS SLC 40        1     False   False   \n",
       "\n",
       "    Legs LandingPad  Block  ReusedCount Serial  \n",
       "0  False        NaN    1.0            0  B0003  \n",
       "1  False        NaN    1.0            0  B0005  \n",
       "2  False        NaN    1.0            0  B0007  \n",
       "3  False        NaN    1.0            0  B1003  \n",
       "4  False        NaN    1.0            0  B1004  "
      ]
     },
     "execution_count": 68,
     "metadata": {},
     "output_type": "execute_result"
    }
   ],
   "source": [
    "features = df[['FlightNumber', 'PayloadMass', 'Orbit', 'LaunchSite', 'Flights', 'GridFins', 'Reused', 'Legs', 'LandingPad', 'Block', 'ReusedCount', 'Serial']]\n",
    "features.head()"
   ]
  },
  {
   "cell_type": "markdown",
   "id": "02949337",
   "metadata": {},
   "source": [
    "# TASK  7: Create dummy variables to categorical columns\n"
   ]
  },
  {
   "cell_type": "markdown",
   "id": "b313820a",
   "metadata": {},
   "source": [
    "Use the function <code>get_dummies</code> and <code>features</code> dataframe to apply OneHotEncoder to the column <code>Orbits</code>, <code>LaunchSite</code>, <code>LandingPad</code>, and <code>Serial</code>. Assign the value to the variable <code>features_one_hot</code>, display the results using the method head. Your result dataframe must include all features including the encoded ones.\n"
   ]
  },
  {
   "cell_type": "code",
   "execution_count": 69,
   "id": "46fce24b",
   "metadata": {},
   "outputs": [],
   "source": [
    "# HINT: Use get_dummies() function on the categorical columns\n"
   ]
  },
  {
   "cell_type": "markdown",
   "id": "d2f71bfb",
   "metadata": {},
   "source": [
    "# TASK  8: Cast all numeric columns to `float64`\n"
   ]
  },
  {
   "cell_type": "markdown",
   "id": "e8b06643",
   "metadata": {},
   "source": [
    "Now that our <code>features_one_hot</code> dataframe only contains numbers cast the entire dataframe to variable type <code>float64</code>\n"
   ]
  },
  {
   "cell_type": "code",
   "execution_count": 70,
   "id": "319c9425",
   "metadata": {},
   "outputs": [],
   "source": [
    "# HINT: use astype function\n"
   ]
  },
  {
   "cell_type": "markdown",
   "id": "7d7dfa0c",
   "metadata": {},
   "source": [
    "We can now export it to a <b>CSV</b> for the next section,but to make the answers consistent, in the next lab we will provide data in a pre-selected date range. \n"
   ]
  },
  {
   "cell_type": "markdown",
   "id": "f58c4fe0",
   "metadata": {},
   "source": [
    "<code>features_one_hot.to_csv('dataset_part_3.csv', index=False)</code>\n"
   ]
  },
  {
   "cell_type": "markdown",
   "id": "c4451241",
   "metadata": {},
   "source": [
    "# **Launch Sites Locations Analysis with Folium**\n"
   ]
  },
  {
   "cell_type": "markdown",
   "id": "044d99d7",
   "metadata": {},
   "source": [
    "The launch success rate may depend on many factors such as payload mass, orbit type, and so on. It may also depend on the location and proximities of a launch site, i.e., the initial position of rocket trajectories. Finding an optimal location for building a launch site certainly involves many factors and hopefully we could discover some of the factors by analyzing the existing launch site locations.\n"
   ]
  },
  {
   "cell_type": "markdown",
   "id": "d54921a4",
   "metadata": {},
   "source": [
    "In the previous exploratory data analysis labs, you have visualized the SpaceX launch dataset using `matplotlib` and `seaborn` and discovered some preliminary correlations between the launch site and success rates. In this lab, you will be performing more interactive visual analytics using `Folium`.\n"
   ]
  },
  {
   "cell_type": "markdown",
   "id": "fa7c4d49",
   "metadata": {},
   "source": [
    "# Objectives\n"
   ]
  },
  {
   "cell_type": "markdown",
   "id": "f363029d",
   "metadata": {},
   "source": [
    "This lab contains the following tasks:\n",
    "- **TASK 1:** Mark all launch sites on a map\n",
    "- **TASK 2:** Mark the success/failed launches for each site on the map\n",
    "- **TASK 3:** Calculate the distances between a launch site to its proximities\n",
    "\n",
    "After completed the above tasks, you should be able to find some geographical patterns about launch sites.\n"
   ]
  },
  {
   "cell_type": "markdown",
   "id": "c65c10db",
   "metadata": {},
   "source": [
    "Let's first import required Python packages for this lab:\n"
   ]
  },
  {
   "cell_type": "code",
   "execution_count": null,
   "id": "29da4588",
   "metadata": {},
   "outputs": [],
   "source": [
    "!pip3 install folium\n",
    "!pip3 install wget"
   ]
  },
  {
   "cell_type": "code",
   "execution_count": 73,
   "id": "465756d1",
   "metadata": {},
   "outputs": [],
   "source": [
    "import folium\n",
    "import wget\n",
    "import pandas as pd"
   ]
  },
  {
   "cell_type": "code",
   "execution_count": 74,
   "id": "20b213e6",
   "metadata": {},
   "outputs": [],
   "source": [
    "# Import folium MarkerCluster plugin\n",
    "from folium.plugins import MarkerCluster\n",
    "# Import folium MousePosition plugin\n",
    "from folium.plugins import MousePosition\n",
    "# Import folium DivIcon plugin\n",
    "from folium.features import DivIcon"
   ]
  },
  {
   "cell_type": "markdown",
   "id": "1ea9c825",
   "metadata": {},
   "source": [
    "If you need to refresh your memory about folium, you may download and refer to this previous folium lab:\n"
   ]
  },
  {
   "cell_type": "markdown",
   "id": "198af45c",
   "metadata": {},
   "source": [
    "## Task 1: Mark all launch sites on a map\n"
   ]
  },
  {
   "cell_type": "markdown",
   "id": "43e50a89",
   "metadata": {},
   "source": [
    "First, let's try to add each site's location on a map using site's latitude and longitude coordinates\n"
   ]
  },
  {
   "cell_type": "markdown",
   "id": "5da83668",
   "metadata": {},
   "source": [
    "The following dataset with the name `spacex_launch_geo.csv` is an augmented dataset with latitude and longitude added for each site. \n"
   ]
  },
  {
   "cell_type": "code",
   "execution_count": 76,
   "id": "41b37eb8",
   "metadata": {},
   "outputs": [
    {
     "name": "stdout",
     "output_type": "stream",
     "text": [
      "100% [................................................................................] 7710 / 7710"
     ]
    }
   ],
   "source": [
    "# Download and read the `spacex_launch_geo.csv`\n",
    "spacex_csv_file = wget.download('https://cf-courses-data.s3.us.cloud-object-storage.appdomain.cloud/IBM-DS0321EN-SkillsNetwork/datasets/spacex_launch_geo.csv')\n",
    "spacex_df=pd.read_csv(spacex_csv_file)"
   ]
  },
  {
   "cell_type": "markdown",
   "id": "ae3c62aa",
   "metadata": {},
   "source": [
    "Now, you can take a look at what are the coordinates for each site.\n"
   ]
  },
  {
   "cell_type": "code",
   "execution_count": null,
   "id": "bb702870",
   "metadata": {},
   "outputs": [],
   "source": [
    "# Select relevant sub-columns: `Launch Site`, `Lat(Latitude)`, `Long(Longitude)`, `class`\n",
    "spacex_df = spacex_df[['Launch Site', 'Lat', 'Long', 'class']]\n",
    "launch_sites_df = spacex_df.groupby(['Launch Site'], as_index=False).first()\n",
    "launch_sites_df = launch_sites_df[['Launch Site', 'Lat', 'Long']]\n",
    "launch_sites_df"
   ]
  },
  {
   "cell_type": "markdown",
   "id": "319e65a7",
   "metadata": {},
   "source": [
    "Above coordinates are just plain numbers that can not give you any intuitive insights about where are those launch sites. If you are very good at geography, you can interpret those numbers directly in your mind. If not, that's fine too. Let's visualize those locations by pinning them on a map.\n"
   ]
  },
  {
   "cell_type": "markdown",
   "id": "fc958e4b",
   "metadata": {},
   "source": [
    "We first need to create a folium `Map` object, with an initial center location to be NASA Johnson Space Center at Houston, Texas.\n"
   ]
  },
  {
   "cell_type": "code",
   "execution_count": 78,
   "id": "7b4140a2",
   "metadata": {},
   "outputs": [],
   "source": [
    "# Start location is NASA Johnson Space Center\n",
    "nasa_coordinate = [29.559684888503615, -95.0830971930759]\n",
    "site_map = folium.Map(location=nasa_coordinate, zoom_start=10)"
   ]
  },
  {
   "cell_type": "markdown",
   "id": "29210506",
   "metadata": {},
   "source": [
    "We could use `folium.Circle` to add a highlighted circle area with a text label on a specific coordinate. For example, \n"
   ]
  },
  {
   "cell_type": "code",
   "execution_count": 79,
   "id": "b9590435",
   "metadata": {},
   "outputs": [
    {
     "data": {
      "text/html": [
       "<div style=\"width:100%;\"><div style=\"position:relative;width:100%;height:0;padding-bottom:60%;\"><span style=\"color:#565656\">Make this Notebook Trusted to load map: File -> Trust Notebook</span><iframe srcdoc=\"&lt;!DOCTYPE html&gt;\n",
       "&lt;html&gt;\n",
       "&lt;head&gt;\n",
       "    \n",
       "    &lt;meta http-equiv=&quot;content-type&quot; content=&quot;text/html; charset=UTF-8&quot; /&gt;\n",
       "    \n",
       "        &lt;script&gt;\n",
       "            L_NO_TOUCH = false;\n",
       "            L_DISABLE_3D = false;\n",
       "        &lt;/script&gt;\n",
       "    \n",
       "    &lt;style&gt;html, body {width: 100%;height: 100%;margin: 0;padding: 0;}&lt;/style&gt;\n",
       "    &lt;style&gt;#map {position:absolute;top:0;bottom:0;right:0;left:0;}&lt;/style&gt;\n",
       "    &lt;script src=&quot;https://cdn.jsdelivr.net/npm/leaflet@1.9.3/dist/leaflet.js&quot;&gt;&lt;/script&gt;\n",
       "    &lt;script src=&quot;https://code.jquery.com/jquery-3.7.1.min.js&quot;&gt;&lt;/script&gt;\n",
       "    &lt;script src=&quot;https://cdn.jsdelivr.net/npm/bootstrap@5.2.2/dist/js/bootstrap.bundle.min.js&quot;&gt;&lt;/script&gt;\n",
       "    &lt;script src=&quot;https://cdnjs.cloudflare.com/ajax/libs/Leaflet.awesome-markers/2.0.2/leaflet.awesome-markers.js&quot;&gt;&lt;/script&gt;\n",
       "    &lt;link rel=&quot;stylesheet&quot; href=&quot;https://cdn.jsdelivr.net/npm/leaflet@1.9.3/dist/leaflet.css&quot;/&gt;\n",
       "    &lt;link rel=&quot;stylesheet&quot; href=&quot;https://cdn.jsdelivr.net/npm/bootstrap@5.2.2/dist/css/bootstrap.min.css&quot;/&gt;\n",
       "    &lt;link rel=&quot;stylesheet&quot; href=&quot;https://netdna.bootstrapcdn.com/bootstrap/3.0.0/css/bootstrap-glyphicons.css&quot;/&gt;\n",
       "    &lt;link rel=&quot;stylesheet&quot; href=&quot;https://cdn.jsdelivr.net/npm/@fortawesome/fontawesome-free@6.2.0/css/all.min.css&quot;/&gt;\n",
       "    &lt;link rel=&quot;stylesheet&quot; href=&quot;https://cdnjs.cloudflare.com/ajax/libs/Leaflet.awesome-markers/2.0.2/leaflet.awesome-markers.css&quot;/&gt;\n",
       "    &lt;link rel=&quot;stylesheet&quot; href=&quot;https://cdn.jsdelivr.net/gh/python-visualization/folium/folium/templates/leaflet.awesome.rotate.min.css&quot;/&gt;\n",
       "    \n",
       "            &lt;meta name=&quot;viewport&quot; content=&quot;width=device-width,\n",
       "                initial-scale=1.0, maximum-scale=1.0, user-scalable=no&quot; /&gt;\n",
       "            &lt;style&gt;\n",
       "                #map_326f6aba3a8b582c371805625ffb36da {\n",
       "                    position: relative;\n",
       "                    width: 100.0%;\n",
       "                    height: 100.0%;\n",
       "                    left: 0.0%;\n",
       "                    top: 0.0%;\n",
       "                }\n",
       "                .leaflet-container { font-size: 1rem; }\n",
       "            &lt;/style&gt;\n",
       "        \n",
       "&lt;/head&gt;\n",
       "&lt;body&gt;\n",
       "    \n",
       "    \n",
       "            &lt;div class=&quot;folium-map&quot; id=&quot;map_326f6aba3a8b582c371805625ffb36da&quot; &gt;&lt;/div&gt;\n",
       "        \n",
       "&lt;/body&gt;\n",
       "&lt;script&gt;\n",
       "    \n",
       "    \n",
       "            var map_326f6aba3a8b582c371805625ffb36da = L.map(\n",
       "                &quot;map_326f6aba3a8b582c371805625ffb36da&quot;,\n",
       "                {\n",
       "                    center: [29.559684888503615, -95.0830971930759],\n",
       "                    crs: L.CRS.EPSG3857,\n",
       "                    zoom: 10,\n",
       "                    zoomControl: true,\n",
       "                    preferCanvas: false,\n",
       "                }\n",
       "            );\n",
       "\n",
       "            \n",
       "\n",
       "        \n",
       "    \n",
       "            var tile_layer_02aba586deafa45cd70a9308b23e8f6c = L.tileLayer(\n",
       "                &quot;https://tile.openstreetmap.org/{z}/{x}/{y}.png&quot;,\n",
       "                {&quot;attribution&quot;: &quot;\\u0026copy; \\u003ca href=\\&quot;https://www.openstreetmap.org/copyright\\&quot;\\u003eOpenStreetMap\\u003c/a\\u003e contributors&quot;, &quot;detectRetina&quot;: false, &quot;maxNativeZoom&quot;: 19, &quot;maxZoom&quot;: 19, &quot;minZoom&quot;: 0, &quot;noWrap&quot;: false, &quot;opacity&quot;: 1, &quot;subdomains&quot;: &quot;abc&quot;, &quot;tms&quot;: false}\n",
       "            );\n",
       "        \n",
       "    \n",
       "            tile_layer_02aba586deafa45cd70a9308b23e8f6c.addTo(map_326f6aba3a8b582c371805625ffb36da);\n",
       "        \n",
       "    \n",
       "            var circle_825054bfd41a356e6cc69ad49b5568cd = L.circle(\n",
       "                [29.559684888503615, -95.0830971930759],\n",
       "                {&quot;bubblingMouseEvents&quot;: true, &quot;color&quot;: &quot;#d35400&quot;, &quot;dashArray&quot;: null, &quot;dashOffset&quot;: null, &quot;fill&quot;: true, &quot;fillColor&quot;: &quot;#d35400&quot;, &quot;fillOpacity&quot;: 0.2, &quot;fillRule&quot;: &quot;evenodd&quot;, &quot;lineCap&quot;: &quot;round&quot;, &quot;lineJoin&quot;: &quot;round&quot;, &quot;opacity&quot;: 1.0, &quot;radius&quot;: 1000, &quot;stroke&quot;: true, &quot;weight&quot;: 3}\n",
       "            ).addTo(map_326f6aba3a8b582c371805625ffb36da);\n",
       "        \n",
       "    \n",
       "        var popup_0982a0b6155e6be98349182a966ed8af = L.popup({&quot;maxWidth&quot;: &quot;100%&quot;});\n",
       "\n",
       "        \n",
       "            \n",
       "                var html_49ae567f56125d987d238864866f8218 = $(`&lt;div id=&quot;html_49ae567f56125d987d238864866f8218&quot; style=&quot;width: 100.0%; height: 100.0%;&quot;&gt;NASA Johnson Space Center&lt;/div&gt;`)[0];\n",
       "                popup_0982a0b6155e6be98349182a966ed8af.setContent(html_49ae567f56125d987d238864866f8218);\n",
       "            \n",
       "        \n",
       "\n",
       "        circle_825054bfd41a356e6cc69ad49b5568cd.bindPopup(popup_0982a0b6155e6be98349182a966ed8af)\n",
       "        ;\n",
       "\n",
       "        \n",
       "    \n",
       "    \n",
       "            var marker_a9e0fd225b2b6a89bfd385081ce3720a = L.marker(\n",
       "                [29.559684888503615, -95.0830971930759],\n",
       "                {}\n",
       "            ).addTo(map_326f6aba3a8b582c371805625ffb36da);\n",
       "        \n",
       "    \n",
       "            var div_icon_9d570b897cbb4ca92d849f94a256ef64 = L.divIcon({&quot;className&quot;: &quot;empty&quot;, &quot;html&quot;: &quot;\\u003cdiv style=\\&quot;font-size: 12; color:#d35400;\\&quot;\\u003e\\u003cb\\u003eNASA JSC\\u003c/b\\u003e\\u003c/div\\u003e&quot;, &quot;iconAnchor&quot;: [0, 0], &quot;iconSize&quot;: [20, 20]});\n",
       "            marker_a9e0fd225b2b6a89bfd385081ce3720a.setIcon(div_icon_9d570b897cbb4ca92d849f94a256ef64);\n",
       "        \n",
       "&lt;/script&gt;\n",
       "&lt;/html&gt;\" style=\"position:absolute;width:100%;height:100%;left:0;top:0;border:none !important;\" allowfullscreen webkitallowfullscreen mozallowfullscreen></iframe></div></div>"
      ],
      "text/plain": [
       "<folium.folium.Map at 0x15f85b8b010>"
      ]
     },
     "execution_count": 79,
     "metadata": {},
     "output_type": "execute_result"
    }
   ],
   "source": [
    "# Create a blue circle at NASA Johnson Space Center's coordinate with a popup label showing its name\n",
    "circle = folium.Circle(nasa_coordinate, radius=1000, color='#d35400', fill=True).add_child(folium.Popup('NASA Johnson Space Center'))\n",
    "# Create a blue circle at NASA Johnson Space Center's coordinate with a icon showing its name\n",
    "marker = folium.map.Marker(\n",
    "    nasa_coordinate,\n",
    "    # Create an icon as a text label\n",
    "    icon=DivIcon(\n",
    "        icon_size=(20,20),\n",
    "        icon_anchor=(0,0),\n",
    "        html='<div style=\"font-size: 12; color:#d35400;\"><b>%s</b></div>' % 'NASA JSC',\n",
    "        )\n",
    "    )\n",
    "site_map.add_child(circle)\n",
    "site_map.add_child(marker)"
   ]
  },
  {
   "cell_type": "markdown",
   "id": "48225e84",
   "metadata": {},
   "source": [
    "and you should find a small yellow circle near the city of Houston and you can zoom-in to see a larger circle. \n"
   ]
  },
  {
   "cell_type": "markdown",
   "id": "70655c0e",
   "metadata": {},
   "source": [
    "Now, let's add a circle for each launch site in data frame `launch_sites`\n"
   ]
  },
  {
   "cell_type": "markdown",
   "id": "1e936939",
   "metadata": {},
   "source": [
    "_TODO:_  Create and add `folium.Circle` and `folium.Marker` for each launch site on the site map\n"
   ]
  },
  {
   "cell_type": "markdown",
   "id": "8f1f337b",
   "metadata": {},
   "source": [
    "An example of folium.Circle:\n"
   ]
  },
  {
   "cell_type": "code",
   "execution_count": null,
   "id": "0c9b33dd",
   "metadata": {},
   "outputs": [],
   "source": [
    "`folium.Circle(coordinate, radius=1000, color='#000000', fill=True).add_child(folium.Popup(...))`\n"
   ]
  },
  {
   "cell_type": "markdown",
   "id": "e4dae5c7",
   "metadata": {},
   "source": [
    "An example of folium.Marker:\n"
   ]
  },
  {
   "cell_type": "code",
   "execution_count": null,
   "id": "9191734e",
   "metadata": {},
   "outputs": [],
   "source": [
    "`folium.map.Marker(coordinate, icon=DivIcon(icon_size=(20,20),icon_anchor=(0,0), html='<div style=\"font-size: 12; color:#d35400;\"><b>%s</b></div>' % 'label', ))`\n"
   ]
  },
  {
   "cell_type": "code",
   "execution_count": 80,
   "id": "703dacd5",
   "metadata": {},
   "outputs": [],
   "source": [
    "# Initial the map\n",
    "site_map = folium.Map(location=nasa_coordinate, zoom_start=5)\n",
    "# For each launch site, add a Circle object based on its coordinate (Lat, Long) values. In addition, add Launch site name as a popup label\n"
   ]
  },
  {
   "cell_type": "markdown",
   "id": "ea10e6e8",
   "metadata": {},
   "source": [
    "The generated map with marked launch sites should look similar to the following:\n"
   ]
  },
  {
   "cell_type": "markdown",
   "id": "e151f434",
   "metadata": {},
   "source": [
    "Now, you can explore the map by zoom-in/out the marked areas\n",
    ", and try to answer the following questions:\n",
    "- Are all launch sites in proximity to the Equator line?\n",
    "- Are all launch sites in very close proximity to the coast?\n",
    "\n",
    "Also please try to explain your findings.\n"
   ]
  },
  {
   "cell_type": "markdown",
   "id": "81941be5",
   "metadata": {},
   "source": [
    "# Task 2: Mark the success/failed launches for each site on the map\n"
   ]
  },
  {
   "cell_type": "markdown",
   "id": "e27a61c1",
   "metadata": {},
   "source": [
    "Next, let's try to enhance the map by adding the launch outcomes for each site, and see which sites have high success rates.\n",
    "Recall that data frame spacex_df has detailed launch records, and the `class` column indicates if this launch was successful or not\n"
   ]
  },
  {
   "cell_type": "code",
   "execution_count": 81,
   "id": "e002e212",
   "metadata": {},
   "outputs": [
    {
     "data": {
      "text/html": [
       "<div>\n",
       "<style scoped>\n",
       "    .dataframe tbody tr th:only-of-type {\n",
       "        vertical-align: middle;\n",
       "    }\n",
       "\n",
       "    .dataframe tbody tr th {\n",
       "        vertical-align: top;\n",
       "    }\n",
       "\n",
       "    .dataframe thead th {\n",
       "        text-align: right;\n",
       "    }\n",
       "</style>\n",
       "<table border=\"1\" class=\"dataframe\">\n",
       "  <thead>\n",
       "    <tr style=\"text-align: right;\">\n",
       "      <th></th>\n",
       "      <th>Flight Number</th>\n",
       "      <th>Date</th>\n",
       "      <th>Time (UTC)</th>\n",
       "      <th>Booster Version</th>\n",
       "      <th>Launch Site</th>\n",
       "      <th>Payload</th>\n",
       "      <th>Payload Mass (kg)</th>\n",
       "      <th>Orbit</th>\n",
       "      <th>Customer</th>\n",
       "      <th>Landing Outcome</th>\n",
       "      <th>class</th>\n",
       "      <th>Lat</th>\n",
       "      <th>Long</th>\n",
       "    </tr>\n",
       "  </thead>\n",
       "  <tbody>\n",
       "    <tr>\n",
       "      <th>46</th>\n",
       "      <td>43</td>\n",
       "      <td>2017-10-11</td>\n",
       "      <td>22:53:00</td>\n",
       "      <td>F9 FT  B1031.2</td>\n",
       "      <td>KSC LC-39A</td>\n",
       "      <td>SES-11 / EchoStar 105</td>\n",
       "      <td>5200.00</td>\n",
       "      <td>GTO</td>\n",
       "      <td>SES EchoStar</td>\n",
       "      <td>Success (drone ship)</td>\n",
       "      <td>1</td>\n",
       "      <td>28.573255</td>\n",
       "      <td>-80.646895</td>\n",
       "    </tr>\n",
       "    <tr>\n",
       "      <th>47</th>\n",
       "      <td>44</td>\n",
       "      <td>2017-10-30</td>\n",
       "      <td>19:34:00</td>\n",
       "      <td>F9 B4 B1042.1</td>\n",
       "      <td>KSC LC-39A</td>\n",
       "      <td>Koreasat 5A</td>\n",
       "      <td>3500.00</td>\n",
       "      <td>GTO</td>\n",
       "      <td>KT Corporation</td>\n",
       "      <td>Success (drone ship)</td>\n",
       "      <td>1</td>\n",
       "      <td>28.573255</td>\n",
       "      <td>-80.646895</td>\n",
       "    </tr>\n",
       "    <tr>\n",
       "      <th>48</th>\n",
       "      <td>54</td>\n",
       "      <td>2018-05-11</td>\n",
       "      <td>20:14:00</td>\n",
       "      <td>F9 B5  B1046.1</td>\n",
       "      <td>KSC LC-39A</td>\n",
       "      <td>Bangabandhu-1</td>\n",
       "      <td>3600.00</td>\n",
       "      <td>GTO</td>\n",
       "      <td>Thales-Alenia/BTRC</td>\n",
       "      <td>Success (drone ship)</td>\n",
       "      <td>1</td>\n",
       "      <td>28.573255</td>\n",
       "      <td>-80.646895</td>\n",
       "    </tr>\n",
       "    <tr>\n",
       "      <th>49</th>\n",
       "      <td>45</td>\n",
       "      <td>2017-12-15</td>\n",
       "      <td>15:36:00</td>\n",
       "      <td>F9 FT  B1035.2</td>\n",
       "      <td>CCAFS SLC-40</td>\n",
       "      <td>SpaceX CRS-13</td>\n",
       "      <td>2205.00</td>\n",
       "      <td>LEO (ISS)</td>\n",
       "      <td>NASA (CRS)</td>\n",
       "      <td>Success (ground pad)</td>\n",
       "      <td>1</td>\n",
       "      <td>28.563197</td>\n",
       "      <td>-80.576820</td>\n",
       "    </tr>\n",
       "    <tr>\n",
       "      <th>50</th>\n",
       "      <td>47</td>\n",
       "      <td>2018-01-08</td>\n",
       "      <td>1:00:00</td>\n",
       "      <td>F9 B4 B1043.1</td>\n",
       "      <td>CCAFS SLC-40</td>\n",
       "      <td>Zuma</td>\n",
       "      <td>3696.65</td>\n",
       "      <td>LEO</td>\n",
       "      <td>Northrop Grumman</td>\n",
       "      <td>Success (ground pad)</td>\n",
       "      <td>1</td>\n",
       "      <td>28.563197</td>\n",
       "      <td>-80.576820</td>\n",
       "    </tr>\n",
       "    <tr>\n",
       "      <th>51</th>\n",
       "      <td>48</td>\n",
       "      <td>2018-01-31</td>\n",
       "      <td>21:25:00</td>\n",
       "      <td>F9 FT  B1032.2</td>\n",
       "      <td>CCAFS SLC-40</td>\n",
       "      <td>GovSat-1 / SES-16</td>\n",
       "      <td>4230.00</td>\n",
       "      <td>GTO</td>\n",
       "      <td>SES</td>\n",
       "      <td>Controlled (ocean)</td>\n",
       "      <td>0</td>\n",
       "      <td>28.563197</td>\n",
       "      <td>-80.576820</td>\n",
       "    </tr>\n",
       "    <tr>\n",
       "      <th>52</th>\n",
       "      <td>50</td>\n",
       "      <td>2018-03-06</td>\n",
       "      <td>5:33:00</td>\n",
       "      <td>F9 B4 B1044</td>\n",
       "      <td>CCAFS SLC-40</td>\n",
       "      <td>Hispasat 30W-6  PODSat</td>\n",
       "      <td>6092.00</td>\n",
       "      <td>GTO</td>\n",
       "      <td>Hispasat  NovaWurks</td>\n",
       "      <td>No attempt</td>\n",
       "      <td>0</td>\n",
       "      <td>28.563197</td>\n",
       "      <td>-80.576820</td>\n",
       "    </tr>\n",
       "    <tr>\n",
       "      <th>53</th>\n",
       "      <td>52</td>\n",
       "      <td>2018-04-02</td>\n",
       "      <td>20:30:00</td>\n",
       "      <td>F9 B4  B1039.2</td>\n",
       "      <td>CCAFS SLC-40</td>\n",
       "      <td>SpaceX CRS-14</td>\n",
       "      <td>2647.00</td>\n",
       "      <td>LEO (ISS)</td>\n",
       "      <td>NASA (CRS)</td>\n",
       "      <td>No attempt</td>\n",
       "      <td>0</td>\n",
       "      <td>28.563197</td>\n",
       "      <td>-80.576820</td>\n",
       "    </tr>\n",
       "    <tr>\n",
       "      <th>54</th>\n",
       "      <td>53</td>\n",
       "      <td>2018-04-18</td>\n",
       "      <td>22:51:00</td>\n",
       "      <td>F9 B4 B1045.1</td>\n",
       "      <td>CCAFS SLC-40</td>\n",
       "      <td>Transiting Exoplanet Survey Satellite (TESS)</td>\n",
       "      <td>362.00</td>\n",
       "      <td>HEO</td>\n",
       "      <td>NASA (LSP)</td>\n",
       "      <td>Success (drone ship)</td>\n",
       "      <td>1</td>\n",
       "      <td>28.563197</td>\n",
       "      <td>-80.576820</td>\n",
       "    </tr>\n",
       "    <tr>\n",
       "      <th>55</th>\n",
       "      <td>56</td>\n",
       "      <td>2018-06-04</td>\n",
       "      <td>4:45:00</td>\n",
       "      <td>F9 B4  B1040.2</td>\n",
       "      <td>CCAFS SLC-40</td>\n",
       "      <td>SES-12</td>\n",
       "      <td>5384.00</td>\n",
       "      <td>GTO</td>\n",
       "      <td>SES</td>\n",
       "      <td>No attempt</td>\n",
       "      <td>0</td>\n",
       "      <td>28.563197</td>\n",
       "      <td>-80.576820</td>\n",
       "    </tr>\n",
       "  </tbody>\n",
       "</table>\n",
       "</div>"
      ],
      "text/plain": [
       "    Flight Number        Date Time (UTC) Booster Version   Launch Site  \\\n",
       "46             43  2017-10-11   22:53:00  F9 FT  B1031.2    KSC LC-39A   \n",
       "47             44  2017-10-30   19:34:00   F9 B4 B1042.1    KSC LC-39A   \n",
       "48             54  2018-05-11   20:14:00  F9 B5  B1046.1    KSC LC-39A   \n",
       "49             45  2017-12-15   15:36:00  F9 FT  B1035.2  CCAFS SLC-40   \n",
       "50             47  2018-01-08    1:00:00   F9 B4 B1043.1  CCAFS SLC-40   \n",
       "51             48  2018-01-31   21:25:00  F9 FT  B1032.2  CCAFS SLC-40   \n",
       "52             50  2018-03-06    5:33:00     F9 B4 B1044  CCAFS SLC-40   \n",
       "53             52  2018-04-02   20:30:00  F9 B4  B1039.2  CCAFS SLC-40   \n",
       "54             53  2018-04-18   22:51:00   F9 B4 B1045.1  CCAFS SLC-40   \n",
       "55             56  2018-06-04    4:45:00  F9 B4  B1040.2  CCAFS SLC-40   \n",
       "\n",
       "                                         Payload  Payload Mass (kg)  \\\n",
       "46                         SES-11 / EchoStar 105            5200.00   \n",
       "47                                   Koreasat 5A            3500.00   \n",
       "48                                 Bangabandhu-1            3600.00   \n",
       "49                                 SpaceX CRS-13            2205.00   \n",
       "50                                          Zuma            3696.65   \n",
       "51                             GovSat-1 / SES-16            4230.00   \n",
       "52                        Hispasat 30W-6  PODSat            6092.00   \n",
       "53                                 SpaceX CRS-14            2647.00   \n",
       "54  Transiting Exoplanet Survey Satellite (TESS)             362.00   \n",
       "55                                        SES-12            5384.00   \n",
       "\n",
       "        Orbit             Customer       Landing Outcome  class        Lat  \\\n",
       "46        GTO         SES EchoStar  Success (drone ship)      1  28.573255   \n",
       "47        GTO       KT Corporation  Success (drone ship)      1  28.573255   \n",
       "48        GTO   Thales-Alenia/BTRC  Success (drone ship)      1  28.573255   \n",
       "49  LEO (ISS)           NASA (CRS)  Success (ground pad)      1  28.563197   \n",
       "50        LEO     Northrop Grumman  Success (ground pad)      1  28.563197   \n",
       "51        GTO                  SES    Controlled (ocean)      0  28.563197   \n",
       "52        GTO  Hispasat  NovaWurks            No attempt      0  28.563197   \n",
       "53  LEO (ISS)           NASA (CRS)            No attempt      0  28.563197   \n",
       "54        HEO           NASA (LSP)  Success (drone ship)      1  28.563197   \n",
       "55        GTO                  SES            No attempt      0  28.563197   \n",
       "\n",
       "         Long  \n",
       "46 -80.646895  \n",
       "47 -80.646895  \n",
       "48 -80.646895  \n",
       "49 -80.576820  \n",
       "50 -80.576820  \n",
       "51 -80.576820  \n",
       "52 -80.576820  \n",
       "53 -80.576820  \n",
       "54 -80.576820  \n",
       "55 -80.576820  "
      ]
     },
     "execution_count": 81,
     "metadata": {},
     "output_type": "execute_result"
    }
   ],
   "source": [
    "spacex_df.tail(10)"
   ]
  },
  {
   "cell_type": "markdown",
   "id": "b4a55ec5",
   "metadata": {},
   "source": [
    "Next, let's create markers for all launch records. \n",
    "If a launch was successful `(class=1)`, then we use a green marker and if a launch was failed, we use a red marker `(class=0)`\n"
   ]
  },
  {
   "cell_type": "markdown",
   "id": "53bc6d66",
   "metadata": {},
   "source": [
    "Note that a launch only happens in one of the four launch sites, which means many launch records will have the exact same coordinate. Marker clusters can be a good way to simplify a map containing many markers having the same coordinate.\n"
   ]
  },
  {
   "cell_type": "markdown",
   "id": "f130d4ab",
   "metadata": {},
   "source": [
    "Let's first create a `MarkerCluster` object\n"
   ]
  },
  {
   "cell_type": "code",
   "execution_count": 82,
   "id": "ef50f86f",
   "metadata": {},
   "outputs": [],
   "source": [
    "marker_cluster = MarkerCluster()\n"
   ]
  },
  {
   "cell_type": "markdown",
   "id": "f5ef2f53",
   "metadata": {},
   "source": [
    "_TODO:_ Create a new column in `launch_sites` dataframe called `marker_color` to store the marker colors based on the `class` value\n"
   ]
  },
  {
   "cell_type": "code",
   "execution_count": 83,
   "id": "4acd895b",
   "metadata": {},
   "outputs": [],
   "source": [
    "\n",
    "# Apply a function to check the value of `class` column\n",
    "# If class=1, marker_color value will be green\n",
    "# If class=0, marker_color value will be red\n"
   ]
  },
  {
   "cell_type": "code",
   "execution_count": 84,
   "id": "c8f62885",
   "metadata": {},
   "outputs": [
    {
     "data": {
      "text/html": [
       "<div>\n",
       "<style scoped>\n",
       "    .dataframe tbody tr th:only-of-type {\n",
       "        vertical-align: middle;\n",
       "    }\n",
       "\n",
       "    .dataframe tbody tr th {\n",
       "        vertical-align: top;\n",
       "    }\n",
       "\n",
       "    .dataframe thead th {\n",
       "        text-align: right;\n",
       "    }\n",
       "</style>\n",
       "<table border=\"1\" class=\"dataframe\">\n",
       "  <thead>\n",
       "    <tr style=\"text-align: right;\">\n",
       "      <th></th>\n",
       "      <th>Flight Number</th>\n",
       "      <th>Date</th>\n",
       "      <th>Time (UTC)</th>\n",
       "      <th>Booster Version</th>\n",
       "      <th>Launch Site</th>\n",
       "      <th>Payload</th>\n",
       "      <th>Payload Mass (kg)</th>\n",
       "      <th>Orbit</th>\n",
       "      <th>Customer</th>\n",
       "      <th>Landing Outcome</th>\n",
       "      <th>class</th>\n",
       "      <th>Lat</th>\n",
       "      <th>Long</th>\n",
       "      <th>marker_color</th>\n",
       "    </tr>\n",
       "  </thead>\n",
       "  <tbody>\n",
       "    <tr>\n",
       "      <th>46</th>\n",
       "      <td>43</td>\n",
       "      <td>2017-10-11</td>\n",
       "      <td>22:53:00</td>\n",
       "      <td>F9 FT  B1031.2</td>\n",
       "      <td>KSC LC-39A</td>\n",
       "      <td>SES-11 / EchoStar 105</td>\n",
       "      <td>5200.00</td>\n",
       "      <td>GTO</td>\n",
       "      <td>SES EchoStar</td>\n",
       "      <td>Success (drone ship)</td>\n",
       "      <td>1</td>\n",
       "      <td>28.573255</td>\n",
       "      <td>-80.646895</td>\n",
       "      <td>green</td>\n",
       "    </tr>\n",
       "    <tr>\n",
       "      <th>47</th>\n",
       "      <td>44</td>\n",
       "      <td>2017-10-30</td>\n",
       "      <td>19:34:00</td>\n",
       "      <td>F9 B4 B1042.1</td>\n",
       "      <td>KSC LC-39A</td>\n",
       "      <td>Koreasat 5A</td>\n",
       "      <td>3500.00</td>\n",
       "      <td>GTO</td>\n",
       "      <td>KT Corporation</td>\n",
       "      <td>Success (drone ship)</td>\n",
       "      <td>1</td>\n",
       "      <td>28.573255</td>\n",
       "      <td>-80.646895</td>\n",
       "      <td>green</td>\n",
       "    </tr>\n",
       "    <tr>\n",
       "      <th>48</th>\n",
       "      <td>54</td>\n",
       "      <td>2018-05-11</td>\n",
       "      <td>20:14:00</td>\n",
       "      <td>F9 B5  B1046.1</td>\n",
       "      <td>KSC LC-39A</td>\n",
       "      <td>Bangabandhu-1</td>\n",
       "      <td>3600.00</td>\n",
       "      <td>GTO</td>\n",
       "      <td>Thales-Alenia/BTRC</td>\n",
       "      <td>Success (drone ship)</td>\n",
       "      <td>1</td>\n",
       "      <td>28.573255</td>\n",
       "      <td>-80.646895</td>\n",
       "      <td>green</td>\n",
       "    </tr>\n",
       "    <tr>\n",
       "      <th>49</th>\n",
       "      <td>45</td>\n",
       "      <td>2017-12-15</td>\n",
       "      <td>15:36:00</td>\n",
       "      <td>F9 FT  B1035.2</td>\n",
       "      <td>CCAFS SLC-40</td>\n",
       "      <td>SpaceX CRS-13</td>\n",
       "      <td>2205.00</td>\n",
       "      <td>LEO (ISS)</td>\n",
       "      <td>NASA (CRS)</td>\n",
       "      <td>Success (ground pad)</td>\n",
       "      <td>1</td>\n",
       "      <td>28.563197</td>\n",
       "      <td>-80.576820</td>\n",
       "      <td>green</td>\n",
       "    </tr>\n",
       "    <tr>\n",
       "      <th>50</th>\n",
       "      <td>47</td>\n",
       "      <td>2018-01-08</td>\n",
       "      <td>1:00:00</td>\n",
       "      <td>F9 B4 B1043.1</td>\n",
       "      <td>CCAFS SLC-40</td>\n",
       "      <td>Zuma</td>\n",
       "      <td>3696.65</td>\n",
       "      <td>LEO</td>\n",
       "      <td>Northrop Grumman</td>\n",
       "      <td>Success (ground pad)</td>\n",
       "      <td>1</td>\n",
       "      <td>28.563197</td>\n",
       "      <td>-80.576820</td>\n",
       "      <td>green</td>\n",
       "    </tr>\n",
       "    <tr>\n",
       "      <th>51</th>\n",
       "      <td>48</td>\n",
       "      <td>2018-01-31</td>\n",
       "      <td>21:25:00</td>\n",
       "      <td>F9 FT  B1032.2</td>\n",
       "      <td>CCAFS SLC-40</td>\n",
       "      <td>GovSat-1 / SES-16</td>\n",
       "      <td>4230.00</td>\n",
       "      <td>GTO</td>\n",
       "      <td>SES</td>\n",
       "      <td>Controlled (ocean)</td>\n",
       "      <td>0</td>\n",
       "      <td>28.563197</td>\n",
       "      <td>-80.576820</td>\n",
       "      <td>red</td>\n",
       "    </tr>\n",
       "    <tr>\n",
       "      <th>52</th>\n",
       "      <td>50</td>\n",
       "      <td>2018-03-06</td>\n",
       "      <td>5:33:00</td>\n",
       "      <td>F9 B4 B1044</td>\n",
       "      <td>CCAFS SLC-40</td>\n",
       "      <td>Hispasat 30W-6  PODSat</td>\n",
       "      <td>6092.00</td>\n",
       "      <td>GTO</td>\n",
       "      <td>Hispasat  NovaWurks</td>\n",
       "      <td>No attempt</td>\n",
       "      <td>0</td>\n",
       "      <td>28.563197</td>\n",
       "      <td>-80.576820</td>\n",
       "      <td>red</td>\n",
       "    </tr>\n",
       "    <tr>\n",
       "      <th>53</th>\n",
       "      <td>52</td>\n",
       "      <td>2018-04-02</td>\n",
       "      <td>20:30:00</td>\n",
       "      <td>F9 B4  B1039.2</td>\n",
       "      <td>CCAFS SLC-40</td>\n",
       "      <td>SpaceX CRS-14</td>\n",
       "      <td>2647.00</td>\n",
       "      <td>LEO (ISS)</td>\n",
       "      <td>NASA (CRS)</td>\n",
       "      <td>No attempt</td>\n",
       "      <td>0</td>\n",
       "      <td>28.563197</td>\n",
       "      <td>-80.576820</td>\n",
       "      <td>red</td>\n",
       "    </tr>\n",
       "    <tr>\n",
       "      <th>54</th>\n",
       "      <td>53</td>\n",
       "      <td>2018-04-18</td>\n",
       "      <td>22:51:00</td>\n",
       "      <td>F9 B4 B1045.1</td>\n",
       "      <td>CCAFS SLC-40</td>\n",
       "      <td>Transiting Exoplanet Survey Satellite (TESS)</td>\n",
       "      <td>362.00</td>\n",
       "      <td>HEO</td>\n",
       "      <td>NASA (LSP)</td>\n",
       "      <td>Success (drone ship)</td>\n",
       "      <td>1</td>\n",
       "      <td>28.563197</td>\n",
       "      <td>-80.576820</td>\n",
       "      <td>green</td>\n",
       "    </tr>\n",
       "    <tr>\n",
       "      <th>55</th>\n",
       "      <td>56</td>\n",
       "      <td>2018-06-04</td>\n",
       "      <td>4:45:00</td>\n",
       "      <td>F9 B4  B1040.2</td>\n",
       "      <td>CCAFS SLC-40</td>\n",
       "      <td>SES-12</td>\n",
       "      <td>5384.00</td>\n",
       "      <td>GTO</td>\n",
       "      <td>SES</td>\n",
       "      <td>No attempt</td>\n",
       "      <td>0</td>\n",
       "      <td>28.563197</td>\n",
       "      <td>-80.576820</td>\n",
       "      <td>red</td>\n",
       "    </tr>\n",
       "  </tbody>\n",
       "</table>\n",
       "</div>"
      ],
      "text/plain": [
       "    Flight Number        Date Time (UTC) Booster Version   Launch Site  \\\n",
       "46             43  2017-10-11   22:53:00  F9 FT  B1031.2    KSC LC-39A   \n",
       "47             44  2017-10-30   19:34:00   F9 B4 B1042.1    KSC LC-39A   \n",
       "48             54  2018-05-11   20:14:00  F9 B5  B1046.1    KSC LC-39A   \n",
       "49             45  2017-12-15   15:36:00  F9 FT  B1035.2  CCAFS SLC-40   \n",
       "50             47  2018-01-08    1:00:00   F9 B4 B1043.1  CCAFS SLC-40   \n",
       "51             48  2018-01-31   21:25:00  F9 FT  B1032.2  CCAFS SLC-40   \n",
       "52             50  2018-03-06    5:33:00     F9 B4 B1044  CCAFS SLC-40   \n",
       "53             52  2018-04-02   20:30:00  F9 B4  B1039.2  CCAFS SLC-40   \n",
       "54             53  2018-04-18   22:51:00   F9 B4 B1045.1  CCAFS SLC-40   \n",
       "55             56  2018-06-04    4:45:00  F9 B4  B1040.2  CCAFS SLC-40   \n",
       "\n",
       "                                         Payload  Payload Mass (kg)  \\\n",
       "46                         SES-11 / EchoStar 105            5200.00   \n",
       "47                                   Koreasat 5A            3500.00   \n",
       "48                                 Bangabandhu-1            3600.00   \n",
       "49                                 SpaceX CRS-13            2205.00   \n",
       "50                                          Zuma            3696.65   \n",
       "51                             GovSat-1 / SES-16            4230.00   \n",
       "52                        Hispasat 30W-6  PODSat            6092.00   \n",
       "53                                 SpaceX CRS-14            2647.00   \n",
       "54  Transiting Exoplanet Survey Satellite (TESS)             362.00   \n",
       "55                                        SES-12            5384.00   \n",
       "\n",
       "        Orbit             Customer       Landing Outcome  class        Lat  \\\n",
       "46        GTO         SES EchoStar  Success (drone ship)      1  28.573255   \n",
       "47        GTO       KT Corporation  Success (drone ship)      1  28.573255   \n",
       "48        GTO   Thales-Alenia/BTRC  Success (drone ship)      1  28.573255   \n",
       "49  LEO (ISS)           NASA (CRS)  Success (ground pad)      1  28.563197   \n",
       "50        LEO     Northrop Grumman  Success (ground pad)      1  28.563197   \n",
       "51        GTO                  SES    Controlled (ocean)      0  28.563197   \n",
       "52        GTO  Hispasat  NovaWurks            No attempt      0  28.563197   \n",
       "53  LEO (ISS)           NASA (CRS)            No attempt      0  28.563197   \n",
       "54        HEO           NASA (LSP)  Success (drone ship)      1  28.563197   \n",
       "55        GTO                  SES            No attempt      0  28.563197   \n",
       "\n",
       "         Long marker_color  \n",
       "46 -80.646895        green  \n",
       "47 -80.646895        green  \n",
       "48 -80.646895        green  \n",
       "49 -80.576820        green  \n",
       "50 -80.576820        green  \n",
       "51 -80.576820          red  \n",
       "52 -80.576820          red  \n",
       "53 -80.576820          red  \n",
       "54 -80.576820        green  \n",
       "55 -80.576820          red  "
      ]
     },
     "execution_count": 84,
     "metadata": {},
     "output_type": "execute_result"
    }
   ],
   "source": [
    "# Function to assign color to launch outcome\n",
    "def assign_marker_color(launch_outcome):\n",
    "    if launch_outcome == 1:\n",
    "        return 'green'\n",
    "    else:\n",
    "        return 'red'\n",
    "    \n",
    "spacex_df['marker_color'] = spacex_df['class'].apply(assign_marker_color)\n",
    "spacex_df.tail(10)"
   ]
  },
  {
   "cell_type": "markdown",
   "id": "fcf689ab",
   "metadata": {},
   "source": [
    "_TODO:_ For each launch result in `spacex_df` data frame, add a `folium.Marker` to `marker_cluster`\n"
   ]
  },
  {
   "cell_type": "code",
   "execution_count": 85,
   "id": "9ba29c5f",
   "metadata": {},
   "outputs": [
    {
     "data": {
      "text/html": [
       "<div style=\"width:100%;\"><div style=\"position:relative;width:100%;height:0;padding-bottom:60%;\"><span style=\"color:#565656\">Make this Notebook Trusted to load map: File -> Trust Notebook</span><iframe srcdoc=\"&lt;!DOCTYPE html&gt;\n",
       "&lt;html&gt;\n",
       "&lt;head&gt;\n",
       "    \n",
       "    &lt;meta http-equiv=&quot;content-type&quot; content=&quot;text/html; charset=UTF-8&quot; /&gt;\n",
       "    \n",
       "        &lt;script&gt;\n",
       "            L_NO_TOUCH = false;\n",
       "            L_DISABLE_3D = false;\n",
       "        &lt;/script&gt;\n",
       "    \n",
       "    &lt;style&gt;html, body {width: 100%;height: 100%;margin: 0;padding: 0;}&lt;/style&gt;\n",
       "    &lt;style&gt;#map {position:absolute;top:0;bottom:0;right:0;left:0;}&lt;/style&gt;\n",
       "    &lt;script src=&quot;https://cdn.jsdelivr.net/npm/leaflet@1.9.3/dist/leaflet.js&quot;&gt;&lt;/script&gt;\n",
       "    &lt;script src=&quot;https://code.jquery.com/jquery-3.7.1.min.js&quot;&gt;&lt;/script&gt;\n",
       "    &lt;script src=&quot;https://cdn.jsdelivr.net/npm/bootstrap@5.2.2/dist/js/bootstrap.bundle.min.js&quot;&gt;&lt;/script&gt;\n",
       "    &lt;script src=&quot;https://cdnjs.cloudflare.com/ajax/libs/Leaflet.awesome-markers/2.0.2/leaflet.awesome-markers.js&quot;&gt;&lt;/script&gt;\n",
       "    &lt;link rel=&quot;stylesheet&quot; href=&quot;https://cdn.jsdelivr.net/npm/leaflet@1.9.3/dist/leaflet.css&quot;/&gt;\n",
       "    &lt;link rel=&quot;stylesheet&quot; href=&quot;https://cdn.jsdelivr.net/npm/bootstrap@5.2.2/dist/css/bootstrap.min.css&quot;/&gt;\n",
       "    &lt;link rel=&quot;stylesheet&quot; href=&quot;https://netdna.bootstrapcdn.com/bootstrap/3.0.0/css/bootstrap-glyphicons.css&quot;/&gt;\n",
       "    &lt;link rel=&quot;stylesheet&quot; href=&quot;https://cdn.jsdelivr.net/npm/@fortawesome/fontawesome-free@6.2.0/css/all.min.css&quot;/&gt;\n",
       "    &lt;link rel=&quot;stylesheet&quot; href=&quot;https://cdnjs.cloudflare.com/ajax/libs/Leaflet.awesome-markers/2.0.2/leaflet.awesome-markers.css&quot;/&gt;\n",
       "    &lt;link rel=&quot;stylesheet&quot; href=&quot;https://cdn.jsdelivr.net/gh/python-visualization/folium/folium/templates/leaflet.awesome.rotate.min.css&quot;/&gt;\n",
       "    \n",
       "            &lt;meta name=&quot;viewport&quot; content=&quot;width=device-width,\n",
       "                initial-scale=1.0, maximum-scale=1.0, user-scalable=no&quot; /&gt;\n",
       "            &lt;style&gt;\n",
       "                #map_7c96a0f736c46012093a9dabe38929df {\n",
       "                    position: relative;\n",
       "                    width: 100.0%;\n",
       "                    height: 100.0%;\n",
       "                    left: 0.0%;\n",
       "                    top: 0.0%;\n",
       "                }\n",
       "                .leaflet-container { font-size: 1rem; }\n",
       "            &lt;/style&gt;\n",
       "        \n",
       "    &lt;script src=&quot;https://cdnjs.cloudflare.com/ajax/libs/leaflet.markercluster/1.1.0/leaflet.markercluster.js&quot;&gt;&lt;/script&gt;\n",
       "    &lt;link rel=&quot;stylesheet&quot; href=&quot;https://cdnjs.cloudflare.com/ajax/libs/leaflet.markercluster/1.1.0/MarkerCluster.css&quot;/&gt;\n",
       "    &lt;link rel=&quot;stylesheet&quot; href=&quot;https://cdnjs.cloudflare.com/ajax/libs/leaflet.markercluster/1.1.0/MarkerCluster.Default.css&quot;/&gt;\n",
       "&lt;/head&gt;\n",
       "&lt;body&gt;\n",
       "    \n",
       "    \n",
       "            &lt;div class=&quot;folium-map&quot; id=&quot;map_7c96a0f736c46012093a9dabe38929df&quot; &gt;&lt;/div&gt;\n",
       "        \n",
       "&lt;/body&gt;\n",
       "&lt;script&gt;\n",
       "    \n",
       "    \n",
       "            var map_7c96a0f736c46012093a9dabe38929df = L.map(\n",
       "                &quot;map_7c96a0f736c46012093a9dabe38929df&quot;,\n",
       "                {\n",
       "                    center: [29.559684888503615, -95.0830971930759],\n",
       "                    crs: L.CRS.EPSG3857,\n",
       "                    zoom: 5,\n",
       "                    zoomControl: true,\n",
       "                    preferCanvas: false,\n",
       "                }\n",
       "            );\n",
       "\n",
       "            \n",
       "\n",
       "        \n",
       "    \n",
       "            var tile_layer_03d646c91be7413b6d8f826d82096274 = L.tileLayer(\n",
       "                &quot;https://tile.openstreetmap.org/{z}/{x}/{y}.png&quot;,\n",
       "                {&quot;attribution&quot;: &quot;\\u0026copy; \\u003ca href=\\&quot;https://www.openstreetmap.org/copyright\\&quot;\\u003eOpenStreetMap\\u003c/a\\u003e contributors&quot;, &quot;detectRetina&quot;: false, &quot;maxNativeZoom&quot;: 19, &quot;maxZoom&quot;: 19, &quot;minZoom&quot;: 0, &quot;noWrap&quot;: false, &quot;opacity&quot;: 1, &quot;subdomains&quot;: &quot;abc&quot;, &quot;tms&quot;: false}\n",
       "            );\n",
       "        \n",
       "    \n",
       "            tile_layer_03d646c91be7413b6d8f826d82096274.addTo(map_7c96a0f736c46012093a9dabe38929df);\n",
       "        \n",
       "    \n",
       "            var marker_cluster_56634702d5dc90a419446e6cbb22ae7a = L.markerClusterGroup(\n",
       "                {}\n",
       "            );\n",
       "        \n",
       "    \n",
       "            var marker_a9e0fd225b2b6a89bfd385081ce3720a = L.marker(\n",
       "                [29.559684888503615, -95.0830971930759],\n",
       "                {}\n",
       "            ).addTo(marker_cluster_56634702d5dc90a419446e6cbb22ae7a);\n",
       "        \n",
       "    \n",
       "            var div_icon_9d570b897cbb4ca92d849f94a256ef64 = L.divIcon({&quot;className&quot;: &quot;empty&quot;, &quot;html&quot;: &quot;\\u003cdiv style=\\&quot;font-size: 12; color:#d35400;\\&quot;\\u003e\\u003cb\\u003eNASA JSC\\u003c/b\\u003e\\u003c/div\\u003e&quot;, &quot;iconAnchor&quot;: [0, 0], &quot;iconSize&quot;: [20, 20]});\n",
       "            marker_a9e0fd225b2b6a89bfd385081ce3720a.setIcon(div_icon_9d570b897cbb4ca92d849f94a256ef64);\n",
       "        \n",
       "    \n",
       "            marker_cluster_56634702d5dc90a419446e6cbb22ae7a.addTo(map_7c96a0f736c46012093a9dabe38929df);\n",
       "        \n",
       "&lt;/script&gt;\n",
       "&lt;/html&gt;\" style=\"position:absolute;width:100%;height:100%;left:0;top:0;border:none !important;\" allowfullscreen webkitallowfullscreen mozallowfullscreen></iframe></div></div>"
      ],
      "text/plain": [
       "<folium.folium.Map at 0x15f85fdbc10>"
      ]
     },
     "execution_count": 85,
     "metadata": {},
     "output_type": "execute_result"
    }
   ],
   "source": [
    "# Add marker_cluster to current site_map\n",
    "site_map.add_child(marker_cluster)\n",
    "\n",
    "# for each row in spacex_df data frame\n",
    "# create a Marker object with its coordinate\n",
    "# and customize the Marker's icon property to indicate if this launch was successed or failed, \n",
    "# e.g., icon=folium.Icon(color='white', icon_color=row['marker_color']\n",
    "for index, record in spacex_df.iterrows():\n",
    "    # TODO: Create and add a Marker cluster to the site map\n",
    "    # marker = folium.Marker(...)\n",
    "    marker_cluster.add_child(marker)\n",
    "\n",
    "site_map"
   ]
  },
  {
   "cell_type": "markdown",
   "id": "b4590ff7",
   "metadata": {},
   "source": [
    "From the color-labeled markers in marker clusters, you should be able to easily identify which launch sites have relatively high success rates.\n"
   ]
  },
  {
   "cell_type": "markdown",
   "id": "58eb133a",
   "metadata": {},
   "source": [
    "# TASK 3: Calculate the distances between a launch site to its proximities\n"
   ]
  },
  {
   "cell_type": "markdown",
   "id": "d62d735a",
   "metadata": {},
   "source": [
    "Next, we need to explore and analyze the proximities of launch sites.\n"
   ]
  },
  {
   "cell_type": "markdown",
   "id": "c937fa22",
   "metadata": {},
   "source": [
    "Let's first add a `MousePosition` on the map to get coordinate for a mouse over a point on the map. As such, while you are exploring the map, you can easily find the coordinates of any points of interests (such as railway)\n"
   ]
  },
  {
   "cell_type": "code",
   "execution_count": 86,
   "id": "e00138b6",
   "metadata": {},
   "outputs": [
    {
     "data": {
      "text/html": [
       "<div style=\"width:100%;\"><div style=\"position:relative;width:100%;height:0;padding-bottom:60%;\"><span style=\"color:#565656\">Make this Notebook Trusted to load map: File -> Trust Notebook</span><iframe srcdoc=\"&lt;!DOCTYPE html&gt;\n",
       "&lt;html&gt;\n",
       "&lt;head&gt;\n",
       "    \n",
       "    &lt;meta http-equiv=&quot;content-type&quot; content=&quot;text/html; charset=UTF-8&quot; /&gt;\n",
       "    \n",
       "        &lt;script&gt;\n",
       "            L_NO_TOUCH = false;\n",
       "            L_DISABLE_3D = false;\n",
       "        &lt;/script&gt;\n",
       "    \n",
       "    &lt;style&gt;html, body {width: 100%;height: 100%;margin: 0;padding: 0;}&lt;/style&gt;\n",
       "    &lt;style&gt;#map {position:absolute;top:0;bottom:0;right:0;left:0;}&lt;/style&gt;\n",
       "    &lt;script src=&quot;https://cdn.jsdelivr.net/npm/leaflet@1.9.3/dist/leaflet.js&quot;&gt;&lt;/script&gt;\n",
       "    &lt;script src=&quot;https://code.jquery.com/jquery-3.7.1.min.js&quot;&gt;&lt;/script&gt;\n",
       "    &lt;script src=&quot;https://cdn.jsdelivr.net/npm/bootstrap@5.2.2/dist/js/bootstrap.bundle.min.js&quot;&gt;&lt;/script&gt;\n",
       "    &lt;script src=&quot;https://cdnjs.cloudflare.com/ajax/libs/Leaflet.awesome-markers/2.0.2/leaflet.awesome-markers.js&quot;&gt;&lt;/script&gt;\n",
       "    &lt;link rel=&quot;stylesheet&quot; href=&quot;https://cdn.jsdelivr.net/npm/leaflet@1.9.3/dist/leaflet.css&quot;/&gt;\n",
       "    &lt;link rel=&quot;stylesheet&quot; href=&quot;https://cdn.jsdelivr.net/npm/bootstrap@5.2.2/dist/css/bootstrap.min.css&quot;/&gt;\n",
       "    &lt;link rel=&quot;stylesheet&quot; href=&quot;https://netdna.bootstrapcdn.com/bootstrap/3.0.0/css/bootstrap-glyphicons.css&quot;/&gt;\n",
       "    &lt;link rel=&quot;stylesheet&quot; href=&quot;https://cdn.jsdelivr.net/npm/@fortawesome/fontawesome-free@6.2.0/css/all.min.css&quot;/&gt;\n",
       "    &lt;link rel=&quot;stylesheet&quot; href=&quot;https://cdnjs.cloudflare.com/ajax/libs/Leaflet.awesome-markers/2.0.2/leaflet.awesome-markers.css&quot;/&gt;\n",
       "    &lt;link rel=&quot;stylesheet&quot; href=&quot;https://cdn.jsdelivr.net/gh/python-visualization/folium/folium/templates/leaflet.awesome.rotate.min.css&quot;/&gt;\n",
       "    \n",
       "            &lt;meta name=&quot;viewport&quot; content=&quot;width=device-width,\n",
       "                initial-scale=1.0, maximum-scale=1.0, user-scalable=no&quot; /&gt;\n",
       "            &lt;style&gt;\n",
       "                #map_7c96a0f736c46012093a9dabe38929df {\n",
       "                    position: relative;\n",
       "                    width: 100.0%;\n",
       "                    height: 100.0%;\n",
       "                    left: 0.0%;\n",
       "                    top: 0.0%;\n",
       "                }\n",
       "                .leaflet-container { font-size: 1rem; }\n",
       "            &lt;/style&gt;\n",
       "        \n",
       "    &lt;script src=&quot;https://cdnjs.cloudflare.com/ajax/libs/leaflet.markercluster/1.1.0/leaflet.markercluster.js&quot;&gt;&lt;/script&gt;\n",
       "    &lt;link rel=&quot;stylesheet&quot; href=&quot;https://cdnjs.cloudflare.com/ajax/libs/leaflet.markercluster/1.1.0/MarkerCluster.css&quot;/&gt;\n",
       "    &lt;link rel=&quot;stylesheet&quot; href=&quot;https://cdnjs.cloudflare.com/ajax/libs/leaflet.markercluster/1.1.0/MarkerCluster.Default.css&quot;/&gt;\n",
       "    &lt;script src=&quot;https://cdn.jsdelivr.net/gh/ardhi/Leaflet.MousePosition/src/L.Control.MousePosition.min.js&quot;&gt;&lt;/script&gt;\n",
       "    &lt;link rel=&quot;stylesheet&quot; href=&quot;https://cdn.jsdelivr.net/gh/ardhi/Leaflet.MousePosition/src/L.Control.MousePosition.min.css&quot;/&gt;\n",
       "&lt;/head&gt;\n",
       "&lt;body&gt;\n",
       "    \n",
       "    \n",
       "            &lt;div class=&quot;folium-map&quot; id=&quot;map_7c96a0f736c46012093a9dabe38929df&quot; &gt;&lt;/div&gt;\n",
       "        \n",
       "&lt;/body&gt;\n",
       "&lt;script&gt;\n",
       "    \n",
       "    \n",
       "            var map_7c96a0f736c46012093a9dabe38929df = L.map(\n",
       "                &quot;map_7c96a0f736c46012093a9dabe38929df&quot;,\n",
       "                {\n",
       "                    center: [29.559684888503615, -95.0830971930759],\n",
       "                    crs: L.CRS.EPSG3857,\n",
       "                    zoom: 5,\n",
       "                    zoomControl: true,\n",
       "                    preferCanvas: false,\n",
       "                }\n",
       "            );\n",
       "\n",
       "            \n",
       "\n",
       "        \n",
       "    \n",
       "            var tile_layer_03d646c91be7413b6d8f826d82096274 = L.tileLayer(\n",
       "                &quot;https://tile.openstreetmap.org/{z}/{x}/{y}.png&quot;,\n",
       "                {&quot;attribution&quot;: &quot;\\u0026copy; \\u003ca href=\\&quot;https://www.openstreetmap.org/copyright\\&quot;\\u003eOpenStreetMap\\u003c/a\\u003e contributors&quot;, &quot;detectRetina&quot;: false, &quot;maxNativeZoom&quot;: 19, &quot;maxZoom&quot;: 19, &quot;minZoom&quot;: 0, &quot;noWrap&quot;: false, &quot;opacity&quot;: 1, &quot;subdomains&quot;: &quot;abc&quot;, &quot;tms&quot;: false}\n",
       "            );\n",
       "        \n",
       "    \n",
       "            tile_layer_03d646c91be7413b6d8f826d82096274.addTo(map_7c96a0f736c46012093a9dabe38929df);\n",
       "        \n",
       "    \n",
       "            var marker_cluster_56634702d5dc90a419446e6cbb22ae7a = L.markerClusterGroup(\n",
       "                {}\n",
       "            );\n",
       "        \n",
       "    \n",
       "            var marker_a9e0fd225b2b6a89bfd385081ce3720a = L.marker(\n",
       "                [29.559684888503615, -95.0830971930759],\n",
       "                {}\n",
       "            ).addTo(marker_cluster_56634702d5dc90a419446e6cbb22ae7a);\n",
       "        \n",
       "    \n",
       "            var div_icon_9d570b897cbb4ca92d849f94a256ef64 = L.divIcon({&quot;className&quot;: &quot;empty&quot;, &quot;html&quot;: &quot;\\u003cdiv style=\\&quot;font-size: 12; color:#d35400;\\&quot;\\u003e\\u003cb\\u003eNASA JSC\\u003c/b\\u003e\\u003c/div\\u003e&quot;, &quot;iconAnchor&quot;: [0, 0], &quot;iconSize&quot;: [20, 20]});\n",
       "            marker_a9e0fd225b2b6a89bfd385081ce3720a.setIcon(div_icon_9d570b897cbb4ca92d849f94a256ef64);\n",
       "        \n",
       "    \n",
       "            marker_cluster_56634702d5dc90a419446e6cbb22ae7a.addTo(map_7c96a0f736c46012093a9dabe38929df);\n",
       "        \n",
       "    \n",
       "            tile_layer_03d646c91be7413b6d8f826d82096274.addTo(map_7c96a0f736c46012093a9dabe38929df);\n",
       "        \n",
       "    \n",
       "            marker_cluster_56634702d5dc90a419446e6cbb22ae7a.addTo(map_7c96a0f736c46012093a9dabe38929df);\n",
       "        \n",
       "    \n",
       "            var mouse_position_9f98521dc608be4040ddf7726218e373 = new L.Control.MousePosition(\n",
       "                {&quot;emptyString&quot;: &quot;NaN&quot;, &quot;lngFirst&quot;: false, &quot;numDigits&quot;: 20, &quot;position&quot;: &quot;topright&quot;, &quot;prefix&quot;: &quot;Lat:&quot;, &quot;separator&quot;: &quot; Long: &quot;}\n",
       "            );\n",
       "            mouse_position_9f98521dc608be4040ddf7726218e373.options[&quot;latFormatter&quot;] =\n",
       "                function(num) {return L.Util.formatNum(num, 5);};;\n",
       "            mouse_position_9f98521dc608be4040ddf7726218e373.options[&quot;lngFormatter&quot;] =\n",
       "                function(num) {return L.Util.formatNum(num, 5);};;\n",
       "            map_7c96a0f736c46012093a9dabe38929df.addControl(mouse_position_9f98521dc608be4040ddf7726218e373);\n",
       "        \n",
       "&lt;/script&gt;\n",
       "&lt;/html&gt;\" style=\"position:absolute;width:100%;height:100%;left:0;top:0;border:none !important;\" allowfullscreen webkitallowfullscreen mozallowfullscreen></iframe></div></div>"
      ],
      "text/plain": [
       "<folium.folium.Map at 0x15f85fdbc10>"
      ]
     },
     "execution_count": 86,
     "metadata": {},
     "output_type": "execute_result"
    }
   ],
   "source": [
    "# Add Mouse Position to get the coordinate (Lat, Long) for a mouse over on the map\n",
    "formatter = \"function(num) {return L.Util.formatNum(num, 5);};\"\n",
    "mouse_position = MousePosition(\n",
    "    position='topright',\n",
    "    separator=' Long: ',\n",
    "    empty_string='NaN',\n",
    "    lng_first=False,\n",
    "    num_digits=20,\n",
    "    prefix='Lat:',\n",
    "    lat_formatter=formatter,\n",
    "    lng_formatter=formatter,\n",
    ")\n",
    "\n",
    "site_map.add_child(mouse_position)\n",
    "site_map"
   ]
  },
  {
   "cell_type": "markdown",
   "id": "ae1e4ddc",
   "metadata": {},
   "source": [
    "Now zoom in to a launch site and explore its proximity to see if you can easily find any railway, highway, coastline, etc. Move your mouse to these points and mark down their coordinates (shown on the top-left) in order to the distance to the launch site.\n"
   ]
  },
  {
   "cell_type": "markdown",
   "id": "86463d0f",
   "metadata": {},
   "source": [
    "You can calculate the distance between two points on the map based on their `Lat` and `Long` values using the following method:\n"
   ]
  },
  {
   "cell_type": "code",
   "execution_count": 87,
   "id": "f263371d",
   "metadata": {},
   "outputs": [],
   "source": [
    "from math import sin, cos, sqrt, atan2, radians\n",
    "\n",
    "def calculate_distance(lat1, lon1, lat2, lon2):\n",
    "    # approximate radius of earth in km\n",
    "    R = 6373.0\n",
    "\n",
    "    lat1 = radians(lat1)\n",
    "    lon1 = radians(lon1)\n",
    "    lat2 = radians(lat2)\n",
    "    lon2 = radians(lon2)\n",
    "\n",
    "    dlon = lon2 - lon1\n",
    "    dlat = lat2 - lat1\n",
    "\n",
    "    a = sin(dlat / 2)**2 + cos(lat1) * cos(lat2) * sin(dlon / 2)**2\n",
    "    c = 2 * atan2(sqrt(a), sqrt(1 - a))\n",
    "\n",
    "    distance = R * c\n",
    "    return distance"
   ]
  },
  {
   "cell_type": "markdown",
   "id": "331b7506",
   "metadata": {},
   "source": [
    "_TODO:_ Mark down a point on the closest coastline using MousePosition and calculate the distance between the coastline point and the launch site.\n"
   ]
  },
  {
   "cell_type": "code",
   "execution_count": 88,
   "id": "970a5e1a",
   "metadata": {},
   "outputs": [],
   "source": [
    "# find coordinate of the closet coastline\n",
    "# e.g.,: Lat: 28.56367  Lon: -80.57163\n",
    "# distance_coastline = calculate_distance(launch_site_lat, launch_site_lon, coastline_lat, coastline_lon)"
   ]
  },
  {
   "cell_type": "markdown",
   "id": "3cc261d0",
   "metadata": {},
   "source": [
    "_TODO:_ After obtained its coordinate, create a `folium.Marker` to show the distance\n"
   ]
  },
  {
   "cell_type": "code",
   "execution_count": 89,
   "id": "7cf252c5",
   "metadata": {},
   "outputs": [],
   "source": [
    "# Create and add a folium.Marker on your selected closest coastline point on the map\n",
    "# Display the distance between coastline point and launch site using the icon property \n",
    "# for example\n",
    "# distance_marker = folium.Marker(\n",
    "#    coordinate,\n",
    "#    icon=DivIcon(\n",
    "#        icon_size=(20,20),\n",
    "#        icon_anchor=(0,0),\n",
    "#        html='<div style=\"font-size: 12; color:#d35400;\"><b>%s</b></div>' % \"{:10.2f} KM\".format(distance),\n",
    "#        )\n",
    "#    )"
   ]
  },
  {
   "cell_type": "markdown",
   "id": "a5566415",
   "metadata": {},
   "source": [
    "_TODO:_ Draw a `PolyLine` between a launch site to the selected coastline point\n"
   ]
  },
  {
   "cell_type": "code",
   "execution_count": null,
   "id": "72e67446",
   "metadata": {},
   "outputs": [],
   "source": [
    "# Create a `folium.PolyLine` object using the coastline coordinates and launch site coordinate\n",
    "# lines=folium.PolyLine(locations=coordinates, weight=1)\n",
    "site_map.add_child(lines)"
   ]
  },
  {
   "cell_type": "markdown",
   "id": "ba9bd53e",
   "metadata": {},
   "source": [
    "_TODO:_ Similarly, you can draw a line betwee a launch site to its closest city, railway, highway, etc. You need to use `MousePosition` to find the their coordinates on the map first\n"
   ]
  },
  {
   "cell_type": "code",
   "execution_count": 91,
   "id": "dad10136",
   "metadata": {},
   "outputs": [],
   "source": [
    "# Create a marker with distance to a closest city, railway, highway, etc.\n",
    "# Draw a line between the marker to the launch site\n"
   ]
  },
  {
   "cell_type": "markdown",
   "id": "91829e3b",
   "metadata": {},
   "source": [
    "After you plot distance lines to the proximities, you can answer the following questions easily:\n",
    "- Are launch sites in close proximity to railways?\n",
    "- Are launch sites in close proximity to highways?\n",
    "- Are launch sites in close proximity to coastline?\n",
    "- Do launch sites keep certain distance away from cities?\n",
    "\n",
    "Also please try to explain your findings.\n"
   ]
  },
  {
   "cell_type": "markdown",
   "id": "159a3f0b",
   "metadata": {},
   "source": [
    "# Next Steps:\n",
    "\n",
    "Now you have discovered many interesting insights related to the launch sites' location using folium, in a very interactive way. Next, you will need to build a dashboard using Ploty Dash on detailed launch records.\n"
   ]
  },
  {
   "cell_type": "markdown",
   "id": "e465ed45",
   "metadata": {},
   "source": [
    "# Build a Dashboard Application with Plotly Dash\n",
    "In this lab, you will be building a Plotly Dash application for users to perform interactive visual analytics on SpaceX launch data in\n",
    "real-time.\n",
    "\n",
    "This dashboard application contains input components such as a dropdown list and a range slider to\n",
    "interact with a pie chart and a scatter point chart. You will be guided to build this dashboard application via the following tasks:\n",
    "\n",
    "TASK 1: Add a Launch Site Drop-down Input Component\n",
    "TASK 2: Add a callback function to render success-pie-chart based on selected site dropdown\n",
    "TASK 3: Add a Range Slider to Select Payload\n",
    "TASK 4: Add a callback function to render the success-payload-scatter-chart scatter plot\n",
    "Note:Please take screenshots of the Dashboard and save them. Further upload your notebook to github.\n",
    "\n",
    "The github url and the screenshots are later required in the presentation slides.\n",
    "\n",
    "Your completed dashboard application should look like the following screenshot:"
   ]
  },
  {
   "cell_type": "markdown",
   "id": "6e242690",
   "metadata": {},
   "source": [
    "After visual analysis using the dashboard, you should be able to obtain some insights to answer the following five questions:\n",
    "\n",
    "Which site has the largest successful launches?\n",
    "Which site has the highest launch success rate?\n",
    "Which payload range(s) has the highest launch success rate?\n",
    "Which payload range(s) has the lowest launch success rate?\n",
    "Which F9 Booster version (v1.0, v1.1, FT, B4, B5, etc.) has the highest\n",
    "launch success rate?\n",
    "Estimated time needed: 90 minutes\n",
    "\n",
    "Important Notice about this lab environment"
   ]
  },
  {
   "cell_type": "markdown",
   "id": "525cd935",
   "metadata": {},
   "source": [
    "Please be aware that sessions for this lab environment are not persisted. When you launch the Cloud IDE, you are presented with a ‘dedicated computer on the cloud’ exclusively for you. This is available to you as long as you are actively working on the labs.\n",
    "Once you close your session or it is timed out due to inactivity,\n",
    "you are logged off, and this dedicated computer on the cloud is deleted along with any files you may have created, downloaded or installed.\n",
    "\n",
    "The next time you launch this lab, a new environment is created for you.\n",
    "If you finish only part of the lab and return later, you may have to start from the beginning. So, it is a good idea to plan your time accordingly and finish your labs in a single session.\n",
    "\n",
    "Setup development environment\n",
    "Install required Python packages\n",
    "Open a new terminal, by clicking on the menu bar and selecting Terminal->New Terminal, as in the image below."
   ]
  },
  {
   "cell_type": "code",
   "execution_count": null,
   "id": "394038fd",
   "metadata": {},
   "outputs": [],
   "source": [
    "python3.11 -m pip install pandas dash"
   ]
  },
  {
   "cell_type": "markdown",
   "id": "6d1b32a1",
   "metadata": {},
   "source": [
    "Download a skeleton dashboard application and dataset\n",
    "First, let’s get the SpaceX Launch dataset for this lab:\n",
    "\n",
    "Run the following wget command line in the terminal to download dataset as spacex_launch_dash.csv\n",
    "1\n",
    "wget \"https://cf-courses-data.s3.us.cloud-object-storage.appdomain.cloud/IBM-DS0321EN-SkillsNetwork/datasets/spacex_launch_dash.csv\"\n",
    "Copied!\n",
    "Download a skeleton Dash app to be completed in this lab:\n",
    "1\n",
    "wget \"https://cf-courses-data.s3.us.cloud-object-storage.appdomain.cloud/IBM-DS0321EN-SkillsNetwork/labs/module_3/spacex_dash_app.py\"\n",
    "Copied!\n",
    "Test the skeleton app by running the following command in the terminal:\n",
    "1\n",
    "python3.11 spacex_dash_app.py\n",
    "Copied!\n",
    "Observe the port number (8050) shown in the terminal."
   ]
  },
  {
   "cell_type": "markdown",
   "id": "0166a8f1",
   "metadata": {},
   "source": [
    "In the left Navigation Pane click on Others and click Launch Application option under it.Enter the application port number as 8050.\n",
    "Click Your Application.\n"
   ]
  },
  {
   "cell_type": "markdown",
   "id": "f840c221",
   "metadata": {},
   "source": [
    "You should see a nearly blank web page indicating a successfully running dash app.\n",
    "Next, let’s fill the skeleton app with required input/output components and callback functions.\n",
    "If you need to refresh your memory about Plotly Dash components and callback functions,\n",
    "you may refer to the lab you have learned before:\n",
    "\n",
    "Plotly Dash Lab\n",
    "\n",
    "TASK 1: Add a Launch Site Drop-down Input Component\n",
    "We have four different launch sites and we would like to first see which one has the largest success count. Then,\n",
    "we would like to select one specific site and check its detailed success rate (class=0 vs. class=1).\n",
    "\n",
    "As such, we will need a dropdown menu to let us select different launch sites.\n",
    "\n",
    "Find and complete a commented dcc.Dropdown(id='site-dropdown',...) input with following attributes:\n",
    "id attribute with value site-dropdown\n",
    "options attribute is a list of dict-like option objects (with label and value attributes). You can set\n",
    "the label and value all to be the launch site names in the spacex_df\n",
    "and you need to include the default All option. e.g.,"
   ]
  },
  {
   "cell_type": "code",
   "execution_count": null,
   "id": "4d8d4738",
   "metadata": {},
   "outputs": [],
   "source": [
    "1\n",
    "  options=[{'label': 'All Sites', 'value': 'ALL'},{'label': 'site1', 'value': 'site1'}, ...]\n",
    "Copied!\n",
    "value attribute with default dropdown value to be ALL meaning all sites are selected\n",
    "placeholder attribute to show a text description about this input area,\n",
    "such as Select a Launch Site here\n",
    "searchable attribute to be True so we can enter keywords to search launch sites\n",
    "Here is an example of dcc.Dropdown:\n",
    "\n",
    "1\n",
    "2\n",
    "3\n",
    "4\n",
    "5\n",
    "6\n",
    "7\n",
    "8\n",
    "9\n",
    "  dcc.Dropdown(id='id',\n",
    "                options=[\n",
    "                    {'label': 'All Sites', 'value': 'ALL'},\n",
    "                    {'label': 'site1', 'value': 'site1'},\n",
    "                ],\n",
    "                value='ALL',\n",
    "                placeholder=\"place holder here\",\n",
    "                searchable=True\n",
    "                ),\n",
    "Copied!\n",
    "If you need more help about Dropdown(), refer to the Plotly Dash Reference section towards\n",
    "the end of this lab.\n",
    "\n",
    "Your completed dropdown menu should look like the following screenshot:"
   ]
  },
  {
   "cell_type": "markdown",
   "id": "c4e3e7e6",
   "metadata": {},
   "source": [
    "TASK 2: Add a callback function to render success-pie-chart based on selected site dropdown\n",
    "The general idea of this callback function is to get the selected launch site from site-dropdown and render\n",
    "a pie chart visualizing launch success counts.\n",
    "\n",
    "Dash callback function is a type of Python function which will be automatically called by\n",
    "Dash whenever receiving an input component updates, such as a click or dropdown selecting event.\n",
    "\n",
    "If you need to refresh your memory about Plotly Dash callback functions,\n",
    "you may refer to the lab you have learned before:\n",
    "\n",
    "Plotly Dash Lab\n",
    "\n",
    "Let’s add a callback function in spacex_dash_app.py including the following application logic:\n",
    "\n",
    "Input is set to be the site-dropdown dropdown, i.e., Input(component_id='site-dropdown', component_property='value')"
   ]
  },
  {
   "cell_type": "code",
   "execution_count": null,
   "id": "f43008a6",
   "metadata": {},
   "outputs": [],
   "source": [
    "A If-Else statement to check if ALL sites were selected or just a specific launch site was selected\n",
    "If ALL sites are selected, we will use all rows in the dataframe spacex_df to render and return a pie chart graph to show the total success launches (i.e., the total count of class column)\n",
    "If a specific launch site is selected, you need to filter the dataframe spacex_df first in order\n",
    "to include the only data for the selected site.\n",
    "Then, render and return a pie chart graph to show the success (class=1) count and failed (class=0) count for the selected site.\n",
    "Here is an example of a callback function:\n",
    "\n",
    "1\n",
    "2\n",
    "3\n",
    "4\n",
    "5\n",
    "6\n",
    "7\n",
    "8\n",
    "9\n",
    "10\n",
    "11\n",
    "12\n",
    "# Function decorator to specify function input and output\n",
    "@app.callback(Output(component_id='success-pie-chart', component_property='figure'),\n",
    "              Input(component_id='site-dropdown', component_property='value'))\n",
    "def get_pie_chart(entered_site):\n",
    "    filtered_df = spacex_df\n",
    "    if entered_site == 'ALL':\n",
    "        fig = px.pie(data, values='class', \n",
    "        names='pie chart names', \n",
    "        title='title')\n",
    "        return fig\n",
    "    else:\n",
    "        # return the outcomes piechart for a selected site\n",
    "Copied!\n",
    "The rendered pie chart should look like the following screenshots:\n",
    "\n",
    "Pie chart for all sites are selected\n"
   ]
  },
  {
   "cell_type": "code",
   "execution_count": null,
   "id": "1d02d4a9",
   "metadata": {},
   "outputs": [],
   "source": [
    "TASK 3: Add a Range Slider to Select Payload\n",
    "Next, we want to find if variable payload is correlated to mission outcome. From a dashboard point of view, we\n",
    "want to be able to easily select different payload range and see if we can identify some visual patterns.\n",
    "\n",
    "Find and complete a commented dcc.RangeSlider(id='payload-slider',...) input with the following attribute:\n",
    "\n",
    "id to be payload-slider\n",
    "min indicating the slider starting point, we set its value to be 0 (Kg)\n",
    "max indicating the slider ending point to, we set its value to be 10000 (Kg)\n",
    "step indicating the slider interval on the slider, we set its value to be 1000 (Kg)\n",
    "value indicating the current selected range, we could set it to be min_payload and max_payload\n",
    "Here is an example of RangeSlider:\n",
    "\n",
    "1\n",
    "2\n",
    "3\n",
    "4\n",
    "5\n",
    "dcc.RangeSlider(id='id',\n",
    "                min=0, max=10000, step=1000,\n",
    "                marks={0: '0',\n",
    "                       100: '100'},\n",
    "                value=[min_value, max_value])\n",
    "Copied!\n",
    "You completed payload range slider should be similar the following screenshot"
   ]
  },
  {
   "cell_type": "code",
   "execution_count": null,
   "id": "e084fe3a",
   "metadata": {},
   "outputs": [],
   "source": [
    "TASK 4: Add a callback function to render the success-payload-scatter-chart scatter plot\n",
    "Next, we want to plot a scatter plot with the x axis to be the payload and the y axis to be the launch outcome (i.e., class column).\n",
    "As such, we can visually observe how payload may be correlated with mission outcomes for selected site(s).\n",
    "\n",
    "In addition, we want to color-label the Booster version on each scatter point so that we may\n",
    "observe mission outcomes with different boosters.\n",
    "\n",
    "Now, let’s add a call function including the following application logic:\n",
    "\n",
    "Input to be [Input(component_id='site-dropdown', component_property='value'), Input(component_id=\"payload-slider\", component_property=\"value\")]\n",
    "Note that we have two input components, one to receive selected launch site and another to receive selected payload range\n",
    "Output to be Output(component_id='success-payload-scatter-chart', component_property='figure')\n",
    "A If-Else statement to check if ALL sites were selected or just a specific launch site was selected\n",
    "If ALL sites are selected, render a scatter plot to display all values for variable Payload Mass (kg) and variable class.\n",
    "In addition, the point color needs to be set to the booster version i.e., color=\"Booster Version Category\"\n",
    "If a specific launch site is selected, you need to filter the spacex_df first, and render a scatter chart to show\n",
    "values Payload Mass (kg) and class for the selected site, and color-label the point using Boosster Version Category likewise.\n",
    "You rendered scatter point should look like the following screenshot:\n",
    "\n",
    "\n",
    "If you need more reference about dash callbacks and plotly scatter plots, refer to the Plotly Dash Reference towards\n",
    "the end of this lab.\n",
    "\n",
    "Finding Insights Visually\n",
    "Now with the dashboard completed, you should be able to use it to analyze SpaceX launch data, and answer the following questions:\n",
    "\n",
    "Which site has the largest successful launches?\n",
    "Which site has the highest launch success rate?\n",
    "Which payload range(s) has the highest launch success rate?\n",
    "Which payload range(s) has the lowest launch success rate?\n",
    "Which F9 Booster version (v1.0, v1.1, FT, B4, B5, etc.) has the highest\n",
    "launch success rate?\n",
    "Plotly Dash Reference\n",
    "Dropdown (input) component\n",
    "Refer here for more details about dcc.Dropdown()\n",
    "\n",
    "Range slider (input) component\n",
    "Refer here for more details about dcc.RangeSlider()\n",
    "\n",
    "Pie chart (output) component\n",
    "Refer here for more details about plotly pie charts\n",
    "\n",
    "Scatter chart (output) component\n",
    "Refer here for more details about plotly scatter charts\n",
    "\n",
    "Author\n",
    "Yan Luo\n",
    "\n",
    "Other contributor(s)\n",
    "Joseph Santarcangelo\n",
    "\n",
    "Changelog\n",
    "Date\tVersion\tChanged by\tChange Description\n",
    "20-09-2022\t1.3\tLakshmi Holla\tUpdated screenshot.\n",
    "29-08-2022\t1.2\tLakshmi Holla\tUpdated screenshot.\n",
    "03-09-2021\t1.1\tLakshmi Holla\tAdded a note.\n",
    "06-01-2021\t1.0\tYan\tInitial version created\n",
    "© IBM Corporation 2021. All rights reserved.\n"
   ]
  },
  {
   "cell_type": "markdown",
   "id": "27028b63",
   "metadata": {},
   "source": [
    "# **Space X  Falcon 9 First Stage Landing Prediction**\n"
   ]
  },
  {
   "cell_type": "markdown",
   "id": "ed6f6860",
   "metadata": {},
   "source": [
    "## Assignment:  Machine Learning Prediction\n"
   ]
  },
  {
   "cell_type": "markdown",
   "id": "1fa3bd6d",
   "metadata": {},
   "source": [
    "Space X advertises Falcon 9 rocket launches on its website with a cost of 62 million dollars; other providers cost upward of 165 million dollars each, much of the savings is because Space X can reuse the first stage. Therefore if we can determine if the first stage will land, we can determine the cost of a launch. This information can be used if an alternate company wants to bid against space X for a rocket launch.   In this lab, you will create a machine learning pipeline  to predict if the first stage will land given the data from the preceding labs.\n"
   ]
  },
  {
   "cell_type": "markdown",
   "id": "28b33637",
   "metadata": {},
   "source": [
    "# Objectives\n"
   ]
  },
  {
   "cell_type": "markdown",
   "id": "9becf0e2",
   "metadata": {},
   "source": [
    "Perform exploratory  Data Analysis and determine Training Labels\n",
    "\n",
    "*   create a column for the class\n",
    "*   Standardize the data\n",
    "*   Split into training data and test data\n",
    "\n",
    "\\-Find best Hyperparameter for SVM, Classification Trees and Logistic Regression\n",
    "\n",
    "*   Find the method performs best using test data\n"
   ]
  },
  {
   "cell_type": "markdown",
   "id": "048486d7",
   "metadata": {},
   "source": [
    "## Import Libraries and Define Auxiliary Functions\n"
   ]
  },
  {
   "cell_type": "code",
   "execution_count": null,
   "id": "2b0b0f4a",
   "metadata": {},
   "outputs": [],
   "source": [
    "import piplite\n",
    "await piplite.install(['numpy'])\n",
    "await piplite.install(['pandas'])\n",
    "await piplite.install(['seaborn'])"
   ]
  },
  {
   "cell_type": "markdown",
   "id": "b1a5b104",
   "metadata": {},
   "source": [
    "We will import the following libraries for the lab\n"
   ]
  },
  {
   "cell_type": "code",
   "execution_count": 2,
   "id": "37968da6",
   "metadata": {},
   "outputs": [],
   "source": [
    "# Pandas is a software library written for the Python programming language for data manipulation and analysis.\n",
    "import pandas as pd\n",
    "# NumPy is a library for the Python programming language, adding support for large, multi-dimensional arrays and matrices, along with a large collection of high-level mathematical functions to operate on these arrays\n",
    "import numpy as np\n",
    "# Matplotlib is a plotting library for python and pyplot gives us a MatLab like plotting framework. We will use this in our plotter function to plot data.\n",
    "import matplotlib.pyplot as plt\n",
    "#Seaborn is a Python data visualization library based on matplotlib. It provides a high-level interface for drawing attractive and informative statistical graphics\n",
    "import seaborn as sns\n",
    "# Preprocessing allows us to standarsize our data\n",
    "from sklearn import preprocessing\n",
    "# Allows us to split our data into training and testing data\n",
    "from sklearn.model_selection import train_test_split\n",
    "# Allows us to test parameters of classification algorithms and find the best one\n",
    "from sklearn.model_selection import GridSearchCV\n",
    "# Logistic Regression classification algorithm\n",
    "from sklearn.linear_model import LogisticRegression\n",
    "# Support Vector Machine classification algorithm\n",
    "from sklearn.svm import SVC\n",
    "# Decision Tree classification algorithm\n",
    "from sklearn.tree import DecisionTreeClassifier\n",
    "# K Nearest Neighbors classification algorithm\n",
    "from sklearn.neighbors import KNeighborsClassifier"
   ]
  },
  {
   "cell_type": "markdown",
   "id": "77e22be9",
   "metadata": {},
   "source": [
    "This function is to plot the confusion matrix.\n"
   ]
  },
  {
   "cell_type": "code",
   "execution_count": 3,
   "id": "3aa71652",
   "metadata": {},
   "outputs": [],
   "source": [
    "def plot_confusion_matrix(y,y_predict):\n",
    "    \"this function plots the confusion matrix\"\n",
    "    from sklearn.metrics import confusion_matrix\n",
    "\n",
    "    cm = confusion_matrix(y, y_predict)\n",
    "    ax= plt.subplot()\n",
    "    sns.heatmap(cm, annot=True, ax = ax); #annot=True to annotate cells\n",
    "    ax.set_xlabel('Predicted labels')\n",
    "    ax.set_ylabel('True labels')\n",
    "    ax.set_title('Confusion Matrix'); \n",
    "    ax.xaxis.set_ticklabels(['did not land', 'land']); ax.yaxis.set_ticklabels(['did not land', 'landed']) \n",
    "    plt.show() "
   ]
  },
  {
   "cell_type": "markdown",
   "id": "fb20b3bc",
   "metadata": {},
   "source": [
    "## Load the dataframe\n"
   ]
  },
  {
   "cell_type": "markdown",
   "id": "20b5235e",
   "metadata": {},
   "source": [
    "Load the data\n"
   ]
  },
  {
   "cell_type": "code",
   "execution_count": null,
   "id": "5944fba0",
   "metadata": {},
   "outputs": [],
   "source": [
    "from js import fetch\n",
    "import io\n",
    "\n",
    "URL1 = \"https://cf-courses-data.s3.us.cloud-object-storage.appdomain.cloud/IBM-DS0321EN-SkillsNetwork/datasets/dataset_part_2.csv\"\n",
    "resp1 = await fetch(URL1)\n",
    "text1 = io.BytesIO((await resp1.arrayBuffer()).to_py())\n",
    "data = pd.read_csv(text1)"
   ]
  },
  {
   "cell_type": "code",
   "execution_count": null,
   "id": "b8d3bdd8",
   "metadata": {},
   "outputs": [],
   "source": [
    "data.head()"
   ]
  },
  {
   "cell_type": "code",
   "execution_count": null,
   "id": "0866bb75",
   "metadata": {},
   "outputs": [],
   "source": []
  },
  {
   "cell_type": "code",
   "execution_count": null,
   "id": "1ff5f92e",
   "metadata": {},
   "outputs": [],
   "source": [
    "URL2 = 'https://cf-courses-data.s3.us.cloud-object-storage.appdomain.cloud/IBM-DS0321EN-SkillsNetwork/datasets/dataset_part_3.csv'\n",
    "resp2 = await fetch(URL2)\n",
    "text2 = io.BytesIO((await resp2.arrayBuffer()).to_py())\n",
    "X = pd.read_csv(text2)"
   ]
  },
  {
   "cell_type": "code",
   "execution_count": null,
   "id": "478dafe2",
   "metadata": {},
   "outputs": [],
   "source": [
    "X.head(100)"
   ]
  },
  {
   "cell_type": "markdown",
   "id": "76d0fd4f",
   "metadata": {},
   "source": [
    "# TASK  1\n"
   ]
  },
  {
   "cell_type": "markdown",
   "id": "068f6e07",
   "metadata": {},
   "source": [
    "Create a NumPy array from the column <code>Class</code> in <code>data</code>, by applying the method <code>to_numpy()</code>  then\n",
    "assign it  to the variable <code>Y</code>,make sure the output is a  Pandas series (only one bracket df\\['name of  column']).\n"
   ]
  },
  {
   "cell_type": "markdown",
   "id": "1afa8fc2",
   "metadata": {},
   "source": [
    "# TASK  2\n"
   ]
  },
  {
   "cell_type": "markdown",
   "id": "3f870d7e",
   "metadata": {},
   "source": [
    "Standardize the data in <code>X</code> then reassign it to the variable  <code>X</code> using the transform provided below.\n"
   ]
  },
  {
   "cell_type": "code",
   "execution_count": 8,
   "id": "aef50dc2",
   "metadata": {},
   "outputs": [],
   "source": [
    "# students get this \n",
    "transform = preprocessing.StandardScaler()"
   ]
  },
  {
   "cell_type": "markdown",
   "id": "bf01747a",
   "metadata": {},
   "source": [
    "We split the data into training and testing data using the  function  <code>train_test_split</code>.   The training data is divided into validation data, a second set used for training  data; then the models are trained and hyperparameters are selected using the function <code>GridSearchCV</code>.\n"
   ]
  },
  {
   "cell_type": "markdown",
   "id": "557ef271",
   "metadata": {},
   "source": [
    "# TASK  3\n"
   ]
  },
  {
   "cell_type": "markdown",
   "id": "fd98068d",
   "metadata": {},
   "source": [
    "Use the function train_test_split to split the data X and Y into training and test data. Set the parameter test_size to  0.2 and random_state to 2. The training data and test data should be assigned to the following labels.\n"
   ]
  },
  {
   "cell_type": "markdown",
   "id": "c7152e09",
   "metadata": {},
   "source": [
    "<code>X_train, X_test, Y_train, Y_test</code>\n"
   ]
  },
  {
   "cell_type": "markdown",
   "id": "3f9df3f7",
   "metadata": {},
   "source": [
    "we can see we only have 18 test samples.\n"
   ]
  },
  {
   "cell_type": "code",
   "execution_count": null,
   "id": "97e4add9",
   "metadata": {},
   "outputs": [],
   "source": [
    "Y_test.shape"
   ]
  },
  {
   "cell_type": "markdown",
   "id": "ede41665",
   "metadata": {},
   "source": [
    "# TASK  4\n"
   ]
  },
  {
   "cell_type": "markdown",
   "id": "74e5ac71",
   "metadata": {},
   "source": [
    "Create a logistic regression object  then create a  GridSearchCV object  <code>logreg_cv</code> with cv = 10.  Fit the object to find the best parameters from the dictionary <code>parameters</code>.\n"
   ]
  },
  {
   "cell_type": "code",
   "execution_count": 11,
   "id": "c5ea5d5b",
   "metadata": {},
   "outputs": [],
   "source": [
    "parameters ={'C':[0.01,0.1,1],\n",
    "             'penalty':['l2'],\n",
    "             'solver':['lbfgs']}"
   ]
  },
  {
   "cell_type": "code",
   "execution_count": 12,
   "id": "bf2c4e0b",
   "metadata": {},
   "outputs": [],
   "source": [
    "parameters ={\"C\":[0.01,0.1,1],'penalty':['l2'], 'solver':['lbfgs']}# l1 lasso l2 ridge\n",
    "lr=LogisticRegression()\n"
   ]
  },
  {
   "cell_type": "markdown",
   "id": "af25a284",
   "metadata": {},
   "source": [
    "We output the <code>GridSearchCV</code> object for logistic regression. We display the best parameters using the data attribute <code>best_params\\_</code> and the accuracy on the validation data using the data attribute <code>best_score\\_</code>.\n"
   ]
  },
  {
   "cell_type": "code",
   "execution_count": null,
   "id": "fe58cfa5",
   "metadata": {},
   "outputs": [],
   "source": [
    "print(\"tuned hpyerparameters :(best parameters) \",logreg_cv.best_params_)\n",
    "print(\"accuracy :\",logreg_cv.best_score_)"
   ]
  },
  {
   "cell_type": "markdown",
   "id": "b91a4002",
   "metadata": {},
   "source": [
    "# TASK  5\n"
   ]
  },
  {
   "cell_type": "markdown",
   "id": "b28f966a",
   "metadata": {},
   "source": [
    "Calculate the accuracy on the test data using the method <code>score</code>:\n"
   ]
  },
  {
   "cell_type": "markdown",
   "id": "7fd099cd",
   "metadata": {},
   "source": [
    "Lets look at the confusion matrix:\n"
   ]
  },
  {
   "cell_type": "code",
   "execution_count": null,
   "id": "dbcd1ad6",
   "metadata": {},
   "outputs": [],
   "source": [
    "yhat=logreg_cv.predict(X_test)\n",
    "plot_confusion_matrix(Y_test,yhat)"
   ]
  },
  {
   "cell_type": "markdown",
   "id": "f9b47e44",
   "metadata": {},
   "source": [
    "# TASK  6\n"
   ]
  },
  {
   "cell_type": "markdown",
   "id": "a85b9b3d",
   "metadata": {},
   "source": [
    "Create a support vector machine object then  create a  <code>GridSearchCV</code> object  <code>svm_cv</code> with cv = 10.  Fit the object to find the best parameters from the dictionary <code>parameters</code>.\n"
   ]
  },
  {
   "cell_type": "code",
   "execution_count": 15,
   "id": "8ed0aab4",
   "metadata": {},
   "outputs": [],
   "source": [
    "parameters = {'kernel':('linear', 'rbf','poly','rbf', 'sigmoid'),\n",
    "              'C': np.logspace(-3, 3, 5),\n",
    "              'gamma':np.logspace(-3, 3, 5)}\n",
    "svm = SVC()"
   ]
  },
  {
   "cell_type": "code",
   "execution_count": null,
   "id": "efc96331",
   "metadata": {},
   "outputs": [],
   "source": [
    "print(\"tuned hpyerparameters :(best parameters) \",svm_cv.best_params_)\n",
    "print(\"accuracy :\",svm_cv.best_score_)"
   ]
  },
  {
   "cell_type": "markdown",
   "id": "dca379a2",
   "metadata": {},
   "source": [
    "# TASK  7\n"
   ]
  },
  {
   "cell_type": "markdown",
   "id": "666adb70",
   "metadata": {},
   "source": [
    "Calculate the accuracy on the test data using the method <code>score</code>:\n"
   ]
  },
  {
   "cell_type": "markdown",
   "id": "97d64fb6",
   "metadata": {},
   "source": [
    "We can plot the confusion matrix\n"
   ]
  },
  {
   "cell_type": "code",
   "execution_count": null,
   "id": "5a895b43",
   "metadata": {},
   "outputs": [],
   "source": [
    "yhat=svm_cv.predict(X_test)\n",
    "plot_confusion_matrix(Y_test,yhat)"
   ]
  },
  {
   "cell_type": "markdown",
   "id": "823e91d9",
   "metadata": {},
   "source": [
    "# TASK  8\n"
   ]
  },
  {
   "cell_type": "markdown",
   "id": "5e6ff325",
   "metadata": {},
   "source": [
    "Create a decision tree classifier object then  create a  <code>GridSearchCV</code> object  <code>tree_cv</code> with cv = 10.  Fit the object to find the best parameters from the dictionary <code>parameters</code>.\n"
   ]
  },
  {
   "cell_type": "code",
   "execution_count": 18,
   "id": "a5a7d4ef",
   "metadata": {},
   "outputs": [],
   "source": [
    "parameters = {'criterion': ['gini', 'entropy'],\n",
    "     'splitter': ['best', 'random'],\n",
    "     'max_depth': [2*n for n in range(1,10)],\n",
    "     'max_features': ['auto', 'sqrt'],\n",
    "     'min_samples_leaf': [1, 2, 4],\n",
    "     'min_samples_split': [2, 5, 10]}\n",
    "\n",
    "tree = DecisionTreeClassifier()"
   ]
  },
  {
   "cell_type": "code",
   "execution_count": null,
   "id": "7c6b08f3",
   "metadata": {},
   "outputs": [],
   "source": [
    "print(\"tuned hpyerparameters :(best parameters) \",tree_cv.best_params_)\n",
    "print(\"accuracy :\",tree_cv.best_score_)"
   ]
  },
  {
   "cell_type": "markdown",
   "id": "8a690acd",
   "metadata": {},
   "source": [
    "## TASK  9\n"
   ]
  },
  {
   "cell_type": "markdown",
   "id": "b0d76eef",
   "metadata": {},
   "source": [
    "Calculate the accuracy of tree_cv on the test data using the method <code>score</code>:\n"
   ]
  },
  {
   "cell_type": "markdown",
   "id": "2b2d3e06",
   "metadata": {},
   "source": [
    "We can plot the confusion matrix\n"
   ]
  },
  {
   "cell_type": "code",
   "execution_count": null,
   "id": "f8799a38",
   "metadata": {},
   "outputs": [],
   "source": [
    "yhat = tree_cv.predict(X_test)\n",
    "plot_confusion_matrix(Y_test,yhat)"
   ]
  },
  {
   "cell_type": "markdown",
   "id": "3176a88f",
   "metadata": {},
   "source": [
    "# TASK  10\n"
   ]
  },
  {
   "cell_type": "markdown",
   "id": "05ef0afa",
   "metadata": {},
   "source": [
    "Create a k nearest neighbors object then  create a  <code>GridSearchCV</code> object  <code>knn_cv</code> with cv = 10.  Fit the object to find the best parameters from the dictionary <code>parameters</code>.\n"
   ]
  },
  {
   "cell_type": "code",
   "execution_count": 21,
   "id": "24e85fed",
   "metadata": {},
   "outputs": [],
   "source": [
    "parameters = {'n_neighbors': [1, 2, 3, 4, 5, 6, 7, 8, 9, 10],\n",
    "              'algorithm': ['auto', 'ball_tree', 'kd_tree', 'brute'],\n",
    "              'p': [1,2]}\n",
    "\n",
    "KNN = KNeighborsClassifier()"
   ]
  },
  {
   "cell_type": "code",
   "execution_count": null,
   "id": "ace9bb1f",
   "metadata": {},
   "outputs": [],
   "source": [
    "print(\"tuned hpyerparameters :(best parameters) \",knn_cv.best_params_)\n",
    "print(\"accuracy :\",knn_cv.best_score_)"
   ]
  },
  {
   "cell_type": "markdown",
   "id": "911736c5",
   "metadata": {},
   "source": [
    "## TASK  11\n"
   ]
  },
  {
   "cell_type": "markdown",
   "id": "c9f28d4a",
   "metadata": {},
   "source": [
    "Calculate the accuracy of knn_cv on the test data using the method <code>score</code>:\n"
   ]
  },
  {
   "cell_type": "markdown",
   "id": "e65684e9",
   "metadata": {},
   "source": [
    "We can plot the confusion matrix\n"
   ]
  },
  {
   "cell_type": "code",
   "execution_count": null,
   "id": "0c8116f2",
   "metadata": {},
   "outputs": [],
   "source": [
    "yhat = knn_cv.predict(X_test)\n",
    "plot_confusion_matrix(Y_test,yhat)"
   ]
  },
  {
   "cell_type": "markdown",
   "id": "0f4dc27f",
   "metadata": {},
   "source": [
    "## TASK  12\n"
   ]
  },
  {
   "cell_type": "markdown",
   "id": "48025d1d",
   "metadata": {},
   "source": [
    "Find the method performs best:\n"
   ]
  },
  {
   "cell_type": "code",
   "execution_count": null,
   "id": "08e2758c",
   "metadata": {},
   "outputs": [],
   "source": []
  }
 ],
 "metadata": {
  "kernelspec": {
   "display_name": "Python 3 (ipykernel)",
   "language": "python",
   "name": "python3"
  },
  "language_info": {
   "codemirror_mode": {
    "name": "ipython",
    "version": 3
   },
   "file_extension": ".py",
   "mimetype": "text/x-python",
   "name": "python",
   "nbconvert_exporter": "python",
   "pygments_lexer": "ipython3",
   "version": "3.11.5"
  }
 },
 "nbformat": 4,
 "nbformat_minor": 5
}
